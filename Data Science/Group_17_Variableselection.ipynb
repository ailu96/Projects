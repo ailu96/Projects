{
  "cells": [
    {
      "cell_type": "code",
      "execution_count": 83,
      "id": "81120d08",
      "metadata": {
        "id": "81120d08"
      },
      "outputs": [],
      "source": [
        "import pandas as pd\n",
        "import numpy as np\n",
        "import matplotlib.pyplot as plt\n",
        "import seaborn as sns\n",
        "from sklearn.preprocessing import MinMaxScaler\n",
        "from sklearn.model_selection import train_test_split"
      ]
    },
    {
      "cell_type": "code",
      "execution_count": 84,
      "id": "28970f0c",
      "metadata": {
        "colab": {
          "base_uri": "https://localhost:8080/",
          "height": 443
        },
        "id": "28970f0c",
        "outputId": "0b537c20-992f-4dd8-9df4-72d751c99165"
      },
      "outputs": [
        {
          "output_type": "execute_result",
          "data": {
            "text/plain": [
              "                  date  Usage_kWh  Lagging_Current_Reactive_Power_kVarh  \\\n",
              "0  2018-01-01 00:15:00       3.17                                  2.95   \n",
              "1  2018-01-01 00:30:00       4.00                                  4.46   \n",
              "2  2018-01-01 00:45:00       3.24                                  3.28   \n",
              "3  2018-01-01 01:00:00       3.31                                  3.56   \n",
              "4  2018-01-01 01:15:00       3.82                                  4.50   \n",
              "\n",
              "   Leading_Current_Reactive_Power_kVarh  CO2_tCO2  \\\n",
              "0                                   0.0       0.0   \n",
              "1                                   0.0       0.0   \n",
              "2                                   0.0       0.0   \n",
              "3                                   0.0       0.0   \n",
              "4                                   0.0       0.0   \n",
              "\n",
              "   Lagging_Current_Power_Factor  Leading_Current_Power_Factor   NSM  \\\n",
              "0                         73.21                         100.0   900   \n",
              "1                         66.77                         100.0  1800   \n",
              "2                         70.28                         100.0  2700   \n",
              "3                         68.09                         100.0  3600   \n",
              "4                         64.72                         100.0  4500   \n",
              "\n",
              "   Dummy_Weekend  Dummy_Monday  Dummy_Saturday  Dummy_Sunday  Dummy_Thursday  \\\n",
              "0              0             1               0             0               0   \n",
              "1              0             1               0             0               0   \n",
              "2              0             1               0             0               0   \n",
              "3              0             1               0             0               0   \n",
              "4              0             1               0             0               0   \n",
              "\n",
              "   Dummy_Tuesday  Dummy_Wednesday  Dummy_Maximum_Load  Dummy_Medium_Load  \n",
              "0              0                0                   0                  0  \n",
              "1              0                0                   0                  0  \n",
              "2              0                0                   0                  0  \n",
              "3              0                0                   0                  0  \n",
              "4              0                0                   0                  0  "
            ],
            "text/html": [
              "\n",
              "  <div id=\"df-dd74b7cd-e445-4028-a52b-ce56baaa895f\">\n",
              "    <div class=\"colab-df-container\">\n",
              "      <div>\n",
              "<style scoped>\n",
              "    .dataframe tbody tr th:only-of-type {\n",
              "        vertical-align: middle;\n",
              "    }\n",
              "\n",
              "    .dataframe tbody tr th {\n",
              "        vertical-align: top;\n",
              "    }\n",
              "\n",
              "    .dataframe thead th {\n",
              "        text-align: right;\n",
              "    }\n",
              "</style>\n",
              "<table border=\"1\" class=\"dataframe\">\n",
              "  <thead>\n",
              "    <tr style=\"text-align: right;\">\n",
              "      <th></th>\n",
              "      <th>date</th>\n",
              "      <th>Usage_kWh</th>\n",
              "      <th>Lagging_Current_Reactive_Power_kVarh</th>\n",
              "      <th>Leading_Current_Reactive_Power_kVarh</th>\n",
              "      <th>CO2_tCO2</th>\n",
              "      <th>Lagging_Current_Power_Factor</th>\n",
              "      <th>Leading_Current_Power_Factor</th>\n",
              "      <th>NSM</th>\n",
              "      <th>Dummy_Weekend</th>\n",
              "      <th>Dummy_Monday</th>\n",
              "      <th>Dummy_Saturday</th>\n",
              "      <th>Dummy_Sunday</th>\n",
              "      <th>Dummy_Thursday</th>\n",
              "      <th>Dummy_Tuesday</th>\n",
              "      <th>Dummy_Wednesday</th>\n",
              "      <th>Dummy_Maximum_Load</th>\n",
              "      <th>Dummy_Medium_Load</th>\n",
              "    </tr>\n",
              "  </thead>\n",
              "  <tbody>\n",
              "    <tr>\n",
              "      <th>0</th>\n",
              "      <td>2018-01-01 00:15:00</td>\n",
              "      <td>3.17</td>\n",
              "      <td>2.95</td>\n",
              "      <td>0.0</td>\n",
              "      <td>0.0</td>\n",
              "      <td>73.21</td>\n",
              "      <td>100.0</td>\n",
              "      <td>900</td>\n",
              "      <td>0</td>\n",
              "      <td>1</td>\n",
              "      <td>0</td>\n",
              "      <td>0</td>\n",
              "      <td>0</td>\n",
              "      <td>0</td>\n",
              "      <td>0</td>\n",
              "      <td>0</td>\n",
              "      <td>0</td>\n",
              "    </tr>\n",
              "    <tr>\n",
              "      <th>1</th>\n",
              "      <td>2018-01-01 00:30:00</td>\n",
              "      <td>4.00</td>\n",
              "      <td>4.46</td>\n",
              "      <td>0.0</td>\n",
              "      <td>0.0</td>\n",
              "      <td>66.77</td>\n",
              "      <td>100.0</td>\n",
              "      <td>1800</td>\n",
              "      <td>0</td>\n",
              "      <td>1</td>\n",
              "      <td>0</td>\n",
              "      <td>0</td>\n",
              "      <td>0</td>\n",
              "      <td>0</td>\n",
              "      <td>0</td>\n",
              "      <td>0</td>\n",
              "      <td>0</td>\n",
              "    </tr>\n",
              "    <tr>\n",
              "      <th>2</th>\n",
              "      <td>2018-01-01 00:45:00</td>\n",
              "      <td>3.24</td>\n",
              "      <td>3.28</td>\n",
              "      <td>0.0</td>\n",
              "      <td>0.0</td>\n",
              "      <td>70.28</td>\n",
              "      <td>100.0</td>\n",
              "      <td>2700</td>\n",
              "      <td>0</td>\n",
              "      <td>1</td>\n",
              "      <td>0</td>\n",
              "      <td>0</td>\n",
              "      <td>0</td>\n",
              "      <td>0</td>\n",
              "      <td>0</td>\n",
              "      <td>0</td>\n",
              "      <td>0</td>\n",
              "    </tr>\n",
              "    <tr>\n",
              "      <th>3</th>\n",
              "      <td>2018-01-01 01:00:00</td>\n",
              "      <td>3.31</td>\n",
              "      <td>3.56</td>\n",
              "      <td>0.0</td>\n",
              "      <td>0.0</td>\n",
              "      <td>68.09</td>\n",
              "      <td>100.0</td>\n",
              "      <td>3600</td>\n",
              "      <td>0</td>\n",
              "      <td>1</td>\n",
              "      <td>0</td>\n",
              "      <td>0</td>\n",
              "      <td>0</td>\n",
              "      <td>0</td>\n",
              "      <td>0</td>\n",
              "      <td>0</td>\n",
              "      <td>0</td>\n",
              "    </tr>\n",
              "    <tr>\n",
              "      <th>4</th>\n",
              "      <td>2018-01-01 01:15:00</td>\n",
              "      <td>3.82</td>\n",
              "      <td>4.50</td>\n",
              "      <td>0.0</td>\n",
              "      <td>0.0</td>\n",
              "      <td>64.72</td>\n",
              "      <td>100.0</td>\n",
              "      <td>4500</td>\n",
              "      <td>0</td>\n",
              "      <td>1</td>\n",
              "      <td>0</td>\n",
              "      <td>0</td>\n",
              "      <td>0</td>\n",
              "      <td>0</td>\n",
              "      <td>0</td>\n",
              "      <td>0</td>\n",
              "      <td>0</td>\n",
              "    </tr>\n",
              "  </tbody>\n",
              "</table>\n",
              "</div>\n",
              "      <button class=\"colab-df-convert\" onclick=\"convertToInteractive('df-dd74b7cd-e445-4028-a52b-ce56baaa895f')\"\n",
              "              title=\"Convert this dataframe to an interactive table.\"\n",
              "              style=\"display:none;\">\n",
              "        \n",
              "  <svg xmlns=\"http://www.w3.org/2000/svg\" height=\"24px\"viewBox=\"0 0 24 24\"\n",
              "       width=\"24px\">\n",
              "    <path d=\"M0 0h24v24H0V0z\" fill=\"none\"/>\n",
              "    <path d=\"M18.56 5.44l.94 2.06.94-2.06 2.06-.94-2.06-.94-.94-2.06-.94 2.06-2.06.94zm-11 1L8.5 8.5l.94-2.06 2.06-.94-2.06-.94L8.5 2.5l-.94 2.06-2.06.94zm10 10l.94 2.06.94-2.06 2.06-.94-2.06-.94-.94-2.06-.94 2.06-2.06.94z\"/><path d=\"M17.41 7.96l-1.37-1.37c-.4-.4-.92-.59-1.43-.59-.52 0-1.04.2-1.43.59L10.3 9.45l-7.72 7.72c-.78.78-.78 2.05 0 2.83L4 21.41c.39.39.9.59 1.41.59.51 0 1.02-.2 1.41-.59l7.78-7.78 2.81-2.81c.8-.78.8-2.07 0-2.86zM5.41 20L4 18.59l7.72-7.72 1.47 1.35L5.41 20z\"/>\n",
              "  </svg>\n",
              "      </button>\n",
              "      \n",
              "  <style>\n",
              "    .colab-df-container {\n",
              "      display:flex;\n",
              "      flex-wrap:wrap;\n",
              "      gap: 12px;\n",
              "    }\n",
              "\n",
              "    .colab-df-convert {\n",
              "      background-color: #E8F0FE;\n",
              "      border: none;\n",
              "      border-radius: 50%;\n",
              "      cursor: pointer;\n",
              "      display: none;\n",
              "      fill: #1967D2;\n",
              "      height: 32px;\n",
              "      padding: 0 0 0 0;\n",
              "      width: 32px;\n",
              "    }\n",
              "\n",
              "    .colab-df-convert:hover {\n",
              "      background-color: #E2EBFA;\n",
              "      box-shadow: 0px 1px 2px rgba(60, 64, 67, 0.3), 0px 1px 3px 1px rgba(60, 64, 67, 0.15);\n",
              "      fill: #174EA6;\n",
              "    }\n",
              "\n",
              "    [theme=dark] .colab-df-convert {\n",
              "      background-color: #3B4455;\n",
              "      fill: #D2E3FC;\n",
              "    }\n",
              "\n",
              "    [theme=dark] .colab-df-convert:hover {\n",
              "      background-color: #434B5C;\n",
              "      box-shadow: 0px 1px 3px 1px rgba(0, 0, 0, 0.15);\n",
              "      filter: drop-shadow(0px 1px 2px rgba(0, 0, 0, 0.3));\n",
              "      fill: #FFFFFF;\n",
              "    }\n",
              "  </style>\n",
              "\n",
              "      <script>\n",
              "        const buttonEl =\n",
              "          document.querySelector('#df-dd74b7cd-e445-4028-a52b-ce56baaa895f button.colab-df-convert');\n",
              "        buttonEl.style.display =\n",
              "          google.colab.kernel.accessAllowed ? 'block' : 'none';\n",
              "\n",
              "        async function convertToInteractive(key) {\n",
              "          const element = document.querySelector('#df-dd74b7cd-e445-4028-a52b-ce56baaa895f');\n",
              "          const dataTable =\n",
              "            await google.colab.kernel.invokeFunction('convertToInteractive',\n",
              "                                                     [key], {});\n",
              "          if (!dataTable) return;\n",
              "\n",
              "          const docLinkHtml = 'Like what you see? Visit the ' +\n",
              "            '<a target=\"_blank\" href=https://colab.research.google.com/notebooks/data_table.ipynb>data table notebook</a>'\n",
              "            + ' to learn more about interactive tables.';\n",
              "          element.innerHTML = '';\n",
              "          dataTable['output_type'] = 'display_data';\n",
              "          await google.colab.output.renderOutput(dataTable, element);\n",
              "          const docLink = document.createElement('div');\n",
              "          docLink.innerHTML = docLinkHtml;\n",
              "          element.appendChild(docLink);\n",
              "        }\n",
              "      </script>\n",
              "    </div>\n",
              "  </div>\n",
              "  "
            ]
          },
          "metadata": {},
          "execution_count": 84
        }
      ],
      "source": [
        "df = pd.read_csv('Group_17_data_cleaned.csv')\n",
        "df.head()"
      ]
    },
    {
      "cell_type": "code",
      "execution_count": 85,
      "id": "21eafc4e",
      "metadata": {
        "colab": {
          "base_uri": "https://localhost:8080/",
          "height": 443
        },
        "id": "21eafc4e",
        "outputId": "0e3e4b89-09d8-4795-b6f4-5db41e1c777c"
      },
      "outputs": [
        {
          "output_type": "execute_result",
          "data": {
            "text/plain": [
              "                  date  Usage_kWh  Lagging_Current_Reactive_Power_kVarh  \\\n",
              "0  2018-01-01 00:15:00       3.17                                  2.95   \n",
              "1  2018-01-01 00:30:00       4.00                                  4.46   \n",
              "2  2018-01-01 00:45:00       3.24                                  3.28   \n",
              "3  2018-01-01 01:00:00       3.31                                  3.56   \n",
              "4  2018-01-01 01:15:00       3.82                                  4.50   \n",
              "\n",
              "   Leading_Current_Reactive_Power_kVarh  CO2_tCO2  \\\n",
              "0                                   0.0       0.0   \n",
              "1                                   0.0       0.0   \n",
              "2                                   0.0       0.0   \n",
              "3                                   0.0       0.0   \n",
              "4                                   0.0       0.0   \n",
              "\n",
              "   Lagging_Current_Power_Factor  Leading_Current_Power_Factor   NSM  \\\n",
              "0                         73.21                         100.0   900   \n",
              "1                         66.77                         100.0  1800   \n",
              "2                         70.28                         100.0  2700   \n",
              "3                         68.09                         100.0  3600   \n",
              "4                         64.72                         100.0  4500   \n",
              "\n",
              "   Dummy_Weekend  Dummy_Monday  Dummy_Saturday  Dummy_Sunday  Dummy_Thursday  \\\n",
              "0              0             1               0             0               0   \n",
              "1              0             1               0             0               0   \n",
              "2              0             1               0             0               0   \n",
              "3              0             1               0             0               0   \n",
              "4              0             1               0             0               0   \n",
              "\n",
              "   Dummy_Tuesday  Dummy_Wednesday  Dummy_Maximum_Load  Dummy_Medium_Load  \n",
              "0              0                0                   0                  0  \n",
              "1              0                0                   0                  0  \n",
              "2              0                0                   0                  0  \n",
              "3              0                0                   0                  0  \n",
              "4              0                0                   0                  0  "
            ],
            "text/html": [
              "\n",
              "  <div id=\"df-01875aaf-9c58-415e-a51f-ee1945a5a513\">\n",
              "    <div class=\"colab-df-container\">\n",
              "      <div>\n",
              "<style scoped>\n",
              "    .dataframe tbody tr th:only-of-type {\n",
              "        vertical-align: middle;\n",
              "    }\n",
              "\n",
              "    .dataframe tbody tr th {\n",
              "        vertical-align: top;\n",
              "    }\n",
              "\n",
              "    .dataframe thead th {\n",
              "        text-align: right;\n",
              "    }\n",
              "</style>\n",
              "<table border=\"1\" class=\"dataframe\">\n",
              "  <thead>\n",
              "    <tr style=\"text-align: right;\">\n",
              "      <th></th>\n",
              "      <th>date</th>\n",
              "      <th>Usage_kWh</th>\n",
              "      <th>Lagging_Current_Reactive_Power_kVarh</th>\n",
              "      <th>Leading_Current_Reactive_Power_kVarh</th>\n",
              "      <th>CO2_tCO2</th>\n",
              "      <th>Lagging_Current_Power_Factor</th>\n",
              "      <th>Leading_Current_Power_Factor</th>\n",
              "      <th>NSM</th>\n",
              "      <th>Dummy_Weekend</th>\n",
              "      <th>Dummy_Monday</th>\n",
              "      <th>Dummy_Saturday</th>\n",
              "      <th>Dummy_Sunday</th>\n",
              "      <th>Dummy_Thursday</th>\n",
              "      <th>Dummy_Tuesday</th>\n",
              "      <th>Dummy_Wednesday</th>\n",
              "      <th>Dummy_Maximum_Load</th>\n",
              "      <th>Dummy_Medium_Load</th>\n",
              "    </tr>\n",
              "  </thead>\n",
              "  <tbody>\n",
              "    <tr>\n",
              "      <th>0</th>\n",
              "      <td>2018-01-01 00:15:00</td>\n",
              "      <td>3.17</td>\n",
              "      <td>2.95</td>\n",
              "      <td>0.0</td>\n",
              "      <td>0.0</td>\n",
              "      <td>73.21</td>\n",
              "      <td>100.0</td>\n",
              "      <td>900</td>\n",
              "      <td>0</td>\n",
              "      <td>1</td>\n",
              "      <td>0</td>\n",
              "      <td>0</td>\n",
              "      <td>0</td>\n",
              "      <td>0</td>\n",
              "      <td>0</td>\n",
              "      <td>0</td>\n",
              "      <td>0</td>\n",
              "    </tr>\n",
              "    <tr>\n",
              "      <th>1</th>\n",
              "      <td>2018-01-01 00:30:00</td>\n",
              "      <td>4.00</td>\n",
              "      <td>4.46</td>\n",
              "      <td>0.0</td>\n",
              "      <td>0.0</td>\n",
              "      <td>66.77</td>\n",
              "      <td>100.0</td>\n",
              "      <td>1800</td>\n",
              "      <td>0</td>\n",
              "      <td>1</td>\n",
              "      <td>0</td>\n",
              "      <td>0</td>\n",
              "      <td>0</td>\n",
              "      <td>0</td>\n",
              "      <td>0</td>\n",
              "      <td>0</td>\n",
              "      <td>0</td>\n",
              "    </tr>\n",
              "    <tr>\n",
              "      <th>2</th>\n",
              "      <td>2018-01-01 00:45:00</td>\n",
              "      <td>3.24</td>\n",
              "      <td>3.28</td>\n",
              "      <td>0.0</td>\n",
              "      <td>0.0</td>\n",
              "      <td>70.28</td>\n",
              "      <td>100.0</td>\n",
              "      <td>2700</td>\n",
              "      <td>0</td>\n",
              "      <td>1</td>\n",
              "      <td>0</td>\n",
              "      <td>0</td>\n",
              "      <td>0</td>\n",
              "      <td>0</td>\n",
              "      <td>0</td>\n",
              "      <td>0</td>\n",
              "      <td>0</td>\n",
              "    </tr>\n",
              "    <tr>\n",
              "      <th>3</th>\n",
              "      <td>2018-01-01 01:00:00</td>\n",
              "      <td>3.31</td>\n",
              "      <td>3.56</td>\n",
              "      <td>0.0</td>\n",
              "      <td>0.0</td>\n",
              "      <td>68.09</td>\n",
              "      <td>100.0</td>\n",
              "      <td>3600</td>\n",
              "      <td>0</td>\n",
              "      <td>1</td>\n",
              "      <td>0</td>\n",
              "      <td>0</td>\n",
              "      <td>0</td>\n",
              "      <td>0</td>\n",
              "      <td>0</td>\n",
              "      <td>0</td>\n",
              "      <td>0</td>\n",
              "    </tr>\n",
              "    <tr>\n",
              "      <th>4</th>\n",
              "      <td>2018-01-01 01:15:00</td>\n",
              "      <td>3.82</td>\n",
              "      <td>4.50</td>\n",
              "      <td>0.0</td>\n",
              "      <td>0.0</td>\n",
              "      <td>64.72</td>\n",
              "      <td>100.0</td>\n",
              "      <td>4500</td>\n",
              "      <td>0</td>\n",
              "      <td>1</td>\n",
              "      <td>0</td>\n",
              "      <td>0</td>\n",
              "      <td>0</td>\n",
              "      <td>0</td>\n",
              "      <td>0</td>\n",
              "      <td>0</td>\n",
              "      <td>0</td>\n",
              "    </tr>\n",
              "  </tbody>\n",
              "</table>\n",
              "</div>\n",
              "      <button class=\"colab-df-convert\" onclick=\"convertToInteractive('df-01875aaf-9c58-415e-a51f-ee1945a5a513')\"\n",
              "              title=\"Convert this dataframe to an interactive table.\"\n",
              "              style=\"display:none;\">\n",
              "        \n",
              "  <svg xmlns=\"http://www.w3.org/2000/svg\" height=\"24px\"viewBox=\"0 0 24 24\"\n",
              "       width=\"24px\">\n",
              "    <path d=\"M0 0h24v24H0V0z\" fill=\"none\"/>\n",
              "    <path d=\"M18.56 5.44l.94 2.06.94-2.06 2.06-.94-2.06-.94-.94-2.06-.94 2.06-2.06.94zm-11 1L8.5 8.5l.94-2.06 2.06-.94-2.06-.94L8.5 2.5l-.94 2.06-2.06.94zm10 10l.94 2.06.94-2.06 2.06-.94-2.06-.94-.94-2.06-.94 2.06-2.06.94z\"/><path d=\"M17.41 7.96l-1.37-1.37c-.4-.4-.92-.59-1.43-.59-.52 0-1.04.2-1.43.59L10.3 9.45l-7.72 7.72c-.78.78-.78 2.05 0 2.83L4 21.41c.39.39.9.59 1.41.59.51 0 1.02-.2 1.41-.59l7.78-7.78 2.81-2.81c.8-.78.8-2.07 0-2.86zM5.41 20L4 18.59l7.72-7.72 1.47 1.35L5.41 20z\"/>\n",
              "  </svg>\n",
              "      </button>\n",
              "      \n",
              "  <style>\n",
              "    .colab-df-container {\n",
              "      display:flex;\n",
              "      flex-wrap:wrap;\n",
              "      gap: 12px;\n",
              "    }\n",
              "\n",
              "    .colab-df-convert {\n",
              "      background-color: #E8F0FE;\n",
              "      border: none;\n",
              "      border-radius: 50%;\n",
              "      cursor: pointer;\n",
              "      display: none;\n",
              "      fill: #1967D2;\n",
              "      height: 32px;\n",
              "      padding: 0 0 0 0;\n",
              "      width: 32px;\n",
              "    }\n",
              "\n",
              "    .colab-df-convert:hover {\n",
              "      background-color: #E2EBFA;\n",
              "      box-shadow: 0px 1px 2px rgba(60, 64, 67, 0.3), 0px 1px 3px 1px rgba(60, 64, 67, 0.15);\n",
              "      fill: #174EA6;\n",
              "    }\n",
              "\n",
              "    [theme=dark] .colab-df-convert {\n",
              "      background-color: #3B4455;\n",
              "      fill: #D2E3FC;\n",
              "    }\n",
              "\n",
              "    [theme=dark] .colab-df-convert:hover {\n",
              "      background-color: #434B5C;\n",
              "      box-shadow: 0px 1px 3px 1px rgba(0, 0, 0, 0.15);\n",
              "      filter: drop-shadow(0px 1px 2px rgba(0, 0, 0, 0.3));\n",
              "      fill: #FFFFFF;\n",
              "    }\n",
              "  </style>\n",
              "\n",
              "      <script>\n",
              "        const buttonEl =\n",
              "          document.querySelector('#df-01875aaf-9c58-415e-a51f-ee1945a5a513 button.colab-df-convert');\n",
              "        buttonEl.style.display =\n",
              "          google.colab.kernel.accessAllowed ? 'block' : 'none';\n",
              "\n",
              "        async function convertToInteractive(key) {\n",
              "          const element = document.querySelector('#df-01875aaf-9c58-415e-a51f-ee1945a5a513');\n",
              "          const dataTable =\n",
              "            await google.colab.kernel.invokeFunction('convertToInteractive',\n",
              "                                                     [key], {});\n",
              "          if (!dataTable) return;\n",
              "\n",
              "          const docLinkHtml = 'Like what you see? Visit the ' +\n",
              "            '<a target=\"_blank\" href=https://colab.research.google.com/notebooks/data_table.ipynb>data table notebook</a>'\n",
              "            + ' to learn more about interactive tables.';\n",
              "          element.innerHTML = '';\n",
              "          dataTable['output_type'] = 'display_data';\n",
              "          await google.colab.output.renderOutput(dataTable, element);\n",
              "          const docLink = document.createElement('div');\n",
              "          docLink.innerHTML = docLinkHtml;\n",
              "          element.appendChild(docLink);\n",
              "        }\n",
              "      </script>\n",
              "    </div>\n",
              "  </div>\n",
              "  "
            ]
          },
          "metadata": {},
          "execution_count": 85
        }
      ],
      "source": [
        "df_1 = df.dropna(axis=0)\n",
        "df_1.head()"
      ]
    },
    {
      "cell_type": "code",
      "execution_count": 86,
      "id": "51a3b8f4",
      "metadata": {
        "colab": {
          "base_uri": "https://localhost:8080/"
        },
        "id": "51a3b8f4",
        "outputId": "c55561db-6ad3-452b-ca19-41cb457826bc"
      },
      "outputs": [
        {
          "output_type": "execute_result",
          "data": {
            "text/plain": [
              "Index(['date', 'Usage_kWh', 'Lagging_Current_Reactive_Power_kVarh',\n",
              "       'Leading_Current_Reactive_Power_kVarh', 'CO2_tCO2',\n",
              "       'Lagging_Current_Power_Factor', 'Leading_Current_Power_Factor', 'NSM',\n",
              "       'Dummy_Weekend', 'Dummy_Monday', 'Dummy_Saturday', 'Dummy_Sunday',\n",
              "       'Dummy_Thursday', 'Dummy_Tuesday', 'Dummy_Wednesday',\n",
              "       'Dummy_Maximum_Load', 'Dummy_Medium_Load'],\n",
              "      dtype='object')"
            ]
          },
          "metadata": {},
          "execution_count": 86
        }
      ],
      "source": [
        "df_1.columns"
      ]
    },
    {
      "cell_type": "code",
      "execution_count": 87,
      "id": "bbc5ec0a",
      "metadata": {
        "colab": {
          "base_uri": "https://localhost:8080/",
          "height": 755
        },
        "id": "bbc5ec0a",
        "outputId": "c5249efb-2e53-41fb-d955-9a900b750aa9"
      },
      "outputs": [
        {
          "output_type": "stream",
          "name": "stderr",
          "text": [
            "<ipython-input-87-e6c3a4301a77>:1: FutureWarning: The default value of numeric_only in DataFrame.corr is deprecated. In a future version, it will default to False. Select only valid columns or specify the value of numeric_only to silence this warning.\n",
            "  df_1.corr()\n"
          ]
        },
        {
          "output_type": "execute_result",
          "data": {
            "text/plain": [
              "                                      Usage_kWh  \\\n",
              "Usage_kWh                              1.000000   \n",
              "Lagging_Current_Reactive_Power_kVarh   0.896150   \n",
              "Leading_Current_Reactive_Power_kVarh  -0.324922   \n",
              "CO2_tCO2                               0.897506   \n",
              "Lagging_Current_Power_Factor           0.385951   \n",
              "Leading_Current_Power_Factor           0.353566   \n",
              "NSM                                    0.234610   \n",
              "Dummy_Weekend                         -0.295475   \n",
              "Dummy_Monday                           0.070948   \n",
              "Dummy_Saturday                        -0.139764   \n",
              "Dummy_Sunday                          -0.241814   \n",
              "Dummy_Thursday                         0.094150   \n",
              "Dummy_Tuesday                          0.085808   \n",
              "Dummy_Wednesday                        0.059320   \n",
              "Dummy_Maximum_Load                     0.487792   \n",
              "Dummy_Medium_Load                      0.204521   \n",
              "\n",
              "                                      Lagging_Current_Reactive_Power_kVarh  \\\n",
              "Usage_kWh                                                         0.896150   \n",
              "Lagging_Current_Reactive_Power_kVarh                              1.000000   \n",
              "Leading_Current_Reactive_Power_kVarh                             -0.405142   \n",
              "CO2_tCO2                                                          0.803310   \n",
              "Lagging_Current_Power_Factor                                      0.144465   \n",
              "Leading_Current_Power_Factor                                      0.407716   \n",
              "NSM                                                               0.082662   \n",
              "Dummy_Weekend                                                    -0.319870   \n",
              "Dummy_Monday                                                      0.077627   \n",
              "Dummy_Saturday                                                   -0.168117   \n",
              "Dummy_Sunday                                                     -0.244965   \n",
              "Dummy_Thursday                                                    0.108020   \n",
              "Dummy_Tuesday                                                     0.089365   \n",
              "Dummy_Wednesday                                                   0.060748   \n",
              "Dummy_Maximum_Load                                                0.412859   \n",
              "Dummy_Medium_Load                                                 0.052157   \n",
              "\n",
              "                                      Leading_Current_Reactive_Power_kVarh  \\\n",
              "Usage_kWh                                                        -0.324922   \n",
              "Lagging_Current_Reactive_Power_kVarh                             -0.405142   \n",
              "Leading_Current_Reactive_Power_kVarh                              1.000000   \n",
              "CO2_tCO2                                                         -0.327122   \n",
              "Lagging_Current_Power_Factor                                      0.526837   \n",
              "Leading_Current_Power_Factor                                     -0.944039   \n",
              "NSM                                                               0.371605   \n",
              "Dummy_Weekend                                                     0.260431   \n",
              "Dummy_Monday                                                     -0.073786   \n",
              "Dummy_Saturday                                                    0.128354   \n",
              "Dummy_Sunday                                                      0.207968   \n",
              "Dummy_Thursday                                                   -0.082548   \n",
              "Dummy_Tuesday                                                    -0.074752   \n",
              "Dummy_Wednesday                                                  -0.035916   \n",
              "Dummy_Maximum_Load                                               -0.155255   \n",
              "Dummy_Medium_Load                                                 0.284623   \n",
              "\n",
              "                                      CO2_tCO2  Lagging_Current_Power_Factor  \\\n",
              "Usage_kWh                             0.897506                      0.385951   \n",
              "Lagging_Current_Reactive_Power_kVarh  0.803310                      0.144465   \n",
              "Leading_Current_Reactive_Power_kVarh -0.327122                      0.526837   \n",
              "CO2_tCO2                              1.000000                      0.375225   \n",
              "Lagging_Current_Power_Factor          0.375225                      1.000000   \n",
              "Leading_Current_Power_Factor          0.356424                     -0.520468   \n",
              "NSM                                   0.233607                      0.565187   \n",
              "Dummy_Weekend                        -0.278279                      0.054012   \n",
              "Dummy_Monday                          0.075133                     -0.020969   \n",
              "Dummy_Saturday                       -0.125842                      0.035467   \n",
              "Dummy_Sunday                         -0.233530                      0.034284   \n",
              "Dummy_Thursday                        0.081811                     -0.021949   \n",
              "Dummy_Tuesday                         0.078646                     -0.010775   \n",
              "Dummy_Wednesday                       0.054621                     -0.000116   \n",
              "Dummy_Maximum_Load                    0.486870                      0.282243   \n",
              "Dummy_Medium_Load                     0.191235                      0.408215   \n",
              "\n",
              "                                      Leading_Current_Power_Factor  \\\n",
              "Usage_kWh                                                 0.353566   \n",
              "Lagging_Current_Reactive_Power_kVarh                      0.407716   \n",
              "Leading_Current_Reactive_Power_kVarh                     -0.944039   \n",
              "CO2_tCO2                                                  0.356424   \n",
              "Lagging_Current_Power_Factor                             -0.520468   \n",
              "Leading_Current_Power_Factor                              1.000000   \n",
              "NSM                                                      -0.360563   \n",
              "Dummy_Weekend                                            -0.314675   \n",
              "Dummy_Monday                                              0.084988   \n",
              "Dummy_Saturday                                           -0.134092   \n",
              "Dummy_Sunday                                             -0.272281   \n",
              "Dummy_Thursday                                            0.099781   \n",
              "Dummy_Tuesday                                             0.086641   \n",
              "Dummy_Wednesday                                           0.047966   \n",
              "Dummy_Maximum_Load                                        0.190842   \n",
              "Dummy_Medium_Load                                        -0.212413   \n",
              "\n",
              "                                               NSM  Dummy_Weekend  \\\n",
              "Usage_kWh                             2.346103e-01  -2.954748e-01   \n",
              "Lagging_Current_Reactive_Power_kVarh  8.266237e-02  -3.198698e-01   \n",
              "Leading_Current_Reactive_Power_kVarh  3.716046e-01   2.604306e-01   \n",
              "CO2_tCO2                              2.336069e-01  -2.782795e-01   \n",
              "Lagging_Current_Power_Factor          5.651872e-01   5.401221e-02   \n",
              "Leading_Current_Power_Factor         -3.605630e-01  -3.146749e-01   \n",
              "NSM                                   1.000000e+00  -9.027984e-17   \n",
              "Dummy_Weekend                        -9.027984e-17   1.000000e+00   \n",
              "Dummy_Monday                          1.006732e-16  -2.601699e-01   \n",
              "Dummy_Saturday                       -6.184321e-17   6.457034e-01   \n",
              "Dummy_Sunday                         -8.314443e-17   6.457034e-01   \n",
              "Dummy_Thursday                        1.192499e-17  -2.572918e-01   \n",
              "Dummy_Tuesday                        -1.642403e-17  -2.572918e-01   \n",
              "Dummy_Wednesday                      -1.246392e-17  -2.572918e-01   \n",
              "Dummy_Maximum_Load                    2.110607e-01  -1.172431e-01   \n",
              "Dummy_Medium_Load                     4.727060e-01  -1.417070e-01   \n",
              "\n",
              "                                      Dummy_Monday  Dummy_Saturday  \\\n",
              "Usage_kWh                             7.094848e-02   -1.397640e-01   \n",
              "Lagging_Current_Reactive_Power_kVarh  7.762676e-02   -1.681174e-01   \n",
              "Leading_Current_Reactive_Power_kVarh -7.378556e-02    1.283536e-01   \n",
              "CO2_tCO2                              7.513261e-02   -1.258422e-01   \n",
              "Lagging_Current_Power_Factor         -2.096863e-02    3.546743e-02   \n",
              "Leading_Current_Power_Factor          8.498750e-02   -1.340918e-01   \n",
              "NSM                                   1.006732e-16   -6.184321e-17   \n",
              "Dummy_Weekend                        -2.601699e-01    6.457034e-01   \n",
              "Dummy_Monday                          1.000000e+00   -1.679926e-01   \n",
              "Dummy_Saturday                       -1.679926e-01    1.000000e+00   \n",
              "Dummy_Sunday                         -1.679926e-01   -1.661342e-01   \n",
              "Dummy_Thursday                       -1.679926e-01   -1.661342e-01   \n",
              "Dummy_Tuesday                        -1.679926e-01   -1.661342e-01   \n",
              "Dummy_Wednesday                      -1.679926e-01   -1.661342e-01   \n",
              "Dummy_Maximum_Load                    2.877658e-02   -2.496778e-02   \n",
              "Dummy_Medium_Load                     3.478109e-02   -3.017755e-02   \n",
              "\n",
              "                                      Dummy_Sunday  Dummy_Thursday  \\\n",
              "Usage_kWh                            -2.418142e-01    9.415031e-02   \n",
              "Lagging_Current_Reactive_Power_kVarh -2.449646e-01    1.080202e-01   \n",
              "Leading_Current_Reactive_Power_kVarh  2.079683e-01   -8.254759e-02   \n",
              "CO2_tCO2                             -2.335298e-01    8.181058e-02   \n",
              "Lagging_Current_Power_Factor          3.428431e-02   -2.194929e-02   \n",
              "Leading_Current_Power_Factor         -2.722815e-01    9.978148e-02   \n",
              "NSM                                  -8.314443e-17    1.192499e-17   \n",
              "Dummy_Weekend                         6.457034e-01   -2.572918e-01   \n",
              "Dummy_Monday                         -1.679926e-01   -1.679926e-01   \n",
              "Dummy_Saturday                       -1.661342e-01   -1.661342e-01   \n",
              "Dummy_Sunday                          1.000000e+00   -1.661342e-01   \n",
              "Dummy_Thursday                       -1.661342e-01    1.000000e+00   \n",
              "Dummy_Tuesday                        -1.661342e-01   -1.661342e-01   \n",
              "Dummy_Wednesday                      -1.661342e-01   -1.661342e-01   \n",
              "Dummy_Maximum_Load                   -1.264407e-01    3.301677e-02   \n",
              "Dummy_Medium_Load                    -1.528238e-01    3.990605e-02   \n",
              "\n",
              "                                      Dummy_Tuesday  Dummy_Wednesday  \\\n",
              "Usage_kWh                              8.580839e-02     5.932045e-02   \n",
              "Lagging_Current_Reactive_Power_kVarh   8.936468e-02     6.074775e-02   \n",
              "Leading_Current_Reactive_Power_kVarh  -7.475230e-02    -3.591587e-02   \n",
              "CO2_tCO2                               7.864645e-02     5.462051e-02   \n",
              "Lagging_Current_Power_Factor          -1.077496e-02    -1.161453e-04   \n",
              "Leading_Current_Power_Factor           8.664053e-02     4.796600e-02   \n",
              "NSM                                   -1.642403e-17    -1.246392e-17   \n",
              "Dummy_Weekend                         -2.572918e-01    -2.572918e-01   \n",
              "Dummy_Monday                          -1.679926e-01    -1.679926e-01   \n",
              "Dummy_Saturday                        -1.661342e-01    -1.661342e-01   \n",
              "Dummy_Sunday                          -1.661342e-01    -1.661342e-01   \n",
              "Dummy_Thursday                        -1.661342e-01    -1.661342e-01   \n",
              "Dummy_Tuesday                          1.000000e+00    -1.661342e-01   \n",
              "Dummy_Wednesday                       -1.661342e-01     1.000000e+00   \n",
              "Dummy_Maximum_Load                     2.818473e-02     2.818473e-02   \n",
              "Dummy_Medium_Load                      3.406575e-02     3.406575e-02   \n",
              "\n",
              "                                      Dummy_Maximum_Load  Dummy_Medium_Load  \n",
              "Usage_kWh                                       0.487792           0.204521  \n",
              "Lagging_Current_Reactive_Power_kVarh            0.412859           0.052157  \n",
              "Leading_Current_Reactive_Power_kVarh           -0.155255           0.284623  \n",
              "CO2_tCO2                                        0.486870           0.191235  \n",
              "Lagging_Current_Power_Factor                    0.282243           0.408215  \n",
              "Leading_Current_Power_Factor                    0.190842          -0.212413  \n",
              "NSM                                             0.211061           0.472706  \n",
              "Dummy_Weekend                                  -0.117243          -0.141707  \n",
              "Dummy_Monday                                    0.028777           0.034781  \n",
              "Dummy_Saturday                                 -0.024968          -0.030178  \n",
              "Dummy_Sunday                                   -0.126441          -0.152824  \n",
              "Dummy_Thursday                                  0.033017           0.039906  \n",
              "Dummy_Tuesday                                   0.028185           0.034066  \n",
              "Dummy_Wednesday                                 0.028185           0.034066  \n",
              "Dummy_Maximum_Load                              1.000000          -0.316529  \n",
              "Dummy_Medium_Load                              -0.316529           1.000000  "
            ],
            "text/html": [
              "\n",
              "  <div id=\"df-7e0c08f2-b85e-415d-a847-08a4983645b3\">\n",
              "    <div class=\"colab-df-container\">\n",
              "      <div>\n",
              "<style scoped>\n",
              "    .dataframe tbody tr th:only-of-type {\n",
              "        vertical-align: middle;\n",
              "    }\n",
              "\n",
              "    .dataframe tbody tr th {\n",
              "        vertical-align: top;\n",
              "    }\n",
              "\n",
              "    .dataframe thead th {\n",
              "        text-align: right;\n",
              "    }\n",
              "</style>\n",
              "<table border=\"1\" class=\"dataframe\">\n",
              "  <thead>\n",
              "    <tr style=\"text-align: right;\">\n",
              "      <th></th>\n",
              "      <th>Usage_kWh</th>\n",
              "      <th>Lagging_Current_Reactive_Power_kVarh</th>\n",
              "      <th>Leading_Current_Reactive_Power_kVarh</th>\n",
              "      <th>CO2_tCO2</th>\n",
              "      <th>Lagging_Current_Power_Factor</th>\n",
              "      <th>Leading_Current_Power_Factor</th>\n",
              "      <th>NSM</th>\n",
              "      <th>Dummy_Weekend</th>\n",
              "      <th>Dummy_Monday</th>\n",
              "      <th>Dummy_Saturday</th>\n",
              "      <th>Dummy_Sunday</th>\n",
              "      <th>Dummy_Thursday</th>\n",
              "      <th>Dummy_Tuesday</th>\n",
              "      <th>Dummy_Wednesday</th>\n",
              "      <th>Dummy_Maximum_Load</th>\n",
              "      <th>Dummy_Medium_Load</th>\n",
              "    </tr>\n",
              "  </thead>\n",
              "  <tbody>\n",
              "    <tr>\n",
              "      <th>Usage_kWh</th>\n",
              "      <td>1.000000</td>\n",
              "      <td>0.896150</td>\n",
              "      <td>-0.324922</td>\n",
              "      <td>0.897506</td>\n",
              "      <td>0.385951</td>\n",
              "      <td>0.353566</td>\n",
              "      <td>2.346103e-01</td>\n",
              "      <td>-2.954748e-01</td>\n",
              "      <td>7.094848e-02</td>\n",
              "      <td>-1.397640e-01</td>\n",
              "      <td>-2.418142e-01</td>\n",
              "      <td>9.415031e-02</td>\n",
              "      <td>8.580839e-02</td>\n",
              "      <td>5.932045e-02</td>\n",
              "      <td>0.487792</td>\n",
              "      <td>0.204521</td>\n",
              "    </tr>\n",
              "    <tr>\n",
              "      <th>Lagging_Current_Reactive_Power_kVarh</th>\n",
              "      <td>0.896150</td>\n",
              "      <td>1.000000</td>\n",
              "      <td>-0.405142</td>\n",
              "      <td>0.803310</td>\n",
              "      <td>0.144465</td>\n",
              "      <td>0.407716</td>\n",
              "      <td>8.266237e-02</td>\n",
              "      <td>-3.198698e-01</td>\n",
              "      <td>7.762676e-02</td>\n",
              "      <td>-1.681174e-01</td>\n",
              "      <td>-2.449646e-01</td>\n",
              "      <td>1.080202e-01</td>\n",
              "      <td>8.936468e-02</td>\n",
              "      <td>6.074775e-02</td>\n",
              "      <td>0.412859</td>\n",
              "      <td>0.052157</td>\n",
              "    </tr>\n",
              "    <tr>\n",
              "      <th>Leading_Current_Reactive_Power_kVarh</th>\n",
              "      <td>-0.324922</td>\n",
              "      <td>-0.405142</td>\n",
              "      <td>1.000000</td>\n",
              "      <td>-0.327122</td>\n",
              "      <td>0.526837</td>\n",
              "      <td>-0.944039</td>\n",
              "      <td>3.716046e-01</td>\n",
              "      <td>2.604306e-01</td>\n",
              "      <td>-7.378556e-02</td>\n",
              "      <td>1.283536e-01</td>\n",
              "      <td>2.079683e-01</td>\n",
              "      <td>-8.254759e-02</td>\n",
              "      <td>-7.475230e-02</td>\n",
              "      <td>-3.591587e-02</td>\n",
              "      <td>-0.155255</td>\n",
              "      <td>0.284623</td>\n",
              "    </tr>\n",
              "    <tr>\n",
              "      <th>CO2_tCO2</th>\n",
              "      <td>0.897506</td>\n",
              "      <td>0.803310</td>\n",
              "      <td>-0.327122</td>\n",
              "      <td>1.000000</td>\n",
              "      <td>0.375225</td>\n",
              "      <td>0.356424</td>\n",
              "      <td>2.336069e-01</td>\n",
              "      <td>-2.782795e-01</td>\n",
              "      <td>7.513261e-02</td>\n",
              "      <td>-1.258422e-01</td>\n",
              "      <td>-2.335298e-01</td>\n",
              "      <td>8.181058e-02</td>\n",
              "      <td>7.864645e-02</td>\n",
              "      <td>5.462051e-02</td>\n",
              "      <td>0.486870</td>\n",
              "      <td>0.191235</td>\n",
              "    </tr>\n",
              "    <tr>\n",
              "      <th>Lagging_Current_Power_Factor</th>\n",
              "      <td>0.385951</td>\n",
              "      <td>0.144465</td>\n",
              "      <td>0.526837</td>\n",
              "      <td>0.375225</td>\n",
              "      <td>1.000000</td>\n",
              "      <td>-0.520468</td>\n",
              "      <td>5.651872e-01</td>\n",
              "      <td>5.401221e-02</td>\n",
              "      <td>-2.096863e-02</td>\n",
              "      <td>3.546743e-02</td>\n",
              "      <td>3.428431e-02</td>\n",
              "      <td>-2.194929e-02</td>\n",
              "      <td>-1.077496e-02</td>\n",
              "      <td>-1.161453e-04</td>\n",
              "      <td>0.282243</td>\n",
              "      <td>0.408215</td>\n",
              "    </tr>\n",
              "    <tr>\n",
              "      <th>Leading_Current_Power_Factor</th>\n",
              "      <td>0.353566</td>\n",
              "      <td>0.407716</td>\n",
              "      <td>-0.944039</td>\n",
              "      <td>0.356424</td>\n",
              "      <td>-0.520468</td>\n",
              "      <td>1.000000</td>\n",
              "      <td>-3.605630e-01</td>\n",
              "      <td>-3.146749e-01</td>\n",
              "      <td>8.498750e-02</td>\n",
              "      <td>-1.340918e-01</td>\n",
              "      <td>-2.722815e-01</td>\n",
              "      <td>9.978148e-02</td>\n",
              "      <td>8.664053e-02</td>\n",
              "      <td>4.796600e-02</td>\n",
              "      <td>0.190842</td>\n",
              "      <td>-0.212413</td>\n",
              "    </tr>\n",
              "    <tr>\n",
              "      <th>NSM</th>\n",
              "      <td>0.234610</td>\n",
              "      <td>0.082662</td>\n",
              "      <td>0.371605</td>\n",
              "      <td>0.233607</td>\n",
              "      <td>0.565187</td>\n",
              "      <td>-0.360563</td>\n",
              "      <td>1.000000e+00</td>\n",
              "      <td>-9.027984e-17</td>\n",
              "      <td>1.006732e-16</td>\n",
              "      <td>-6.184321e-17</td>\n",
              "      <td>-8.314443e-17</td>\n",
              "      <td>1.192499e-17</td>\n",
              "      <td>-1.642403e-17</td>\n",
              "      <td>-1.246392e-17</td>\n",
              "      <td>0.211061</td>\n",
              "      <td>0.472706</td>\n",
              "    </tr>\n",
              "    <tr>\n",
              "      <th>Dummy_Weekend</th>\n",
              "      <td>-0.295475</td>\n",
              "      <td>-0.319870</td>\n",
              "      <td>0.260431</td>\n",
              "      <td>-0.278279</td>\n",
              "      <td>0.054012</td>\n",
              "      <td>-0.314675</td>\n",
              "      <td>-9.027984e-17</td>\n",
              "      <td>1.000000e+00</td>\n",
              "      <td>-2.601699e-01</td>\n",
              "      <td>6.457034e-01</td>\n",
              "      <td>6.457034e-01</td>\n",
              "      <td>-2.572918e-01</td>\n",
              "      <td>-2.572918e-01</td>\n",
              "      <td>-2.572918e-01</td>\n",
              "      <td>-0.117243</td>\n",
              "      <td>-0.141707</td>\n",
              "    </tr>\n",
              "    <tr>\n",
              "      <th>Dummy_Monday</th>\n",
              "      <td>0.070948</td>\n",
              "      <td>0.077627</td>\n",
              "      <td>-0.073786</td>\n",
              "      <td>0.075133</td>\n",
              "      <td>-0.020969</td>\n",
              "      <td>0.084988</td>\n",
              "      <td>1.006732e-16</td>\n",
              "      <td>-2.601699e-01</td>\n",
              "      <td>1.000000e+00</td>\n",
              "      <td>-1.679926e-01</td>\n",
              "      <td>-1.679926e-01</td>\n",
              "      <td>-1.679926e-01</td>\n",
              "      <td>-1.679926e-01</td>\n",
              "      <td>-1.679926e-01</td>\n",
              "      <td>0.028777</td>\n",
              "      <td>0.034781</td>\n",
              "    </tr>\n",
              "    <tr>\n",
              "      <th>Dummy_Saturday</th>\n",
              "      <td>-0.139764</td>\n",
              "      <td>-0.168117</td>\n",
              "      <td>0.128354</td>\n",
              "      <td>-0.125842</td>\n",
              "      <td>0.035467</td>\n",
              "      <td>-0.134092</td>\n",
              "      <td>-6.184321e-17</td>\n",
              "      <td>6.457034e-01</td>\n",
              "      <td>-1.679926e-01</td>\n",
              "      <td>1.000000e+00</td>\n",
              "      <td>-1.661342e-01</td>\n",
              "      <td>-1.661342e-01</td>\n",
              "      <td>-1.661342e-01</td>\n",
              "      <td>-1.661342e-01</td>\n",
              "      <td>-0.024968</td>\n",
              "      <td>-0.030178</td>\n",
              "    </tr>\n",
              "    <tr>\n",
              "      <th>Dummy_Sunday</th>\n",
              "      <td>-0.241814</td>\n",
              "      <td>-0.244965</td>\n",
              "      <td>0.207968</td>\n",
              "      <td>-0.233530</td>\n",
              "      <td>0.034284</td>\n",
              "      <td>-0.272281</td>\n",
              "      <td>-8.314443e-17</td>\n",
              "      <td>6.457034e-01</td>\n",
              "      <td>-1.679926e-01</td>\n",
              "      <td>-1.661342e-01</td>\n",
              "      <td>1.000000e+00</td>\n",
              "      <td>-1.661342e-01</td>\n",
              "      <td>-1.661342e-01</td>\n",
              "      <td>-1.661342e-01</td>\n",
              "      <td>-0.126441</td>\n",
              "      <td>-0.152824</td>\n",
              "    </tr>\n",
              "    <tr>\n",
              "      <th>Dummy_Thursday</th>\n",
              "      <td>0.094150</td>\n",
              "      <td>0.108020</td>\n",
              "      <td>-0.082548</td>\n",
              "      <td>0.081811</td>\n",
              "      <td>-0.021949</td>\n",
              "      <td>0.099781</td>\n",
              "      <td>1.192499e-17</td>\n",
              "      <td>-2.572918e-01</td>\n",
              "      <td>-1.679926e-01</td>\n",
              "      <td>-1.661342e-01</td>\n",
              "      <td>-1.661342e-01</td>\n",
              "      <td>1.000000e+00</td>\n",
              "      <td>-1.661342e-01</td>\n",
              "      <td>-1.661342e-01</td>\n",
              "      <td>0.033017</td>\n",
              "      <td>0.039906</td>\n",
              "    </tr>\n",
              "    <tr>\n",
              "      <th>Dummy_Tuesday</th>\n",
              "      <td>0.085808</td>\n",
              "      <td>0.089365</td>\n",
              "      <td>-0.074752</td>\n",
              "      <td>0.078646</td>\n",
              "      <td>-0.010775</td>\n",
              "      <td>0.086641</td>\n",
              "      <td>-1.642403e-17</td>\n",
              "      <td>-2.572918e-01</td>\n",
              "      <td>-1.679926e-01</td>\n",
              "      <td>-1.661342e-01</td>\n",
              "      <td>-1.661342e-01</td>\n",
              "      <td>-1.661342e-01</td>\n",
              "      <td>1.000000e+00</td>\n",
              "      <td>-1.661342e-01</td>\n",
              "      <td>0.028185</td>\n",
              "      <td>0.034066</td>\n",
              "    </tr>\n",
              "    <tr>\n",
              "      <th>Dummy_Wednesday</th>\n",
              "      <td>0.059320</td>\n",
              "      <td>0.060748</td>\n",
              "      <td>-0.035916</td>\n",
              "      <td>0.054621</td>\n",
              "      <td>-0.000116</td>\n",
              "      <td>0.047966</td>\n",
              "      <td>-1.246392e-17</td>\n",
              "      <td>-2.572918e-01</td>\n",
              "      <td>-1.679926e-01</td>\n",
              "      <td>-1.661342e-01</td>\n",
              "      <td>-1.661342e-01</td>\n",
              "      <td>-1.661342e-01</td>\n",
              "      <td>-1.661342e-01</td>\n",
              "      <td>1.000000e+00</td>\n",
              "      <td>0.028185</td>\n",
              "      <td>0.034066</td>\n",
              "    </tr>\n",
              "    <tr>\n",
              "      <th>Dummy_Maximum_Load</th>\n",
              "      <td>0.487792</td>\n",
              "      <td>0.412859</td>\n",
              "      <td>-0.155255</td>\n",
              "      <td>0.486870</td>\n",
              "      <td>0.282243</td>\n",
              "      <td>0.190842</td>\n",
              "      <td>2.110607e-01</td>\n",
              "      <td>-1.172431e-01</td>\n",
              "      <td>2.877658e-02</td>\n",
              "      <td>-2.496778e-02</td>\n",
              "      <td>-1.264407e-01</td>\n",
              "      <td>3.301677e-02</td>\n",
              "      <td>2.818473e-02</td>\n",
              "      <td>2.818473e-02</td>\n",
              "      <td>1.000000</td>\n",
              "      <td>-0.316529</td>\n",
              "    </tr>\n",
              "    <tr>\n",
              "      <th>Dummy_Medium_Load</th>\n",
              "      <td>0.204521</td>\n",
              "      <td>0.052157</td>\n",
              "      <td>0.284623</td>\n",
              "      <td>0.191235</td>\n",
              "      <td>0.408215</td>\n",
              "      <td>-0.212413</td>\n",
              "      <td>4.727060e-01</td>\n",
              "      <td>-1.417070e-01</td>\n",
              "      <td>3.478109e-02</td>\n",
              "      <td>-3.017755e-02</td>\n",
              "      <td>-1.528238e-01</td>\n",
              "      <td>3.990605e-02</td>\n",
              "      <td>3.406575e-02</td>\n",
              "      <td>3.406575e-02</td>\n",
              "      <td>-0.316529</td>\n",
              "      <td>1.000000</td>\n",
              "    </tr>\n",
              "  </tbody>\n",
              "</table>\n",
              "</div>\n",
              "      <button class=\"colab-df-convert\" onclick=\"convertToInteractive('df-7e0c08f2-b85e-415d-a847-08a4983645b3')\"\n",
              "              title=\"Convert this dataframe to an interactive table.\"\n",
              "              style=\"display:none;\">\n",
              "        \n",
              "  <svg xmlns=\"http://www.w3.org/2000/svg\" height=\"24px\"viewBox=\"0 0 24 24\"\n",
              "       width=\"24px\">\n",
              "    <path d=\"M0 0h24v24H0V0z\" fill=\"none\"/>\n",
              "    <path d=\"M18.56 5.44l.94 2.06.94-2.06 2.06-.94-2.06-.94-.94-2.06-.94 2.06-2.06.94zm-11 1L8.5 8.5l.94-2.06 2.06-.94-2.06-.94L8.5 2.5l-.94 2.06-2.06.94zm10 10l.94 2.06.94-2.06 2.06-.94-2.06-.94-.94-2.06-.94 2.06-2.06.94z\"/><path d=\"M17.41 7.96l-1.37-1.37c-.4-.4-.92-.59-1.43-.59-.52 0-1.04.2-1.43.59L10.3 9.45l-7.72 7.72c-.78.78-.78 2.05 0 2.83L4 21.41c.39.39.9.59 1.41.59.51 0 1.02-.2 1.41-.59l7.78-7.78 2.81-2.81c.8-.78.8-2.07 0-2.86zM5.41 20L4 18.59l7.72-7.72 1.47 1.35L5.41 20z\"/>\n",
              "  </svg>\n",
              "      </button>\n",
              "      \n",
              "  <style>\n",
              "    .colab-df-container {\n",
              "      display:flex;\n",
              "      flex-wrap:wrap;\n",
              "      gap: 12px;\n",
              "    }\n",
              "\n",
              "    .colab-df-convert {\n",
              "      background-color: #E8F0FE;\n",
              "      border: none;\n",
              "      border-radius: 50%;\n",
              "      cursor: pointer;\n",
              "      display: none;\n",
              "      fill: #1967D2;\n",
              "      height: 32px;\n",
              "      padding: 0 0 0 0;\n",
              "      width: 32px;\n",
              "    }\n",
              "\n",
              "    .colab-df-convert:hover {\n",
              "      background-color: #E2EBFA;\n",
              "      box-shadow: 0px 1px 2px rgba(60, 64, 67, 0.3), 0px 1px 3px 1px rgba(60, 64, 67, 0.15);\n",
              "      fill: #174EA6;\n",
              "    }\n",
              "\n",
              "    [theme=dark] .colab-df-convert {\n",
              "      background-color: #3B4455;\n",
              "      fill: #D2E3FC;\n",
              "    }\n",
              "\n",
              "    [theme=dark] .colab-df-convert:hover {\n",
              "      background-color: #434B5C;\n",
              "      box-shadow: 0px 1px 3px 1px rgba(0, 0, 0, 0.15);\n",
              "      filter: drop-shadow(0px 1px 2px rgba(0, 0, 0, 0.3));\n",
              "      fill: #FFFFFF;\n",
              "    }\n",
              "  </style>\n",
              "\n",
              "      <script>\n",
              "        const buttonEl =\n",
              "          document.querySelector('#df-7e0c08f2-b85e-415d-a847-08a4983645b3 button.colab-df-convert');\n",
              "        buttonEl.style.display =\n",
              "          google.colab.kernel.accessAllowed ? 'block' : 'none';\n",
              "\n",
              "        async function convertToInteractive(key) {\n",
              "          const element = document.querySelector('#df-7e0c08f2-b85e-415d-a847-08a4983645b3');\n",
              "          const dataTable =\n",
              "            await google.colab.kernel.invokeFunction('convertToInteractive',\n",
              "                                                     [key], {});\n",
              "          if (!dataTable) return;\n",
              "\n",
              "          const docLinkHtml = 'Like what you see? Visit the ' +\n",
              "            '<a target=\"_blank\" href=https://colab.research.google.com/notebooks/data_table.ipynb>data table notebook</a>'\n",
              "            + ' to learn more about interactive tables.';\n",
              "          element.innerHTML = '';\n",
              "          dataTable['output_type'] = 'display_data';\n",
              "          await google.colab.output.renderOutput(dataTable, element);\n",
              "          const docLink = document.createElement('div');\n",
              "          docLink.innerHTML = docLinkHtml;\n",
              "          element.appendChild(docLink);\n",
              "        }\n",
              "      </script>\n",
              "    </div>\n",
              "  </div>\n",
              "  "
            ]
          },
          "metadata": {},
          "execution_count": 87
        }
      ],
      "source": [
        "df_1.corr()"
      ]
    },
    {
      "cell_type": "code",
      "execution_count": 88,
      "id": "bf59cfac",
      "metadata": {
        "id": "bf59cfac"
      },
      "outputs": [],
      "source": [
        "# Removing highly correlated features with correlation coefficient greater than 0.85 \n",
        "# Co_ppm,Co_ppm-1,Co_ppm-2 are correlated to each other with coefficient greater than 0.97\n",
        "# In the same all remaining columns with repsective -1,-2 are correalted with each other.\n",
        "# Representing all of them with only one variable."
      ]
    },
    {
      "cell_type": "code",
      "execution_count": 89,
      "id": "35095cdf",
      "metadata": {
        "colab": {
          "base_uri": "https://localhost:8080/"
        },
        "id": "35095cdf",
        "outputId": "96953d62-0332-4808-f81c-3d04510566f8"
      },
      "outputs": [
        {
          "output_type": "execute_result",
          "data": {
            "text/plain": [
              "Index(['date', 'Usage_kWh', 'Lagging_Current_Reactive_Power_kVarh',\n",
              "       'Leading_Current_Reactive_Power_kVarh', 'CO2_tCO2',\n",
              "       'Lagging_Current_Power_Factor', 'Leading_Current_Power_Factor', 'NSM',\n",
              "       'Dummy_Weekend', 'Dummy_Monday', 'Dummy_Saturday', 'Dummy_Sunday',\n",
              "       'Dummy_Thursday', 'Dummy_Tuesday', 'Dummy_Wednesday',\n",
              "       'Dummy_Maximum_Load', 'Dummy_Medium_Load'],\n",
              "      dtype='object')"
            ]
          },
          "metadata": {},
          "execution_count": 89
        }
      ],
      "source": [
        "df_1.columns"
      ]
    },
    {
      "cell_type": "markdown",
      "id": "ce04439e",
      "metadata": {
        "id": "ce04439e"
      },
      "source": [
        "## considering Usage_kWh as target variable"
      ]
    },
    {
      "cell_type": "code",
      "execution_count": 90,
      "id": "58f68590",
      "metadata": {
        "id": "58f68590"
      },
      "outputs": [],
      "source": [
        "import pandas as pd\n",
        "from sklearn.preprocessing import MinMaxScaler\n",
        "\n",
        "\n",
        "# convert date/time strings to timestamps\n",
        "df_1['date'] = pd.to_datetime(df_1['date'])\n",
        "df_1['date'] = df_1['date'].astype('int64') // 10**9  # convert to seconds\n",
        "\n",
        "# extract feature matrix X and target vector y\n",
        "X = df_1.drop('Usage_kWh', axis=1)\n",
        "y = df_1['Usage_kWh']\n",
        "\n",
        "# scale the feature matrix\n",
        "scaler = MinMaxScaler()\n",
        "scaled_X = scaler.fit_transform(X)\n",
        "scaled_y=scaler.fit_transform(y.values.reshape(-1, 1))"
      ]
    },
    {
      "cell_type": "code",
      "execution_count": 91,
      "id": "30eb606f",
      "metadata": {
        "id": "30eb606f"
      },
      "outputs": [],
      "source": [
        "#splitting data into train,validation and test datasets\n",
        "X_train, X_rem, y_train, y_rem = train_test_split(scaled_X,scaled_y, train_size=0.34,random_state=42)"
      ]
    },
    {
      "cell_type": "code",
      "execution_count": 92,
      "id": "30bd03f8",
      "metadata": {
        "id": "30bd03f8"
      },
      "outputs": [],
      "source": [
        "test_size = 0.5\n",
        "X_valid, X_test, y_valid, y_test = train_test_split(X_rem,y_rem, test_size=0.5,random_state=42)"
      ]
    },
    {
      "cell_type": "code",
      "execution_count": 93,
      "id": "604695cb",
      "metadata": {
        "colab": {
          "base_uri": "https://localhost:8080/"
        },
        "id": "604695cb",
        "outputId": "2d40f02d-7728-4b71-b51b-47a0c7fa6708"
      },
      "outputs": [
        {
          "output_type": "stream",
          "name": "stdout",
          "text": [
            "(11913, 16)\n",
            "(11913, 1)\n",
            "(11563, 16)\n",
            "(11563, 1)\n",
            "(11564, 16)\n",
            "(11564, 1)\n"
          ]
        },
        {
          "output_type": "execute_result",
          "data": {
            "text/plain": [
              "(None, None)"
            ]
          },
          "metadata": {},
          "execution_count": 93
        }
      ],
      "source": [
        "# shapes of train,validation and  test split\n",
        "print(X_train.shape), print(y_train.shape)\n",
        "print(X_valid.shape), print(y_valid.shape)\n",
        "print(X_test.shape), print(y_test.shape)"
      ]
    },
    {
      "cell_type": "markdown",
      "id": "fae74ee5",
      "metadata": {
        "id": "fae74ee5"
      },
      "source": [
        "### best model from part-2"
      ]
    },
    {
      "cell_type": "code",
      "execution_count": 94,
      "id": "85e6cdb6",
      "metadata": {
        "id": "85e6cdb6"
      },
      "outputs": [],
      "source": [
        "# Linear Regression came as best model in part 2"
      ]
    },
    {
      "cell_type": "code",
      "execution_count": 95,
      "id": "f435ac00",
      "metadata": {
        "id": "f435ac00"
      },
      "outputs": [],
      "source": [
        "from sklearn.linear_model import LinearRegression\n",
        "from sklearn import metrics"
      ]
    },
    {
      "cell_type": "code",
      "execution_count": 96,
      "id": "75cfbce1",
      "metadata": {
        "colab": {
          "base_uri": "https://localhost:8080/",
          "height": 74
        },
        "id": "75cfbce1",
        "outputId": "77bfad4e-6548-4d9a-b72a-17ff710335ac"
      },
      "outputs": [
        {
          "output_type": "execute_result",
          "data": {
            "text/plain": [
              "LinearRegression()"
            ],
            "text/html": [
              "<style>#sk-container-id-9 {color: black;background-color: white;}#sk-container-id-9 pre{padding: 0;}#sk-container-id-9 div.sk-toggleable {background-color: white;}#sk-container-id-9 label.sk-toggleable__label {cursor: pointer;display: block;width: 100%;margin-bottom: 0;padding: 0.3em;box-sizing: border-box;text-align: center;}#sk-container-id-9 label.sk-toggleable__label-arrow:before {content: \"▸\";float: left;margin-right: 0.25em;color: #696969;}#sk-container-id-9 label.sk-toggleable__label-arrow:hover:before {color: black;}#sk-container-id-9 div.sk-estimator:hover label.sk-toggleable__label-arrow:before {color: black;}#sk-container-id-9 div.sk-toggleable__content {max-height: 0;max-width: 0;overflow: hidden;text-align: left;background-color: #f0f8ff;}#sk-container-id-9 div.sk-toggleable__content pre {margin: 0.2em;color: black;border-radius: 0.25em;background-color: #f0f8ff;}#sk-container-id-9 input.sk-toggleable__control:checked~div.sk-toggleable__content {max-height: 200px;max-width: 100%;overflow: auto;}#sk-container-id-9 input.sk-toggleable__control:checked~label.sk-toggleable__label-arrow:before {content: \"▾\";}#sk-container-id-9 div.sk-estimator input.sk-toggleable__control:checked~label.sk-toggleable__label {background-color: #d4ebff;}#sk-container-id-9 div.sk-label input.sk-toggleable__control:checked~label.sk-toggleable__label {background-color: #d4ebff;}#sk-container-id-9 input.sk-hidden--visually {border: 0;clip: rect(1px 1px 1px 1px);clip: rect(1px, 1px, 1px, 1px);height: 1px;margin: -1px;overflow: hidden;padding: 0;position: absolute;width: 1px;}#sk-container-id-9 div.sk-estimator {font-family: monospace;background-color: #f0f8ff;border: 1px dotted black;border-radius: 0.25em;box-sizing: border-box;margin-bottom: 0.5em;}#sk-container-id-9 div.sk-estimator:hover {background-color: #d4ebff;}#sk-container-id-9 div.sk-parallel-item::after {content: \"\";width: 100%;border-bottom: 1px solid gray;flex-grow: 1;}#sk-container-id-9 div.sk-label:hover label.sk-toggleable__label {background-color: #d4ebff;}#sk-container-id-9 div.sk-serial::before {content: \"\";position: absolute;border-left: 1px solid gray;box-sizing: border-box;top: 0;bottom: 0;left: 50%;z-index: 0;}#sk-container-id-9 div.sk-serial {display: flex;flex-direction: column;align-items: center;background-color: white;padding-right: 0.2em;padding-left: 0.2em;position: relative;}#sk-container-id-9 div.sk-item {position: relative;z-index: 1;}#sk-container-id-9 div.sk-parallel {display: flex;align-items: stretch;justify-content: center;background-color: white;position: relative;}#sk-container-id-9 div.sk-item::before, #sk-container-id-9 div.sk-parallel-item::before {content: \"\";position: absolute;border-left: 1px solid gray;box-sizing: border-box;top: 0;bottom: 0;left: 50%;z-index: -1;}#sk-container-id-9 div.sk-parallel-item {display: flex;flex-direction: column;z-index: 1;position: relative;background-color: white;}#sk-container-id-9 div.sk-parallel-item:first-child::after {align-self: flex-end;width: 50%;}#sk-container-id-9 div.sk-parallel-item:last-child::after {align-self: flex-start;width: 50%;}#sk-container-id-9 div.sk-parallel-item:only-child::after {width: 0;}#sk-container-id-9 div.sk-dashed-wrapped {border: 1px dashed gray;margin: 0 0.4em 0.5em 0.4em;box-sizing: border-box;padding-bottom: 0.4em;background-color: white;}#sk-container-id-9 div.sk-label label {font-family: monospace;font-weight: bold;display: inline-block;line-height: 1.2em;}#sk-container-id-9 div.sk-label-container {text-align: center;}#sk-container-id-9 div.sk-container {/* jupyter's `normalize.less` sets `[hidden] { display: none; }` but bootstrap.min.css set `[hidden] { display: none !important; }` so we also need the `!important` here to be able to override the default hidden behavior on the sphinx rendered scikit-learn.org. See: https://github.com/scikit-learn/scikit-learn/issues/21755 */display: inline-block !important;position: relative;}#sk-container-id-9 div.sk-text-repr-fallback {display: none;}</style><div id=\"sk-container-id-9\" class=\"sk-top-container\"><div class=\"sk-text-repr-fallback\"><pre>LinearRegression()</pre><b>In a Jupyter environment, please rerun this cell to show the HTML representation or trust the notebook. <br />On GitHub, the HTML representation is unable to render, please try loading this page with nbviewer.org.</b></div><div class=\"sk-container\" hidden><div class=\"sk-item\"><div class=\"sk-estimator sk-toggleable\"><input class=\"sk-toggleable__control sk-hidden--visually\" id=\"sk-estimator-id-9\" type=\"checkbox\" checked><label for=\"sk-estimator-id-9\" class=\"sk-toggleable__label sk-toggleable__label-arrow\">LinearRegression</label><div class=\"sk-toggleable__content\"><pre>LinearRegression()</pre></div></div></div></div></div>"
            ]
          },
          "metadata": {},
          "execution_count": 96
        }
      ],
      "source": [
        "best_reg = LinearRegression(copy_X= True, fit_intercept= True)\n",
        "best_reg.fit(X_train,y_train)"
      ]
    },
    {
      "cell_type": "code",
      "execution_count": 97,
      "id": "020cbc86",
      "metadata": {
        "colab": {
          "base_uri": "https://localhost:8080/"
        },
        "id": "020cbc86",
        "outputId": "d7f8ea63-4e1f-490d-a01b-4d5e7804f298"
      },
      "outputs": [
        {
          "output_type": "stream",
          "name": "stdout",
          "text": [
            "The mean squared error is 0.003236912159141072\n",
            "The mean absolute error is 0.0371223549785833\n",
            "The root mean sqaured error is 0.05689386750029455\n",
            "The regression score is 0.9235908519245246\n"
          ]
        }
      ],
      "source": [
        "# best model on validation dataset\n",
        "y_valid_pred = best_reg.predict(X_valid)\n",
        "MSE = metrics.mean_squared_error(y_valid_pred, y_valid)\n",
        "MAE =  metrics.mean_absolute_error(y_valid_pred, y_valid)\n",
        "RMSE = MSE**0.5\n",
        "score = metrics.r2_score(y_valid_pred,y_valid)\n",
        "print(f\"The mean squared error is {MSE}\")\n",
        "print(f\"The mean absolute error is {MAE}\")\n",
        "print(f\"The root mean sqaured error is {RMSE}\")\n",
        "print(f\"The regression score is {score}\")"
      ]
    },
    {
      "cell_type": "code",
      "execution_count": 98,
      "id": "fecd0030",
      "metadata": {
        "colab": {
          "base_uri": "https://localhost:8080/"
        },
        "id": "fecd0030",
        "outputId": "190ccffe-bc71-4d6a-e7ab-7fc14fba0fb3"
      },
      "outputs": [
        {
          "output_type": "stream",
          "name": "stdout",
          "text": [
            "The mean squared error is 0.003069472964422499\n",
            "The mean absolute error is 0.0368193515230474\n",
            "The root mean sqaured error is 0.05540282451664806\n",
            "The regression score is 0.9272965511939364\n"
          ]
        }
      ],
      "source": [
        "# model on test dataset\n",
        "y_test_pred = best_reg.predict(X_test)\n",
        "MSE = metrics.mean_squared_error(y_test_pred, y_test)\n",
        "MAE =  metrics.mean_absolute_error(y_test_pred, y_test)\n",
        "r2_score = metrics.r2_score(y_test_pred,y_test)\n",
        "RMSE = MSE**0.5\n",
        "print(f\"The mean squared error is {MSE}\")\n",
        "print(f\"The mean absolute error is {MAE}\")\n",
        "print(f\"The root mean sqaured error is {RMSE}\")\n",
        "print(f\"The regression score is {r2_score}\")\n"
      ]
    },
    {
      "cell_type": "markdown",
      "source": [
        "# Feature Selection using Lasso"
      ],
      "metadata": {
        "id": "q7lFen2TcDvR"
      },
      "id": "q7lFen2TcDvR"
    },
    {
      "cell_type": "code",
      "source": [
        "from sklearn.linear_model import Lasso\n",
        "import matplotlib.pyplot as plt\n",
        "\n",
        "# Fit Lasso model with the best alpha value\n",
        "lasso_model = Lasso(alpha=0.001)\n",
        "lasso_model.fit(X_train, y_train)\n",
        "\n",
        "# Extract feature importances\n",
        "feature_importances = abs(lasso_model.coef_)\n",
        "\n",
        "# Sort feature importances in descending order\n",
        "sorted_idx = feature_importances.argsort()[::-1]\n",
        "\n",
        "# Plot feature importances\n",
        "plt.bar(range(X_train.shape[1]), feature_importances[sorted_idx])\n",
        "plt.xticks(range(X_train.shape[1]), X.columns[sorted_idx], rotation=90)\n",
        "plt.xlabel(\"Features\")\n",
        "plt.ylabel(\"Importance\")\n",
        "plt.title(\"Feature Importance after Lasso Variable Selection\")\n",
        "plt.show()\n"
      ],
      "metadata": {
        "colab": {
          "base_uri": "https://localhost:8080/",
          "height": 735
        },
        "id": "ABa18HgknaJu",
        "outputId": "6f24ce50-3808-4afd-b6bc-e5d6fcf4444c"
      },
      "id": "ABa18HgknaJu",
      "execution_count": 111,
      "outputs": [
        {
          "output_type": "display_data",
          "data": {
            "text/plain": [
              "<Figure size 640x480 with 1 Axes>"
            ],
            "image/png": "[encoded data removed]"
          },
          "metadata": {}
        }
      ]
    },
    {
      "cell_type": "code",
      "source": [
        "\n",
        "# Get top 7 features\n",
        "top_features = list(X.columns[sorted_idx][:7])\n",
        "print(\"Top 7 features:\", top_features)\n"
      ],
      "metadata": {
        "colab": {
          "base_uri": "https://localhost:8080/"
        },
        "id": "8JgAqeUupEkJ",
        "outputId": "41be5eea-1ab5-4f19-fbe8-21d52fc44a8c"
      },
      "id": "8JgAqeUupEkJ",
      "execution_count": 113,
      "outputs": [
        {
          "output_type": "stream",
          "name": "stdout",
          "text": [
            "Top 7 features: ['Lagging_Current_Reactive_Power_kVarh', 'CO2_tCO2', 'Lagging_Current_Power_Factor', 'Leading_Current_Power_Factor', 'Dummy_Medium_Load', 'Dummy_Maximum_Load', 'date']\n"
          ]
        }
      ]
    },
    {
      "cell_type": "code",
      "source": [
        "df_1=df[['Lagging_Current_Reactive_Power_kVarh', 'CO2_tCO2', 'Lagging_Current_Power_Factor', 'Leading_Current_Power_Factor', 'Dummy_Medium_Load', 'Dummy_Maximum_Load', 'date','Usage_kWh']]"
      ],
      "metadata": {
        "id": "lDW2Wgh7cZ5z"
      },
      "id": "lDW2Wgh7cZ5z",
      "execution_count": 116,
      "outputs": []
    },
    {
      "cell_type": "code",
      "source": [
        "df_1.head()"
      ],
      "metadata": {
        "colab": {
          "base_uri": "https://localhost:8080/",
          "height": 206
        },
        "id": "fLvP_GeLcZ9F",
        "outputId": "0fec0904-5ff4-48b5-e55b-b4ae1163453b"
      },
      "id": "fLvP_GeLcZ9F",
      "execution_count": 117,
      "outputs": [
        {
          "output_type": "execute_result",
          "data": {
            "text/plain": [
              "   Lagging_Current_Reactive_Power_kVarh  CO2_tCO2  \\\n",
              "0                                  2.95       0.0   \n",
              "1                                  4.46       0.0   \n",
              "2                                  3.28       0.0   \n",
              "3                                  3.56       0.0   \n",
              "4                                  4.50       0.0   \n",
              "\n",
              "   Lagging_Current_Power_Factor  Leading_Current_Power_Factor  \\\n",
              "0                         73.21                         100.0   \n",
              "1                         66.77                         100.0   \n",
              "2                         70.28                         100.0   \n",
              "3                         68.09                         100.0   \n",
              "4                         64.72                         100.0   \n",
              "\n",
              "   Dummy_Medium_Load  Dummy_Maximum_Load                 date  Usage_kWh  \n",
              "0                  0                   0  2018-01-01 00:15:00       3.17  \n",
              "1                  0                   0  2018-01-01 00:30:00       4.00  \n",
              "2                  0                   0  2018-01-01 00:45:00       3.24  \n",
              "3                  0                   0  2018-01-01 01:00:00       3.31  \n",
              "4                  0                   0  2018-01-01 01:15:00       3.82  "
            ],
            "text/html": [
              "\n",
              "  <div id=\"df-f7fc95a9-c5af-4639-b51d-4231c39ac600\">\n",
              "    <div class=\"colab-df-container\">\n",
              "      <div>\n",
              "<style scoped>\n",
              "    .dataframe tbody tr th:only-of-type {\n",
              "        vertical-align: middle;\n",
              "    }\n",
              "\n",
              "    .dataframe tbody tr th {\n",
              "        vertical-align: top;\n",
              "    }\n",
              "\n",
              "    .dataframe thead th {\n",
              "        text-align: right;\n",
              "    }\n",
              "</style>\n",
              "<table border=\"1\" class=\"dataframe\">\n",
              "  <thead>\n",
              "    <tr style=\"text-align: right;\">\n",
              "      <th></th>\n",
              "      <th>Lagging_Current_Reactive_Power_kVarh</th>\n",
              "      <th>CO2_tCO2</th>\n",
              "      <th>Lagging_Current_Power_Factor</th>\n",
              "      <th>Leading_Current_Power_Factor</th>\n",
              "      <th>Dummy_Medium_Load</th>\n",
              "      <th>Dummy_Maximum_Load</th>\n",
              "      <th>date</th>\n",
              "      <th>Usage_kWh</th>\n",
              "    </tr>\n",
              "  </thead>\n",
              "  <tbody>\n",
              "    <tr>\n",
              "      <th>0</th>\n",
              "      <td>2.95</td>\n",
              "      <td>0.0</td>\n",
              "      <td>73.21</td>\n",
              "      <td>100.0</td>\n",
              "      <td>0</td>\n",
              "      <td>0</td>\n",
              "      <td>2018-01-01 00:15:00</td>\n",
              "      <td>3.17</td>\n",
              "    </tr>\n",
              "    <tr>\n",
              "      <th>1</th>\n",
              "      <td>4.46</td>\n",
              "      <td>0.0</td>\n",
              "      <td>66.77</td>\n",
              "      <td>100.0</td>\n",
              "      <td>0</td>\n",
              "      <td>0</td>\n",
              "      <td>2018-01-01 00:30:00</td>\n",
              "      <td>4.00</td>\n",
              "    </tr>\n",
              "    <tr>\n",
              "      <th>2</th>\n",
              "      <td>3.28</td>\n",
              "      <td>0.0</td>\n",
              "      <td>70.28</td>\n",
              "      <td>100.0</td>\n",
              "      <td>0</td>\n",
              "      <td>0</td>\n",
              "      <td>2018-01-01 00:45:00</td>\n",
              "      <td>3.24</td>\n",
              "    </tr>\n",
              "    <tr>\n",
              "      <th>3</th>\n",
              "      <td>3.56</td>\n",
              "      <td>0.0</td>\n",
              "      <td>68.09</td>\n",
              "      <td>100.0</td>\n",
              "      <td>0</td>\n",
              "      <td>0</td>\n",
              "      <td>2018-01-01 01:00:00</td>\n",
              "      <td>3.31</td>\n",
              "    </tr>\n",
              "    <tr>\n",
              "      <th>4</th>\n",
              "      <td>4.50</td>\n",
              "      <td>0.0</td>\n",
              "      <td>64.72</td>\n",
              "      <td>100.0</td>\n",
              "      <td>0</td>\n",
              "      <td>0</td>\n",
              "      <td>2018-01-01 01:15:00</td>\n",
              "      <td>3.82</td>\n",
              "    </tr>\n",
              "  </tbody>\n",
              "</table>\n",
              "</div>\n",
              "      <button class=\"colab-df-convert\" onclick=\"convertToInteractive('df-f7fc95a9-c5af-4639-b51d-4231c39ac600')\"\n",
              "              title=\"Convert this dataframe to an interactive table.\"\n",
              "              style=\"display:none;\">\n",
              "        \n",
              "  <svg xmlns=\"http://www.w3.org/2000/svg\" height=\"24px\"viewBox=\"0 0 24 24\"\n",
              "       width=\"24px\">\n",
              "    <path d=\"M0 0h24v24H0V0z\" fill=\"none\"/>\n",
              "    <path d=\"M18.56 5.44l.94 2.06.94-2.06 2.06-.94-2.06-.94-.94-2.06-.94 2.06-2.06.94zm-11 1L8.5 8.5l.94-2.06 2.06-.94-2.06-.94L8.5 2.5l-.94 2.06-2.06.94zm10 10l.94 2.06.94-2.06 2.06-.94-2.06-.94-.94-2.06-.94 2.06-2.06.94z\"/><path d=\"M17.41 7.96l-1.37-1.37c-.4-.4-.92-.59-1.43-.59-.52 0-1.04.2-1.43.59L10.3 9.45l-7.72 7.72c-.78.78-.78 2.05 0 2.83L4 21.41c.39.39.9.59 1.41.59.51 0 1.02-.2 1.41-.59l7.78-7.78 2.81-2.81c.8-.78.8-2.07 0-2.86zM5.41 20L4 18.59l7.72-7.72 1.47 1.35L5.41 20z\"/>\n",
              "  </svg>\n",
              "      </button>\n",
              "      \n",
              "  <style>\n",
              "    .colab-df-container {\n",
              "      display:flex;\n",
              "      flex-wrap:wrap;\n",
              "      gap: 12px;\n",
              "    }\n",
              "\n",
              "    .colab-df-convert {\n",
              "      background-color: #E8F0FE;\n",
              "      border: none;\n",
              "      border-radius: 50%;\n",
              "      cursor: pointer;\n",
              "      display: none;\n",
              "      fill: #1967D2;\n",
              "      height: 32px;\n",
              "      padding: 0 0 0 0;\n",
              "      width: 32px;\n",
              "    }\n",
              "\n",
              "    .colab-df-convert:hover {\n",
              "      background-color: #E2EBFA;\n",
              "      box-shadow: 0px 1px 2px rgba(60, 64, 67, 0.3), 0px 1px 3px 1px rgba(60, 64, 67, 0.15);\n",
              "      fill: #174EA6;\n",
              "    }\n",
              "\n",
              "    [theme=dark] .colab-df-convert {\n",
              "      background-color: #3B4455;\n",
              "      fill: #D2E3FC;\n",
              "    }\n",
              "\n",
              "    [theme=dark] .colab-df-convert:hover {\n",
              "      background-color: #434B5C;\n",
              "      box-shadow: 0px 1px 3px 1px rgba(0, 0, 0, 0.15);\n",
              "      filter: drop-shadow(0px 1px 2px rgba(0, 0, 0, 0.3));\n",
              "      fill: #FFFFFF;\n",
              "    }\n",
              "  </style>\n",
              "\n",
              "      <script>\n",
              "        const buttonEl =\n",
              "          document.querySelector('#df-f7fc95a9-c5af-4639-b51d-4231c39ac600 button.colab-df-convert');\n",
              "        buttonEl.style.display =\n",
              "          google.colab.kernel.accessAllowed ? 'block' : 'none';\n",
              "\n",
              "        async function convertToInteractive(key) {\n",
              "          const element = document.querySelector('#df-f7fc95a9-c5af-4639-b51d-4231c39ac600');\n",
              "          const dataTable =\n",
              "            await google.colab.kernel.invokeFunction('convertToInteractive',\n",
              "                                                     [key], {});\n",
              "          if (!dataTable) return;\n",
              "\n",
              "          const docLinkHtml = 'Like what you see? Visit the ' +\n",
              "            '<a target=\"_blank\" href=https://colab.research.google.com/notebooks/data_table.ipynb>data table notebook</a>'\n",
              "            + ' to learn more about interactive tables.';\n",
              "          element.innerHTML = '';\n",
              "          dataTable['output_type'] = 'display_data';\n",
              "          await google.colab.output.renderOutput(dataTable, element);\n",
              "          const docLink = document.createElement('div');\n",
              "          docLink.innerHTML = docLinkHtml;\n",
              "          element.appendChild(docLink);\n",
              "        }\n",
              "      </script>\n",
              "    </div>\n",
              "  </div>\n",
              "  "
            ]
          },
          "metadata": {},
          "execution_count": 117
        }
      ]
    },
    {
      "cell_type": "code",
      "execution_count": 118,
      "metadata": {
        "colab": {
          "base_uri": "https://localhost:8080/"
        },
        "id": "Ozkq6mu2fD2g",
        "outputId": "598eb3f7-c55d-4e1d-c5f2-34d96e5add2a"
      },
      "outputs": [
        {
          "output_type": "stream",
          "name": "stderr",
          "text": [
            "<ipython-input-118-55a5bc854004>:5: SettingWithCopyWarning: \n",
            "A value is trying to be set on a copy of a slice from a DataFrame.\n",
            "Try using .loc[row_indexer,col_indexer] = value instead\n",
            "\n",
            "See the caveats in the documentation: https://pandas.pydata.org/pandas-docs/stable/user_guide/indexing.html#returning-a-view-versus-a-copy\n",
            "  df_1['date'] = pd.to_datetime(df_1['date'])\n",
            "<ipython-input-118-55a5bc854004>:6: SettingWithCopyWarning: \n",
            "A value is trying to be set on a copy of a slice from a DataFrame.\n",
            "Try using .loc[row_indexer,col_indexer] = value instead\n",
            "\n",
            "See the caveats in the documentation: https://pandas.pydata.org/pandas-docs/stable/user_guide/indexing.html#returning-a-view-versus-a-copy\n",
            "  df_1['date'] = df_1['date'].astype('int64') // 10**9  # convert to seconds\n"
          ]
        }
      ],
      "source": [
        "import pandas as pd\n",
        "from sklearn.preprocessing import MinMaxScaler\n",
        "\n",
        "# convert date/time strings to timestamps\n",
        "df_1['date'] = pd.to_datetime(df_1['date'])\n",
        "df_1['date'] = df_1['date'].astype('int64') // 10**9  # convert to seconds\n",
        "\n",
        "# extract feature matrix X and target vector y\n",
        "X = df_1.drop('Usage_kWh', axis=1)\n",
        "y = df_1['Usage_kWh']\n",
        "\n",
        "# scale the feature matrix\n",
        "scaler = MinMaxScaler()\n",
        "scaled_X = scaler.fit_transform(X)\n",
        "scaled_y=scaler.fit_transform(y.values.reshape(-1, 1))"
      ],
      "id": "Ozkq6mu2fD2g"
    },
    {
      "cell_type": "code",
      "execution_count": 119,
      "metadata": {
        "id": "MdZfTiOhfD2t"
      },
      "outputs": [],
      "source": [
        "#splitting data into train,validation and test datasets\n",
        "X_train, X_rem, y_train, y_rem = train_test_split(scaled_X,scaled_y, train_size=0.34,random_state=42)"
      ],
      "id": "MdZfTiOhfD2t"
    },
    {
      "cell_type": "code",
      "execution_count": 120,
      "metadata": {
        "id": "nPgFwN3vfD2t"
      },
      "outputs": [],
      "source": [
        "test_size = 0.5\n",
        "X_valid, X_test, y_valid, y_test = train_test_split(X_rem,y_rem, test_size=0.5,random_state=42)"
      ],
      "id": "nPgFwN3vfD2t"
    },
    {
      "cell_type": "code",
      "execution_count": 121,
      "metadata": {
        "colab": {
          "base_uri": "https://localhost:8080/"
        },
        "outputId": "e9a16c59-0dab-4ba0-a31d-0474f9b92d80",
        "id": "VxHDlfe4fD2t"
      },
      "outputs": [
        {
          "output_type": "stream",
          "name": "stdout",
          "text": [
            "(11913, 7)\n",
            "(11913, 1)\n",
            "(11563, 7)\n",
            "(11563, 1)\n",
            "(11564, 7)\n",
            "(11564, 1)\n"
          ]
        },
        {
          "output_type": "execute_result",
          "data": {
            "text/plain": [
              "(None, None)"
            ]
          },
          "metadata": {},
          "execution_count": 121
        }
      ],
      "source": [
        "# shapes of train,validation and  test split\n",
        "print(X_train.shape), print(y_train.shape)\n",
        "print(X_valid.shape), print(y_valid.shape)\n",
        "print(X_test.shape), print(y_test.shape)"
      ],
      "id": "VxHDlfe4fD2t"
    },
    {
      "cell_type": "markdown",
      "source": [
        "# Running Best Models on Features Selected on Part-2\n"
      ],
      "metadata": {
        "id": "i6_JwqLefY0T"
      },
      "id": "i6_JwqLefY0T"
    },
    {
      "cell_type": "code",
      "source": [
        "X_train.shape"
      ],
      "metadata": {
        "colab": {
          "base_uri": "https://localhost:8080/"
        },
        "id": "CcnQ8p9viDUO",
        "outputId": "ff993077-2919-44a5-a0bd-bc03de8cec76"
      },
      "id": "CcnQ8p9viDUO",
      "execution_count": 122,
      "outputs": [
        {
          "output_type": "execute_result",
          "data": {
            "text/plain": [
              "(11913, 7)"
            ]
          },
          "metadata": {},
          "execution_count": 122
        }
      ]
    },
    {
      "cell_type": "code",
      "execution_count": 123,
      "metadata": {
        "id": "yz5su0U5fsbU"
      },
      "outputs": [],
      "source": [
        "from sklearn.linear_model import LinearRegression\n",
        "from sklearn import metrics"
      ],
      "id": "yz5su0U5fsbU"
    },
    {
      "cell_type": "code",
      "execution_count": 124,
      "metadata": {
        "colab": {
          "base_uri": "https://localhost:8080/",
          "height": 74
        },
        "outputId": "3e27c655-ab3d-4faf-cc08-5fa3e519f2be",
        "id": "YV5d-9WkfsbV"
      },
      "outputs": [
        {
          "output_type": "execute_result",
          "data": {
            "text/plain": [
              "LinearRegression()"
            ],
            "text/html": [
              "<style>#sk-container-id-10 {color: black;background-color: white;}#sk-container-id-10 pre{padding: 0;}#sk-container-id-10 div.sk-toggleable {background-color: white;}#sk-container-id-10 label.sk-toggleable__label {cursor: pointer;display: block;width: 100%;margin-bottom: 0;padding: 0.3em;box-sizing: border-box;text-align: center;}#sk-container-id-10 label.sk-toggleable__label-arrow:before {content: \"▸\";float: left;margin-right: 0.25em;color: #696969;}#sk-container-id-10 label.sk-toggleable__label-arrow:hover:before {color: black;}#sk-container-id-10 div.sk-estimator:hover label.sk-toggleable__label-arrow:before {color: black;}#sk-container-id-10 div.sk-toggleable__content {max-height: 0;max-width: 0;overflow: hidden;text-align: left;background-color: #f0f8ff;}#sk-container-id-10 div.sk-toggleable__content pre {margin: 0.2em;color: black;border-radius: 0.25em;background-color: #f0f8ff;}#sk-container-id-10 input.sk-toggleable__control:checked~div.sk-toggleable__content {max-height: 200px;max-width: 100%;overflow: auto;}#sk-container-id-10 input.sk-toggleable__control:checked~label.sk-toggleable__label-arrow:before {content: \"▾\";}#sk-container-id-10 div.sk-estimator input.sk-toggleable__control:checked~label.sk-toggleable__label {background-color: #d4ebff;}#sk-container-id-10 div.sk-label input.sk-toggleable__control:checked~label.sk-toggleable__label {background-color: #d4ebff;}#sk-container-id-10 input.sk-hidden--visually {border: 0;clip: rect(1px 1px 1px 1px);clip: rect(1px, 1px, 1px, 1px);height: 1px;margin: -1px;overflow: hidden;padding: 0;position: absolute;width: 1px;}#sk-container-id-10 div.sk-estimator {font-family: monospace;background-color: #f0f8ff;border: 1px dotted black;border-radius: 0.25em;box-sizing: border-box;margin-bottom: 0.5em;}#sk-container-id-10 div.sk-estimator:hover {background-color: #d4ebff;}#sk-container-id-10 div.sk-parallel-item::after {content: \"\";width: 100%;border-bottom: 1px solid gray;flex-grow: 1;}#sk-container-id-10 div.sk-label:hover label.sk-toggleable__label {background-color: #d4ebff;}#sk-container-id-10 div.sk-serial::before {content: \"\";position: absolute;border-left: 1px solid gray;box-sizing: border-box;top: 0;bottom: 0;left: 50%;z-index: 0;}#sk-container-id-10 div.sk-serial {display: flex;flex-direction: column;align-items: center;background-color: white;padding-right: 0.2em;padding-left: 0.2em;position: relative;}#sk-container-id-10 div.sk-item {position: relative;z-index: 1;}#sk-container-id-10 div.sk-parallel {display: flex;align-items: stretch;justify-content: center;background-color: white;position: relative;}#sk-container-id-10 div.sk-item::before, #sk-container-id-10 div.sk-parallel-item::before {content: \"\";position: absolute;border-left: 1px solid gray;box-sizing: border-box;top: 0;bottom: 0;left: 50%;z-index: -1;}#sk-container-id-10 div.sk-parallel-item {display: flex;flex-direction: column;z-index: 1;position: relative;background-color: white;}#sk-container-id-10 div.sk-parallel-item:first-child::after {align-self: flex-end;width: 50%;}#sk-container-id-10 div.sk-parallel-item:last-child::after {align-self: flex-start;width: 50%;}#sk-container-id-10 div.sk-parallel-item:only-child::after {width: 0;}#sk-container-id-10 div.sk-dashed-wrapped {border: 1px dashed gray;margin: 0 0.4em 0.5em 0.4em;box-sizing: border-box;padding-bottom: 0.4em;background-color: white;}#sk-container-id-10 div.sk-label label {font-family: monospace;font-weight: bold;display: inline-block;line-height: 1.2em;}#sk-container-id-10 div.sk-label-container {text-align: center;}#sk-container-id-10 div.sk-container {/* jupyter's `normalize.less` sets `[hidden] { display: none; }` but bootstrap.min.css set `[hidden] { display: none !important; }` so we also need the `!important` here to be able to override the default hidden behavior on the sphinx rendered scikit-learn.org. See: https://github.com/scikit-learn/scikit-learn/issues/21755 */display: inline-block !important;position: relative;}#sk-container-id-10 div.sk-text-repr-fallback {display: none;}</style><div id=\"sk-container-id-10\" class=\"sk-top-container\"><div class=\"sk-text-repr-fallback\"><pre>LinearRegression()</pre><b>In a Jupyter environment, please rerun this cell to show the HTML representation or trust the notebook. <br />On GitHub, the HTML representation is unable to render, please try loading this page with nbviewer.org.</b></div><div class=\"sk-container\" hidden><div class=\"sk-item\"><div class=\"sk-estimator sk-toggleable\"><input class=\"sk-toggleable__control sk-hidden--visually\" id=\"sk-estimator-id-10\" type=\"checkbox\" checked><label for=\"sk-estimator-id-10\" class=\"sk-toggleable__label sk-toggleable__label-arrow\">LinearRegression</label><div class=\"sk-toggleable__content\"><pre>LinearRegression()</pre></div></div></div></div></div>"
            ]
          },
          "metadata": {},
          "execution_count": 124
        }
      ],
      "source": [
        "best_reg = LinearRegression(copy_X= True, fit_intercept= True)\n",
        "best_reg.fit(X_train,y_train)"
      ],
      "id": "YV5d-9WkfsbV"
    },
    {
      "cell_type": "code",
      "execution_count": 125,
      "metadata": {
        "colab": {
          "base_uri": "https://localhost:8080/"
        },
        "outputId": "aff5aeff-8da7-4fc0-e8a2-935a3b07e9fa",
        "id": "iwxlS5gGfsbV"
      },
      "outputs": [
        {
          "output_type": "stream",
          "name": "stdout",
          "text": [
            "The mean squared error is 0.0032451084645944385\n",
            "The mean absolute error is 0.037327621959110616\n",
            "The root mean sqaured error is 0.056965853496585464\n",
            "The regression score is 0.9233621431077759\n"
          ]
        }
      ],
      "source": [
        "# best model on validation dataset\n",
        "y_valid_pred = best_reg.predict(X_valid)\n",
        "MSE = metrics.mean_squared_error(y_valid_pred, y_valid)\n",
        "MAE =  metrics.mean_absolute_error(y_valid_pred, y_valid)\n",
        "RMSE = MSE**0.5\n",
        "score = metrics.r2_score(y_valid_pred,y_valid)\n",
        "print(f\"The mean squared error is {MSE}\")\n",
        "print(f\"The mean absolute error is {MAE}\")\n",
        "print(f\"The root mean sqaured error is {RMSE}\")\n",
        "print(f\"The regression score is {score}\")"
      ],
      "id": "iwxlS5gGfsbV"
    },
    {
      "cell_type": "code",
      "execution_count": 126,
      "metadata": {
        "colab": {
          "base_uri": "https://localhost:8080/"
        },
        "outputId": "ee84528b-6a66-4d1f-e3b8-571132070816",
        "id": "6E3Mc7r2fsbV"
      },
      "outputs": [
        {
          "output_type": "stream",
          "name": "stdout",
          "text": [
            "The mean squared error is 0.003081835865752941\n",
            "The mean absolute error is 0.03705373188997071\n",
            "The root mean sqaured error is 0.055514285240404034\n",
            "The regression score is 0.9269972780421948\n"
          ]
        }
      ],
      "source": [
        "# model on test dataset\n",
        "y_test_pred = best_reg.predict(X_test)\n",
        "MSE = metrics.mean_squared_error(y_test_pred, y_test)\n",
        "MAE =  metrics.mean_absolute_error(y_test_pred, y_test)\n",
        "r2_score = metrics.r2_score(y_test_pred,y_test)\n",
        "RMSE = MSE**0.5\n",
        "print(f\"The mean squared error is {MSE}\")\n",
        "print(f\"The mean absolute error is {MAE}\")\n",
        "print(f\"The root mean sqaured error is {RMSE}\")\n",
        "print(f\"The regression score is {r2_score}\")\n"
      ],
      "id": "6E3Mc7r2fsbV"
    },
    {
      "cell_type": "markdown",
      "id": "22a3563d",
      "metadata": {
        "id": "22a3563d"
      },
      "source": [
        "### best model from part-3"
      ]
    },
    {
      "cell_type": "code",
      "execution_count": 127,
      "id": "d91d37c2",
      "metadata": {
        "id": "d91d37c2"
      },
      "outputs": [],
      "source": [
        "from sklearn.svm import SVR\n",
        "from sklearn.metrics import r2_score"
      ]
    },
    {
      "cell_type": "code",
      "execution_count": 128,
      "id": "a7d1afc9",
      "metadata": {
        "colab": {
          "base_uri": "https://localhost:8080/",
          "height": 130
        },
        "id": "a7d1afc9",
        "outputId": "17c1d2ed-64bf-4b84-fc0e-28068445ec14"
      },
      "outputs": [
        {
          "output_type": "stream",
          "name": "stderr",
          "text": [
            "/usr/local/lib/python3.10/dist-packages/sklearn/utils/validation.py:1143: DataConversionWarning: A column-vector y was passed when a 1d array was expected. Please change the shape of y to (n_samples, ), for example using ravel().\n",
            "  y = column_or_1d(y, warn=True)\n"
          ]
        },
        {
          "output_type": "execute_result",
          "data": {
            "text/plain": [
              "SVR(C=0.1, kernel='linear')"
            ],
            "text/html": [
              "<style>#sk-container-id-11 {color: black;background-color: white;}#sk-container-id-11 pre{padding: 0;}#sk-container-id-11 div.sk-toggleable {background-color: white;}#sk-container-id-11 label.sk-toggleable__label {cursor: pointer;display: block;width: 100%;margin-bottom: 0;padding: 0.3em;box-sizing: border-box;text-align: center;}#sk-container-id-11 label.sk-toggleable__label-arrow:before {content: \"▸\";float: left;margin-right: 0.25em;color: #696969;}#sk-container-id-11 label.sk-toggleable__label-arrow:hover:before {color: black;}#sk-container-id-11 div.sk-estimator:hover label.sk-toggleable__label-arrow:before {color: black;}#sk-container-id-11 div.sk-toggleable__content {max-height: 0;max-width: 0;overflow: hidden;text-align: left;background-color: #f0f8ff;}#sk-container-id-11 div.sk-toggleable__content pre {margin: 0.2em;color: black;border-radius: 0.25em;background-color: #f0f8ff;}#sk-container-id-11 input.sk-toggleable__control:checked~div.sk-toggleable__content {max-height: 200px;max-width: 100%;overflow: auto;}#sk-container-id-11 input.sk-toggleable__control:checked~label.sk-toggleable__label-arrow:before {content: \"▾\";}#sk-container-id-11 div.sk-estimator input.sk-toggleable__control:checked~label.sk-toggleable__label {background-color: #d4ebff;}#sk-container-id-11 div.sk-label input.sk-toggleable__control:checked~label.sk-toggleable__label {background-color: #d4ebff;}#sk-container-id-11 input.sk-hidden--visually {border: 0;clip: rect(1px 1px 1px 1px);clip: rect(1px, 1px, 1px, 1px);height: 1px;margin: -1px;overflow: hidden;padding: 0;position: absolute;width: 1px;}#sk-container-id-11 div.sk-estimator {font-family: monospace;background-color: #f0f8ff;border: 1px dotted black;border-radius: 0.25em;box-sizing: border-box;margin-bottom: 0.5em;}#sk-container-id-11 div.sk-estimator:hover {background-color: #d4ebff;}#sk-container-id-11 div.sk-parallel-item::after {content: \"\";width: 100%;border-bottom: 1px solid gray;flex-grow: 1;}#sk-container-id-11 div.sk-label:hover label.sk-toggleable__label {background-color: #d4ebff;}#sk-container-id-11 div.sk-serial::before {content: \"\";position: absolute;border-left: 1px solid gray;box-sizing: border-box;top: 0;bottom: 0;left: 50%;z-index: 0;}#sk-container-id-11 div.sk-serial {display: flex;flex-direction: column;align-items: center;background-color: white;padding-right: 0.2em;padding-left: 0.2em;position: relative;}#sk-container-id-11 div.sk-item {position: relative;z-index: 1;}#sk-container-id-11 div.sk-parallel {display: flex;align-items: stretch;justify-content: center;background-color: white;position: relative;}#sk-container-id-11 div.sk-item::before, #sk-container-id-11 div.sk-parallel-item::before {content: \"\";position: absolute;border-left: 1px solid gray;box-sizing: border-box;top: 0;bottom: 0;left: 50%;z-index: -1;}#sk-container-id-11 div.sk-parallel-item {display: flex;flex-direction: column;z-index: 1;position: relative;background-color: white;}#sk-container-id-11 div.sk-parallel-item:first-child::after {align-self: flex-end;width: 50%;}#sk-container-id-11 div.sk-parallel-item:last-child::after {align-self: flex-start;width: 50%;}#sk-container-id-11 div.sk-parallel-item:only-child::after {width: 0;}#sk-container-id-11 div.sk-dashed-wrapped {border: 1px dashed gray;margin: 0 0.4em 0.5em 0.4em;box-sizing: border-box;padding-bottom: 0.4em;background-color: white;}#sk-container-id-11 div.sk-label label {font-family: monospace;font-weight: bold;display: inline-block;line-height: 1.2em;}#sk-container-id-11 div.sk-label-container {text-align: center;}#sk-container-id-11 div.sk-container {/* jupyter's `normalize.less` sets `[hidden] { display: none; }` but bootstrap.min.css set `[hidden] { display: none !important; }` so we also need the `!important` here to be able to override the default hidden behavior on the sphinx rendered scikit-learn.org. See: https://github.com/scikit-learn/scikit-learn/issues/21755 */display: inline-block !important;position: relative;}#sk-container-id-11 div.sk-text-repr-fallback {display: none;}</style><div id=\"sk-container-id-11\" class=\"sk-top-container\"><div class=\"sk-text-repr-fallback\"><pre>SVR(C=0.1, kernel=&#x27;linear&#x27;)</pre><b>In a Jupyter environment, please rerun this cell to show the HTML representation or trust the notebook. <br />On GitHub, the HTML representation is unable to render, please try loading this page with nbviewer.org.</b></div><div class=\"sk-container\" hidden><div class=\"sk-item\"><div class=\"sk-estimator sk-toggleable\"><input class=\"sk-toggleable__control sk-hidden--visually\" id=\"sk-estimator-id-11\" type=\"checkbox\" checked><label for=\"sk-estimator-id-11\" class=\"sk-toggleable__label sk-toggleable__label-arrow\">SVR</label><div class=\"sk-toggleable__content\"><pre>SVR(C=0.1, kernel=&#x27;linear&#x27;)</pre></div></div></div></div></div>"
            ]
          },
          "metadata": {},
          "execution_count": 128
        }
      ],
      "source": [
        "best_model_linear = SVR(kernel=\"linear\",C=0.1)\n",
        "best_model_linear.fit(X_train,y_train)"
      ]
    },
    {
      "cell_type": "code",
      "execution_count": 129,
      "id": "2573d0be",
      "metadata": {
        "colab": {
          "base_uri": "https://localhost:8080/"
        },
        "id": "2573d0be",
        "outputId": "f7957ec2-b9c8-4686-817b-785eb77f3e3c"
      },
      "outputs": [
        {
          "output_type": "stream",
          "name": "stdout",
          "text": [
            "The mean squared error is 0.0045398655790973574\n",
            "The mean absolute error is 0.056008922512234126\n",
            "The root mean sqaured error is 0.06737852461353956\n",
            "The regression score is 0.9115189034009474\n"
          ]
        }
      ],
      "source": [
        "# best model on validation dataset\n",
        "y_valid_pred = best_model_linear.predict(X_valid)\n",
        "MSE = metrics.mean_squared_error(y_valid_pred, y_valid)\n",
        "MAE =  metrics.mean_absolute_error(y_valid_pred, y_valid)\n",
        "RMSE = MSE**0.5\n",
        "score = metrics.r2_score(y_valid_pred,y_valid)\n",
        "print(f\"The mean squared error is {MSE}\")\n",
        "print(f\"The mean absolute error is {MAE}\")\n",
        "print(f\"The root mean sqaured error is {RMSE}\")\n",
        "print(f\"The regression score is {score}\")"
      ]
    },
    {
      "cell_type": "code",
      "execution_count": 130,
      "id": "77017753",
      "metadata": {
        "colab": {
          "base_uri": "https://localhost:8080/"
        },
        "id": "77017753",
        "outputId": "cd9c4c3d-c9b7-479e-8590-edde86580292"
      },
      "outputs": [
        {
          "output_type": "stream",
          "name": "stdout",
          "text": [
            "The mean squared error is 0.0044182638565932394\n",
            "The mean absolute error is 0.055635170659262795\n",
            "The root mean sqaured error is 0.06647002224005374\n",
            "The regression score is 0.9133189608877845\n"
          ]
        }
      ],
      "source": [
        "# model on test dataset\n",
        "y_test_pred = best_model_linear.predict(X_test)\n",
        "MSE = metrics.mean_squared_error(y_test_pred, y_test)\n",
        "MAE =  metrics.mean_absolute_error(y_test_pred, y_test)\n",
        "r2_score = metrics.r2_score(y_test_pred,y_test)\n",
        "RMSE = MSE**0.5\n",
        "print(f\"The mean squared error is {MSE}\")\n",
        "print(f\"The mean absolute error is {MAE}\")\n",
        "print(f\"The root mean sqaured error is {RMSE}\")\n",
        "print(f\"The regression score is {r2_score}\")\n"
      ]
    },
    {
      "cell_type": "code",
      "source": [
        "from prettytable import PrettyTable\n",
        "\n",
        "# Create a new table object\n",
        "table = PrettyTable()\n",
        "\n",
        "# Add columns to the table\n",
        "table.field_names = [\"Model\", \"Mean Squared Error\", \"Mean Absolute Error\", \"Root Mean Squared Error\", \"Regression Score\"]\n",
        "\n",
        "# Add rows to the table\n",
        "table.add_row([\"SVC with Variable Selection\", 0.004418, 0.055635, 0.066470, 0.913319])\n",
        "table.add_row([\"Linear Regression with Variable Selection\", 0.003082, 0.037054, 0.055514, 0.926997])\n",
        "table.add_row([\"SVC without Variable Selection\", 0.005169, 0.058825, 0.071896, 0.916750])\n",
        "table.add_row([\"Linear Regression without Variable Selection\", 0.003069, 0.036819, 0.055403, 0.927297])\n",
        "\n",
        "# Set the alignment of the columns\n",
        "table.align = \"l\"\n",
        "\n",
        "# Print the table\n",
        "print(table)\n"
      ],
      "metadata": {
        "colab": {
          "base_uri": "https://localhost:8080/"
        },
        "id": "ewCXVAahyNcm",
        "outputId": "98687722-98fc-49cc-8192-c9a4a3e74af4"
      },
      "id": "ewCXVAahyNcm",
      "execution_count": 131,
      "outputs": [
        {
          "output_type": "stream",
          "name": "stdout",
          "text": [
            "+----------------------------------------------+--------------------+---------------------+-------------------------+------------------+\n",
            "| Model                                        | Mean Squared Error | Mean Absolute Error | Root Mean Squared Error | Regression Score |\n",
            "+----------------------------------------------+--------------------+---------------------+-------------------------+------------------+\n",
            "| SVC with Variable Selection                  | 0.004418           | 0.055635            | 0.06647                 | 0.913319         |\n",
            "| Linear Regression with Variable Selection    | 0.003082           | 0.037054            | 0.055514                | 0.926997         |\n",
            "| SVC without Variable Selection               | 0.005169           | 0.058825            | 0.071896                | 0.91675          |\n",
            "| Linear Regression without Variable Selection | 0.003069           | 0.036819            | 0.055403                | 0.927297         |\n",
            "+----------------------------------------------+--------------------+---------------------+-------------------------+------------------+\n"
          ]
        }
      ]
    }
  ],
  "metadata": {
    "kernelspec": {
      "display_name": "Python 3 (ipykernel)",
      "language": "python",
      "name": "python3"
    },
    "language_info": {
      "codemirror_mode": {
        "name": "ipython",
        "version": 3
      },
      "file_extension": ".py",
      "mimetype": "text/x-python",
      "name": "python",
      "nbconvert_exporter": "python",
      "pygments_lexer": "ipython3",
      "version": "3.9.12"
    },
    "colab": {
      "provenance": []
    }
  },
  "nbformat": 4,
  "nbformat_minor": 5
}