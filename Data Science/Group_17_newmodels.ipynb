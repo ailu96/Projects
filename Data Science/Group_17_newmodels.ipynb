{
  "cells": [
    {
      "cell_type": "code",
      "execution_count": 174,
      "id": "26f0973a",
      "metadata": {
        "id": "26f0973a"
      },
      "outputs": [],
      "source": [
        "import numpy as np\n",
        "import pandas as pd\n",
        "import matplotlib.pyplot as plt\n",
        "import seaborn as sns\n",
        "import pickle\n",
        "from sklearn.model_selection import train_test_split\n",
        "from sklearn import metrics"
      ]
    },
    {
      "cell_type": "code",
      "execution_count": 175,
      "id": "6e87dc2b",
      "metadata": {
        "colab": {
          "base_uri": "https://localhost:8080/",
          "height": 444
        },
        "id": "6e87dc2b",
        "outputId": "7fd2f652-d3db-4df0-816c-c0c9f9e1c530"
      },
      "outputs": [
        {
          "output_type": "execute_result",
          "data": {
            "text/plain": [
              "                  date  Usage_kWh  Lagging_Current_Reactive_Power_kVarh  \\\n",
              "0  2018-01-01 00:15:00       3.17                                  2.95   \n",
              "1  2018-01-01 00:30:00       4.00                                  4.46   \n",
              "2  2018-01-01 00:45:00       3.24                                  3.28   \n",
              "3  2018-01-01 01:00:00       3.31                                  3.56   \n",
              "4  2018-01-01 01:15:00       3.82                                  4.50   \n",
              "\n",
              "   Leading_Current_Reactive_Power_kVarh  CO2_tCO2  \\\n",
              "0                                   0.0       0.0   \n",
              "1                                   0.0       0.0   \n",
              "2                                   0.0       0.0   \n",
              "3                                   0.0       0.0   \n",
              "4                                   0.0       0.0   \n",
              "\n",
              "   Lagging_Current_Power_Factor  Leading_Current_Power_Factor   NSM  \\\n",
              "0                         73.21                         100.0   900   \n",
              "1                         66.77                         100.0  1800   \n",
              "2                         70.28                         100.0  2700   \n",
              "3                         68.09                         100.0  3600   \n",
              "4                         64.72                         100.0  4500   \n",
              "\n",
              "   Dummy_Weekend  Dummy_Monday  Dummy_Saturday  Dummy_Sunday  Dummy_Thursday  \\\n",
              "0              0             1               0             0               0   \n",
              "1              0             1               0             0               0   \n",
              "2              0             1               0             0               0   \n",
              "3              0             1               0             0               0   \n",
              "4              0             1               0             0               0   \n",
              "\n",
              "   Dummy_Tuesday  Dummy_Wednesday  Dummy_Maximum_Load  Dummy_Medium_Load  \n",
              "0              0                0                   0                  0  \n",
              "1              0                0                   0                  0  \n",
              "2              0                0                   0                  0  \n",
              "3              0                0                   0                  0  \n",
              "4              0                0                   0                  0  "
            ],
            "text/html": [
              "\n",
              "  <div id=\"df-541e9afc-175b-4bd7-9888-19ba9b583003\">\n",
              "    <div class=\"colab-df-container\">\n",
              "      <div>\n",
              "<style scoped>\n",
              "    .dataframe tbody tr th:only-of-type {\n",
              "        vertical-align: middle;\n",
              "    }\n",
              "\n",
              "    .dataframe tbody tr th {\n",
              "        vertical-align: top;\n",
              "    }\n",
              "\n",
              "    .dataframe thead th {\n",
              "        text-align: right;\n",
              "    }\n",
              "</style>\n",
              "<table border=\"1\" class=\"dataframe\">\n",
              "  <thead>\n",
              "    <tr style=\"text-align: right;\">\n",
              "      <th></th>\n",
              "      <th>date</th>\n",
              "      <th>Usage_kWh</th>\n",
              "      <th>Lagging_Current_Reactive_Power_kVarh</th>\n",
              "      <th>Leading_Current_Reactive_Power_kVarh</th>\n",
              "      <th>CO2_tCO2</th>\n",
              "      <th>Lagging_Current_Power_Factor</th>\n",
              "      <th>Leading_Current_Power_Factor</th>\n",
              "      <th>NSM</th>\n",
              "      <th>Dummy_Weekend</th>\n",
              "      <th>Dummy_Monday</th>\n",
              "      <th>Dummy_Saturday</th>\n",
              "      <th>Dummy_Sunday</th>\n",
              "      <th>Dummy_Thursday</th>\n",
              "      <th>Dummy_Tuesday</th>\n",
              "      <th>Dummy_Wednesday</th>\n",
              "      <th>Dummy_Maximum_Load</th>\n",
              "      <th>Dummy_Medium_Load</th>\n",
              "    </tr>\n",
              "  </thead>\n",
              "  <tbody>\n",
              "    <tr>\n",
              "      <th>0</th>\n",
              "      <td>2018-01-01 00:15:00</td>\n",
              "      <td>3.17</td>\n",
              "      <td>2.95</td>\n",
              "      <td>0.0</td>\n",
              "      <td>0.0</td>\n",
              "      <td>73.21</td>\n",
              "      <td>100.0</td>\n",
              "      <td>900</td>\n",
              "      <td>0</td>\n",
              "      <td>1</td>\n",
              "      <td>0</td>\n",
              "      <td>0</td>\n",
              "      <td>0</td>\n",
              "      <td>0</td>\n",
              "      <td>0</td>\n",
              "      <td>0</td>\n",
              "      <td>0</td>\n",
              "    </tr>\n",
              "    <tr>\n",
              "      <th>1</th>\n",
              "      <td>2018-01-01 00:30:00</td>\n",
              "      <td>4.00</td>\n",
              "      <td>4.46</td>\n",
              "      <td>0.0</td>\n",
              "      <td>0.0</td>\n",
              "      <td>66.77</td>\n",
              "      <td>100.0</td>\n",
              "      <td>1800</td>\n",
              "      <td>0</td>\n",
              "      <td>1</td>\n",
              "      <td>0</td>\n",
              "      <td>0</td>\n",
              "      <td>0</td>\n",
              "      <td>0</td>\n",
              "      <td>0</td>\n",
              "      <td>0</td>\n",
              "      <td>0</td>\n",
              "    </tr>\n",
              "    <tr>\n",
              "      <th>2</th>\n",
              "      <td>2018-01-01 00:45:00</td>\n",
              "      <td>3.24</td>\n",
              "      <td>3.28</td>\n",
              "      <td>0.0</td>\n",
              "      <td>0.0</td>\n",
              "      <td>70.28</td>\n",
              "      <td>100.0</td>\n",
              "      <td>2700</td>\n",
              "      <td>0</td>\n",
              "      <td>1</td>\n",
              "      <td>0</td>\n",
              "      <td>0</td>\n",
              "      <td>0</td>\n",
              "      <td>0</td>\n",
              "      <td>0</td>\n",
              "      <td>0</td>\n",
              "      <td>0</td>\n",
              "    </tr>\n",
              "    <tr>\n",
              "      <th>3</th>\n",
              "      <td>2018-01-01 01:00:00</td>\n",
              "      <td>3.31</td>\n",
              "      <td>3.56</td>\n",
              "      <td>0.0</td>\n",
              "      <td>0.0</td>\n",
              "      <td>68.09</td>\n",
              "      <td>100.0</td>\n",
              "      <td>3600</td>\n",
              "      <td>0</td>\n",
              "      <td>1</td>\n",
              "      <td>0</td>\n",
              "      <td>0</td>\n",
              "      <td>0</td>\n",
              "      <td>0</td>\n",
              "      <td>0</td>\n",
              "      <td>0</td>\n",
              "      <td>0</td>\n",
              "    </tr>\n",
              "    <tr>\n",
              "      <th>4</th>\n",
              "      <td>2018-01-01 01:15:00</td>\n",
              "      <td>3.82</td>\n",
              "      <td>4.50</td>\n",
              "      <td>0.0</td>\n",
              "      <td>0.0</td>\n",
              "      <td>64.72</td>\n",
              "      <td>100.0</td>\n",
              "      <td>4500</td>\n",
              "      <td>0</td>\n",
              "      <td>1</td>\n",
              "      <td>0</td>\n",
              "      <td>0</td>\n",
              "      <td>0</td>\n",
              "      <td>0</td>\n",
              "      <td>0</td>\n",
              "      <td>0</td>\n",
              "      <td>0</td>\n",
              "    </tr>\n",
              "  </tbody>\n",
              "</table>\n",
              "</div>\n",
              "      <button class=\"colab-df-convert\" onclick=\"convertToInteractive('df-541e9afc-175b-4bd7-9888-19ba9b583003')\"\n",
              "              title=\"Convert this dataframe to an interactive table.\"\n",
              "              style=\"display:none;\">\n",
              "        \n",
              "  <svg xmlns=\"http://www.w3.org/2000/svg\" height=\"24px\"viewBox=\"0 0 24 24\"\n",
              "       width=\"24px\">\n",
              "    <path d=\"M0 0h24v24H0V0z\" fill=\"none\"/>\n",
              "    <path d=\"M18.56 5.44l.94 2.06.94-2.06 2.06-.94-2.06-.94-.94-2.06-.94 2.06-2.06.94zm-11 1L8.5 8.5l.94-2.06 2.06-.94-2.06-.94L8.5 2.5l-.94 2.06-2.06.94zm10 10l.94 2.06.94-2.06 2.06-.94-2.06-.94-.94-2.06-.94 2.06-2.06.94z\"/><path d=\"M17.41 7.96l-1.37-1.37c-.4-.4-.92-.59-1.43-.59-.52 0-1.04.2-1.43.59L10.3 9.45l-7.72 7.72c-.78.78-.78 2.05 0 2.83L4 21.41c.39.39.9.59 1.41.59.51 0 1.02-.2 1.41-.59l7.78-7.78 2.81-2.81c.8-.78.8-2.07 0-2.86zM5.41 20L4 18.59l7.72-7.72 1.47 1.35L5.41 20z\"/>\n",
              "  </svg>\n",
              "      </button>\n",
              "      \n",
              "  <style>\n",
              "    .colab-df-container {\n",
              "      display:flex;\n",
              "      flex-wrap:wrap;\n",
              "      gap: 12px;\n",
              "    }\n",
              "\n",
              "    .colab-df-convert {\n",
              "      background-color: #E8F0FE;\n",
              "      border: none;\n",
              "      border-radius: 50%;\n",
              "      cursor: pointer;\n",
              "      display: none;\n",
              "      fill: #1967D2;\n",
              "      height: 32px;\n",
              "      padding: 0 0 0 0;\n",
              "      width: 32px;\n",
              "    }\n",
              "\n",
              "    .colab-df-convert:hover {\n",
              "      background-color: #E2EBFA;\n",
              "      box-shadow: 0px 1px 2px rgba(60, 64, 67, 0.3), 0px 1px 3px 1px rgba(60, 64, 67, 0.15);\n",
              "      fill: #174EA6;\n",
              "    }\n",
              "\n",
              "    [theme=dark] .colab-df-convert {\n",
              "      background-color: #3B4455;\n",
              "      fill: #D2E3FC;\n",
              "    }\n",
              "\n",
              "    [theme=dark] .colab-df-convert:hover {\n",
              "      background-color: #434B5C;\n",
              "      box-shadow: 0px 1px 3px 1px rgba(0, 0, 0, 0.15);\n",
              "      filter: drop-shadow(0px 1px 2px rgba(0, 0, 0, 0.3));\n",
              "      fill: #FFFFFF;\n",
              "    }\n",
              "  </style>\n",
              "\n",
              "      <script>\n",
              "        const buttonEl =\n",
              "          document.querySelector('#df-541e9afc-175b-4bd7-9888-19ba9b583003 button.colab-df-convert');\n",
              "        buttonEl.style.display =\n",
              "          google.colab.kernel.accessAllowed ? 'block' : 'none';\n",
              "\n",
              "        async function convertToInteractive(key) {\n",
              "          const element = document.querySelector('#df-541e9afc-175b-4bd7-9888-19ba9b583003');\n",
              "          const dataTable =\n",
              "            await google.colab.kernel.invokeFunction('convertToInteractive',\n",
              "                                                     [key], {});\n",
              "          if (!dataTable) return;\n",
              "\n",
              "          const docLinkHtml = 'Like what you see? Visit the ' +\n",
              "            '<a target=\"_blank\" href=https://colab.research.google.com/notebooks/data_table.ipynb>data table notebook</a>'\n",
              "            + ' to learn more about interactive tables.';\n",
              "          element.innerHTML = '';\n",
              "          dataTable['output_type'] = 'display_data';\n",
              "          await google.colab.output.renderOutput(dataTable, element);\n",
              "          const docLink = document.createElement('div');\n",
              "          docLink.innerHTML = docLinkHtml;\n",
              "          element.appendChild(docLink);\n",
              "        }\n",
              "      </script>\n",
              "    </div>\n",
              "  </div>\n",
              "  "
            ]
          },
          "metadata": {},
          "execution_count": 175
        }
      ],
      "source": [
        "#reading the prepared dataset for the machine learning model\n",
        "df = pd.read_csv('Group_17_data_cleaned.csv')\n",
        "df.head()"
      ]
    },
    {
      "cell_type": "code",
      "execution_count": 136,
      "id": "c817730a",
      "metadata": {
        "colab": {
          "base_uri": "https://localhost:8080/",
          "height": 444
        },
        "id": "c817730a",
        "outputId": "e1d1b62f-2bec-4484-d981-5820d420a8df"
      },
      "outputs": [
        {
          "output_type": "execute_result",
          "data": {
            "text/plain": [
              "                  date  Usage_kWh  Lagging_Current_Reactive_Power_kVarh  \\\n",
              "0  2018-01-01 00:15:00       3.17                                  2.95   \n",
              "1  2018-01-01 00:30:00       4.00                                  4.46   \n",
              "2  2018-01-01 00:45:00       3.24                                  3.28   \n",
              "3  2018-01-01 01:00:00       3.31                                  3.56   \n",
              "4  2018-01-01 01:15:00       3.82                                  4.50   \n",
              "\n",
              "   Leading_Current_Reactive_Power_kVarh  CO2_tCO2  \\\n",
              "0                                   0.0       0.0   \n",
              "1                                   0.0       0.0   \n",
              "2                                   0.0       0.0   \n",
              "3                                   0.0       0.0   \n",
              "4                                   0.0       0.0   \n",
              "\n",
              "   Lagging_Current_Power_Factor  Leading_Current_Power_Factor   NSM  \\\n",
              "0                         73.21                         100.0   900   \n",
              "1                         66.77                         100.0  1800   \n",
              "2                         70.28                         100.0  2700   \n",
              "3                         68.09                         100.0  3600   \n",
              "4                         64.72                         100.0  4500   \n",
              "\n",
              "   Dummy_Weekend  Dummy_Monday  Dummy_Saturday  Dummy_Sunday  Dummy_Thursday  \\\n",
              "0              0             1               0             0               0   \n",
              "1              0             1               0             0               0   \n",
              "2              0             1               0             0               0   \n",
              "3              0             1               0             0               0   \n",
              "4              0             1               0             0               0   \n",
              "\n",
              "   Dummy_Tuesday  Dummy_Wednesday  Dummy_Maximum_Load  Dummy_Medium_Load  \n",
              "0              0                0                   0                  0  \n",
              "1              0                0                   0                  0  \n",
              "2              0                0                   0                  0  \n",
              "3              0                0                   0                  0  \n",
              "4              0                0                   0                  0  "
            ],
            "text/html": [
              "\n",
              "  <div id=\"df-d5dbeb5f-b5ba-49ba-99a4-dc8839551638\">\n",
              "    <div class=\"colab-df-container\">\n",
              "      <div>\n",
              "<style scoped>\n",
              "    .dataframe tbody tr th:only-of-type {\n",
              "        vertical-align: middle;\n",
              "    }\n",
              "\n",
              "    .dataframe tbody tr th {\n",
              "        vertical-align: top;\n",
              "    }\n",
              "\n",
              "    .dataframe thead th {\n",
              "        text-align: right;\n",
              "    }\n",
              "</style>\n",
              "<table border=\"1\" class=\"dataframe\">\n",
              "  <thead>\n",
              "    <tr style=\"text-align: right;\">\n",
              "      <th></th>\n",
              "      <th>date</th>\n",
              "      <th>Usage_kWh</th>\n",
              "      <th>Lagging_Current_Reactive_Power_kVarh</th>\n",
              "      <th>Leading_Current_Reactive_Power_kVarh</th>\n",
              "      <th>CO2_tCO2</th>\n",
              "      <th>Lagging_Current_Power_Factor</th>\n",
              "      <th>Leading_Current_Power_Factor</th>\n",
              "      <th>NSM</th>\n",
              "      <th>Dummy_Weekend</th>\n",
              "      <th>Dummy_Monday</th>\n",
              "      <th>Dummy_Saturday</th>\n",
              "      <th>Dummy_Sunday</th>\n",
              "      <th>Dummy_Thursday</th>\n",
              "      <th>Dummy_Tuesday</th>\n",
              "      <th>Dummy_Wednesday</th>\n",
              "      <th>Dummy_Maximum_Load</th>\n",
              "      <th>Dummy_Medium_Load</th>\n",
              "    </tr>\n",
              "  </thead>\n",
              "  <tbody>\n",
              "    <tr>\n",
              "      <th>0</th>\n",
              "      <td>2018-01-01 00:15:00</td>\n",
              "      <td>3.17</td>\n",
              "      <td>2.95</td>\n",
              "      <td>0.0</td>\n",
              "      <td>0.0</td>\n",
              "      <td>73.21</td>\n",
              "      <td>100.0</td>\n",
              "      <td>900</td>\n",
              "      <td>0</td>\n",
              "      <td>1</td>\n",
              "      <td>0</td>\n",
              "      <td>0</td>\n",
              "      <td>0</td>\n",
              "      <td>0</td>\n",
              "      <td>0</td>\n",
              "      <td>0</td>\n",
              "      <td>0</td>\n",
              "    </tr>\n",
              "    <tr>\n",
              "      <th>1</th>\n",
              "      <td>2018-01-01 00:30:00</td>\n",
              "      <td>4.00</td>\n",
              "      <td>4.46</td>\n",
              "      <td>0.0</td>\n",
              "      <td>0.0</td>\n",
              "      <td>66.77</td>\n",
              "      <td>100.0</td>\n",
              "      <td>1800</td>\n",
              "      <td>0</td>\n",
              "      <td>1</td>\n",
              "      <td>0</td>\n",
              "      <td>0</td>\n",
              "      <td>0</td>\n",
              "      <td>0</td>\n",
              "      <td>0</td>\n",
              "      <td>0</td>\n",
              "      <td>0</td>\n",
              "    </tr>\n",
              "    <tr>\n",
              "      <th>2</th>\n",
              "      <td>2018-01-01 00:45:00</td>\n",
              "      <td>3.24</td>\n",
              "      <td>3.28</td>\n",
              "      <td>0.0</td>\n",
              "      <td>0.0</td>\n",
              "      <td>70.28</td>\n",
              "      <td>100.0</td>\n",
              "      <td>2700</td>\n",
              "      <td>0</td>\n",
              "      <td>1</td>\n",
              "      <td>0</td>\n",
              "      <td>0</td>\n",
              "      <td>0</td>\n",
              "      <td>0</td>\n",
              "      <td>0</td>\n",
              "      <td>0</td>\n",
              "      <td>0</td>\n",
              "    </tr>\n",
              "    <tr>\n",
              "      <th>3</th>\n",
              "      <td>2018-01-01 01:00:00</td>\n",
              "      <td>3.31</td>\n",
              "      <td>3.56</td>\n",
              "      <td>0.0</td>\n",
              "      <td>0.0</td>\n",
              "      <td>68.09</td>\n",
              "      <td>100.0</td>\n",
              "      <td>3600</td>\n",
              "      <td>0</td>\n",
              "      <td>1</td>\n",
              "      <td>0</td>\n",
              "      <td>0</td>\n",
              "      <td>0</td>\n",
              "      <td>0</td>\n",
              "      <td>0</td>\n",
              "      <td>0</td>\n",
              "      <td>0</td>\n",
              "    </tr>\n",
              "    <tr>\n",
              "      <th>4</th>\n",
              "      <td>2018-01-01 01:15:00</td>\n",
              "      <td>3.82</td>\n",
              "      <td>4.50</td>\n",
              "      <td>0.0</td>\n",
              "      <td>0.0</td>\n",
              "      <td>64.72</td>\n",
              "      <td>100.0</td>\n",
              "      <td>4500</td>\n",
              "      <td>0</td>\n",
              "      <td>1</td>\n",
              "      <td>0</td>\n",
              "      <td>0</td>\n",
              "      <td>0</td>\n",
              "      <td>0</td>\n",
              "      <td>0</td>\n",
              "      <td>0</td>\n",
              "      <td>0</td>\n",
              "    </tr>\n",
              "  </tbody>\n",
              "</table>\n",
              "</div>\n",
              "      <button class=\"colab-df-convert\" onclick=\"convertToInteractive('df-d5dbeb5f-b5ba-49ba-99a4-dc8839551638')\"\n",
              "              title=\"Convert this dataframe to an interactive table.\"\n",
              "              style=\"display:none;\">\n",
              "        \n",
              "  <svg xmlns=\"http://www.w3.org/2000/svg\" height=\"24px\"viewBox=\"0 0 24 24\"\n",
              "       width=\"24px\">\n",
              "    <path d=\"M0 0h24v24H0V0z\" fill=\"none\"/>\n",
              "    <path d=\"M18.56 5.44l.94 2.06.94-2.06 2.06-.94-2.06-.94-.94-2.06-.94 2.06-2.06.94zm-11 1L8.5 8.5l.94-2.06 2.06-.94-2.06-.94L8.5 2.5l-.94 2.06-2.06.94zm10 10l.94 2.06.94-2.06 2.06-.94-2.06-.94-.94-2.06-.94 2.06-2.06.94z\"/><path d=\"M17.41 7.96l-1.37-1.37c-.4-.4-.92-.59-1.43-.59-.52 0-1.04.2-1.43.59L10.3 9.45l-7.72 7.72c-.78.78-.78 2.05 0 2.83L4 21.41c.39.39.9.59 1.41.59.51 0 1.02-.2 1.41-.59l7.78-7.78 2.81-2.81c.8-.78.8-2.07 0-2.86zM5.41 20L4 18.59l7.72-7.72 1.47 1.35L5.41 20z\"/>\n",
              "  </svg>\n",
              "      </button>\n",
              "      \n",
              "  <style>\n",
              "    .colab-df-container {\n",
              "      display:flex;\n",
              "      flex-wrap:wrap;\n",
              "      gap: 12px;\n",
              "    }\n",
              "\n",
              "    .colab-df-convert {\n",
              "      background-color: #E8F0FE;\n",
              "      border: none;\n",
              "      border-radius: 50%;\n",
              "      cursor: pointer;\n",
              "      display: none;\n",
              "      fill: #1967D2;\n",
              "      height: 32px;\n",
              "      padding: 0 0 0 0;\n",
              "      width: 32px;\n",
              "    }\n",
              "\n",
              "    .colab-df-convert:hover {\n",
              "      background-color: #E2EBFA;\n",
              "      box-shadow: 0px 1px 2px rgba(60, 64, 67, 0.3), 0px 1px 3px 1px rgba(60, 64, 67, 0.15);\n",
              "      fill: #174EA6;\n",
              "    }\n",
              "\n",
              "    [theme=dark] .colab-df-convert {\n",
              "      background-color: #3B4455;\n",
              "      fill: #D2E3FC;\n",
              "    }\n",
              "\n",
              "    [theme=dark] .colab-df-convert:hover {\n",
              "      background-color: #434B5C;\n",
              "      box-shadow: 0px 1px 3px 1px rgba(0, 0, 0, 0.15);\n",
              "      filter: drop-shadow(0px 1px 2px rgba(0, 0, 0, 0.3));\n",
              "      fill: #FFFFFF;\n",
              "    }\n",
              "  </style>\n",
              "\n",
              "      <script>\n",
              "        const buttonEl =\n",
              "          document.querySelector('#df-d5dbeb5f-b5ba-49ba-99a4-dc8839551638 button.colab-df-convert');\n",
              "        buttonEl.style.display =\n",
              "          google.colab.kernel.accessAllowed ? 'block' : 'none';\n",
              "\n",
              "        async function convertToInteractive(key) {\n",
              "          const element = document.querySelector('#df-d5dbeb5f-b5ba-49ba-99a4-dc8839551638');\n",
              "          const dataTable =\n",
              "            await google.colab.kernel.invokeFunction('convertToInteractive',\n",
              "                                                     [key], {});\n",
              "          if (!dataTable) return;\n",
              "\n",
              "          const docLinkHtml = 'Like what you see? Visit the ' +\n",
              "            '<a target=\"_blank\" href=https://colab.research.google.com/notebooks/data_table.ipynb>data table notebook</a>'\n",
              "            + ' to learn more about interactive tables.';\n",
              "          element.innerHTML = '';\n",
              "          dataTable['output_type'] = 'display_data';\n",
              "          await google.colab.output.renderOutput(dataTable, element);\n",
              "          const docLink = document.createElement('div');\n",
              "          docLink.innerHTML = docLinkHtml;\n",
              "          element.appendChild(docLink);\n",
              "        }\n",
              "      </script>\n",
              "    </div>\n",
              "  </div>\n",
              "  "
            ]
          },
          "metadata": {},
          "execution_count": 136
        }
      ],
      "source": [
        "df = df.dropna(axis=0)\n",
        "df.head()"
      ]
    },
    {
      "cell_type": "code",
      "execution_count": 137,
      "id": "b13e8886",
      "metadata": {
        "colab": {
          "base_uri": "https://localhost:8080/"
        },
        "id": "b13e8886",
        "outputId": "e0415abf-1c0e-4dac-af84-ef4d5fe0b04a"
      },
      "outputs": [
        {
          "output_type": "execute_result",
          "data": {
            "text/plain": [
              "Index(['date', 'Usage_kWh', 'Lagging_Current_Reactive_Power_kVarh',\n",
              "       'Leading_Current_Reactive_Power_kVarh', 'CO2_tCO2',\n",
              "       'Lagging_Current_Power_Factor', 'Leading_Current_Power_Factor', 'NSM',\n",
              "       'Dummy_Weekend', 'Dummy_Monday', 'Dummy_Saturday', 'Dummy_Sunday',\n",
              "       'Dummy_Thursday', 'Dummy_Tuesday', 'Dummy_Wednesday',\n",
              "       'Dummy_Maximum_Load', 'Dummy_Medium_Load'],\n",
              "      dtype='object')"
            ]
          },
          "metadata": {},
          "execution_count": 137
        }
      ],
      "source": [
        "df.columns"
      ]
    },
    {
      "cell_type": "code",
      "execution_count": 176,
      "id": "0083a594",
      "metadata": {
        "id": "0083a594"
      },
      "outputs": [],
      "source": [
        "df[\"date\"]= pd.to_datetime(df[\"date\"])"
      ]
    },
    {
      "cell_type": "code",
      "execution_count": 139,
      "id": "5492747d",
      "metadata": {
        "colab": {
          "base_uri": "https://localhost:8080/",
          "height": 444
        },
        "id": "5492747d",
        "outputId": "b0c65e4e-e765-452c-b289-547a80f6081a"
      },
      "outputs": [
        {
          "output_type": "execute_result",
          "data": {
            "text/plain": [
              "                 date  Usage_kWh  Lagging_Current_Reactive_Power_kVarh  \\\n",
              "0 2018-01-01 00:15:00       3.17                                  2.95   \n",
              "1 2018-01-01 00:30:00       4.00                                  4.46   \n",
              "2 2018-01-01 00:45:00       3.24                                  3.28   \n",
              "3 2018-01-01 01:00:00       3.31                                  3.56   \n",
              "4 2018-01-01 01:15:00       3.82                                  4.50   \n",
              "\n",
              "   Leading_Current_Reactive_Power_kVarh  CO2_tCO2  \\\n",
              "0                                   0.0       0.0   \n",
              "1                                   0.0       0.0   \n",
              "2                                   0.0       0.0   \n",
              "3                                   0.0       0.0   \n",
              "4                                   0.0       0.0   \n",
              "\n",
              "   Lagging_Current_Power_Factor  Leading_Current_Power_Factor   NSM  \\\n",
              "0                         73.21                         100.0   900   \n",
              "1                         66.77                         100.0  1800   \n",
              "2                         70.28                         100.0  2700   \n",
              "3                         68.09                         100.0  3600   \n",
              "4                         64.72                         100.0  4500   \n",
              "\n",
              "   Dummy_Weekend  Dummy_Monday  Dummy_Saturday  Dummy_Sunday  Dummy_Thursday  \\\n",
              "0              0             1               0             0               0   \n",
              "1              0             1               0             0               0   \n",
              "2              0             1               0             0               0   \n",
              "3              0             1               0             0               0   \n",
              "4              0             1               0             0               0   \n",
              "\n",
              "   Dummy_Tuesday  Dummy_Wednesday  Dummy_Maximum_Load  Dummy_Medium_Load  \n",
              "0              0                0                   0                  0  \n",
              "1              0                0                   0                  0  \n",
              "2              0                0                   0                  0  \n",
              "3              0                0                   0                  0  \n",
              "4              0                0                   0                  0  "
            ],
            "text/html": [
              "\n",
              "  <div id=\"df-ffca16f3-a517-4917-8ea5-9f7a286e0833\">\n",
              "    <div class=\"colab-df-container\">\n",
              "      <div>\n",
              "<style scoped>\n",
              "    .dataframe tbody tr th:only-of-type {\n",
              "        vertical-align: middle;\n",
              "    }\n",
              "\n",
              "    .dataframe tbody tr th {\n",
              "        vertical-align: top;\n",
              "    }\n",
              "\n",
              "    .dataframe thead th {\n",
              "        text-align: right;\n",
              "    }\n",
              "</style>\n",
              "<table border=\"1\" class=\"dataframe\">\n",
              "  <thead>\n",
              "    <tr style=\"text-align: right;\">\n",
              "      <th></th>\n",
              "      <th>date</th>\n",
              "      <th>Usage_kWh</th>\n",
              "      <th>Lagging_Current_Reactive_Power_kVarh</th>\n",
              "      <th>Leading_Current_Reactive_Power_kVarh</th>\n",
              "      <th>CO2_tCO2</th>\n",
              "      <th>Lagging_Current_Power_Factor</th>\n",
              "      <th>Leading_Current_Power_Factor</th>\n",
              "      <th>NSM</th>\n",
              "      <th>Dummy_Weekend</th>\n",
              "      <th>Dummy_Monday</th>\n",
              "      <th>Dummy_Saturday</th>\n",
              "      <th>Dummy_Sunday</th>\n",
              "      <th>Dummy_Thursday</th>\n",
              "      <th>Dummy_Tuesday</th>\n",
              "      <th>Dummy_Wednesday</th>\n",
              "      <th>Dummy_Maximum_Load</th>\n",
              "      <th>Dummy_Medium_Load</th>\n",
              "    </tr>\n",
              "  </thead>\n",
              "  <tbody>\n",
              "    <tr>\n",
              "      <th>0</th>\n",
              "      <td>2018-01-01 00:15:00</td>\n",
              "      <td>3.17</td>\n",
              "      <td>2.95</td>\n",
              "      <td>0.0</td>\n",
              "      <td>0.0</td>\n",
              "      <td>73.21</td>\n",
              "      <td>100.0</td>\n",
              "      <td>900</td>\n",
              "      <td>0</td>\n",
              "      <td>1</td>\n",
              "      <td>0</td>\n",
              "      <td>0</td>\n",
              "      <td>0</td>\n",
              "      <td>0</td>\n",
              "      <td>0</td>\n",
              "      <td>0</td>\n",
              "      <td>0</td>\n",
              "    </tr>\n",
              "    <tr>\n",
              "      <th>1</th>\n",
              "      <td>2018-01-01 00:30:00</td>\n",
              "      <td>4.00</td>\n",
              "      <td>4.46</td>\n",
              "      <td>0.0</td>\n",
              "      <td>0.0</td>\n",
              "      <td>66.77</td>\n",
              "      <td>100.0</td>\n",
              "      <td>1800</td>\n",
              "      <td>0</td>\n",
              "      <td>1</td>\n",
              "      <td>0</td>\n",
              "      <td>0</td>\n",
              "      <td>0</td>\n",
              "      <td>0</td>\n",
              "      <td>0</td>\n",
              "      <td>0</td>\n",
              "      <td>0</td>\n",
              "    </tr>\n",
              "    <tr>\n",
              "      <th>2</th>\n",
              "      <td>2018-01-01 00:45:00</td>\n",
              "      <td>3.24</td>\n",
              "      <td>3.28</td>\n",
              "      <td>0.0</td>\n",
              "      <td>0.0</td>\n",
              "      <td>70.28</td>\n",
              "      <td>100.0</td>\n",
              "      <td>2700</td>\n",
              "      <td>0</td>\n",
              "      <td>1</td>\n",
              "      <td>0</td>\n",
              "      <td>0</td>\n",
              "      <td>0</td>\n",
              "      <td>0</td>\n",
              "      <td>0</td>\n",
              "      <td>0</td>\n",
              "      <td>0</td>\n",
              "    </tr>\n",
              "    <tr>\n",
              "      <th>3</th>\n",
              "      <td>2018-01-01 01:00:00</td>\n",
              "      <td>3.31</td>\n",
              "      <td>3.56</td>\n",
              "      <td>0.0</td>\n",
              "      <td>0.0</td>\n",
              "      <td>68.09</td>\n",
              "      <td>100.0</td>\n",
              "      <td>3600</td>\n",
              "      <td>0</td>\n",
              "      <td>1</td>\n",
              "      <td>0</td>\n",
              "      <td>0</td>\n",
              "      <td>0</td>\n",
              "      <td>0</td>\n",
              "      <td>0</td>\n",
              "      <td>0</td>\n",
              "      <td>0</td>\n",
              "    </tr>\n",
              "    <tr>\n",
              "      <th>4</th>\n",
              "      <td>2018-01-01 01:15:00</td>\n",
              "      <td>3.82</td>\n",
              "      <td>4.50</td>\n",
              "      <td>0.0</td>\n",
              "      <td>0.0</td>\n",
              "      <td>64.72</td>\n",
              "      <td>100.0</td>\n",
              "      <td>4500</td>\n",
              "      <td>0</td>\n",
              "      <td>1</td>\n",
              "      <td>0</td>\n",
              "      <td>0</td>\n",
              "      <td>0</td>\n",
              "      <td>0</td>\n",
              "      <td>0</td>\n",
              "      <td>0</td>\n",
              "      <td>0</td>\n",
              "    </tr>\n",
              "  </tbody>\n",
              "</table>\n",
              "</div>\n",
              "      <button class=\"colab-df-convert\" onclick=\"convertToInteractive('df-ffca16f3-a517-4917-8ea5-9f7a286e0833')\"\n",
              "              title=\"Convert this dataframe to an interactive table.\"\n",
              "              style=\"display:none;\">\n",
              "        \n",
              "  <svg xmlns=\"http://www.w3.org/2000/svg\" height=\"24px\"viewBox=\"0 0 24 24\"\n",
              "       width=\"24px\">\n",
              "    <path d=\"M0 0h24v24H0V0z\" fill=\"none\"/>\n",
              "    <path d=\"M18.56 5.44l.94 2.06.94-2.06 2.06-.94-2.06-.94-.94-2.06-.94 2.06-2.06.94zm-11 1L8.5 8.5l.94-2.06 2.06-.94-2.06-.94L8.5 2.5l-.94 2.06-2.06.94zm10 10l.94 2.06.94-2.06 2.06-.94-2.06-.94-.94-2.06-.94 2.06-2.06.94z\"/><path d=\"M17.41 7.96l-1.37-1.37c-.4-.4-.92-.59-1.43-.59-.52 0-1.04.2-1.43.59L10.3 9.45l-7.72 7.72c-.78.78-.78 2.05 0 2.83L4 21.41c.39.39.9.59 1.41.59.51 0 1.02-.2 1.41-.59l7.78-7.78 2.81-2.81c.8-.78.8-2.07 0-2.86zM5.41 20L4 18.59l7.72-7.72 1.47 1.35L5.41 20z\"/>\n",
              "  </svg>\n",
              "      </button>\n",
              "      \n",
              "  <style>\n",
              "    .colab-df-container {\n",
              "      display:flex;\n",
              "      flex-wrap:wrap;\n",
              "      gap: 12px;\n",
              "    }\n",
              "\n",
              "    .colab-df-convert {\n",
              "      background-color: #E8F0FE;\n",
              "      border: none;\n",
              "      border-radius: 50%;\n",
              "      cursor: pointer;\n",
              "      display: none;\n",
              "      fill: #1967D2;\n",
              "      height: 32px;\n",
              "      padding: 0 0 0 0;\n",
              "      width: 32px;\n",
              "    }\n",
              "\n",
              "    .colab-df-convert:hover {\n",
              "      background-color: #E2EBFA;\n",
              "      box-shadow: 0px 1px 2px rgba(60, 64, 67, 0.3), 0px 1px 3px 1px rgba(60, 64, 67, 0.15);\n",
              "      fill: #174EA6;\n",
              "    }\n",
              "\n",
              "    [theme=dark] .colab-df-convert {\n",
              "      background-color: #3B4455;\n",
              "      fill: #D2E3FC;\n",
              "    }\n",
              "\n",
              "    [theme=dark] .colab-df-convert:hover {\n",
              "      background-color: #434B5C;\n",
              "      box-shadow: 0px 1px 3px 1px rgba(0, 0, 0, 0.15);\n",
              "      filter: drop-shadow(0px 1px 2px rgba(0, 0, 0, 0.3));\n",
              "      fill: #FFFFFF;\n",
              "    }\n",
              "  </style>\n",
              "\n",
              "      <script>\n",
              "        const buttonEl =\n",
              "          document.querySelector('#df-ffca16f3-a517-4917-8ea5-9f7a286e0833 button.colab-df-convert');\n",
              "        buttonEl.style.display =\n",
              "          google.colab.kernel.accessAllowed ? 'block' : 'none';\n",
              "\n",
              "        async function convertToInteractive(key) {\n",
              "          const element = document.querySelector('#df-ffca16f3-a517-4917-8ea5-9f7a286e0833');\n",
              "          const dataTable =\n",
              "            await google.colab.kernel.invokeFunction('convertToInteractive',\n",
              "                                                     [key], {});\n",
              "          if (!dataTable) return;\n",
              "\n",
              "          const docLinkHtml = 'Like what you see? Visit the ' +\n",
              "            '<a target=\"_blank\" href=https://colab.research.google.com/notebooks/data_table.ipynb>data table notebook</a>'\n",
              "            + ' to learn more about interactive tables.';\n",
              "          element.innerHTML = '';\n",
              "          dataTable['output_type'] = 'display_data';\n",
              "          await google.colab.output.renderOutput(dataTable, element);\n",
              "          const docLink = document.createElement('div');\n",
              "          docLink.innerHTML = docLinkHtml;\n",
              "          element.appendChild(docLink);\n",
              "        }\n",
              "      </script>\n",
              "    </div>\n",
              "  </div>\n",
              "  "
            ]
          },
          "metadata": {},
          "execution_count": 139
        }
      ],
      "source": [
        "df.head()"
      ]
    },
    {
      "cell_type": "code",
      "execution_count": 177,
      "id": "dcc58b34",
      "metadata": {
        "id": "dcc58b34"
      },
      "outputs": [],
      "source": [
        "df = df.rename(columns = {'CO2(tCO2)' : 'CO2_tCO2','Lagging_Current_Reactive.Power_kVarh' : 'Lagging_Current_Reactive_Power_kVarh'})"
      ]
    },
    {
      "cell_type": "code",
      "execution_count": 141,
      "id": "1d6a266f",
      "metadata": {
        "colab": {
          "base_uri": "https://localhost:8080/",
          "height": 834
        },
        "id": "1d6a266f",
        "outputId": "4db0e854-dd16-4e6b-de8c-c785d1564da5"
      },
      "outputs": [
        {
          "output_type": "execute_result",
          "data": {
            "text/plain": [
              "                    date  Usage_kWh  Lagging_Current_Reactive_Power_kVarh  \\\n",
              "0    2018-01-01 00:15:00       3.17                                  2.95   \n",
              "1    2018-01-01 00:30:00       4.00                                  4.46   \n",
              "2    2018-01-01 00:45:00       3.24                                  3.28   \n",
              "3    2018-01-01 01:00:00       3.31                                  3.56   \n",
              "4    2018-01-01 01:15:00       3.82                                  4.50   \n",
              "...                  ...        ...                                   ...   \n",
              "9995 2018-04-15 03:00:00       3.20                                  3.85   \n",
              "9996 2018-04-15 03:15:00       3.13                                  3.92   \n",
              "9997 2018-04-15 03:30:00       3.13                                  3.96   \n",
              "9998 2018-04-15 03:45:00       3.13                                  4.00   \n",
              "9999 2018-04-15 04:00:00       3.13                                  4.10   \n",
              "\n",
              "      Leading_Current_Reactive_Power_kVarh  CO2_tCO2  \\\n",
              "0                                      0.0       0.0   \n",
              "1                                      0.0       0.0   \n",
              "2                                      0.0       0.0   \n",
              "3                                      0.0       0.0   \n",
              "4                                      0.0       0.0   \n",
              "...                                    ...       ...   \n",
              "9995                                   0.0       0.0   \n",
              "9996                                   0.0       0.0   \n",
              "9997                                   0.0       0.0   \n",
              "9998                                   0.0       0.0   \n",
              "9999                                   0.0       0.0   \n",
              "\n",
              "      Lagging_Current_Power_Factor  Leading_Current_Power_Factor    NSM  \\\n",
              "0                            73.21                         100.0    900   \n",
              "1                            66.77                         100.0   1800   \n",
              "2                            70.28                         100.0   2700   \n",
              "3                            68.09                         100.0   3600   \n",
              "4                            64.72                         100.0   4500   \n",
              "...                            ...                           ...    ...   \n",
              "9995                         63.92                         100.0  10800   \n",
              "9996                         62.40                         100.0  11700   \n",
              "9997                         62.01                         100.0  12600   \n",
              "9998                         61.63                         100.0  13500   \n",
              "9999                         60.68                         100.0  14400   \n",
              "\n",
              "      Dummy_Weekend  Dummy_Monday  Dummy_Saturday  Dummy_Sunday  \\\n",
              "0                 0             1               0             0   \n",
              "1                 0             1               0             0   \n",
              "2                 0             1               0             0   \n",
              "3                 0             1               0             0   \n",
              "4                 0             1               0             0   \n",
              "...             ...           ...             ...           ...   \n",
              "9995              1             0               0             1   \n",
              "9996              1             0               0             1   \n",
              "9997              1             0               0             1   \n",
              "9998              1             0               0             1   \n",
              "9999              1             0               0             1   \n",
              "\n",
              "      Dummy_Thursday  Dummy_Tuesday  Dummy_Wednesday  Dummy_Maximum_Load  \\\n",
              "0                  0              0                0                   0   \n",
              "1                  0              0                0                   0   \n",
              "2                  0              0                0                   0   \n",
              "3                  0              0                0                   0   \n",
              "4                  0              0                0                   0   \n",
              "...              ...            ...              ...                 ...   \n",
              "9995               0              0                0                   0   \n",
              "9996               0              0                0                   0   \n",
              "9997               0              0                0                   0   \n",
              "9998               0              0                0                   0   \n",
              "9999               0              0                0                   0   \n",
              "\n",
              "      Dummy_Medium_Load  \n",
              "0                     0  \n",
              "1                     0  \n",
              "2                     0  \n",
              "3                     0  \n",
              "4                     0  \n",
              "...                 ...  \n",
              "9995                  0  \n",
              "9996                  0  \n",
              "9997                  0  \n",
              "9998                  0  \n",
              "9999                  0  \n",
              "\n",
              "[10000 rows x 17 columns]"
            ],
            "text/html": [
              "\n",
              "  <div id=\"df-62bc0362-5e81-4f5c-8e74-258e5bcbe034\">\n",
              "    <div class=\"colab-df-container\">\n",
              "      <div>\n",
              "<style scoped>\n",
              "    .dataframe tbody tr th:only-of-type {\n",
              "        vertical-align: middle;\n",
              "    }\n",
              "\n",
              "    .dataframe tbody tr th {\n",
              "        vertical-align: top;\n",
              "    }\n",
              "\n",
              "    .dataframe thead th {\n",
              "        text-align: right;\n",
              "    }\n",
              "</style>\n",
              "<table border=\"1\" class=\"dataframe\">\n",
              "  <thead>\n",
              "    <tr style=\"text-align: right;\">\n",
              "      <th></th>\n",
              "      <th>date</th>\n",
              "      <th>Usage_kWh</th>\n",
              "      <th>Lagging_Current_Reactive_Power_kVarh</th>\n",
              "      <th>Leading_Current_Reactive_Power_kVarh</th>\n",
              "      <th>CO2_tCO2</th>\n",
              "      <th>Lagging_Current_Power_Factor</th>\n",
              "      <th>Leading_Current_Power_Factor</th>\n",
              "      <th>NSM</th>\n",
              "      <th>Dummy_Weekend</th>\n",
              "      <th>Dummy_Monday</th>\n",
              "      <th>Dummy_Saturday</th>\n",
              "      <th>Dummy_Sunday</th>\n",
              "      <th>Dummy_Thursday</th>\n",
              "      <th>Dummy_Tuesday</th>\n",
              "      <th>Dummy_Wednesday</th>\n",
              "      <th>Dummy_Maximum_Load</th>\n",
              "      <th>Dummy_Medium_Load</th>\n",
              "    </tr>\n",
              "  </thead>\n",
              "  <tbody>\n",
              "    <tr>\n",
              "      <th>0</th>\n",
              "      <td>2018-01-01 00:15:00</td>\n",
              "      <td>3.17</td>\n",
              "      <td>2.95</td>\n",
              "      <td>0.0</td>\n",
              "      <td>0.0</td>\n",
              "      <td>73.21</td>\n",
              "      <td>100.0</td>\n",
              "      <td>900</td>\n",
              "      <td>0</td>\n",
              "      <td>1</td>\n",
              "      <td>0</td>\n",
              "      <td>0</td>\n",
              "      <td>0</td>\n",
              "      <td>0</td>\n",
              "      <td>0</td>\n",
              "      <td>0</td>\n",
              "      <td>0</td>\n",
              "    </tr>\n",
              "    <tr>\n",
              "      <th>1</th>\n",
              "      <td>2018-01-01 00:30:00</td>\n",
              "      <td>4.00</td>\n",
              "      <td>4.46</td>\n",
              "      <td>0.0</td>\n",
              "      <td>0.0</td>\n",
              "      <td>66.77</td>\n",
              "      <td>100.0</td>\n",
              "      <td>1800</td>\n",
              "      <td>0</td>\n",
              "      <td>1</td>\n",
              "      <td>0</td>\n",
              "      <td>0</td>\n",
              "      <td>0</td>\n",
              "      <td>0</td>\n",
              "      <td>0</td>\n",
              "      <td>0</td>\n",
              "      <td>0</td>\n",
              "    </tr>\n",
              "    <tr>\n",
              "      <th>2</th>\n",
              "      <td>2018-01-01 00:45:00</td>\n",
              "      <td>3.24</td>\n",
              "      <td>3.28</td>\n",
              "      <td>0.0</td>\n",
              "      <td>0.0</td>\n",
              "      <td>70.28</td>\n",
              "      <td>100.0</td>\n",
              "      <td>2700</td>\n",
              "      <td>0</td>\n",
              "      <td>1</td>\n",
              "      <td>0</td>\n",
              "      <td>0</td>\n",
              "      <td>0</td>\n",
              "      <td>0</td>\n",
              "      <td>0</td>\n",
              "      <td>0</td>\n",
              "      <td>0</td>\n",
              "    </tr>\n",
              "    <tr>\n",
              "      <th>3</th>\n",
              "      <td>2018-01-01 01:00:00</td>\n",
              "      <td>3.31</td>\n",
              "      <td>3.56</td>\n",
              "      <td>0.0</td>\n",
              "      <td>0.0</td>\n",
              "      <td>68.09</td>\n",
              "      <td>100.0</td>\n",
              "      <td>3600</td>\n",
              "      <td>0</td>\n",
              "      <td>1</td>\n",
              "      <td>0</td>\n",
              "      <td>0</td>\n",
              "      <td>0</td>\n",
              "      <td>0</td>\n",
              "      <td>0</td>\n",
              "      <td>0</td>\n",
              "      <td>0</td>\n",
              "    </tr>\n",
              "    <tr>\n",
              "      <th>4</th>\n",
              "      <td>2018-01-01 01:15:00</td>\n",
              "      <td>3.82</td>\n",
              "      <td>4.50</td>\n",
              "      <td>0.0</td>\n",
              "      <td>0.0</td>\n",
              "      <td>64.72</td>\n",
              "      <td>100.0</td>\n",
              "      <td>4500</td>\n",
              "      <td>0</td>\n",
              "      <td>1</td>\n",
              "      <td>0</td>\n",
              "      <td>0</td>\n",
              "      <td>0</td>\n",
              "      <td>0</td>\n",
              "      <td>0</td>\n",
              "      <td>0</td>\n",
              "      <td>0</td>\n",
              "    </tr>\n",
              "    <tr>\n",
              "      <th>...</th>\n",
              "      <td>...</td>\n",
              "      <td>...</td>\n",
              "      <td>...</td>\n",
              "      <td>...</td>\n",
              "      <td>...</td>\n",
              "      <td>...</td>\n",
              "      <td>...</td>\n",
              "      <td>...</td>\n",
              "      <td>...</td>\n",
              "      <td>...</td>\n",
              "      <td>...</td>\n",
              "      <td>...</td>\n",
              "      <td>...</td>\n",
              "      <td>...</td>\n",
              "      <td>...</td>\n",
              "      <td>...</td>\n",
              "      <td>...</td>\n",
              "    </tr>\n",
              "    <tr>\n",
              "      <th>9995</th>\n",
              "      <td>2018-04-15 03:00:00</td>\n",
              "      <td>3.20</td>\n",
              "      <td>3.85</td>\n",
              "      <td>0.0</td>\n",
              "      <td>0.0</td>\n",
              "      <td>63.92</td>\n",
              "      <td>100.0</td>\n",
              "      <td>10800</td>\n",
              "      <td>1</td>\n",
              "      <td>0</td>\n",
              "      <td>0</td>\n",
              "      <td>1</td>\n",
              "      <td>0</td>\n",
              "      <td>0</td>\n",
              "      <td>0</td>\n",
              "      <td>0</td>\n",
              "      <td>0</td>\n",
              "    </tr>\n",
              "    <tr>\n",
              "      <th>9996</th>\n",
              "      <td>2018-04-15 03:15:00</td>\n",
              "      <td>3.13</td>\n",
              "      <td>3.92</td>\n",
              "      <td>0.0</td>\n",
              "      <td>0.0</td>\n",
              "      <td>62.40</td>\n",
              "      <td>100.0</td>\n",
              "      <td>11700</td>\n",
              "      <td>1</td>\n",
              "      <td>0</td>\n",
              "      <td>0</td>\n",
              "      <td>1</td>\n",
              "      <td>0</td>\n",
              "      <td>0</td>\n",
              "      <td>0</td>\n",
              "      <td>0</td>\n",
              "      <td>0</td>\n",
              "    </tr>\n",
              "    <tr>\n",
              "      <th>9997</th>\n",
              "      <td>2018-04-15 03:30:00</td>\n",
              "      <td>3.13</td>\n",
              "      <td>3.96</td>\n",
              "      <td>0.0</td>\n",
              "      <td>0.0</td>\n",
              "      <td>62.01</td>\n",
              "      <td>100.0</td>\n",
              "      <td>12600</td>\n",
              "      <td>1</td>\n",
              "      <td>0</td>\n",
              "      <td>0</td>\n",
              "      <td>1</td>\n",
              "      <td>0</td>\n",
              "      <td>0</td>\n",
              "      <td>0</td>\n",
              "      <td>0</td>\n",
              "      <td>0</td>\n",
              "    </tr>\n",
              "    <tr>\n",
              "      <th>9998</th>\n",
              "      <td>2018-04-15 03:45:00</td>\n",
              "      <td>3.13</td>\n",
              "      <td>4.00</td>\n",
              "      <td>0.0</td>\n",
              "      <td>0.0</td>\n",
              "      <td>61.63</td>\n",
              "      <td>100.0</td>\n",
              "      <td>13500</td>\n",
              "      <td>1</td>\n",
              "      <td>0</td>\n",
              "      <td>0</td>\n",
              "      <td>1</td>\n",
              "      <td>0</td>\n",
              "      <td>0</td>\n",
              "      <td>0</td>\n",
              "      <td>0</td>\n",
              "      <td>0</td>\n",
              "    </tr>\n",
              "    <tr>\n",
              "      <th>9999</th>\n",
              "      <td>2018-04-15 04:00:00</td>\n",
              "      <td>3.13</td>\n",
              "      <td>4.10</td>\n",
              "      <td>0.0</td>\n",
              "      <td>0.0</td>\n",
              "      <td>60.68</td>\n",
              "      <td>100.0</td>\n",
              "      <td>14400</td>\n",
              "      <td>1</td>\n",
              "      <td>0</td>\n",
              "      <td>0</td>\n",
              "      <td>1</td>\n",
              "      <td>0</td>\n",
              "      <td>0</td>\n",
              "      <td>0</td>\n",
              "      <td>0</td>\n",
              "      <td>0</td>\n",
              "    </tr>\n",
              "  </tbody>\n",
              "</table>\n",
              "<p>10000 rows × 17 columns</p>\n",
              "</div>\n",
              "      <button class=\"colab-df-convert\" onclick=\"convertToInteractive('df-62bc0362-5e81-4f5c-8e74-258e5bcbe034')\"\n",
              "              title=\"Convert this dataframe to an interactive table.\"\n",
              "              style=\"display:none;\">\n",
              "        \n",
              "  <svg xmlns=\"http://www.w3.org/2000/svg\" height=\"24px\"viewBox=\"0 0 24 24\"\n",
              "       width=\"24px\">\n",
              "    <path d=\"M0 0h24v24H0V0z\" fill=\"none\"/>\n",
              "    <path d=\"M18.56 5.44l.94 2.06.94-2.06 2.06-.94-2.06-.94-.94-2.06-.94 2.06-2.06.94zm-11 1L8.5 8.5l.94-2.06 2.06-.94-2.06-.94L8.5 2.5l-.94 2.06-2.06.94zm10 10l.94 2.06.94-2.06 2.06-.94-2.06-.94-.94-2.06-.94 2.06-2.06.94z\"/><path d=\"M17.41 7.96l-1.37-1.37c-.4-.4-.92-.59-1.43-.59-.52 0-1.04.2-1.43.59L10.3 9.45l-7.72 7.72c-.78.78-.78 2.05 0 2.83L4 21.41c.39.39.9.59 1.41.59.51 0 1.02-.2 1.41-.59l7.78-7.78 2.81-2.81c.8-.78.8-2.07 0-2.86zM5.41 20L4 18.59l7.72-7.72 1.47 1.35L5.41 20z\"/>\n",
              "  </svg>\n",
              "      </button>\n",
              "      \n",
              "  <style>\n",
              "    .colab-df-container {\n",
              "      display:flex;\n",
              "      flex-wrap:wrap;\n",
              "      gap: 12px;\n",
              "    }\n",
              "\n",
              "    .colab-df-convert {\n",
              "      background-color: #E8F0FE;\n",
              "      border: none;\n",
              "      border-radius: 50%;\n",
              "      cursor: pointer;\n",
              "      display: none;\n",
              "      fill: #1967D2;\n",
              "      height: 32px;\n",
              "      padding: 0 0 0 0;\n",
              "      width: 32px;\n",
              "    }\n",
              "\n",
              "    .colab-df-convert:hover {\n",
              "      background-color: #E2EBFA;\n",
              "      box-shadow: 0px 1px 2px rgba(60, 64, 67, 0.3), 0px 1px 3px 1px rgba(60, 64, 67, 0.15);\n",
              "      fill: #174EA6;\n",
              "    }\n",
              "\n",
              "    [theme=dark] .colab-df-convert {\n",
              "      background-color: #3B4455;\n",
              "      fill: #D2E3FC;\n",
              "    }\n",
              "\n",
              "    [theme=dark] .colab-df-convert:hover {\n",
              "      background-color: #434B5C;\n",
              "      box-shadow: 0px 1px 3px 1px rgba(0, 0, 0, 0.15);\n",
              "      filter: drop-shadow(0px 1px 2px rgba(0, 0, 0, 0.3));\n",
              "      fill: #FFFFFF;\n",
              "    }\n",
              "  </style>\n",
              "\n",
              "      <script>\n",
              "        const buttonEl =\n",
              "          document.querySelector('#df-62bc0362-5e81-4f5c-8e74-258e5bcbe034 button.colab-df-convert');\n",
              "        buttonEl.style.display =\n",
              "          google.colab.kernel.accessAllowed ? 'block' : 'none';\n",
              "\n",
              "        async function convertToInteractive(key) {\n",
              "          const element = document.querySelector('#df-62bc0362-5e81-4f5c-8e74-258e5bcbe034');\n",
              "          const dataTable =\n",
              "            await google.colab.kernel.invokeFunction('convertToInteractive',\n",
              "                                                     [key], {});\n",
              "          if (!dataTable) return;\n",
              "\n",
              "          const docLinkHtml = 'Like what you see? Visit the ' +\n",
              "            '<a target=\"_blank\" href=https://colab.research.google.com/notebooks/data_table.ipynb>data table notebook</a>'\n",
              "            + ' to learn more about interactive tables.';\n",
              "          element.innerHTML = '';\n",
              "          dataTable['output_type'] = 'display_data';\n",
              "          await google.colab.output.renderOutput(dataTable, element);\n",
              "          const docLink = document.createElement('div');\n",
              "          docLink.innerHTML = docLinkHtml;\n",
              "          element.appendChild(docLink);\n",
              "        }\n",
              "      </script>\n",
              "    </div>\n",
              "  </div>\n",
              "  "
            ]
          },
          "metadata": {},
          "execution_count": 141
        }
      ],
      "source": [
        "df = df.head(10000)\n",
        "df"
      ]
    },
    {
      "cell_type": "markdown",
      "id": "34dc5aa7",
      "metadata": {
        "id": "34dc5aa7"
      },
      "source": [
        "# considering Usage_kWh as target varible"
      ]
    },
    {
      "cell_type": "code",
      "execution_count": 142,
      "id": "1da55f28",
      "metadata": {
        "colab": {
          "base_uri": "https://localhost:8080/",
          "height": 444
        },
        "id": "1da55f28",
        "outputId": "2abdfc29-3df3-422c-ba0d-22c7cb880546"
      },
      "outputs": [
        {
          "output_type": "execute_result",
          "data": {
            "text/plain": [
              "                 date  Usage_kWh  Lagging_Current_Reactive_Power_kVarh  \\\n",
              "0 2018-01-01 00:15:00       3.17                                  2.95   \n",
              "1 2018-01-01 00:30:00       4.00                                  4.46   \n",
              "2 2018-01-01 00:45:00       3.24                                  3.28   \n",
              "3 2018-01-01 01:00:00       3.31                                  3.56   \n",
              "4 2018-01-01 01:15:00       3.82                                  4.50   \n",
              "\n",
              "   Leading_Current_Reactive_Power_kVarh  CO2_tCO2  \\\n",
              "0                                   0.0       0.0   \n",
              "1                                   0.0       0.0   \n",
              "2                                   0.0       0.0   \n",
              "3                                   0.0       0.0   \n",
              "4                                   0.0       0.0   \n",
              "\n",
              "   Lagging_Current_Power_Factor  Leading_Current_Power_Factor   NSM  \\\n",
              "0                         73.21                         100.0   900   \n",
              "1                         66.77                         100.0  1800   \n",
              "2                         70.28                         100.0  2700   \n",
              "3                         68.09                         100.0  3600   \n",
              "4                         64.72                         100.0  4500   \n",
              "\n",
              "   Dummy_Weekend  Dummy_Monday  Dummy_Saturday  Dummy_Sunday  Dummy_Thursday  \\\n",
              "0              0             1               0             0               0   \n",
              "1              0             1               0             0               0   \n",
              "2              0             1               0             0               0   \n",
              "3              0             1               0             0               0   \n",
              "4              0             1               0             0               0   \n",
              "\n",
              "   Dummy_Tuesday  Dummy_Wednesday  Dummy_Maximum_Load  Dummy_Medium_Load  \n",
              "0              0                0                   0                  0  \n",
              "1              0                0                   0                  0  \n",
              "2              0                0                   0                  0  \n",
              "3              0                0                   0                  0  \n",
              "4              0                0                   0                  0  "
            ],
            "text/html": [
              "\n",
              "  <div id=\"df-4be0b2e2-6405-4604-8bcb-1a73761bd57d\">\n",
              "    <div class=\"colab-df-container\">\n",
              "      <div>\n",
              "<style scoped>\n",
              "    .dataframe tbody tr th:only-of-type {\n",
              "        vertical-align: middle;\n",
              "    }\n",
              "\n",
              "    .dataframe tbody tr th {\n",
              "        vertical-align: top;\n",
              "    }\n",
              "\n",
              "    .dataframe thead th {\n",
              "        text-align: right;\n",
              "    }\n",
              "</style>\n",
              "<table border=\"1\" class=\"dataframe\">\n",
              "  <thead>\n",
              "    <tr style=\"text-align: right;\">\n",
              "      <th></th>\n",
              "      <th>date</th>\n",
              "      <th>Usage_kWh</th>\n",
              "      <th>Lagging_Current_Reactive_Power_kVarh</th>\n",
              "      <th>Leading_Current_Reactive_Power_kVarh</th>\n",
              "      <th>CO2_tCO2</th>\n",
              "      <th>Lagging_Current_Power_Factor</th>\n",
              "      <th>Leading_Current_Power_Factor</th>\n",
              "      <th>NSM</th>\n",
              "      <th>Dummy_Weekend</th>\n",
              "      <th>Dummy_Monday</th>\n",
              "      <th>Dummy_Saturday</th>\n",
              "      <th>Dummy_Sunday</th>\n",
              "      <th>Dummy_Thursday</th>\n",
              "      <th>Dummy_Tuesday</th>\n",
              "      <th>Dummy_Wednesday</th>\n",
              "      <th>Dummy_Maximum_Load</th>\n",
              "      <th>Dummy_Medium_Load</th>\n",
              "    </tr>\n",
              "  </thead>\n",
              "  <tbody>\n",
              "    <tr>\n",
              "      <th>0</th>\n",
              "      <td>2018-01-01 00:15:00</td>\n",
              "      <td>3.17</td>\n",
              "      <td>2.95</td>\n",
              "      <td>0.0</td>\n",
              "      <td>0.0</td>\n",
              "      <td>73.21</td>\n",
              "      <td>100.0</td>\n",
              "      <td>900</td>\n",
              "      <td>0</td>\n",
              "      <td>1</td>\n",
              "      <td>0</td>\n",
              "      <td>0</td>\n",
              "      <td>0</td>\n",
              "      <td>0</td>\n",
              "      <td>0</td>\n",
              "      <td>0</td>\n",
              "      <td>0</td>\n",
              "    </tr>\n",
              "    <tr>\n",
              "      <th>1</th>\n",
              "      <td>2018-01-01 00:30:00</td>\n",
              "      <td>4.00</td>\n",
              "      <td>4.46</td>\n",
              "      <td>0.0</td>\n",
              "      <td>0.0</td>\n",
              "      <td>66.77</td>\n",
              "      <td>100.0</td>\n",
              "      <td>1800</td>\n",
              "      <td>0</td>\n",
              "      <td>1</td>\n",
              "      <td>0</td>\n",
              "      <td>0</td>\n",
              "      <td>0</td>\n",
              "      <td>0</td>\n",
              "      <td>0</td>\n",
              "      <td>0</td>\n",
              "      <td>0</td>\n",
              "    </tr>\n",
              "    <tr>\n",
              "      <th>2</th>\n",
              "      <td>2018-01-01 00:45:00</td>\n",
              "      <td>3.24</td>\n",
              "      <td>3.28</td>\n",
              "      <td>0.0</td>\n",
              "      <td>0.0</td>\n",
              "      <td>70.28</td>\n",
              "      <td>100.0</td>\n",
              "      <td>2700</td>\n",
              "      <td>0</td>\n",
              "      <td>1</td>\n",
              "      <td>0</td>\n",
              "      <td>0</td>\n",
              "      <td>0</td>\n",
              "      <td>0</td>\n",
              "      <td>0</td>\n",
              "      <td>0</td>\n",
              "      <td>0</td>\n",
              "    </tr>\n",
              "    <tr>\n",
              "      <th>3</th>\n",
              "      <td>2018-01-01 01:00:00</td>\n",
              "      <td>3.31</td>\n",
              "      <td>3.56</td>\n",
              "      <td>0.0</td>\n",
              "      <td>0.0</td>\n",
              "      <td>68.09</td>\n",
              "      <td>100.0</td>\n",
              "      <td>3600</td>\n",
              "      <td>0</td>\n",
              "      <td>1</td>\n",
              "      <td>0</td>\n",
              "      <td>0</td>\n",
              "      <td>0</td>\n",
              "      <td>0</td>\n",
              "      <td>0</td>\n",
              "      <td>0</td>\n",
              "      <td>0</td>\n",
              "    </tr>\n",
              "    <tr>\n",
              "      <th>4</th>\n",
              "      <td>2018-01-01 01:15:00</td>\n",
              "      <td>3.82</td>\n",
              "      <td>4.50</td>\n",
              "      <td>0.0</td>\n",
              "      <td>0.0</td>\n",
              "      <td>64.72</td>\n",
              "      <td>100.0</td>\n",
              "      <td>4500</td>\n",
              "      <td>0</td>\n",
              "      <td>1</td>\n",
              "      <td>0</td>\n",
              "      <td>0</td>\n",
              "      <td>0</td>\n",
              "      <td>0</td>\n",
              "      <td>0</td>\n",
              "      <td>0</td>\n",
              "      <td>0</td>\n",
              "    </tr>\n",
              "  </tbody>\n",
              "</table>\n",
              "</div>\n",
              "      <button class=\"colab-df-convert\" onclick=\"convertToInteractive('df-4be0b2e2-6405-4604-8bcb-1a73761bd57d')\"\n",
              "              title=\"Convert this dataframe to an interactive table.\"\n",
              "              style=\"display:none;\">\n",
              "        \n",
              "  <svg xmlns=\"http://www.w3.org/2000/svg\" height=\"24px\"viewBox=\"0 0 24 24\"\n",
              "       width=\"24px\">\n",
              "    <path d=\"M0 0h24v24H0V0z\" fill=\"none\"/>\n",
              "    <path d=\"M18.56 5.44l.94 2.06.94-2.06 2.06-.94-2.06-.94-.94-2.06-.94 2.06-2.06.94zm-11 1L8.5 8.5l.94-2.06 2.06-.94-2.06-.94L8.5 2.5l-.94 2.06-2.06.94zm10 10l.94 2.06.94-2.06 2.06-.94-2.06-.94-.94-2.06-.94 2.06-2.06.94z\"/><path d=\"M17.41 7.96l-1.37-1.37c-.4-.4-.92-.59-1.43-.59-.52 0-1.04.2-1.43.59L10.3 9.45l-7.72 7.72c-.78.78-.78 2.05 0 2.83L4 21.41c.39.39.9.59 1.41.59.51 0 1.02-.2 1.41-.59l7.78-7.78 2.81-2.81c.8-.78.8-2.07 0-2.86zM5.41 20L4 18.59l7.72-7.72 1.47 1.35L5.41 20z\"/>\n",
              "  </svg>\n",
              "      </button>\n",
              "      \n",
              "  <style>\n",
              "    .colab-df-container {\n",
              "      display:flex;\n",
              "      flex-wrap:wrap;\n",
              "      gap: 12px;\n",
              "    }\n",
              "\n",
              "    .colab-df-convert {\n",
              "      background-color: #E8F0FE;\n",
              "      border: none;\n",
              "      border-radius: 50%;\n",
              "      cursor: pointer;\n",
              "      display: none;\n",
              "      fill: #1967D2;\n",
              "      height: 32px;\n",
              "      padding: 0 0 0 0;\n",
              "      width: 32px;\n",
              "    }\n",
              "\n",
              "    .colab-df-convert:hover {\n",
              "      background-color: #E2EBFA;\n",
              "      box-shadow: 0px 1px 2px rgba(60, 64, 67, 0.3), 0px 1px 3px 1px rgba(60, 64, 67, 0.15);\n",
              "      fill: #174EA6;\n",
              "    }\n",
              "\n",
              "    [theme=dark] .colab-df-convert {\n",
              "      background-color: #3B4455;\n",
              "      fill: #D2E3FC;\n",
              "    }\n",
              "\n",
              "    [theme=dark] .colab-df-convert:hover {\n",
              "      background-color: #434B5C;\n",
              "      box-shadow: 0px 1px 3px 1px rgba(0, 0, 0, 0.15);\n",
              "      filter: drop-shadow(0px 1px 2px rgba(0, 0, 0, 0.3));\n",
              "      fill: #FFFFFF;\n",
              "    }\n",
              "  </style>\n",
              "\n",
              "      <script>\n",
              "        const buttonEl =\n",
              "          document.querySelector('#df-4be0b2e2-6405-4604-8bcb-1a73761bd57d button.colab-df-convert');\n",
              "        buttonEl.style.display =\n",
              "          google.colab.kernel.accessAllowed ? 'block' : 'none';\n",
              "\n",
              "        async function convertToInteractive(key) {\n",
              "          const element = document.querySelector('#df-4be0b2e2-6405-4604-8bcb-1a73761bd57d');\n",
              "          const dataTable =\n",
              "            await google.colab.kernel.invokeFunction('convertToInteractive',\n",
              "                                                     [key], {});\n",
              "          if (!dataTable) return;\n",
              "\n",
              "          const docLinkHtml = 'Like what you see? Visit the ' +\n",
              "            '<a target=\"_blank\" href=https://colab.research.google.com/notebooks/data_table.ipynb>data table notebook</a>'\n",
              "            + ' to learn more about interactive tables.';\n",
              "          element.innerHTML = '';\n",
              "          dataTable['output_type'] = 'display_data';\n",
              "          await google.colab.output.renderOutput(dataTable, element);\n",
              "          const docLink = document.createElement('div');\n",
              "          docLink.innerHTML = docLinkHtml;\n",
              "          element.appendChild(docLink);\n",
              "        }\n",
              "      </script>\n",
              "    </div>\n",
              "  </div>\n",
              "  "
            ]
          },
          "metadata": {},
          "execution_count": 142
        }
      ],
      "source": [
        "df.head()"
      ]
    },
    {
      "cell_type": "code",
      "execution_count": 178,
      "id": "a3370f24",
      "metadata": {
        "colab": {
          "base_uri": "https://localhost:8080/"
        },
        "id": "a3370f24",
        "outputId": "b3a60d91-4e89-4f96-ac19-e5e5e462e9cb"
      },
      "outputs": [
        {
          "output_type": "stream",
          "name": "stdout",
          "text": [
            "(35040, 16)\n",
            "(35040, 1)\n"
          ]
        }
      ],
      "source": [
        "import pandas as pd\n",
        "from sklearn.preprocessing import MinMaxScaler\n",
        "\n",
        "\n",
        "# convert date/time strings to timestamps\n",
        "df['date'] = pd.to_datetime(df['date'])\n",
        "df['date'] = df['date'].astype('int64') // 10**9  # convert to seconds\n",
        "\n",
        "# extract feature matrix X and target vector y\n",
        "X = df.drop('Usage_kWh', axis=1)\n",
        "y = df['Usage_kWh']\n",
        "\n",
        "# scale the feature matrix\n",
        "scaler = MinMaxScaler()\n",
        "scaled_X = scaler.fit_transform(X)\n",
        "scaled_X \n",
        "\n",
        "\n",
        "scaled_y = scaler.fit_transform(y.values.reshape(-1, 1))\n",
        "\n",
        "# check the shape and range of the scaled target variable\n",
        "print(scaled_X.shape)\n",
        "print(scaled_y.shape)\n",
        "\n",
        "\n"
      ]
    },
    {
      "cell_type": "code",
      "execution_count": 144,
      "id": "c5d36379",
      "metadata": {
        "id": "c5d36379"
      },
      "outputs": [],
      "source": [
        "#splitting data into train,validation and test datasets\n",
        "X_train, X_rem, y_train, y_rem = train_test_split(scaled_X,scaled_y, train_size=0.34,random_state=42)"
      ]
    },
    {
      "cell_type": "code",
      "execution_count": 145,
      "id": "93869ce2",
      "metadata": {
        "id": "93869ce2"
      },
      "outputs": [],
      "source": [
        "test_size = 0.5\n",
        "X_valid, X_test, y_valid, y_test = train_test_split(X_rem,y_rem, test_size=0.5,random_state=42)"
      ]
    },
    {
      "cell_type": "code",
      "execution_count": 146,
      "id": "4b9caf2b",
      "metadata": {
        "colab": {
          "base_uri": "https://localhost:8080/"
        },
        "id": "4b9caf2b",
        "outputId": "aa4dddb1-b6c5-43fa-beab-88a2b6135254"
      },
      "outputs": [
        {
          "output_type": "stream",
          "name": "stdout",
          "text": [
            "(3400, 16)\n",
            "(3400, 1)\n",
            "(3300, 16)\n",
            "(3300, 1)\n",
            "(3300, 16)\n",
            "(3300, 1)\n"
          ]
        },
        {
          "output_type": "execute_result",
          "data": {
            "text/plain": [
              "(None, None)"
            ]
          },
          "metadata": {},
          "execution_count": 146
        }
      ],
      "source": [
        "# shapes of train,validation and  test split\n",
        "print(X_train.shape), print(y_train.shape)\n",
        "print(X_valid.shape), print(y_valid.shape)\n",
        "print(X_test.shape), print(y_test.shape)"
      ]
    },
    {
      "cell_type": "markdown",
      "id": "1be530f2",
      "metadata": {
        "id": "1be530f2"
      },
      "source": [
        "# SVM with Linear Kernel"
      ]
    },
    {
      "cell_type": "code",
      "execution_count": 147,
      "id": "edb3ddd5",
      "metadata": {
        "id": "edb3ddd5"
      },
      "outputs": [],
      "source": [
        "from sklearn.model_selection import GridSearchCV\n",
        "from sklearn.svm import SVR\n",
        "from sklearn.metrics import r2_score\n",
        "from sklearn.metrics import mean_squared_error"
      ]
    },
    {
      "cell_type": "code",
      "execution_count": 148,
      "id": "6a5bd18b",
      "metadata": {
        "colab": {
          "base_uri": "https://localhost:8080/",
          "height": 130
        },
        "id": "6a5bd18b",
        "outputId": "40bf7aa1-c02e-4db8-a66a-a5d798681e7d"
      },
      "outputs": [
        {
          "output_type": "stream",
          "name": "stderr",
          "text": [
            "/usr/local/lib/python3.10/dist-packages/sklearn/utils/validation.py:1143: DataConversionWarning: A column-vector y was passed when a 1d array was expected. Please change the shape of y to (n_samples, ), for example using ravel().\n",
            "  y = column_or_1d(y, warn=True)\n"
          ]
        },
        {
          "output_type": "execute_result",
          "data": {
            "text/plain": [
              "SVR(kernel='linear')"
            ],
            "text/html": [
              "<style>#sk-container-id-7 {color: black;background-color: white;}#sk-container-id-7 pre{padding: 0;}#sk-container-id-7 div.sk-toggleable {background-color: white;}#sk-container-id-7 label.sk-toggleable__label {cursor: pointer;display: block;width: 100%;margin-bottom: 0;padding: 0.3em;box-sizing: border-box;text-align: center;}#sk-container-id-7 label.sk-toggleable__label-arrow:before {content: \"▸\";float: left;margin-right: 0.25em;color: #696969;}#sk-container-id-7 label.sk-toggleable__label-arrow:hover:before {color: black;}#sk-container-id-7 div.sk-estimator:hover label.sk-toggleable__label-arrow:before {color: black;}#sk-container-id-7 div.sk-toggleable__content {max-height: 0;max-width: 0;overflow: hidden;text-align: left;background-color: #f0f8ff;}#sk-container-id-7 div.sk-toggleable__content pre {margin: 0.2em;color: black;border-radius: 0.25em;background-color: #f0f8ff;}#sk-container-id-7 input.sk-toggleable__control:checked~div.sk-toggleable__content {max-height: 200px;max-width: 100%;overflow: auto;}#sk-container-id-7 input.sk-toggleable__control:checked~label.sk-toggleable__label-arrow:before {content: \"▾\";}#sk-container-id-7 div.sk-estimator input.sk-toggleable__control:checked~label.sk-toggleable__label {background-color: #d4ebff;}#sk-container-id-7 div.sk-label input.sk-toggleable__control:checked~label.sk-toggleable__label {background-color: #d4ebff;}#sk-container-id-7 input.sk-hidden--visually {border: 0;clip: rect(1px 1px 1px 1px);clip: rect(1px, 1px, 1px, 1px);height: 1px;margin: -1px;overflow: hidden;padding: 0;position: absolute;width: 1px;}#sk-container-id-7 div.sk-estimator {font-family: monospace;background-color: #f0f8ff;border: 1px dotted black;border-radius: 0.25em;box-sizing: border-box;margin-bottom: 0.5em;}#sk-container-id-7 div.sk-estimator:hover {background-color: #d4ebff;}#sk-container-id-7 div.sk-parallel-item::after {content: \"\";width: 100%;border-bottom: 1px solid gray;flex-grow: 1;}#sk-container-id-7 div.sk-label:hover label.sk-toggleable__label {background-color: #d4ebff;}#sk-container-id-7 div.sk-serial::before {content: \"\";position: absolute;border-left: 1px solid gray;box-sizing: border-box;top: 0;bottom: 0;left: 50%;z-index: 0;}#sk-container-id-7 div.sk-serial {display: flex;flex-direction: column;align-items: center;background-color: white;padding-right: 0.2em;padding-left: 0.2em;position: relative;}#sk-container-id-7 div.sk-item {position: relative;z-index: 1;}#sk-container-id-7 div.sk-parallel {display: flex;align-items: stretch;justify-content: center;background-color: white;position: relative;}#sk-container-id-7 div.sk-item::before, #sk-container-id-7 div.sk-parallel-item::before {content: \"\";position: absolute;border-left: 1px solid gray;box-sizing: border-box;top: 0;bottom: 0;left: 50%;z-index: -1;}#sk-container-id-7 div.sk-parallel-item {display: flex;flex-direction: column;z-index: 1;position: relative;background-color: white;}#sk-container-id-7 div.sk-parallel-item:first-child::after {align-self: flex-end;width: 50%;}#sk-container-id-7 div.sk-parallel-item:last-child::after {align-self: flex-start;width: 50%;}#sk-container-id-7 div.sk-parallel-item:only-child::after {width: 0;}#sk-container-id-7 div.sk-dashed-wrapped {border: 1px dashed gray;margin: 0 0.4em 0.5em 0.4em;box-sizing: border-box;padding-bottom: 0.4em;background-color: white;}#sk-container-id-7 div.sk-label label {font-family: monospace;font-weight: bold;display: inline-block;line-height: 1.2em;}#sk-container-id-7 div.sk-label-container {text-align: center;}#sk-container-id-7 div.sk-container {/* jupyter's `normalize.less` sets `[hidden] { display: none; }` but bootstrap.min.css set `[hidden] { display: none !important; }` so we also need the `!important` here to be able to override the default hidden behavior on the sphinx rendered scikit-learn.org. See: https://github.com/scikit-learn/scikit-learn/issues/21755 */display: inline-block !important;position: relative;}#sk-container-id-7 div.sk-text-repr-fallback {display: none;}</style><div id=\"sk-container-id-7\" class=\"sk-top-container\"><div class=\"sk-text-repr-fallback\"><pre>SVR(kernel=&#x27;linear&#x27;)</pre><b>In a Jupyter environment, please rerun this cell to show the HTML representation or trust the notebook. <br />On GitHub, the HTML representation is unable to render, please try loading this page with nbviewer.org.</b></div><div class=\"sk-container\" hidden><div class=\"sk-item\"><div class=\"sk-estimator sk-toggleable\"><input class=\"sk-toggleable__control sk-hidden--visually\" id=\"sk-estimator-id-11\" type=\"checkbox\" checked><label for=\"sk-estimator-id-11\" class=\"sk-toggleable__label sk-toggleable__label-arrow\">SVR</label><div class=\"sk-toggleable__content\"><pre>SVR(kernel=&#x27;linear&#x27;)</pre></div></div></div></div></div>"
            ]
          },
          "metadata": {},
          "execution_count": 148
        }
      ],
      "source": [
        "model = SVR(kernel=\"linear\")\n",
        "model.fit(X_train,y_train)"
      ]
    },
    {
      "cell_type": "code",
      "source": [
        "#Evalution on Train Dataset\n",
        "y_train_pred = model.predict(X_train)\n",
        "MSE = metrics.mean_squared_error(y_train_pred, y_train)\n",
        "MAE =  metrics.mean_absolute_error(y_train_pred, y_train)\n",
        "RMSE = MSE**0.5\n",
        "print(\"Model Score:\",model.score(X_train, y_train))\n",
        "print(f\"The mean squared error is {MSE}\")\n",
        "print(f\"The mean absolute error is {MAE}\")\n",
        "print(f\"The root mean sqaured error is {RMSE}\")"
      ],
      "metadata": {
        "colab": {
          "base_uri": "https://localhost:8080/"
        },
        "id": "XYVN-IRF2kJr",
        "outputId": "ddc69ba0-5102-44c1-8da7-539950b9715c"
      },
      "id": "XYVN-IRF2kJr",
      "execution_count": 149,
      "outputs": [
        {
          "output_type": "stream",
          "name": "stdout",
          "text": [
            "Model Score: 0.9133755665802464\n",
            "The mean squared error is 0.005145809869790437\n",
            "The mean absolute error is 0.05993906044979443\n",
            "The root mean sqaured error is 0.07173430051091624\n"
          ]
        }
      ]
    },
    {
      "cell_type": "code",
      "source": [
        "#Evalution on test Dataset\n",
        "y_test_pred = model.predict(X_test)\n",
        "mse = mean_squared_error(y_test_pred, y_test)\n",
        "MAE =  metrics.mean_absolute_error(y_test_pred, y_test)\n",
        "RMSE = MSE**0.5\n",
        "print(\"MSE:\", mse)\n",
        "print(\"Model Score:\",model.score(X_test, y_test))\n",
        "print(f\"The mean squared error is {MSE}\")\n",
        "print(f\"The mean absolute error is {MAE}\")\n",
        "print(f\"The root mean sqaured error is {RMSE}\")"
      ],
      "metadata": {
        "colab": {
          "base_uri": "https://localhost:8080/"
        },
        "id": "n39vNdWF1N4c",
        "outputId": "6d2befbc-9b66-44dc-eb98-920602ae6686"
      },
      "id": "n39vNdWF1N4c",
      "execution_count": 150,
      "outputs": [
        {
          "output_type": "stream",
          "name": "stdout",
          "text": [
            "MSE: 0.005151175463430889\n",
            "Model Score: 0.9160269348725301\n",
            "The mean squared error is 0.005145809869790437\n",
            "The mean absolute error is 0.058603669238002844\n",
            "The root mean sqaured error is 0.07173430051091624\n"
          ]
        }
      ]
    },
    {
      "cell_type": "code",
      "execution_count": 151,
      "id": "8f43421c",
      "metadata": {
        "colab": {
          "base_uri": "https://localhost:8080/"
        },
        "id": "8f43421c",
        "outputId": "016c48d2-dc04-4c3e-9ece-c2313e7ae532"
      },
      "outputs": [
        {
          "output_type": "stream",
          "name": "stdout",
          "text": [
            "The measn squared error is 0.00531186098152029\n",
            "The mean absolute error is 0.06049111169890561\n",
            "The root mean sqaured error is 0.07288251492313016\n"
          ]
        }
      ],
      "source": [
        "##Evalution on Validation dataset polu\n",
        "y_valid_pred = model.predict(X_valid)\n",
        "MSE = metrics.mean_squared_error(y_valid_pred, y_valid)\n",
        "MAE =  metrics.mean_absolute_error(y_valid_pred, y_valid)\n",
        "RMSE = MSE**0.5\n",
        "print(f\"The measn squared error is {MSE}\")\n",
        "print(f\"The mean absolute error is {MAE}\")\n",
        "print(f\"The root mean sqaured error is {RMSE}\")\n",
        "\n"
      ]
    },
    {
      "cell_type": "code",
      "source": [
        "import matplotlib.pyplot as plt\n",
        "from sklearn.metrics import roc_curve, roc_auc_score, confusion_matrix\n",
        "# scatter plot of predicted vs true values\n",
        "y_pred = model.predict(X_test)\n",
        "plt.scatter(y_test, y_pred)\n",
        "plt.xlabel(\"True values\")\n",
        "plt.ylabel(\"Predicted values\")\n",
        "plt.title(\"Scatter plot of predicted vs true values\")\n",
        "plt.show()"
      ],
      "metadata": {
        "colab": {
          "base_uri": "https://localhost:8080/",
          "height": 472
        },
        "id": "agTyskZr4mIy",
        "outputId": "3d2203ac-6340-4b41-e6ac-b39aeab9632b"
      },
      "id": "agTyskZr4mIy",
      "execution_count": 152,
      "outputs": [
        {
          "output_type": "display_data",
          "data": {
            "text/plain": [
              "<Figure size 640x480 with 1 Axes>"
            ],
            "image/png": "[encoded data removed]"
          },
          "metadata": {}
        }
      ]
    },
    {
      "cell_type": "markdown",
      "id": "871c039a",
      "metadata": {
        "id": "871c039a"
      },
      "source": [
        "# with different hyperparamters"
      ]
    },
    {
      "cell_type": "code",
      "execution_count": 153,
      "id": "8c141efe",
      "metadata": {
        "colab": {
          "base_uri": "https://localhost:8080/",
          "height": 1000
        },
        "id": "8c141efe",
        "outputId": "625bc679-2af3-4e28-bc1e-c8cd17585338"
      },
      "outputs": [
        {
          "output_type": "stream",
          "name": "stdout",
          "text": [
            "Fitting 5 folds for each of 25 candidates, totalling 125 fits\n",
            "[CV 1/5] END .....C=0.1, gamma=1, kernel=linear;, score=0.908 total time=   0.1s\n"
          ]
        },
        {
          "output_type": "stream",
          "name": "stderr",
          "text": [
            "/usr/local/lib/python3.10/dist-packages/sklearn/utils/validation.py:1143: DataConversionWarning: A column-vector y was passed when a 1d array was expected. Please change the shape of y to (n_samples, ), for example using ravel().\n",
            "  y = column_or_1d(y, warn=True)\n",
            "/usr/local/lib/python3.10/dist-packages/sklearn/utils/validation.py:1143: DataConversionWarning: A column-vector y was passed when a 1d array was expected. Please change the shape of y to (n_samples, ), for example using ravel().\n",
            "  y = column_or_1d(y, warn=True)\n"
          ]
        },
        {
          "output_type": "stream",
          "name": "stdout",
          "text": [
            "[CV 2/5] END .....C=0.1, gamma=1, kernel=linear;, score=0.927 total time=   0.1s\n",
            "[CV 3/5] END .....C=0.1, gamma=1, kernel=linear;, score=0.925 total time=   0.1s\n"
          ]
        },
        {
          "output_type": "stream",
          "name": "stderr",
          "text": [
            "/usr/local/lib/python3.10/dist-packages/sklearn/utils/validation.py:1143: DataConversionWarning: A column-vector y was passed when a 1d array was expected. Please change the shape of y to (n_samples, ), for example using ravel().\n",
            "  y = column_or_1d(y, warn=True)\n",
            "/usr/local/lib/python3.10/dist-packages/sklearn/utils/validation.py:1143: DataConversionWarning: A column-vector y was passed when a 1d array was expected. Please change the shape of y to (n_samples, ), for example using ravel().\n",
            "  y = column_or_1d(y, warn=True)\n"
          ]
        },
        {
          "output_type": "stream",
          "name": "stdout",
          "text": [
            "[CV 4/5] END .....C=0.1, gamma=1, kernel=linear;, score=0.912 total time=   0.1s\n",
            "[CV 5/5] END .....C=0.1, gamma=1, kernel=linear;, score=0.918 total time=   0.1s\n"
          ]
        },
        {
          "output_type": "stream",
          "name": "stderr",
          "text": [
            "/usr/local/lib/python3.10/dist-packages/sklearn/utils/validation.py:1143: DataConversionWarning: A column-vector y was passed when a 1d array was expected. Please change the shape of y to (n_samples, ), for example using ravel().\n",
            "  y = column_or_1d(y, warn=True)\n",
            "/usr/local/lib/python3.10/dist-packages/sklearn/utils/validation.py:1143: DataConversionWarning: A column-vector y was passed when a 1d array was expected. Please change the shape of y to (n_samples, ), for example using ravel().\n",
            "  y = column_or_1d(y, warn=True)\n"
          ]
        },
        {
          "output_type": "stream",
          "name": "stdout",
          "text": [
            "[CV 1/5] END ...C=0.1, gamma=0.1, kernel=linear;, score=0.908 total time=   0.1s\n"
          ]
        },
        {
          "output_type": "stream",
          "name": "stderr",
          "text": [
            "/usr/local/lib/python3.10/dist-packages/sklearn/utils/validation.py:1143: DataConversionWarning: A column-vector y was passed when a 1d array was expected. Please change the shape of y to (n_samples, ), for example using ravel().\n",
            "  y = column_or_1d(y, warn=True)\n"
          ]
        },
        {
          "output_type": "stream",
          "name": "stdout",
          "text": [
            "[CV 2/5] END ...C=0.1, gamma=0.1, kernel=linear;, score=0.927 total time=   0.2s\n",
            "[CV 3/5] END ...C=0.1, gamma=0.1, kernel=linear;, score=0.925 total time=   0.2s\n"
          ]
        },
        {
          "output_type": "stream",
          "name": "stderr",
          "text": [
            "/usr/local/lib/python3.10/dist-packages/sklearn/utils/validation.py:1143: DataConversionWarning: A column-vector y was passed when a 1d array was expected. Please change the shape of y to (n_samples, ), for example using ravel().\n",
            "  y = column_or_1d(y, warn=True)\n",
            "/usr/local/lib/python3.10/dist-packages/sklearn/utils/validation.py:1143: DataConversionWarning: A column-vector y was passed when a 1d array was expected. Please change the shape of y to (n_samples, ), for example using ravel().\n",
            "  y = column_or_1d(y, warn=True)\n"
          ]
        },
        {
          "output_type": "stream",
          "name": "stdout",
          "text": [
            "[CV 4/5] END ...C=0.1, gamma=0.1, kernel=linear;, score=0.912 total time=   0.2s\n",
            "[CV 5/5] END ...C=0.1, gamma=0.1, kernel=linear;, score=0.918 total time=   0.2s\n"
          ]
        },
        {
          "output_type": "stream",
          "name": "stderr",
          "text": [
            "/usr/local/lib/python3.10/dist-packages/sklearn/utils/validation.py:1143: DataConversionWarning: A column-vector y was passed when a 1d array was expected. Please change the shape of y to (n_samples, ), for example using ravel().\n",
            "  y = column_or_1d(y, warn=True)\n",
            "/usr/local/lib/python3.10/dist-packages/sklearn/utils/validation.py:1143: DataConversionWarning: A column-vector y was passed when a 1d array was expected. Please change the shape of y to (n_samples, ), for example using ravel().\n",
            "  y = column_or_1d(y, warn=True)\n"
          ]
        },
        {
          "output_type": "stream",
          "name": "stdout",
          "text": [
            "[CV 1/5] END ..C=0.1, gamma=0.01, kernel=linear;, score=0.908 total time=   0.2s\n",
            "[CV 2/5] END ..C=0.1, gamma=0.01, kernel=linear;, score=0.927 total time=   0.2s\n"
          ]
        },
        {
          "output_type": "stream",
          "name": "stderr",
          "text": [
            "/usr/local/lib/python3.10/dist-packages/sklearn/utils/validation.py:1143: DataConversionWarning: A column-vector y was passed when a 1d array was expected. Please change the shape of y to (n_samples, ), for example using ravel().\n",
            "  y = column_or_1d(y, warn=True)\n",
            "/usr/local/lib/python3.10/dist-packages/sklearn/utils/validation.py:1143: DataConversionWarning: A column-vector y was passed when a 1d array was expected. Please change the shape of y to (n_samples, ), for example using ravel().\n",
            "  y = column_or_1d(y, warn=True)\n"
          ]
        },
        {
          "output_type": "stream",
          "name": "stdout",
          "text": [
            "[CV 3/5] END ..C=0.1, gamma=0.01, kernel=linear;, score=0.925 total time=   0.2s\n",
            "[CV 4/5] END ..C=0.1, gamma=0.01, kernel=linear;, score=0.912 total time=   0.2s\n"
          ]
        },
        {
          "output_type": "stream",
          "name": "stderr",
          "text": [
            "/usr/local/lib/python3.10/dist-packages/sklearn/utils/validation.py:1143: DataConversionWarning: A column-vector y was passed when a 1d array was expected. Please change the shape of y to (n_samples, ), for example using ravel().\n",
            "  y = column_or_1d(y, warn=True)\n",
            "/usr/local/lib/python3.10/dist-packages/sklearn/utils/validation.py:1143: DataConversionWarning: A column-vector y was passed when a 1d array was expected. Please change the shape of y to (n_samples, ), for example using ravel().\n",
            "  y = column_or_1d(y, warn=True)\n"
          ]
        },
        {
          "output_type": "stream",
          "name": "stdout",
          "text": [
            "[CV 5/5] END ..C=0.1, gamma=0.01, kernel=linear;, score=0.918 total time=   0.4s\n",
            "[CV 1/5] END .C=0.1, gamma=0.001, kernel=linear;, score=0.908 total time=   0.2s\n"
          ]
        },
        {
          "output_type": "stream",
          "name": "stderr",
          "text": [
            "/usr/local/lib/python3.10/dist-packages/sklearn/utils/validation.py:1143: DataConversionWarning: A column-vector y was passed when a 1d array was expected. Please change the shape of y to (n_samples, ), for example using ravel().\n",
            "  y = column_or_1d(y, warn=True)\n",
            "/usr/local/lib/python3.10/dist-packages/sklearn/utils/validation.py:1143: DataConversionWarning: A column-vector y was passed when a 1d array was expected. Please change the shape of y to (n_samples, ), for example using ravel().\n",
            "  y = column_or_1d(y, warn=True)\n"
          ]
        },
        {
          "output_type": "stream",
          "name": "stdout",
          "text": [
            "[CV 2/5] END .C=0.1, gamma=0.001, kernel=linear;, score=0.927 total time=   0.2s\n",
            "[CV 3/5] END .C=0.1, gamma=0.001, kernel=linear;, score=0.925 total time=   0.2s\n"
          ]
        },
        {
          "output_type": "stream",
          "name": "stderr",
          "text": [
            "/usr/local/lib/python3.10/dist-packages/sklearn/utils/validation.py:1143: DataConversionWarning: A column-vector y was passed when a 1d array was expected. Please change the shape of y to (n_samples, ), for example using ravel().\n",
            "  y = column_or_1d(y, warn=True)\n",
            "/usr/local/lib/python3.10/dist-packages/sklearn/utils/validation.py:1143: DataConversionWarning: A column-vector y was passed when a 1d array was expected. Please change the shape of y to (n_samples, ), for example using ravel().\n",
            "  y = column_or_1d(y, warn=True)\n"
          ]
        },
        {
          "output_type": "stream",
          "name": "stdout",
          "text": [
            "[CV 4/5] END .C=0.1, gamma=0.001, kernel=linear;, score=0.912 total time=   0.2s\n"
          ]
        },
        {
          "output_type": "stream",
          "name": "stderr",
          "text": [
            "/usr/local/lib/python3.10/dist-packages/sklearn/utils/validation.py:1143: DataConversionWarning: A column-vector y was passed when a 1d array was expected. Please change the shape of y to (n_samples, ), for example using ravel().\n",
            "  y = column_or_1d(y, warn=True)\n"
          ]
        },
        {
          "output_type": "stream",
          "name": "stdout",
          "text": [
            "[CV 5/5] END .C=0.1, gamma=0.001, kernel=linear;, score=0.918 total time=   0.3s\n",
            "[CV 1/5] END C=0.1, gamma=0.0001, kernel=linear;, score=0.908 total time=   0.2s\n"
          ]
        },
        {
          "output_type": "stream",
          "name": "stderr",
          "text": [
            "/usr/local/lib/python3.10/dist-packages/sklearn/utils/validation.py:1143: DataConversionWarning: A column-vector y was passed when a 1d array was expected. Please change the shape of y to (n_samples, ), for example using ravel().\n",
            "  y = column_or_1d(y, warn=True)\n",
            "/usr/local/lib/python3.10/dist-packages/sklearn/utils/validation.py:1143: DataConversionWarning: A column-vector y was passed when a 1d array was expected. Please change the shape of y to (n_samples, ), for example using ravel().\n",
            "  y = column_or_1d(y, warn=True)\n"
          ]
        },
        {
          "output_type": "stream",
          "name": "stdout",
          "text": [
            "[CV 2/5] END C=0.1, gamma=0.0001, kernel=linear;, score=0.927 total time=   0.2s\n",
            "[CV 3/5] END C=0.1, gamma=0.0001, kernel=linear;, score=0.925 total time=   0.2s\n"
          ]
        },
        {
          "output_type": "stream",
          "name": "stderr",
          "text": [
            "/usr/local/lib/python3.10/dist-packages/sklearn/utils/validation.py:1143: DataConversionWarning: A column-vector y was passed when a 1d array was expected. Please change the shape of y to (n_samples, ), for example using ravel().\n",
            "  y = column_or_1d(y, warn=True)\n",
            "/usr/local/lib/python3.10/dist-packages/sklearn/utils/validation.py:1143: DataConversionWarning: A column-vector y was passed when a 1d array was expected. Please change the shape of y to (n_samples, ), for example using ravel().\n",
            "  y = column_or_1d(y, warn=True)\n"
          ]
        },
        {
          "output_type": "stream",
          "name": "stdout",
          "text": [
            "[CV 4/5] END C=0.1, gamma=0.0001, kernel=linear;, score=0.912 total time=   0.2s\n",
            "[CV 5/5] END C=0.1, gamma=0.0001, kernel=linear;, score=0.918 total time=   0.2s\n"
          ]
        },
        {
          "output_type": "stream",
          "name": "stderr",
          "text": [
            "/usr/local/lib/python3.10/dist-packages/sklearn/utils/validation.py:1143: DataConversionWarning: A column-vector y was passed when a 1d array was expected. Please change the shape of y to (n_samples, ), for example using ravel().\n",
            "  y = column_or_1d(y, warn=True)\n",
            "/usr/local/lib/python3.10/dist-packages/sklearn/utils/validation.py:1143: DataConversionWarning: A column-vector y was passed when a 1d array was expected. Please change the shape of y to (n_samples, ), for example using ravel().\n",
            "  y = column_or_1d(y, warn=True)\n"
          ]
        },
        {
          "output_type": "stream",
          "name": "stdout",
          "text": [
            "[CV 1/5] END .......C=1, gamma=1, kernel=linear;, score=0.908 total time=   0.3s\n"
          ]
        },
        {
          "output_type": "stream",
          "name": "stderr",
          "text": [
            "/usr/local/lib/python3.10/dist-packages/sklearn/utils/validation.py:1143: DataConversionWarning: A column-vector y was passed when a 1d array was expected. Please change the shape of y to (n_samples, ), for example using ravel().\n",
            "  y = column_or_1d(y, warn=True)\n"
          ]
        },
        {
          "output_type": "stream",
          "name": "stdout",
          "text": [
            "[CV 2/5] END .......C=1, gamma=1, kernel=linear;, score=0.926 total time=   0.8s\n"
          ]
        },
        {
          "output_type": "stream",
          "name": "stderr",
          "text": [
            "/usr/local/lib/python3.10/dist-packages/sklearn/utils/validation.py:1143: DataConversionWarning: A column-vector y was passed when a 1d array was expected. Please change the shape of y to (n_samples, ), for example using ravel().\n",
            "  y = column_or_1d(y, warn=True)\n"
          ]
        },
        {
          "output_type": "stream",
          "name": "stdout",
          "text": [
            "[CV 3/5] END .......C=1, gamma=1, kernel=linear;, score=0.925 total time=   0.9s\n"
          ]
        },
        {
          "output_type": "stream",
          "name": "stderr",
          "text": [
            "/usr/local/lib/python3.10/dist-packages/sklearn/utils/validation.py:1143: DataConversionWarning: A column-vector y was passed when a 1d array was expected. Please change the shape of y to (n_samples, ), for example using ravel().\n",
            "  y = column_or_1d(y, warn=True)\n"
          ]
        },
        {
          "output_type": "stream",
          "name": "stdout",
          "text": [
            "[CV 4/5] END .......C=1, gamma=1, kernel=linear;, score=0.911 total time=   0.6s\n"
          ]
        },
        {
          "output_type": "stream",
          "name": "stderr",
          "text": [
            "/usr/local/lib/python3.10/dist-packages/sklearn/utils/validation.py:1143: DataConversionWarning: A column-vector y was passed when a 1d array was expected. Please change the shape of y to (n_samples, ), for example using ravel().\n",
            "  y = column_or_1d(y, warn=True)\n"
          ]
        },
        {
          "output_type": "stream",
          "name": "stdout",
          "text": [
            "[CV 5/5] END .......C=1, gamma=1, kernel=linear;, score=0.918 total time=   0.3s\n"
          ]
        },
        {
          "output_type": "stream",
          "name": "stderr",
          "text": [
            "/usr/local/lib/python3.10/dist-packages/sklearn/utils/validation.py:1143: DataConversionWarning: A column-vector y was passed when a 1d array was expected. Please change the shape of y to (n_samples, ), for example using ravel().\n",
            "  y = column_or_1d(y, warn=True)\n"
          ]
        },
        {
          "output_type": "stream",
          "name": "stdout",
          "text": [
            "[CV 1/5] END .....C=1, gamma=0.1, kernel=linear;, score=0.908 total time=   0.4s\n"
          ]
        },
        {
          "output_type": "stream",
          "name": "stderr",
          "text": [
            "/usr/local/lib/python3.10/dist-packages/sklearn/utils/validation.py:1143: DataConversionWarning: A column-vector y was passed when a 1d array was expected. Please change the shape of y to (n_samples, ), for example using ravel().\n",
            "  y = column_or_1d(y, warn=True)\n"
          ]
        },
        {
          "output_type": "stream",
          "name": "stdout",
          "text": [
            "[CV 2/5] END .....C=1, gamma=0.1, kernel=linear;, score=0.926 total time=   0.7s\n"
          ]
        },
        {
          "output_type": "stream",
          "name": "stderr",
          "text": [
            "/usr/local/lib/python3.10/dist-packages/sklearn/utils/validation.py:1143: DataConversionWarning: A column-vector y was passed when a 1d array was expected. Please change the shape of y to (n_samples, ), for example using ravel().\n",
            "  y = column_or_1d(y, warn=True)\n"
          ]
        },
        {
          "output_type": "stream",
          "name": "stdout",
          "text": [
            "[CV 3/5] END .....C=1, gamma=0.1, kernel=linear;, score=0.925 total time=   0.3s\n",
            "[CV 4/5] END .....C=1, gamma=0.1, kernel=linear;, score=0.911 total time=   0.2s\n"
          ]
        },
        {
          "output_type": "stream",
          "name": "stderr",
          "text": [
            "/usr/local/lib/python3.10/dist-packages/sklearn/utils/validation.py:1143: DataConversionWarning: A column-vector y was passed when a 1d array was expected. Please change the shape of y to (n_samples, ), for example using ravel().\n",
            "  y = column_or_1d(y, warn=True)\n",
            "/usr/local/lib/python3.10/dist-packages/sklearn/utils/validation.py:1143: DataConversionWarning: A column-vector y was passed when a 1d array was expected. Please change the shape of y to (n_samples, ), for example using ravel().\n",
            "  y = column_or_1d(y, warn=True)\n"
          ]
        },
        {
          "output_type": "stream",
          "name": "stdout",
          "text": [
            "[CV 5/5] END .....C=1, gamma=0.1, kernel=linear;, score=0.918 total time=   0.1s\n",
            "[CV 1/5] END ....C=1, gamma=0.01, kernel=linear;, score=0.908 total time=   0.1s\n"
          ]
        },
        {
          "output_type": "stream",
          "name": "stderr",
          "text": [
            "/usr/local/lib/python3.10/dist-packages/sklearn/utils/validation.py:1143: DataConversionWarning: A column-vector y was passed when a 1d array was expected. Please change the shape of y to (n_samples, ), for example using ravel().\n",
            "  y = column_or_1d(y, warn=True)\n",
            "/usr/local/lib/python3.10/dist-packages/sklearn/utils/validation.py:1143: DataConversionWarning: A column-vector y was passed when a 1d array was expected. Please change the shape of y to (n_samples, ), for example using ravel().\n",
            "  y = column_or_1d(y, warn=True)\n"
          ]
        },
        {
          "output_type": "stream",
          "name": "stdout",
          "text": [
            "[CV 2/5] END ....C=1, gamma=0.01, kernel=linear;, score=0.926 total time=   0.2s\n",
            "[CV 3/5] END ....C=1, gamma=0.01, kernel=linear;, score=0.925 total time=   0.2s\n"
          ]
        },
        {
          "output_type": "stream",
          "name": "stderr",
          "text": [
            "/usr/local/lib/python3.10/dist-packages/sklearn/utils/validation.py:1143: DataConversionWarning: A column-vector y was passed when a 1d array was expected. Please change the shape of y to (n_samples, ), for example using ravel().\n",
            "  y = column_or_1d(y, warn=True)\n",
            "/usr/local/lib/python3.10/dist-packages/sklearn/utils/validation.py:1143: DataConversionWarning: A column-vector y was passed when a 1d array was expected. Please change the shape of y to (n_samples, ), for example using ravel().\n",
            "  y = column_or_1d(y, warn=True)\n"
          ]
        },
        {
          "output_type": "stream",
          "name": "stdout",
          "text": [
            "[CV 4/5] END ....C=1, gamma=0.01, kernel=linear;, score=0.911 total time=   0.2s\n",
            "[CV 5/5] END ....C=1, gamma=0.01, kernel=linear;, score=0.918 total time=   0.2s\n"
          ]
        },
        {
          "output_type": "stream",
          "name": "stderr",
          "text": [
            "/usr/local/lib/python3.10/dist-packages/sklearn/utils/validation.py:1143: DataConversionWarning: A column-vector y was passed when a 1d array was expected. Please change the shape of y to (n_samples, ), for example using ravel().\n",
            "  y = column_or_1d(y, warn=True)\n",
            "/usr/local/lib/python3.10/dist-packages/sklearn/utils/validation.py:1143: DataConversionWarning: A column-vector y was passed when a 1d array was expected. Please change the shape of y to (n_samples, ), for example using ravel().\n",
            "  y = column_or_1d(y, warn=True)\n"
          ]
        },
        {
          "output_type": "stream",
          "name": "stdout",
          "text": [
            "[CV 1/5] END ...C=1, gamma=0.001, kernel=linear;, score=0.908 total time=   0.2s\n",
            "[CV 2/5] END ...C=1, gamma=0.001, kernel=linear;, score=0.926 total time=   0.2s\n"
          ]
        },
        {
          "output_type": "stream",
          "name": "stderr",
          "text": [
            "/usr/local/lib/python3.10/dist-packages/sklearn/utils/validation.py:1143: DataConversionWarning: A column-vector y was passed when a 1d array was expected. Please change the shape of y to (n_samples, ), for example using ravel().\n",
            "  y = column_or_1d(y, warn=True)\n",
            "/usr/local/lib/python3.10/dist-packages/sklearn/utils/validation.py:1143: DataConversionWarning: A column-vector y was passed when a 1d array was expected. Please change the shape of y to (n_samples, ), for example using ravel().\n",
            "  y = column_or_1d(y, warn=True)\n"
          ]
        },
        {
          "output_type": "stream",
          "name": "stdout",
          "text": [
            "[CV 3/5] END ...C=1, gamma=0.001, kernel=linear;, score=0.925 total time=   0.2s\n",
            "[CV 4/5] END ...C=1, gamma=0.001, kernel=linear;, score=0.911 total time=   0.2s\n"
          ]
        },
        {
          "output_type": "stream",
          "name": "stderr",
          "text": [
            "/usr/local/lib/python3.10/dist-packages/sklearn/utils/validation.py:1143: DataConversionWarning: A column-vector y was passed when a 1d array was expected. Please change the shape of y to (n_samples, ), for example using ravel().\n",
            "  y = column_or_1d(y, warn=True)\n",
            "/usr/local/lib/python3.10/dist-packages/sklearn/utils/validation.py:1143: DataConversionWarning: A column-vector y was passed when a 1d array was expected. Please change the shape of y to (n_samples, ), for example using ravel().\n",
            "  y = column_or_1d(y, warn=True)\n"
          ]
        },
        {
          "output_type": "stream",
          "name": "stdout",
          "text": [
            "[CV 5/5] END ...C=1, gamma=0.001, kernel=linear;, score=0.918 total time=   0.1s\n",
            "[CV 1/5] END ..C=1, gamma=0.0001, kernel=linear;, score=0.908 total time=   0.2s\n"
          ]
        },
        {
          "output_type": "stream",
          "name": "stderr",
          "text": [
            "/usr/local/lib/python3.10/dist-packages/sklearn/utils/validation.py:1143: DataConversionWarning: A column-vector y was passed when a 1d array was expected. Please change the shape of y to (n_samples, ), for example using ravel().\n",
            "  y = column_or_1d(y, warn=True)\n",
            "/usr/local/lib/python3.10/dist-packages/sklearn/utils/validation.py:1143: DataConversionWarning: A column-vector y was passed when a 1d array was expected. Please change the shape of y to (n_samples, ), for example using ravel().\n",
            "  y = column_or_1d(y, warn=True)\n"
          ]
        },
        {
          "output_type": "stream",
          "name": "stdout",
          "text": [
            "[CV 2/5] END ..C=1, gamma=0.0001, kernel=linear;, score=0.926 total time=   0.2s\n",
            "[CV 3/5] END ..C=1, gamma=0.0001, kernel=linear;, score=0.925 total time=   0.2s\n"
          ]
        },
        {
          "output_type": "stream",
          "name": "stderr",
          "text": [
            "/usr/local/lib/python3.10/dist-packages/sklearn/utils/validation.py:1143: DataConversionWarning: A column-vector y was passed when a 1d array was expected. Please change the shape of y to (n_samples, ), for example using ravel().\n",
            "  y = column_or_1d(y, warn=True)\n",
            "/usr/local/lib/python3.10/dist-packages/sklearn/utils/validation.py:1143: DataConversionWarning: A column-vector y was passed when a 1d array was expected. Please change the shape of y to (n_samples, ), for example using ravel().\n",
            "  y = column_or_1d(y, warn=True)\n"
          ]
        },
        {
          "output_type": "stream",
          "name": "stdout",
          "text": [
            "[CV 4/5] END ..C=1, gamma=0.0001, kernel=linear;, score=0.911 total time=   0.2s\n",
            "[CV 5/5] END ..C=1, gamma=0.0001, kernel=linear;, score=0.918 total time=   0.1s\n"
          ]
        },
        {
          "output_type": "stream",
          "name": "stderr",
          "text": [
            "/usr/local/lib/python3.10/dist-packages/sklearn/utils/validation.py:1143: DataConversionWarning: A column-vector y was passed when a 1d array was expected. Please change the shape of y to (n_samples, ), for example using ravel().\n",
            "  y = column_or_1d(y, warn=True)\n",
            "/usr/local/lib/python3.10/dist-packages/sklearn/utils/validation.py:1143: DataConversionWarning: A column-vector y was passed when a 1d array was expected. Please change the shape of y to (n_samples, ), for example using ravel().\n",
            "  y = column_or_1d(y, warn=True)\n"
          ]
        },
        {
          "output_type": "stream",
          "name": "stdout",
          "text": [
            "[CV 1/5] END ......C=10, gamma=1, kernel=linear;, score=0.909 total time=   0.6s\n"
          ]
        },
        {
          "output_type": "stream",
          "name": "stderr",
          "text": [
            "/usr/local/lib/python3.10/dist-packages/sklearn/utils/validation.py:1143: DataConversionWarning: A column-vector y was passed when a 1d array was expected. Please change the shape of y to (n_samples, ), for example using ravel().\n",
            "  y = column_or_1d(y, warn=True)\n"
          ]
        },
        {
          "output_type": "stream",
          "name": "stdout",
          "text": [
            "[CV 2/5] END ......C=10, gamma=1, kernel=linear;, score=0.925 total time=   0.6s\n"
          ]
        },
        {
          "output_type": "stream",
          "name": "stderr",
          "text": [
            "/usr/local/lib/python3.10/dist-packages/sklearn/utils/validation.py:1143: DataConversionWarning: A column-vector y was passed when a 1d array was expected. Please change the shape of y to (n_samples, ), for example using ravel().\n",
            "  y = column_or_1d(y, warn=True)\n"
          ]
        },
        {
          "output_type": "stream",
          "name": "stdout",
          "text": [
            "[CV 3/5] END ......C=10, gamma=1, kernel=linear;, score=0.925 total time=   0.6s\n"
          ]
        },
        {
          "output_type": "stream",
          "name": "stderr",
          "text": [
            "/usr/local/lib/python3.10/dist-packages/sklearn/utils/validation.py:1143: DataConversionWarning: A column-vector y was passed when a 1d array was expected. Please change the shape of y to (n_samples, ), for example using ravel().\n",
            "  y = column_or_1d(y, warn=True)\n"
          ]
        },
        {
          "output_type": "stream",
          "name": "stdout",
          "text": [
            "[CV 4/5] END ......C=10, gamma=1, kernel=linear;, score=0.911 total time=   0.6s\n"
          ]
        },
        {
          "output_type": "stream",
          "name": "stderr",
          "text": [
            "/usr/local/lib/python3.10/dist-packages/sklearn/utils/validation.py:1143: DataConversionWarning: A column-vector y was passed when a 1d array was expected. Please change the shape of y to (n_samples, ), for example using ravel().\n",
            "  y = column_or_1d(y, warn=True)\n"
          ]
        },
        {
          "output_type": "stream",
          "name": "stdout",
          "text": [
            "[CV 5/5] END ......C=10, gamma=1, kernel=linear;, score=0.917 total time=   0.6s\n"
          ]
        },
        {
          "output_type": "stream",
          "name": "stderr",
          "text": [
            "/usr/local/lib/python3.10/dist-packages/sklearn/utils/validation.py:1143: DataConversionWarning: A column-vector y was passed when a 1d array was expected. Please change the shape of y to (n_samples, ), for example using ravel().\n",
            "  y = column_or_1d(y, warn=True)\n"
          ]
        },
        {
          "output_type": "stream",
          "name": "stdout",
          "text": [
            "[CV 1/5] END ....C=10, gamma=0.1, kernel=linear;, score=0.909 total time=   0.5s\n"
          ]
        },
        {
          "output_type": "stream",
          "name": "stderr",
          "text": [
            "/usr/local/lib/python3.10/dist-packages/sklearn/utils/validation.py:1143: DataConversionWarning: A column-vector y was passed when a 1d array was expected. Please change the shape of y to (n_samples, ), for example using ravel().\n",
            "  y = column_or_1d(y, warn=True)\n"
          ]
        },
        {
          "output_type": "stream",
          "name": "stdout",
          "text": [
            "[CV 2/5] END ....C=10, gamma=0.1, kernel=linear;, score=0.925 total time=   0.6s\n"
          ]
        },
        {
          "output_type": "stream",
          "name": "stderr",
          "text": [
            "/usr/local/lib/python3.10/dist-packages/sklearn/utils/validation.py:1143: DataConversionWarning: A column-vector y was passed when a 1d array was expected. Please change the shape of y to (n_samples, ), for example using ravel().\n",
            "  y = column_or_1d(y, warn=True)\n"
          ]
        },
        {
          "output_type": "stream",
          "name": "stdout",
          "text": [
            "[CV 3/5] END ....C=10, gamma=0.1, kernel=linear;, score=0.925 total time=   0.6s\n"
          ]
        },
        {
          "output_type": "stream",
          "name": "stderr",
          "text": [
            "/usr/local/lib/python3.10/dist-packages/sklearn/utils/validation.py:1143: DataConversionWarning: A column-vector y was passed when a 1d array was expected. Please change the shape of y to (n_samples, ), for example using ravel().\n",
            "  y = column_or_1d(y, warn=True)\n"
          ]
        },
        {
          "output_type": "stream",
          "name": "stdout",
          "text": [
            "[CV 4/5] END ....C=10, gamma=0.1, kernel=linear;, score=0.911 total time=   0.6s\n"
          ]
        },
        {
          "output_type": "stream",
          "name": "stderr",
          "text": [
            "/usr/local/lib/python3.10/dist-packages/sklearn/utils/validation.py:1143: DataConversionWarning: A column-vector y was passed when a 1d array was expected. Please change the shape of y to (n_samples, ), for example using ravel().\n",
            "  y = column_or_1d(y, warn=True)\n"
          ]
        },
        {
          "output_type": "stream",
          "name": "stdout",
          "text": [
            "[CV 5/5] END ....C=10, gamma=0.1, kernel=linear;, score=0.917 total time=   0.8s\n"
          ]
        },
        {
          "output_type": "stream",
          "name": "stderr",
          "text": [
            "/usr/local/lib/python3.10/dist-packages/sklearn/utils/validation.py:1143: DataConversionWarning: A column-vector y was passed when a 1d array was expected. Please change the shape of y to (n_samples, ), for example using ravel().\n",
            "  y = column_or_1d(y, warn=True)\n"
          ]
        },
        {
          "output_type": "stream",
          "name": "stdout",
          "text": [
            "[CV 1/5] END ...C=10, gamma=0.01, kernel=linear;, score=0.909 total time=   0.9s\n"
          ]
        },
        {
          "output_type": "stream",
          "name": "stderr",
          "text": [
            "/usr/local/lib/python3.10/dist-packages/sklearn/utils/validation.py:1143: DataConversionWarning: A column-vector y was passed when a 1d array was expected. Please change the shape of y to (n_samples, ), for example using ravel().\n",
            "  y = column_or_1d(y, warn=True)\n"
          ]
        },
        {
          "output_type": "stream",
          "name": "stdout",
          "text": [
            "[CV 2/5] END ...C=10, gamma=0.01, kernel=linear;, score=0.925 total time=   1.0s\n"
          ]
        },
        {
          "output_type": "stream",
          "name": "stderr",
          "text": [
            "/usr/local/lib/python3.10/dist-packages/sklearn/utils/validation.py:1143: DataConversionWarning: A column-vector y was passed when a 1d array was expected. Please change the shape of y to (n_samples, ), for example using ravel().\n",
            "  y = column_or_1d(y, warn=True)\n"
          ]
        },
        {
          "output_type": "stream",
          "name": "stdout",
          "text": [
            "[CV 3/5] END ...C=10, gamma=0.01, kernel=linear;, score=0.925 total time=   0.9s\n"
          ]
        },
        {
          "output_type": "stream",
          "name": "stderr",
          "text": [
            "/usr/local/lib/python3.10/dist-packages/sklearn/utils/validation.py:1143: DataConversionWarning: A column-vector y was passed when a 1d array was expected. Please change the shape of y to (n_samples, ), for example using ravel().\n",
            "  y = column_or_1d(y, warn=True)\n"
          ]
        },
        {
          "output_type": "stream",
          "name": "stdout",
          "text": [
            "[CV 4/5] END ...C=10, gamma=0.01, kernel=linear;, score=0.911 total time=   0.6s\n"
          ]
        },
        {
          "output_type": "stream",
          "name": "stderr",
          "text": [
            "/usr/local/lib/python3.10/dist-packages/sklearn/utils/validation.py:1143: DataConversionWarning: A column-vector y was passed when a 1d array was expected. Please change the shape of y to (n_samples, ), for example using ravel().\n",
            "  y = column_or_1d(y, warn=True)\n"
          ]
        },
        {
          "output_type": "stream",
          "name": "stdout",
          "text": [
            "[CV 5/5] END ...C=10, gamma=0.01, kernel=linear;, score=0.917 total time=   0.5s\n"
          ]
        },
        {
          "output_type": "stream",
          "name": "stderr",
          "text": [
            "/usr/local/lib/python3.10/dist-packages/sklearn/utils/validation.py:1143: DataConversionWarning: A column-vector y was passed when a 1d array was expected. Please change the shape of y to (n_samples, ), for example using ravel().\n",
            "  y = column_or_1d(y, warn=True)\n"
          ]
        },
        {
          "output_type": "stream",
          "name": "stdout",
          "text": [
            "[CV 1/5] END ..C=10, gamma=0.001, kernel=linear;, score=0.909 total time=   0.6s\n"
          ]
        },
        {
          "output_type": "stream",
          "name": "stderr",
          "text": [
            "/usr/local/lib/python3.10/dist-packages/sklearn/utils/validation.py:1143: DataConversionWarning: A column-vector y was passed when a 1d array was expected. Please change the shape of y to (n_samples, ), for example using ravel().\n",
            "  y = column_or_1d(y, warn=True)\n"
          ]
        },
        {
          "output_type": "stream",
          "name": "stdout",
          "text": [
            "[CV 2/5] END ..C=10, gamma=0.001, kernel=linear;, score=0.925 total time=   0.6s\n"
          ]
        },
        {
          "output_type": "stream",
          "name": "stderr",
          "text": [
            "/usr/local/lib/python3.10/dist-packages/sklearn/utils/validation.py:1143: DataConversionWarning: A column-vector y was passed when a 1d array was expected. Please change the shape of y to (n_samples, ), for example using ravel().\n",
            "  y = column_or_1d(y, warn=True)\n"
          ]
        },
        {
          "output_type": "stream",
          "name": "stdout",
          "text": [
            "[CV 3/5] END ..C=10, gamma=0.001, kernel=linear;, score=0.925 total time=   0.6s\n"
          ]
        },
        {
          "output_type": "stream",
          "name": "stderr",
          "text": [
            "/usr/local/lib/python3.10/dist-packages/sklearn/utils/validation.py:1143: DataConversionWarning: A column-vector y was passed when a 1d array was expected. Please change the shape of y to (n_samples, ), for example using ravel().\n",
            "  y = column_or_1d(y, warn=True)\n"
          ]
        },
        {
          "output_type": "stream",
          "name": "stdout",
          "text": [
            "[CV 4/5] END ..C=10, gamma=0.001, kernel=linear;, score=0.911 total time=   0.6s\n"
          ]
        },
        {
          "output_type": "stream",
          "name": "stderr",
          "text": [
            "/usr/local/lib/python3.10/dist-packages/sklearn/utils/validation.py:1143: DataConversionWarning: A column-vector y was passed when a 1d array was expected. Please change the shape of y to (n_samples, ), for example using ravel().\n",
            "  y = column_or_1d(y, warn=True)\n"
          ]
        },
        {
          "output_type": "stream",
          "name": "stdout",
          "text": [
            "[CV 5/5] END ..C=10, gamma=0.001, kernel=linear;, score=0.917 total time=   0.6s\n"
          ]
        },
        {
          "output_type": "stream",
          "name": "stderr",
          "text": [
            "/usr/local/lib/python3.10/dist-packages/sklearn/utils/validation.py:1143: DataConversionWarning: A column-vector y was passed when a 1d array was expected. Please change the shape of y to (n_samples, ), for example using ravel().\n",
            "  y = column_or_1d(y, warn=True)\n"
          ]
        },
        {
          "output_type": "stream",
          "name": "stdout",
          "text": [
            "[CV 1/5] END .C=10, gamma=0.0001, kernel=linear;, score=0.909 total time=   0.5s\n"
          ]
        },
        {
          "output_type": "stream",
          "name": "stderr",
          "text": [
            "/usr/local/lib/python3.10/dist-packages/sklearn/utils/validation.py:1143: DataConversionWarning: A column-vector y was passed when a 1d array was expected. Please change the shape of y to (n_samples, ), for example using ravel().\n",
            "  y = column_or_1d(y, warn=True)\n"
          ]
        },
        {
          "output_type": "stream",
          "name": "stdout",
          "text": [
            "[CV 2/5] END .C=10, gamma=0.0001, kernel=linear;, score=0.925 total time=   0.6s\n"
          ]
        },
        {
          "output_type": "stream",
          "name": "stderr",
          "text": [
            "/usr/local/lib/python3.10/dist-packages/sklearn/utils/validation.py:1143: DataConversionWarning: A column-vector y was passed when a 1d array was expected. Please change the shape of y to (n_samples, ), for example using ravel().\n",
            "  y = column_or_1d(y, warn=True)\n"
          ]
        },
        {
          "output_type": "stream",
          "name": "stdout",
          "text": [
            "[CV 3/5] END .C=10, gamma=0.0001, kernel=linear;, score=0.925 total time=   0.6s\n"
          ]
        },
        {
          "output_type": "stream",
          "name": "stderr",
          "text": [
            "/usr/local/lib/python3.10/dist-packages/sklearn/utils/validation.py:1143: DataConversionWarning: A column-vector y was passed when a 1d array was expected. Please change the shape of y to (n_samples, ), for example using ravel().\n",
            "  y = column_or_1d(y, warn=True)\n"
          ]
        },
        {
          "output_type": "stream",
          "name": "stdout",
          "text": [
            "[CV 4/5] END .C=10, gamma=0.0001, kernel=linear;, score=0.911 total time=   0.6s\n"
          ]
        },
        {
          "output_type": "stream",
          "name": "stderr",
          "text": [
            "/usr/local/lib/python3.10/dist-packages/sklearn/utils/validation.py:1143: DataConversionWarning: A column-vector y was passed when a 1d array was expected. Please change the shape of y to (n_samples, ), for example using ravel().\n",
            "  y = column_or_1d(y, warn=True)\n"
          ]
        },
        {
          "output_type": "stream",
          "name": "stdout",
          "text": [
            "[CV 5/5] END .C=10, gamma=0.0001, kernel=linear;, score=0.917 total time=   0.6s\n"
          ]
        },
        {
          "output_type": "stream",
          "name": "stderr",
          "text": [
            "/usr/local/lib/python3.10/dist-packages/sklearn/utils/validation.py:1143: DataConversionWarning: A column-vector y was passed when a 1d array was expected. Please change the shape of y to (n_samples, ), for example using ravel().\n",
            "  y = column_or_1d(y, warn=True)\n"
          ]
        },
        {
          "output_type": "stream",
          "name": "stdout",
          "text": [
            "[CV 1/5] END .....C=100, gamma=1, kernel=linear;, score=0.908 total time=   2.6s\n"
          ]
        },
        {
          "output_type": "stream",
          "name": "stderr",
          "text": [
            "/usr/local/lib/python3.10/dist-packages/sklearn/utils/validation.py:1143: DataConversionWarning: A column-vector y was passed when a 1d array was expected. Please change the shape of y to (n_samples, ), for example using ravel().\n",
            "  y = column_or_1d(y, warn=True)\n"
          ]
        },
        {
          "output_type": "stream",
          "name": "stdout",
          "text": [
            "[CV 2/5] END .....C=100, gamma=1, kernel=linear;, score=0.925 total time=   4.3s\n"
          ]
        },
        {
          "output_type": "stream",
          "name": "stderr",
          "text": [
            "/usr/local/lib/python3.10/dist-packages/sklearn/utils/validation.py:1143: DataConversionWarning: A column-vector y was passed when a 1d array was expected. Please change the shape of y to (n_samples, ), for example using ravel().\n",
            "  y = column_or_1d(y, warn=True)\n"
          ]
        },
        {
          "output_type": "stream",
          "name": "stdout",
          "text": [
            "[CV 3/5] END .....C=100, gamma=1, kernel=linear;, score=0.925 total time=   3.2s\n"
          ]
        },
        {
          "output_type": "stream",
          "name": "stderr",
          "text": [
            "/usr/local/lib/python3.10/dist-packages/sklearn/utils/validation.py:1143: DataConversionWarning: A column-vector y was passed when a 1d array was expected. Please change the shape of y to (n_samples, ), for example using ravel().\n",
            "  y = column_or_1d(y, warn=True)\n"
          ]
        },
        {
          "output_type": "stream",
          "name": "stdout",
          "text": [
            "[CV 4/5] END .....C=100, gamma=1, kernel=linear;, score=0.911 total time=   3.1s\n"
          ]
        },
        {
          "output_type": "stream",
          "name": "stderr",
          "text": [
            "/usr/local/lib/python3.10/dist-packages/sklearn/utils/validation.py:1143: DataConversionWarning: A column-vector y was passed when a 1d array was expected. Please change the shape of y to (n_samples, ), for example using ravel().\n",
            "  y = column_or_1d(y, warn=True)\n"
          ]
        },
        {
          "output_type": "stream",
          "name": "stdout",
          "text": [
            "[CV 5/5] END .....C=100, gamma=1, kernel=linear;, score=0.918 total time=   3.4s\n"
          ]
        },
        {
          "output_type": "stream",
          "name": "stderr",
          "text": [
            "/usr/local/lib/python3.10/dist-packages/sklearn/utils/validation.py:1143: DataConversionWarning: A column-vector y was passed when a 1d array was expected. Please change the shape of y to (n_samples, ), for example using ravel().\n",
            "  y = column_or_1d(y, warn=True)\n"
          ]
        },
        {
          "output_type": "stream",
          "name": "stdout",
          "text": [
            "[CV 1/5] END ...C=100, gamma=0.1, kernel=linear;, score=0.908 total time=   3.5s\n"
          ]
        },
        {
          "output_type": "stream",
          "name": "stderr",
          "text": [
            "/usr/local/lib/python3.10/dist-packages/sklearn/utils/validation.py:1143: DataConversionWarning: A column-vector y was passed when a 1d array was expected. Please change the shape of y to (n_samples, ), for example using ravel().\n",
            "  y = column_or_1d(y, warn=True)\n"
          ]
        },
        {
          "output_type": "stream",
          "name": "stdout",
          "text": [
            "[CV 2/5] END ...C=100, gamma=0.1, kernel=linear;, score=0.925 total time=   3.1s\n"
          ]
        },
        {
          "output_type": "stream",
          "name": "stderr",
          "text": [
            "/usr/local/lib/python3.10/dist-packages/sklearn/utils/validation.py:1143: DataConversionWarning: A column-vector y was passed when a 1d array was expected. Please change the shape of y to (n_samples, ), for example using ravel().\n",
            "  y = column_or_1d(y, warn=True)\n"
          ]
        },
        {
          "output_type": "stream",
          "name": "stdout",
          "text": [
            "[CV 3/5] END ...C=100, gamma=0.1, kernel=linear;, score=0.925 total time=   3.1s\n"
          ]
        },
        {
          "output_type": "stream",
          "name": "stderr",
          "text": [
            "/usr/local/lib/python3.10/dist-packages/sklearn/utils/validation.py:1143: DataConversionWarning: A column-vector y was passed when a 1d array was expected. Please change the shape of y to (n_samples, ), for example using ravel().\n",
            "  y = column_or_1d(y, warn=True)\n"
          ]
        },
        {
          "output_type": "stream",
          "name": "stdout",
          "text": [
            "[CV 4/5] END ...C=100, gamma=0.1, kernel=linear;, score=0.911 total time=   3.4s\n"
          ]
        },
        {
          "output_type": "stream",
          "name": "stderr",
          "text": [
            "/usr/local/lib/python3.10/dist-packages/sklearn/utils/validation.py:1143: DataConversionWarning: A column-vector y was passed when a 1d array was expected. Please change the shape of y to (n_samples, ), for example using ravel().\n",
            "  y = column_or_1d(y, warn=True)\n"
          ]
        },
        {
          "output_type": "stream",
          "name": "stdout",
          "text": [
            "[CV 5/5] END ...C=100, gamma=0.1, kernel=linear;, score=0.918 total time=   3.8s\n"
          ]
        },
        {
          "output_type": "stream",
          "name": "stderr",
          "text": [
            "/usr/local/lib/python3.10/dist-packages/sklearn/utils/validation.py:1143: DataConversionWarning: A column-vector y was passed when a 1d array was expected. Please change the shape of y to (n_samples, ), for example using ravel().\n",
            "  y = column_or_1d(y, warn=True)\n"
          ]
        },
        {
          "output_type": "stream",
          "name": "stdout",
          "text": [
            "[CV 1/5] END ..C=100, gamma=0.01, kernel=linear;, score=0.908 total time=   2.6s\n"
          ]
        },
        {
          "output_type": "stream",
          "name": "stderr",
          "text": [
            "/usr/local/lib/python3.10/dist-packages/sklearn/utils/validation.py:1143: DataConversionWarning: A column-vector y was passed when a 1d array was expected. Please change the shape of y to (n_samples, ), for example using ravel().\n",
            "  y = column_or_1d(y, warn=True)\n"
          ]
        },
        {
          "output_type": "stream",
          "name": "stdout",
          "text": [
            "[CV 2/5] END ..C=100, gamma=0.01, kernel=linear;, score=0.925 total time=   3.1s\n"
          ]
        },
        {
          "output_type": "stream",
          "name": "stderr",
          "text": [
            "/usr/local/lib/python3.10/dist-packages/sklearn/utils/validation.py:1143: DataConversionWarning: A column-vector y was passed when a 1d array was expected. Please change the shape of y to (n_samples, ), for example using ravel().\n",
            "  y = column_or_1d(y, warn=True)\n"
          ]
        },
        {
          "output_type": "stream",
          "name": "stdout",
          "text": [
            "[CV 3/5] END ..C=100, gamma=0.01, kernel=linear;, score=0.925 total time=   3.6s\n"
          ]
        },
        {
          "output_type": "stream",
          "name": "stderr",
          "text": [
            "/usr/local/lib/python3.10/dist-packages/sklearn/utils/validation.py:1143: DataConversionWarning: A column-vector y was passed when a 1d array was expected. Please change the shape of y to (n_samples, ), for example using ravel().\n",
            "  y = column_or_1d(y, warn=True)\n"
          ]
        },
        {
          "output_type": "stream",
          "name": "stdout",
          "text": [
            "[CV 4/5] END ..C=100, gamma=0.01, kernel=linear;, score=0.911 total time=   3.8s\n"
          ]
        },
        {
          "output_type": "stream",
          "name": "stderr",
          "text": [
            "/usr/local/lib/python3.10/dist-packages/sklearn/utils/validation.py:1143: DataConversionWarning: A column-vector y was passed when a 1d array was expected. Please change the shape of y to (n_samples, ), for example using ravel().\n",
            "  y = column_or_1d(y, warn=True)\n"
          ]
        },
        {
          "output_type": "stream",
          "name": "stdout",
          "text": [
            "[CV 5/5] END ..C=100, gamma=0.01, kernel=linear;, score=0.918 total time=   3.8s\n"
          ]
        },
        {
          "output_type": "stream",
          "name": "stderr",
          "text": [
            "/usr/local/lib/python3.10/dist-packages/sklearn/utils/validation.py:1143: DataConversionWarning: A column-vector y was passed when a 1d array was expected. Please change the shape of y to (n_samples, ), for example using ravel().\n",
            "  y = column_or_1d(y, warn=True)\n"
          ]
        },
        {
          "output_type": "stream",
          "name": "stdout",
          "text": [
            "[CV 1/5] END .C=100, gamma=0.001, kernel=linear;, score=0.908 total time=   2.6s\n"
          ]
        },
        {
          "output_type": "stream",
          "name": "stderr",
          "text": [
            "/usr/local/lib/python3.10/dist-packages/sklearn/utils/validation.py:1143: DataConversionWarning: A column-vector y was passed when a 1d array was expected. Please change the shape of y to (n_samples, ), for example using ravel().\n",
            "  y = column_or_1d(y, warn=True)\n"
          ]
        },
        {
          "output_type": "stream",
          "name": "stdout",
          "text": [
            "[CV 2/5] END .C=100, gamma=0.001, kernel=linear;, score=0.925 total time=   4.2s\n"
          ]
        },
        {
          "output_type": "stream",
          "name": "stderr",
          "text": [
            "/usr/local/lib/python3.10/dist-packages/sklearn/utils/validation.py:1143: DataConversionWarning: A column-vector y was passed when a 1d array was expected. Please change the shape of y to (n_samples, ), for example using ravel().\n",
            "  y = column_or_1d(y, warn=True)\n"
          ]
        },
        {
          "output_type": "stream",
          "name": "stdout",
          "text": [
            "[CV 3/5] END .C=100, gamma=0.001, kernel=linear;, score=0.925 total time=   3.5s\n"
          ]
        },
        {
          "output_type": "stream",
          "name": "stderr",
          "text": [
            "/usr/local/lib/python3.10/dist-packages/sklearn/utils/validation.py:1143: DataConversionWarning: A column-vector y was passed when a 1d array was expected. Please change the shape of y to (n_samples, ), for example using ravel().\n",
            "  y = column_or_1d(y, warn=True)\n"
          ]
        },
        {
          "output_type": "stream",
          "name": "stdout",
          "text": [
            "[CV 4/5] END .C=100, gamma=0.001, kernel=linear;, score=0.911 total time=   3.0s\n"
          ]
        },
        {
          "output_type": "stream",
          "name": "stderr",
          "text": [
            "/usr/local/lib/python3.10/dist-packages/sklearn/utils/validation.py:1143: DataConversionWarning: A column-vector y was passed when a 1d array was expected. Please change the shape of y to (n_samples, ), for example using ravel().\n",
            "  y = column_or_1d(y, warn=True)\n"
          ]
        },
        {
          "output_type": "stream",
          "name": "stdout",
          "text": [
            "[CV 5/5] END .C=100, gamma=0.001, kernel=linear;, score=0.918 total time=   3.0s\n"
          ]
        },
        {
          "output_type": "stream",
          "name": "stderr",
          "text": [
            "/usr/local/lib/python3.10/dist-packages/sklearn/utils/validation.py:1143: DataConversionWarning: A column-vector y was passed when a 1d array was expected. Please change the shape of y to (n_samples, ), for example using ravel().\n",
            "  y = column_or_1d(y, warn=True)\n"
          ]
        },
        {
          "output_type": "stream",
          "name": "stdout",
          "text": [
            "[CV 1/5] END C=100, gamma=0.0001, kernel=linear;, score=0.908 total time=   3.7s\n"
          ]
        },
        {
          "output_type": "stream",
          "name": "stderr",
          "text": [
            "/usr/local/lib/python3.10/dist-packages/sklearn/utils/validation.py:1143: DataConversionWarning: A column-vector y was passed when a 1d array was expected. Please change the shape of y to (n_samples, ), for example using ravel().\n",
            "  y = column_or_1d(y, warn=True)\n"
          ]
        },
        {
          "output_type": "stream",
          "name": "stdout",
          "text": [
            "[CV 2/5] END C=100, gamma=0.0001, kernel=linear;, score=0.925 total time=   3.5s\n"
          ]
        },
        {
          "output_type": "stream",
          "name": "stderr",
          "text": [
            "/usr/local/lib/python3.10/dist-packages/sklearn/utils/validation.py:1143: DataConversionWarning: A column-vector y was passed when a 1d array was expected. Please change the shape of y to (n_samples, ), for example using ravel().\n",
            "  y = column_or_1d(y, warn=True)\n"
          ]
        },
        {
          "output_type": "stream",
          "name": "stdout",
          "text": [
            "[CV 3/5] END C=100, gamma=0.0001, kernel=linear;, score=0.925 total time=   3.1s\n"
          ]
        },
        {
          "output_type": "stream",
          "name": "stderr",
          "text": [
            "/usr/local/lib/python3.10/dist-packages/sklearn/utils/validation.py:1143: DataConversionWarning: A column-vector y was passed when a 1d array was expected. Please change the shape of y to (n_samples, ), for example using ravel().\n",
            "  y = column_or_1d(y, warn=True)\n"
          ]
        },
        {
          "output_type": "stream",
          "name": "stdout",
          "text": [
            "[CV 4/5] END C=100, gamma=0.0001, kernel=linear;, score=0.911 total time=   3.0s\n"
          ]
        },
        {
          "output_type": "stream",
          "name": "stderr",
          "text": [
            "/usr/local/lib/python3.10/dist-packages/sklearn/utils/validation.py:1143: DataConversionWarning: A column-vector y was passed when a 1d array was expected. Please change the shape of y to (n_samples, ), for example using ravel().\n",
            "  y = column_or_1d(y, warn=True)\n"
          ]
        },
        {
          "output_type": "stream",
          "name": "stdout",
          "text": [
            "[CV 5/5] END C=100, gamma=0.0001, kernel=linear;, score=0.918 total time=   4.6s\n"
          ]
        },
        {
          "output_type": "stream",
          "name": "stderr",
          "text": [
            "/usr/local/lib/python3.10/dist-packages/sklearn/utils/validation.py:1143: DataConversionWarning: A column-vector y was passed when a 1d array was expected. Please change the shape of y to (n_samples, ), for example using ravel().\n",
            "  y = column_or_1d(y, warn=True)\n"
          ]
        },
        {
          "output_type": "stream",
          "name": "stdout",
          "text": [
            "[CV 1/5] END ....C=1000, gamma=1, kernel=linear;, score=0.908 total time=  19.3s\n"
          ]
        },
        {
          "output_type": "stream",
          "name": "stderr",
          "text": [
            "/usr/local/lib/python3.10/dist-packages/sklearn/utils/validation.py:1143: DataConversionWarning: A column-vector y was passed when a 1d array was expected. Please change the shape of y to (n_samples, ), for example using ravel().\n",
            "  y = column_or_1d(y, warn=True)\n"
          ]
        },
        {
          "output_type": "stream",
          "name": "stdout",
          "text": [
            "[CV 2/5] END ....C=1000, gamma=1, kernel=linear;, score=0.926 total time=  24.3s\n"
          ]
        },
        {
          "output_type": "stream",
          "name": "stderr",
          "text": [
            "/usr/local/lib/python3.10/dist-packages/sklearn/utils/validation.py:1143: DataConversionWarning: A column-vector y was passed when a 1d array was expected. Please change the shape of y to (n_samples, ), for example using ravel().\n",
            "  y = column_or_1d(y, warn=True)\n"
          ]
        },
        {
          "output_type": "stream",
          "name": "stdout",
          "text": [
            "[CV 3/5] END ....C=1000, gamma=1, kernel=linear;, score=0.925 total time=  22.4s\n"
          ]
        },
        {
          "output_type": "stream",
          "name": "stderr",
          "text": [
            "/usr/local/lib/python3.10/dist-packages/sklearn/utils/validation.py:1143: DataConversionWarning: A column-vector y was passed when a 1d array was expected. Please change the shape of y to (n_samples, ), for example using ravel().\n",
            "  y = column_or_1d(y, warn=True)\n"
          ]
        },
        {
          "output_type": "stream",
          "name": "stdout",
          "text": [
            "[CV 4/5] END ....C=1000, gamma=1, kernel=linear;, score=0.911 total time=  20.3s\n"
          ]
        },
        {
          "output_type": "stream",
          "name": "stderr",
          "text": [
            "/usr/local/lib/python3.10/dist-packages/sklearn/utils/validation.py:1143: DataConversionWarning: A column-vector y was passed when a 1d array was expected. Please change the shape of y to (n_samples, ), for example using ravel().\n",
            "  y = column_or_1d(y, warn=True)\n"
          ]
        },
        {
          "output_type": "stream",
          "name": "stdout",
          "text": [
            "[CV 5/5] END ....C=1000, gamma=1, kernel=linear;, score=0.917 total time=  21.7s\n"
          ]
        },
        {
          "output_type": "stream",
          "name": "stderr",
          "text": [
            "/usr/local/lib/python3.10/dist-packages/sklearn/utils/validation.py:1143: DataConversionWarning: A column-vector y was passed when a 1d array was expected. Please change the shape of y to (n_samples, ), for example using ravel().\n",
            "  y = column_or_1d(y, warn=True)\n"
          ]
        },
        {
          "output_type": "stream",
          "name": "stdout",
          "text": [
            "[CV 1/5] END ..C=1000, gamma=0.1, kernel=linear;, score=0.908 total time=  19.2s\n"
          ]
        },
        {
          "output_type": "stream",
          "name": "stderr",
          "text": [
            "/usr/local/lib/python3.10/dist-packages/sklearn/utils/validation.py:1143: DataConversionWarning: A column-vector y was passed when a 1d array was expected. Please change the shape of y to (n_samples, ), for example using ravel().\n",
            "  y = column_or_1d(y, warn=True)\n"
          ]
        },
        {
          "output_type": "stream",
          "name": "stdout",
          "text": [
            "[CV 2/5] END ..C=1000, gamma=0.1, kernel=linear;, score=0.926 total time=  22.7s\n"
          ]
        },
        {
          "output_type": "stream",
          "name": "stderr",
          "text": [
            "/usr/local/lib/python3.10/dist-packages/sklearn/utils/validation.py:1143: DataConversionWarning: A column-vector y was passed when a 1d array was expected. Please change the shape of y to (n_samples, ), for example using ravel().\n",
            "  y = column_or_1d(y, warn=True)\n"
          ]
        },
        {
          "output_type": "stream",
          "name": "stdout",
          "text": [
            "[CV 3/5] END ..C=1000, gamma=0.1, kernel=linear;, score=0.925 total time=  22.3s\n"
          ]
        },
        {
          "output_type": "stream",
          "name": "stderr",
          "text": [
            "/usr/local/lib/python3.10/dist-packages/sklearn/utils/validation.py:1143: DataConversionWarning: A column-vector y was passed when a 1d array was expected. Please change the shape of y to (n_samples, ), for example using ravel().\n",
            "  y = column_or_1d(y, warn=True)\n"
          ]
        },
        {
          "output_type": "stream",
          "name": "stdout",
          "text": [
            "[CV 4/5] END ..C=1000, gamma=0.1, kernel=linear;, score=0.911 total time=  20.2s\n"
          ]
        },
        {
          "output_type": "stream",
          "name": "stderr",
          "text": [
            "/usr/local/lib/python3.10/dist-packages/sklearn/utils/validation.py:1143: DataConversionWarning: A column-vector y was passed when a 1d array was expected. Please change the shape of y to (n_samples, ), for example using ravel().\n",
            "  y = column_or_1d(y, warn=True)\n"
          ]
        },
        {
          "output_type": "stream",
          "name": "stdout",
          "text": [
            "[CV 5/5] END ..C=1000, gamma=0.1, kernel=linear;, score=0.917 total time=  21.6s\n"
          ]
        },
        {
          "output_type": "stream",
          "name": "stderr",
          "text": [
            "/usr/local/lib/python3.10/dist-packages/sklearn/utils/validation.py:1143: DataConversionWarning: A column-vector y was passed when a 1d array was expected. Please change the shape of y to (n_samples, ), for example using ravel().\n",
            "  y = column_or_1d(y, warn=True)\n"
          ]
        },
        {
          "output_type": "stream",
          "name": "stdout",
          "text": [
            "[CV 1/5] END .C=1000, gamma=0.01, kernel=linear;, score=0.908 total time=  18.6s\n"
          ]
        },
        {
          "output_type": "stream",
          "name": "stderr",
          "text": [
            "/usr/local/lib/python3.10/dist-packages/sklearn/utils/validation.py:1143: DataConversionWarning: A column-vector y was passed when a 1d array was expected. Please change the shape of y to (n_samples, ), for example using ravel().\n",
            "  y = column_or_1d(y, warn=True)\n"
          ]
        },
        {
          "output_type": "stream",
          "name": "stdout",
          "text": [
            "[CV 2/5] END .C=1000, gamma=0.01, kernel=linear;, score=0.926 total time=  22.7s\n"
          ]
        },
        {
          "output_type": "stream",
          "name": "stderr",
          "text": [
            "/usr/local/lib/python3.10/dist-packages/sklearn/utils/validation.py:1143: DataConversionWarning: A column-vector y was passed when a 1d array was expected. Please change the shape of y to (n_samples, ), for example using ravel().\n",
            "  y = column_or_1d(y, warn=True)\n"
          ]
        },
        {
          "output_type": "stream",
          "name": "stdout",
          "text": [
            "[CV 3/5] END .C=1000, gamma=0.01, kernel=linear;, score=0.925 total time=  22.2s\n"
          ]
        },
        {
          "output_type": "stream",
          "name": "stderr",
          "text": [
            "/usr/local/lib/python3.10/dist-packages/sklearn/utils/validation.py:1143: DataConversionWarning: A column-vector y was passed when a 1d array was expected. Please change the shape of y to (n_samples, ), for example using ravel().\n",
            "  y = column_or_1d(y, warn=True)\n"
          ]
        },
        {
          "output_type": "stream",
          "name": "stdout",
          "text": [
            "[CV 4/5] END .C=1000, gamma=0.01, kernel=linear;, score=0.911 total time=  20.2s\n"
          ]
        },
        {
          "output_type": "stream",
          "name": "stderr",
          "text": [
            "/usr/local/lib/python3.10/dist-packages/sklearn/utils/validation.py:1143: DataConversionWarning: A column-vector y was passed when a 1d array was expected. Please change the shape of y to (n_samples, ), for example using ravel().\n",
            "  y = column_or_1d(y, warn=True)\n"
          ]
        },
        {
          "output_type": "stream",
          "name": "stdout",
          "text": [
            "[CV 5/5] END .C=1000, gamma=0.01, kernel=linear;, score=0.917 total time=  21.5s\n"
          ]
        },
        {
          "output_type": "stream",
          "name": "stderr",
          "text": [
            "/usr/local/lib/python3.10/dist-packages/sklearn/utils/validation.py:1143: DataConversionWarning: A column-vector y was passed when a 1d array was expected. Please change the shape of y to (n_samples, ), for example using ravel().\n",
            "  y = column_or_1d(y, warn=True)\n"
          ]
        },
        {
          "output_type": "stream",
          "name": "stdout",
          "text": [
            "[CV 1/5] END C=1000, gamma=0.001, kernel=linear;, score=0.908 total time=  18.6s\n"
          ]
        },
        {
          "output_type": "stream",
          "name": "stderr",
          "text": [
            "/usr/local/lib/python3.10/dist-packages/sklearn/utils/validation.py:1143: DataConversionWarning: A column-vector y was passed when a 1d array was expected. Please change the shape of y to (n_samples, ), for example using ravel().\n",
            "  y = column_or_1d(y, warn=True)\n"
          ]
        },
        {
          "output_type": "stream",
          "name": "stdout",
          "text": [
            "[CV 2/5] END C=1000, gamma=0.001, kernel=linear;, score=0.926 total time=  22.7s\n"
          ]
        },
        {
          "output_type": "stream",
          "name": "stderr",
          "text": [
            "/usr/local/lib/python3.10/dist-packages/sklearn/utils/validation.py:1143: DataConversionWarning: A column-vector y was passed when a 1d array was expected. Please change the shape of y to (n_samples, ), for example using ravel().\n",
            "  y = column_or_1d(y, warn=True)\n"
          ]
        },
        {
          "output_type": "stream",
          "name": "stdout",
          "text": [
            "[CV 3/5] END C=1000, gamma=0.001, kernel=linear;, score=0.925 total time=  22.3s\n"
          ]
        },
        {
          "output_type": "stream",
          "name": "stderr",
          "text": [
            "/usr/local/lib/python3.10/dist-packages/sklearn/utils/validation.py:1143: DataConversionWarning: A column-vector y was passed when a 1d array was expected. Please change the shape of y to (n_samples, ), for example using ravel().\n",
            "  y = column_or_1d(y, warn=True)\n"
          ]
        },
        {
          "output_type": "stream",
          "name": "stdout",
          "text": [
            "[CV 4/5] END C=1000, gamma=0.001, kernel=linear;, score=0.911 total time=  20.1s\n"
          ]
        },
        {
          "output_type": "stream",
          "name": "stderr",
          "text": [
            "/usr/local/lib/python3.10/dist-packages/sklearn/utils/validation.py:1143: DataConversionWarning: A column-vector y was passed when a 1d array was expected. Please change the shape of y to (n_samples, ), for example using ravel().\n",
            "  y = column_or_1d(y, warn=True)\n"
          ]
        },
        {
          "output_type": "stream",
          "name": "stdout",
          "text": [
            "[CV 5/5] END C=1000, gamma=0.001, kernel=linear;, score=0.917 total time=  21.5s\n"
          ]
        },
        {
          "output_type": "stream",
          "name": "stderr",
          "text": [
            "/usr/local/lib/python3.10/dist-packages/sklearn/utils/validation.py:1143: DataConversionWarning: A column-vector y was passed when a 1d array was expected. Please change the shape of y to (n_samples, ), for example using ravel().\n",
            "  y = column_or_1d(y, warn=True)\n"
          ]
        },
        {
          "output_type": "stream",
          "name": "stdout",
          "text": [
            "[CV 1/5] END C=1000, gamma=0.0001, kernel=linear;, score=0.908 total time=  18.7s\n"
          ]
        },
        {
          "output_type": "stream",
          "name": "stderr",
          "text": [
            "/usr/local/lib/python3.10/dist-packages/sklearn/utils/validation.py:1143: DataConversionWarning: A column-vector y was passed when a 1d array was expected. Please change the shape of y to (n_samples, ), for example using ravel().\n",
            "  y = column_or_1d(y, warn=True)\n"
          ]
        },
        {
          "output_type": "stream",
          "name": "stdout",
          "text": [
            "[CV 2/5] END C=1000, gamma=0.0001, kernel=linear;, score=0.926 total time=  23.0s\n"
          ]
        },
        {
          "output_type": "stream",
          "name": "stderr",
          "text": [
            "/usr/local/lib/python3.10/dist-packages/sklearn/utils/validation.py:1143: DataConversionWarning: A column-vector y was passed when a 1d array was expected. Please change the shape of y to (n_samples, ), for example using ravel().\n",
            "  y = column_or_1d(y, warn=True)\n"
          ]
        },
        {
          "output_type": "stream",
          "name": "stdout",
          "text": [
            "[CV 3/5] END C=1000, gamma=0.0001, kernel=linear;, score=0.925 total time=  22.2s\n"
          ]
        },
        {
          "output_type": "stream",
          "name": "stderr",
          "text": [
            "/usr/local/lib/python3.10/dist-packages/sklearn/utils/validation.py:1143: DataConversionWarning: A column-vector y was passed when a 1d array was expected. Please change the shape of y to (n_samples, ), for example using ravel().\n",
            "  y = column_or_1d(y, warn=True)\n"
          ]
        },
        {
          "output_type": "stream",
          "name": "stdout",
          "text": [
            "[CV 4/5] END C=1000, gamma=0.0001, kernel=linear;, score=0.911 total time=  20.3s\n"
          ]
        },
        {
          "output_type": "stream",
          "name": "stderr",
          "text": [
            "/usr/local/lib/python3.10/dist-packages/sklearn/utils/validation.py:1143: DataConversionWarning: A column-vector y was passed when a 1d array was expected. Please change the shape of y to (n_samples, ), for example using ravel().\n",
            "  y = column_or_1d(y, warn=True)\n"
          ]
        },
        {
          "output_type": "stream",
          "name": "stdout",
          "text": [
            "[CV 5/5] END C=1000, gamma=0.0001, kernel=linear;, score=0.917 total time=  21.4s\n"
          ]
        },
        {
          "output_type": "stream",
          "name": "stderr",
          "text": [
            "/usr/local/lib/python3.10/dist-packages/sklearn/utils/validation.py:1143: DataConversionWarning: A column-vector y was passed when a 1d array was expected. Please change the shape of y to (n_samples, ), for example using ravel().\n",
            "  y = column_or_1d(y, warn=True)\n"
          ]
        },
        {
          "output_type": "execute_result",
          "data": {
            "text/plain": [
              "GridSearchCV(estimator=SVR(),\n",
              "             param_grid={'C': [0.1, 1, 10, 100, 1000],\n",
              "                         'gamma': [1, 0.1, 0.01, 0.001, 0.0001],\n",
              "                         'kernel': ['linear']},\n",
              "             verbose=3)"
            ],
            "text/html": [
              "<style>#sk-container-id-8 {color: black;background-color: white;}#sk-container-id-8 pre{padding: 0;}#sk-container-id-8 div.sk-toggleable {background-color: white;}#sk-container-id-8 label.sk-toggleable__label {cursor: pointer;display: block;width: 100%;margin-bottom: 0;padding: 0.3em;box-sizing: border-box;text-align: center;}#sk-container-id-8 label.sk-toggleable__label-arrow:before {content: \"▸\";float: left;margin-right: 0.25em;color: #696969;}#sk-container-id-8 label.sk-toggleable__label-arrow:hover:before {color: black;}#sk-container-id-8 div.sk-estimator:hover label.sk-toggleable__label-arrow:before {color: black;}#sk-container-id-8 div.sk-toggleable__content {max-height: 0;max-width: 0;overflow: hidden;text-align: left;background-color: #f0f8ff;}#sk-container-id-8 div.sk-toggleable__content pre {margin: 0.2em;color: black;border-radius: 0.25em;background-color: #f0f8ff;}#sk-container-id-8 input.sk-toggleable__control:checked~div.sk-toggleable__content {max-height: 200px;max-width: 100%;overflow: auto;}#sk-container-id-8 input.sk-toggleable__control:checked~label.sk-toggleable__label-arrow:before {content: \"▾\";}#sk-container-id-8 div.sk-estimator input.sk-toggleable__control:checked~label.sk-toggleable__label {background-color: #d4ebff;}#sk-container-id-8 div.sk-label input.sk-toggleable__control:checked~label.sk-toggleable__label {background-color: #d4ebff;}#sk-container-id-8 input.sk-hidden--visually {border: 0;clip: rect(1px 1px 1px 1px);clip: rect(1px, 1px, 1px, 1px);height: 1px;margin: -1px;overflow: hidden;padding: 0;position: absolute;width: 1px;}#sk-container-id-8 div.sk-estimator {font-family: monospace;background-color: #f0f8ff;border: 1px dotted black;border-radius: 0.25em;box-sizing: border-box;margin-bottom: 0.5em;}#sk-container-id-8 div.sk-estimator:hover {background-color: #d4ebff;}#sk-container-id-8 div.sk-parallel-item::after {content: \"\";width: 100%;border-bottom: 1px solid gray;flex-grow: 1;}#sk-container-id-8 div.sk-label:hover label.sk-toggleable__label {background-color: #d4ebff;}#sk-container-id-8 div.sk-serial::before {content: \"\";position: absolute;border-left: 1px solid gray;box-sizing: border-box;top: 0;bottom: 0;left: 50%;z-index: 0;}#sk-container-id-8 div.sk-serial {display: flex;flex-direction: column;align-items: center;background-color: white;padding-right: 0.2em;padding-left: 0.2em;position: relative;}#sk-container-id-8 div.sk-item {position: relative;z-index: 1;}#sk-container-id-8 div.sk-parallel {display: flex;align-items: stretch;justify-content: center;background-color: white;position: relative;}#sk-container-id-8 div.sk-item::before, #sk-container-id-8 div.sk-parallel-item::before {content: \"\";position: absolute;border-left: 1px solid gray;box-sizing: border-box;top: 0;bottom: 0;left: 50%;z-index: -1;}#sk-container-id-8 div.sk-parallel-item {display: flex;flex-direction: column;z-index: 1;position: relative;background-color: white;}#sk-container-id-8 div.sk-parallel-item:first-child::after {align-self: flex-end;width: 50%;}#sk-container-id-8 div.sk-parallel-item:last-child::after {align-self: flex-start;width: 50%;}#sk-container-id-8 div.sk-parallel-item:only-child::after {width: 0;}#sk-container-id-8 div.sk-dashed-wrapped {border: 1px dashed gray;margin: 0 0.4em 0.5em 0.4em;box-sizing: border-box;padding-bottom: 0.4em;background-color: white;}#sk-container-id-8 div.sk-label label {font-family: monospace;font-weight: bold;display: inline-block;line-height: 1.2em;}#sk-container-id-8 div.sk-label-container {text-align: center;}#sk-container-id-8 div.sk-container {/* jupyter's `normalize.less` sets `[hidden] { display: none; }` but bootstrap.min.css set `[hidden] { display: none !important; }` so we also need the `!important` here to be able to override the default hidden behavior on the sphinx rendered scikit-learn.org. See: https://github.com/scikit-learn/scikit-learn/issues/21755 */display: inline-block !important;position: relative;}#sk-container-id-8 div.sk-text-repr-fallback {display: none;}</style><div id=\"sk-container-id-8\" class=\"sk-top-container\"><div class=\"sk-text-repr-fallback\"><pre>GridSearchCV(estimator=SVR(),\n",
              "             param_grid={&#x27;C&#x27;: [0.1, 1, 10, 100, 1000],\n",
              "                         &#x27;gamma&#x27;: [1, 0.1, 0.01, 0.001, 0.0001],\n",
              "                         &#x27;kernel&#x27;: [&#x27;linear&#x27;]},\n",
              "             verbose=3)</pre><b>In a Jupyter environment, please rerun this cell to show the HTML representation or trust the notebook. <br />On GitHub, the HTML representation is unable to render, please try loading this page with nbviewer.org.</b></div><div class=\"sk-container\" hidden><div class=\"sk-item sk-dashed-wrapped\"><div class=\"sk-label-container\"><div class=\"sk-label sk-toggleable\"><input class=\"sk-toggleable__control sk-hidden--visually\" id=\"sk-estimator-id-12\" type=\"checkbox\" ><label for=\"sk-estimator-id-12\" class=\"sk-toggleable__label sk-toggleable__label-arrow\">GridSearchCV</label><div class=\"sk-toggleable__content\"><pre>GridSearchCV(estimator=SVR(),\n",
              "             param_grid={&#x27;C&#x27;: [0.1, 1, 10, 100, 1000],\n",
              "                         &#x27;gamma&#x27;: [1, 0.1, 0.01, 0.001, 0.0001],\n",
              "                         &#x27;kernel&#x27;: [&#x27;linear&#x27;]},\n",
              "             verbose=3)</pre></div></div></div><div class=\"sk-parallel\"><div class=\"sk-parallel-item\"><div class=\"sk-item\"><div class=\"sk-label-container\"><div class=\"sk-label sk-toggleable\"><input class=\"sk-toggleable__control sk-hidden--visually\" id=\"sk-estimator-id-13\" type=\"checkbox\" ><label for=\"sk-estimator-id-13\" class=\"sk-toggleable__label sk-toggleable__label-arrow\">estimator: SVR</label><div class=\"sk-toggleable__content\"><pre>SVR()</pre></div></div></div><div class=\"sk-serial\"><div class=\"sk-item\"><div class=\"sk-estimator sk-toggleable\"><input class=\"sk-toggleable__control sk-hidden--visually\" id=\"sk-estimator-id-14\" type=\"checkbox\" ><label for=\"sk-estimator-id-14\" class=\"sk-toggleable__label sk-toggleable__label-arrow\">SVR</label><div class=\"sk-toggleable__content\"><pre>SVR()</pre></div></div></div></div></div></div></div></div></div></div>"
            ]
          },
          "metadata": {},
          "execution_count": 153
        }
      ],
      "source": [
        "from sklearn.model_selection import GridSearchCV\n",
        "param_grid = {'C': [0.1, 1, 10, 100, 1000], \n",
        "              'gamma': [1, 0.1, 0.01, 0.001, 0.0001],\n",
        "              'kernel': ['linear']} \n",
        "grid = GridSearchCV(SVR(), param_grid, refit = True, verbose = 3)\n",
        "grid.fit(X_valid,y_valid)"
      ]
    },
    {
      "cell_type": "code",
      "execution_count": 154,
      "id": "d7fa38d3",
      "metadata": {
        "colab": {
          "base_uri": "https://localhost:8080/"
        },
        "id": "d7fa38d3",
        "outputId": "beec5dc4-658c-45fe-a5b2-b04937b05fb3"
      },
      "outputs": [
        {
          "output_type": "execute_result",
          "data": {
            "text/plain": [
              "{'C': 0.1, 'gamma': 1, 'kernel': 'linear'}"
            ]
          },
          "metadata": {},
          "execution_count": 154
        }
      ],
      "source": [
        "grid.best_params_"
      ]
    },
    {
      "cell_type": "code",
      "execution_count": 155,
      "id": "4272bf07",
      "metadata": {
        "colab": {
          "base_uri": "https://localhost:8080/",
          "height": 130
        },
        "id": "4272bf07",
        "outputId": "2329bd4d-0a89-491a-d9a4-03bf92de08b6"
      },
      "outputs": [
        {
          "output_type": "stream",
          "name": "stderr",
          "text": [
            "/usr/local/lib/python3.10/dist-packages/sklearn/utils/validation.py:1143: DataConversionWarning: A column-vector y was passed when a 1d array was expected. Please change the shape of y to (n_samples, ), for example using ravel().\n",
            "  y = column_or_1d(y, warn=True)\n"
          ]
        },
        {
          "output_type": "execute_result",
          "data": {
            "text/plain": [
              "SVR(C=1000, gamma=1, kernel='linear')"
            ],
            "text/html": [
              "<style>#sk-container-id-9 {color: black;background-color: white;}#sk-container-id-9 pre{padding: 0;}#sk-container-id-9 div.sk-toggleable {background-color: white;}#sk-container-id-9 label.sk-toggleable__label {cursor: pointer;display: block;width: 100%;margin-bottom: 0;padding: 0.3em;box-sizing: border-box;text-align: center;}#sk-container-id-9 label.sk-toggleable__label-arrow:before {content: \"▸\";float: left;margin-right: 0.25em;color: #696969;}#sk-container-id-9 label.sk-toggleable__label-arrow:hover:before {color: black;}#sk-container-id-9 div.sk-estimator:hover label.sk-toggleable__label-arrow:before {color: black;}#sk-container-id-9 div.sk-toggleable__content {max-height: 0;max-width: 0;overflow: hidden;text-align: left;background-color: #f0f8ff;}#sk-container-id-9 div.sk-toggleable__content pre {margin: 0.2em;color: black;border-radius: 0.25em;background-color: #f0f8ff;}#sk-container-id-9 input.sk-toggleable__control:checked~div.sk-toggleable__content {max-height: 200px;max-width: 100%;overflow: auto;}#sk-container-id-9 input.sk-toggleable__control:checked~label.sk-toggleable__label-arrow:before {content: \"▾\";}#sk-container-id-9 div.sk-estimator input.sk-toggleable__control:checked~label.sk-toggleable__label {background-color: #d4ebff;}#sk-container-id-9 div.sk-label input.sk-toggleable__control:checked~label.sk-toggleable__label {background-color: #d4ebff;}#sk-container-id-9 input.sk-hidden--visually {border: 0;clip: rect(1px 1px 1px 1px);clip: rect(1px, 1px, 1px, 1px);height: 1px;margin: -1px;overflow: hidden;padding: 0;position: absolute;width: 1px;}#sk-container-id-9 div.sk-estimator {font-family: monospace;background-color: #f0f8ff;border: 1px dotted black;border-radius: 0.25em;box-sizing: border-box;margin-bottom: 0.5em;}#sk-container-id-9 div.sk-estimator:hover {background-color: #d4ebff;}#sk-container-id-9 div.sk-parallel-item::after {content: \"\";width: 100%;border-bottom: 1px solid gray;flex-grow: 1;}#sk-container-id-9 div.sk-label:hover label.sk-toggleable__label {background-color: #d4ebff;}#sk-container-id-9 div.sk-serial::before {content: \"\";position: absolute;border-left: 1px solid gray;box-sizing: border-box;top: 0;bottom: 0;left: 50%;z-index: 0;}#sk-container-id-9 div.sk-serial {display: flex;flex-direction: column;align-items: center;background-color: white;padding-right: 0.2em;padding-left: 0.2em;position: relative;}#sk-container-id-9 div.sk-item {position: relative;z-index: 1;}#sk-container-id-9 div.sk-parallel {display: flex;align-items: stretch;justify-content: center;background-color: white;position: relative;}#sk-container-id-9 div.sk-item::before, #sk-container-id-9 div.sk-parallel-item::before {content: \"\";position: absolute;border-left: 1px solid gray;box-sizing: border-box;top: 0;bottom: 0;left: 50%;z-index: -1;}#sk-container-id-9 div.sk-parallel-item {display: flex;flex-direction: column;z-index: 1;position: relative;background-color: white;}#sk-container-id-9 div.sk-parallel-item:first-child::after {align-self: flex-end;width: 50%;}#sk-container-id-9 div.sk-parallel-item:last-child::after {align-self: flex-start;width: 50%;}#sk-container-id-9 div.sk-parallel-item:only-child::after {width: 0;}#sk-container-id-9 div.sk-dashed-wrapped {border: 1px dashed gray;margin: 0 0.4em 0.5em 0.4em;box-sizing: border-box;padding-bottom: 0.4em;background-color: white;}#sk-container-id-9 div.sk-label label {font-family: monospace;font-weight: bold;display: inline-block;line-height: 1.2em;}#sk-container-id-9 div.sk-label-container {text-align: center;}#sk-container-id-9 div.sk-container {/* jupyter's `normalize.less` sets `[hidden] { display: none; }` but bootstrap.min.css set `[hidden] { display: none !important; }` so we also need the `!important` here to be able to override the default hidden behavior on the sphinx rendered scikit-learn.org. See: https://github.com/scikit-learn/scikit-learn/issues/21755 */display: inline-block !important;position: relative;}#sk-container-id-9 div.sk-text-repr-fallback {display: none;}</style><div id=\"sk-container-id-9\" class=\"sk-top-container\"><div class=\"sk-text-repr-fallback\"><pre>SVR(C=1000, gamma=1, kernel=&#x27;linear&#x27;)</pre><b>In a Jupyter environment, please rerun this cell to show the HTML representation or trust the notebook. <br />On GitHub, the HTML representation is unable to render, please try loading this page with nbviewer.org.</b></div><div class=\"sk-container\" hidden><div class=\"sk-item\"><div class=\"sk-estimator sk-toggleable\"><input class=\"sk-toggleable__control sk-hidden--visually\" id=\"sk-estimator-id-15\" type=\"checkbox\" checked><label for=\"sk-estimator-id-15\" class=\"sk-toggleable__label sk-toggleable__label-arrow\">SVR</label><div class=\"sk-toggleable__content\"><pre>SVR(C=1000, gamma=1, kernel=&#x27;linear&#x27;)</pre></div></div></div></div></div>"
            ]
          },
          "metadata": {},
          "execution_count": 155
        }
      ],
      "source": [
        "\n",
        "best_model_linear = SVR(kernel=\"linear\",C=1000,gamma=1)\n",
        "best_model_linear.fit(X_train,y_train)"
      ]
    },
    {
      "cell_type": "code",
      "source": [
        "# best model \n",
        "best_model_linear = SVR(kernel=\"linear\",C=1,gamma=1)\n",
        "best_model_linear.fit(X_train,y_train)\n",
        "filename = 'svm_lin_co.sav'\n",
        "pickle.dump(best_model_linear, open(filename, 'wb'))"
      ],
      "metadata": {
        "id": "bxVnT83GIJlG"
      },
      "id": "bxVnT83GIJlG",
      "execution_count": null,
      "outputs": []
    },
    {
      "cell_type": "code",
      "execution_count": 156,
      "id": "3c375d9e",
      "metadata": {
        "colab": {
          "base_uri": "https://localhost:8080/"
        },
        "id": "3c375d9e",
        "outputId": "bfeee713-7568-4fc8-b676-692d0c175f6c"
      },
      "outputs": [
        {
          "output_type": "stream",
          "name": "stdout",
          "text": [
            "The measn squared error is 0.005327262435153333\n",
            "The mean absolute error is 0.06068703256638911\n",
            "The root mean sqaured error is 0.07298809790063948\n",
            "The regression score is 0.917128303449912\n"
          ]
        }
      ],
      "source": [
        "# best model on validation data\n",
        "y_valid_pred = best_model_linear.predict(X_valid)\n",
        "MSE = metrics.mean_squared_error(y_valid_pred, y_valid)\n",
        "MAE =  metrics.mean_absolute_error(y_valid_pred, y_valid)\n",
        "r2_score = metrics.r2_score(y_valid_pred,y_valid)\n",
        "RMSE = MSE**0.5\n",
        "print(f\"The measn squared error is {MSE}\")\n",
        "print(f\"The mean absolute error is {MAE}\")\n",
        "print(f\"The root mean sqaured error is {RMSE}\")\n",
        "print(f\"The regression score is {r2_score}\")\n",
        "\n"
      ]
    },
    {
      "cell_type": "code",
      "execution_count": 157,
      "id": "cc69d02d",
      "metadata": {
        "colab": {
          "base_uri": "https://localhost:8080/"
        },
        "id": "cc69d02d",
        "outputId": "08ebb40d-e3ff-4318-baae-905d84903b1d"
      },
      "outputs": [
        {
          "output_type": "stream",
          "name": "stdout",
          "text": [
            "The mean squared error is 0.005169085129802065\n",
            "The mean absolute error is 0.05882451064748392\n",
            "The root mean sqaured error is 0.07189634990597273\n",
            "The regression score is 0.916750183021498\n"
          ]
        }
      ],
      "source": [
        "# best model on test data\n",
        "y_test_pred = best_model_linear.predict(X_test)\n",
        "MSE = metrics.mean_squared_error(y_test_pred, y_test)\n",
        "MAE =  metrics.mean_absolute_error(y_test_pred, y_test)\n",
        "r2_score = metrics.r2_score(y_test_pred,y_test)\n",
        "RMSE = MSE**0.5\n",
        "print(f\"The mean squared error is {MSE}\")\n",
        "print(f\"The mean absolute error is {MAE}\")\n",
        "print(f\"The root mean sqaured error is {RMSE}\")\n",
        "print(f\"The regression score is {r2_score}\")\n",
        "\n"
      ]
    },
    {
      "cell_type": "markdown",
      "id": "32ba47cb",
      "metadata": {
        "id": "32ba47cb"
      },
      "source": [
        "## Non_Linear kernel - polynomial"
      ]
    },
    {
      "cell_type": "code",
      "execution_count": 158,
      "metadata": {
        "id": "pFLTwebx5ioZ"
      },
      "outputs": [],
      "source": [
        "from sklearn.model_selection import GridSearchCV\n",
        "from sklearn.svm import SVR\n",
        "from sklearn.metrics import r2_score \n",
        "from sklearn.metrics import mean_squared_error"
      ],
      "id": "pFLTwebx5ioZ"
    },
    {
      "cell_type": "code",
      "execution_count": 159,
      "metadata": {
        "colab": {
          "base_uri": "https://localhost:8080/",
          "height": 130
        },
        "outputId": "0fdcdf70-01b2-4879-8c72-f8ab3d1913f4",
        "id": "5bmepkDg5ioZ"
      },
      "outputs": [
        {
          "output_type": "stream",
          "name": "stderr",
          "text": [
            "/usr/local/lib/python3.10/dist-packages/sklearn/utils/validation.py:1143: DataConversionWarning: A column-vector y was passed when a 1d array was expected. Please change the shape of y to (n_samples, ), for example using ravel().\n",
            "  y = column_or_1d(y, warn=True)\n"
          ]
        },
        {
          "output_type": "execute_result",
          "data": {
            "text/plain": [
              "SVR(kernel='poly')"
            ],
            "text/html": [
              "<style>#sk-container-id-10 {color: black;background-color: white;}#sk-container-id-10 pre{padding: 0;}#sk-container-id-10 div.sk-toggleable {background-color: white;}#sk-container-id-10 label.sk-toggleable__label {cursor: pointer;display: block;width: 100%;margin-bottom: 0;padding: 0.3em;box-sizing: border-box;text-align: center;}#sk-container-id-10 label.sk-toggleable__label-arrow:before {content: \"▸\";float: left;margin-right: 0.25em;color: #696969;}#sk-container-id-10 label.sk-toggleable__label-arrow:hover:before {color: black;}#sk-container-id-10 div.sk-estimator:hover label.sk-toggleable__label-arrow:before {color: black;}#sk-container-id-10 div.sk-toggleable__content {max-height: 0;max-width: 0;overflow: hidden;text-align: left;background-color: #f0f8ff;}#sk-container-id-10 div.sk-toggleable__content pre {margin: 0.2em;color: black;border-radius: 0.25em;background-color: #f0f8ff;}#sk-container-id-10 input.sk-toggleable__control:checked~div.sk-toggleable__content {max-height: 200px;max-width: 100%;overflow: auto;}#sk-container-id-10 input.sk-toggleable__control:checked~label.sk-toggleable__label-arrow:before {content: \"▾\";}#sk-container-id-10 div.sk-estimator input.sk-toggleable__control:checked~label.sk-toggleable__label {background-color: #d4ebff;}#sk-container-id-10 div.sk-label input.sk-toggleable__control:checked~label.sk-toggleable__label {background-color: #d4ebff;}#sk-container-id-10 input.sk-hidden--visually {border: 0;clip: rect(1px 1px 1px 1px);clip: rect(1px, 1px, 1px, 1px);height: 1px;margin: -1px;overflow: hidden;padding: 0;position: absolute;width: 1px;}#sk-container-id-10 div.sk-estimator {font-family: monospace;background-color: #f0f8ff;border: 1px dotted black;border-radius: 0.25em;box-sizing: border-box;margin-bottom: 0.5em;}#sk-container-id-10 div.sk-estimator:hover {background-color: #d4ebff;}#sk-container-id-10 div.sk-parallel-item::after {content: \"\";width: 100%;border-bottom: 1px solid gray;flex-grow: 1;}#sk-container-id-10 div.sk-label:hover label.sk-toggleable__label {background-color: #d4ebff;}#sk-container-id-10 div.sk-serial::before {content: \"\";position: absolute;border-left: 1px solid gray;box-sizing: border-box;top: 0;bottom: 0;left: 50%;z-index: 0;}#sk-container-id-10 div.sk-serial {display: flex;flex-direction: column;align-items: center;background-color: white;padding-right: 0.2em;padding-left: 0.2em;position: relative;}#sk-container-id-10 div.sk-item {position: relative;z-index: 1;}#sk-container-id-10 div.sk-parallel {display: flex;align-items: stretch;justify-content: center;background-color: white;position: relative;}#sk-container-id-10 div.sk-item::before, #sk-container-id-10 div.sk-parallel-item::before {content: \"\";position: absolute;border-left: 1px solid gray;box-sizing: border-box;top: 0;bottom: 0;left: 50%;z-index: -1;}#sk-container-id-10 div.sk-parallel-item {display: flex;flex-direction: column;z-index: 1;position: relative;background-color: white;}#sk-container-id-10 div.sk-parallel-item:first-child::after {align-self: flex-end;width: 50%;}#sk-container-id-10 div.sk-parallel-item:last-child::after {align-self: flex-start;width: 50%;}#sk-container-id-10 div.sk-parallel-item:only-child::after {width: 0;}#sk-container-id-10 div.sk-dashed-wrapped {border: 1px dashed gray;margin: 0 0.4em 0.5em 0.4em;box-sizing: border-box;padding-bottom: 0.4em;background-color: white;}#sk-container-id-10 div.sk-label label {font-family: monospace;font-weight: bold;display: inline-block;line-height: 1.2em;}#sk-container-id-10 div.sk-label-container {text-align: center;}#sk-container-id-10 div.sk-container {/* jupyter's `normalize.less` sets `[hidden] { display: none; }` but bootstrap.min.css set `[hidden] { display: none !important; }` so we also need the `!important` here to be able to override the default hidden behavior on the sphinx rendered scikit-learn.org. See: https://github.com/scikit-learn/scikit-learn/issues/21755 */display: inline-block !important;position: relative;}#sk-container-id-10 div.sk-text-repr-fallback {display: none;}</style><div id=\"sk-container-id-10\" class=\"sk-top-container\"><div class=\"sk-text-repr-fallback\"><pre>SVR(kernel=&#x27;poly&#x27;)</pre><b>In a Jupyter environment, please rerun this cell to show the HTML representation or trust the notebook. <br />On GitHub, the HTML representation is unable to render, please try loading this page with nbviewer.org.</b></div><div class=\"sk-container\" hidden><div class=\"sk-item\"><div class=\"sk-estimator sk-toggleable\"><input class=\"sk-toggleable__control sk-hidden--visually\" id=\"sk-estimator-id-16\" type=\"checkbox\" checked><label for=\"sk-estimator-id-16\" class=\"sk-toggleable__label sk-toggleable__label-arrow\">SVR</label><div class=\"sk-toggleable__content\"><pre>SVR(kernel=&#x27;poly&#x27;)</pre></div></div></div></div></div>"
            ]
          },
          "metadata": {},
          "execution_count": 159
        }
      ],
      "source": [
        "model = SVR(kernel='poly')\n",
        "model.fit(X_train,y_train)"
      ],
      "id": "5bmepkDg5ioZ"
    },
    {
      "cell_type": "code",
      "source": [
        "#Evalution on Train Dataset\n",
        "y_train_pred = model.predict(X_train)\n",
        "MSE = metrics.mean_squared_error(y_train_pred, y_train)\n",
        "MAE =  metrics.mean_absolute_error(y_train_pred, y_train)\n",
        "RMSE = MSE**0.5\n",
        "print(\"Model Score:\",model.score(X_train, y_train))\n",
        "print(f\"The mean squared error is {MSE}\")\n",
        "print(f\"The mean absolute error is {MAE}\")\n",
        "print(f\"The root mean sqaured error is {RMSE}\")"
      ],
      "metadata": {
        "outputId": "d747bfa6-9f8d-4b40-dd65-31f7348a9313",
        "colab": {
          "base_uri": "https://localhost:8080/"
        },
        "id": "7qNyQMcQ5ioZ"
      },
      "execution_count": 160,
      "outputs": [
        {
          "output_type": "stream",
          "name": "stdout",
          "text": [
            "Model Score: 0.9694899916132942\n",
            "The mean squared error is 0.0018124066858011723\n",
            "The mean absolute error is 0.03335386564492973\n",
            "The root mean sqaured error is 0.042572369981023754\n"
          ]
        }
      ],
      "id": "7qNyQMcQ5ioZ"
    },
    {
      "cell_type": "code",
      "source": [
        "#Evalution on test Dataset\n",
        "y_test_pred = model.predict(X_test)\n",
        "mse = mean_squared_error(y_test_pred, y_test)\n",
        "MAE =  metrics.mean_absolute_error(y_test_pred, y_test)\n",
        "RMSE = MSE**0.5\n",
        "print(\"MSE:\", mse)\n",
        "print(\"Model Score:\",model.score(X_test, y_test))\n",
        "print(f\"The mean squared error is {MSE}\")\n",
        "print(f\"The mean absolute error is {MAE}\")\n",
        "print(f\"The root mean sqaured error is {RMSE}\")"
      ],
      "metadata": {
        "outputId": "48b83bf9-0337-4ac2-e14e-889d5b6b16bc",
        "colab": {
          "base_uri": "https://localhost:8080/"
        },
        "id": "Lma3ZqzC5ioa"
      },
      "execution_count": 161,
      "outputs": [
        {
          "output_type": "stream",
          "name": "stdout",
          "text": [
            "MSE: 0.0019058777536659806\n",
            "Model Score: 0.9689308978368609\n",
            "The mean squared error is 0.0018124066858011723\n",
            "The mean absolute error is 0.033674262235855845\n",
            "The root mean sqaured error is 0.042572369981023754\n"
          ]
        }
      ],
      "id": "Lma3ZqzC5ioa"
    },
    {
      "cell_type": "code",
      "execution_count": 162,
      "metadata": {
        "colab": {
          "base_uri": "https://localhost:8080/"
        },
        "outputId": "4fc7a976-6da9-4160-960a-21eba92a8d89",
        "id": "ZwQ-yNmP5ioa"
      },
      "outputs": [
        {
          "output_type": "stream",
          "name": "stdout",
          "text": [
            "The measn squared error is 0.0018290049686467268\n",
            "The mean absolute error is 0.033173624341975724\n",
            "The root mean sqaured error is 0.04276686765063262\n"
          ]
        }
      ],
      "source": [
        "##Evalution on Validation dataset \n",
        "\n",
        "y_valid_pred = model.predict(X_valid)\n",
        "MSE = metrics.mean_squared_error(y_valid_pred, y_valid)\n",
        "MAE =  metrics.mean_absolute_error(y_valid_pred, y_valid)\n",
        "RMSE = MSE**0.5\n",
        "print(f\"The measn squared error is {MSE}\")\n",
        "print(f\"The mean absolute error is {MAE}\")\n",
        "print(f\"The root mean sqaured error is {RMSE}\")\n",
        "\n"
      ],
      "id": "ZwQ-yNmP5ioa"
    },
    {
      "cell_type": "code",
      "source": [
        "import matplotlib.pyplot as plt\n",
        "from sklearn.metrics import roc_curve, roc_auc_score, confusion_matrix\n",
        "# scatter plot of predicted vs true values\n",
        "y_pred = model.predict(X_test)\n",
        "plt.scatter(y_test, y_pred)\n",
        "plt.xlabel(\"True values\")\n",
        "plt.ylabel(\"Predicted values\")\n",
        "plt.title(\"Scatter plot of predicted vs true values\")\n",
        "plt.show()"
      ],
      "metadata": {
        "outputId": "7ce8c4fd-55c4-4573-987a-33afaac52fe3",
        "colab": {
          "base_uri": "https://localhost:8080/",
          "height": 472
        },
        "id": "_x4I_xem5ioa"
      },
      "execution_count": 163,
      "outputs": [
        {
          "output_type": "display_data",
          "data": {
            "text/plain": [
              "<Figure size 640x480 with 1 Axes>"
            ],
            "image/png": "[encoded data removed]"
          },
          "metadata": {}
        }
      ],
      "id": "_x4I_xem5ioa"
    },
    {
      "cell_type": "markdown",
      "source": [
        "HyperParameter Tunning "
      ],
      "metadata": {
        "id": "b-16h0OS_FH0"
      },
      "id": "b-16h0OS_FH0"
    },
    {
      "cell_type": "code",
      "execution_count": 164,
      "id": "8cf6b382",
      "metadata": {
        "id": "8cf6b382"
      },
      "outputs": [],
      "source": [
        "# finding best model using grid search"
      ]
    },
    {
      "cell_type": "code",
      "execution_count": 165,
      "id": "89657aea",
      "metadata": {
        "colab": {
          "base_uri": "https://localhost:8080/",
          "height": 1000
        },
        "id": "89657aea",
        "outputId": "04f51406-0a5a-4772-9067-00b9e038cb67"
      },
      "outputs": [
        {
          "output_type": "stream",
          "name": "stdout",
          "text": [
            "Fitting 5 folds for each of 4 candidates, totalling 20 fits\n",
            "[CV 1/5] END ......C=0.1, degree=1, kernel=poly;, score=0.908 total time=   0.1s\n",
            "[CV 2/5] END ......C=0.1, degree=1, kernel=poly;, score=0.927 total time=   0.1s\n"
          ]
        },
        {
          "output_type": "stream",
          "name": "stderr",
          "text": [
            "/usr/local/lib/python3.10/dist-packages/sklearn/utils/validation.py:1143: DataConversionWarning: A column-vector y was passed when a 1d array was expected. Please change the shape of y to (n_samples, ), for example using ravel().\n",
            "  y = column_or_1d(y, warn=True)\n",
            "/usr/local/lib/python3.10/dist-packages/sklearn/utils/validation.py:1143: DataConversionWarning: A column-vector y was passed when a 1d array was expected. Please change the shape of y to (n_samples, ), for example using ravel().\n",
            "  y = column_or_1d(y, warn=True)\n",
            "/usr/local/lib/python3.10/dist-packages/sklearn/utils/validation.py:1143: DataConversionWarning: A column-vector y was passed when a 1d array was expected. Please change the shape of y to (n_samples, ), for example using ravel().\n",
            "  y = column_or_1d(y, warn=True)\n"
          ]
        },
        {
          "output_type": "stream",
          "name": "stdout",
          "text": [
            "[CV 3/5] END ......C=0.1, degree=1, kernel=poly;, score=0.926 total time=   0.1s\n",
            "[CV 4/5] END ......C=0.1, degree=1, kernel=poly;, score=0.912 total time=   0.1s\n",
            "[CV 5/5] END ......C=0.1, degree=1, kernel=poly;, score=0.918 total time=   0.1s\n"
          ]
        },
        {
          "output_type": "stream",
          "name": "stderr",
          "text": [
            "/usr/local/lib/python3.10/dist-packages/sklearn/utils/validation.py:1143: DataConversionWarning: A column-vector y was passed when a 1d array was expected. Please change the shape of y to (n_samples, ), for example using ravel().\n",
            "  y = column_or_1d(y, warn=True)\n",
            "/usr/local/lib/python3.10/dist-packages/sklearn/utils/validation.py:1143: DataConversionWarning: A column-vector y was passed when a 1d array was expected. Please change the shape of y to (n_samples, ), for example using ravel().\n",
            "  y = column_or_1d(y, warn=True)\n",
            "/usr/local/lib/python3.10/dist-packages/sklearn/utils/validation.py:1143: DataConversionWarning: A column-vector y was passed when a 1d array was expected. Please change the shape of y to (n_samples, ), for example using ravel().\n",
            "  y = column_or_1d(y, warn=True)\n"
          ]
        },
        {
          "output_type": "stream",
          "name": "stdout",
          "text": [
            "[CV 1/5] END ........C=1, degree=1, kernel=poly;, score=0.908 total time=   0.1s\n",
            "[CV 2/5] END ........C=1, degree=1, kernel=poly;, score=0.926 total time=   0.1s\n"
          ]
        },
        {
          "output_type": "stream",
          "name": "stderr",
          "text": [
            "/usr/local/lib/python3.10/dist-packages/sklearn/utils/validation.py:1143: DataConversionWarning: A column-vector y was passed when a 1d array was expected. Please change the shape of y to (n_samples, ), for example using ravel().\n",
            "  y = column_or_1d(y, warn=True)\n",
            "/usr/local/lib/python3.10/dist-packages/sklearn/utils/validation.py:1143: DataConversionWarning: A column-vector y was passed when a 1d array was expected. Please change the shape of y to (n_samples, ), for example using ravel().\n",
            "  y = column_or_1d(y, warn=True)\n"
          ]
        },
        {
          "output_type": "stream",
          "name": "stdout",
          "text": [
            "[CV 3/5] END ........C=1, degree=1, kernel=poly;, score=0.925 total time=   0.1s\n",
            "[CV 4/5] END ........C=1, degree=1, kernel=poly;, score=0.911 total time=   0.1s\n"
          ]
        },
        {
          "output_type": "stream",
          "name": "stderr",
          "text": [
            "/usr/local/lib/python3.10/dist-packages/sklearn/utils/validation.py:1143: DataConversionWarning: A column-vector y was passed when a 1d array was expected. Please change the shape of y to (n_samples, ), for example using ravel().\n",
            "  y = column_or_1d(y, warn=True)\n",
            "/usr/local/lib/python3.10/dist-packages/sklearn/utils/validation.py:1143: DataConversionWarning: A column-vector y was passed when a 1d array was expected. Please change the shape of y to (n_samples, ), for example using ravel().\n",
            "  y = column_or_1d(y, warn=True)\n"
          ]
        },
        {
          "output_type": "stream",
          "name": "stdout",
          "text": [
            "[CV 5/5] END ........C=1, degree=1, kernel=poly;, score=0.918 total time=   0.1s\n"
          ]
        },
        {
          "output_type": "stream",
          "name": "stderr",
          "text": [
            "/usr/local/lib/python3.10/dist-packages/sklearn/utils/validation.py:1143: DataConversionWarning: A column-vector y was passed when a 1d array was expected. Please change the shape of y to (n_samples, ), for example using ravel().\n",
            "  y = column_or_1d(y, warn=True)\n"
          ]
        },
        {
          "output_type": "stream",
          "name": "stdout",
          "text": [
            "[CV 1/5] END ........C=5, degree=1, kernel=poly;, score=0.908 total time=   0.2s\n"
          ]
        },
        {
          "output_type": "stream",
          "name": "stderr",
          "text": [
            "/usr/local/lib/python3.10/dist-packages/sklearn/utils/validation.py:1143: DataConversionWarning: A column-vector y was passed when a 1d array was expected. Please change the shape of y to (n_samples, ), for example using ravel().\n",
            "  y = column_or_1d(y, warn=True)\n"
          ]
        },
        {
          "output_type": "stream",
          "name": "stdout",
          "text": [
            "[CV 2/5] END ........C=5, degree=1, kernel=poly;, score=0.925 total time=   0.3s\n"
          ]
        },
        {
          "output_type": "stream",
          "name": "stderr",
          "text": [
            "/usr/local/lib/python3.10/dist-packages/sklearn/utils/validation.py:1143: DataConversionWarning: A column-vector y was passed when a 1d array was expected. Please change the shape of y to (n_samples, ), for example using ravel().\n",
            "  y = column_or_1d(y, warn=True)\n"
          ]
        },
        {
          "output_type": "stream",
          "name": "stdout",
          "text": [
            "[CV 3/5] END ........C=5, degree=1, kernel=poly;, score=0.925 total time=   0.3s\n"
          ]
        },
        {
          "output_type": "stream",
          "name": "stderr",
          "text": [
            "/usr/local/lib/python3.10/dist-packages/sklearn/utils/validation.py:1143: DataConversionWarning: A column-vector y was passed when a 1d array was expected. Please change the shape of y to (n_samples, ), for example using ravel().\n",
            "  y = column_or_1d(y, warn=True)\n"
          ]
        },
        {
          "output_type": "stream",
          "name": "stdout",
          "text": [
            "[CV 4/5] END ........C=5, degree=1, kernel=poly;, score=0.911 total time=   0.2s\n",
            "[CV 5/5] END ........C=5, degree=1, kernel=poly;, score=0.918 total time=   0.2s\n"
          ]
        },
        {
          "output_type": "stream",
          "name": "stderr",
          "text": [
            "/usr/local/lib/python3.10/dist-packages/sklearn/utils/validation.py:1143: DataConversionWarning: A column-vector y was passed when a 1d array was expected. Please change the shape of y to (n_samples, ), for example using ravel().\n",
            "  y = column_or_1d(y, warn=True)\n",
            "/usr/local/lib/python3.10/dist-packages/sklearn/utils/validation.py:1143: DataConversionWarning: A column-vector y was passed when a 1d array was expected. Please change the shape of y to (n_samples, ), for example using ravel().\n",
            "  y = column_or_1d(y, warn=True)\n"
          ]
        },
        {
          "output_type": "stream",
          "name": "stdout",
          "text": [
            "[CV 1/5] END .......C=10, degree=1, kernel=poly;, score=0.909 total time=   0.4s\n"
          ]
        },
        {
          "output_type": "stream",
          "name": "stderr",
          "text": [
            "/usr/local/lib/python3.10/dist-packages/sklearn/utils/validation.py:1143: DataConversionWarning: A column-vector y was passed when a 1d array was expected. Please change the shape of y to (n_samples, ), for example using ravel().\n",
            "  y = column_or_1d(y, warn=True)\n"
          ]
        },
        {
          "output_type": "stream",
          "name": "stdout",
          "text": [
            "[CV 2/5] END .......C=10, degree=1, kernel=poly;, score=0.925 total time=   0.4s\n"
          ]
        },
        {
          "output_type": "stream",
          "name": "stderr",
          "text": [
            "/usr/local/lib/python3.10/dist-packages/sklearn/utils/validation.py:1143: DataConversionWarning: A column-vector y was passed when a 1d array was expected. Please change the shape of y to (n_samples, ), for example using ravel().\n",
            "  y = column_or_1d(y, warn=True)\n"
          ]
        },
        {
          "output_type": "stream",
          "name": "stdout",
          "text": [
            "[CV 3/5] END .......C=10, degree=1, kernel=poly;, score=0.925 total time=   0.3s\n"
          ]
        },
        {
          "output_type": "stream",
          "name": "stderr",
          "text": [
            "/usr/local/lib/python3.10/dist-packages/sklearn/utils/validation.py:1143: DataConversionWarning: A column-vector y was passed when a 1d array was expected. Please change the shape of y to (n_samples, ), for example using ravel().\n",
            "  y = column_or_1d(y, warn=True)\n"
          ]
        },
        {
          "output_type": "stream",
          "name": "stdout",
          "text": [
            "[CV 4/5] END .......C=10, degree=1, kernel=poly;, score=0.911 total time=   0.3s\n"
          ]
        },
        {
          "output_type": "stream",
          "name": "stderr",
          "text": [
            "/usr/local/lib/python3.10/dist-packages/sklearn/utils/validation.py:1143: DataConversionWarning: A column-vector y was passed when a 1d array was expected. Please change the shape of y to (n_samples, ), for example using ravel().\n",
            "  y = column_or_1d(y, warn=True)\n"
          ]
        },
        {
          "output_type": "stream",
          "name": "stdout",
          "text": [
            "[CV 5/5] END .......C=10, degree=1, kernel=poly;, score=0.918 total time=   0.4s\n"
          ]
        },
        {
          "output_type": "stream",
          "name": "stderr",
          "text": [
            "/usr/local/lib/python3.10/dist-packages/sklearn/utils/validation.py:1143: DataConversionWarning: A column-vector y was passed when a 1d array was expected. Please change the shape of y to (n_samples, ), for example using ravel().\n",
            "  y = column_or_1d(y, warn=True)\n"
          ]
        },
        {
          "output_type": "execute_result",
          "data": {
            "text/plain": [
              "GridSearchCV(estimator=SVR(),\n",
              "             param_grid={'C': [0.1, 1, 5, 10], 'degree': [1],\n",
              "                         'kernel': ['poly']},\n",
              "             verbose=3)"
            ],
            "text/html": [
              "<style>#sk-container-id-11 {color: black;background-color: white;}#sk-container-id-11 pre{padding: 0;}#sk-container-id-11 div.sk-toggleable {background-color: white;}#sk-container-id-11 label.sk-toggleable__label {cursor: pointer;display: block;width: 100%;margin-bottom: 0;padding: 0.3em;box-sizing: border-box;text-align: center;}#sk-container-id-11 label.sk-toggleable__label-arrow:before {content: \"▸\";float: left;margin-right: 0.25em;color: #696969;}#sk-container-id-11 label.sk-toggleable__label-arrow:hover:before {color: black;}#sk-container-id-11 div.sk-estimator:hover label.sk-toggleable__label-arrow:before {color: black;}#sk-container-id-11 div.sk-toggleable__content {max-height: 0;max-width: 0;overflow: hidden;text-align: left;background-color: #f0f8ff;}#sk-container-id-11 div.sk-toggleable__content pre {margin: 0.2em;color: black;border-radius: 0.25em;background-color: #f0f8ff;}#sk-container-id-11 input.sk-toggleable__control:checked~div.sk-toggleable__content {max-height: 200px;max-width: 100%;overflow: auto;}#sk-container-id-11 input.sk-toggleable__control:checked~label.sk-toggleable__label-arrow:before {content: \"▾\";}#sk-container-id-11 div.sk-estimator input.sk-toggleable__control:checked~label.sk-toggleable__label {background-color: #d4ebff;}#sk-container-id-11 div.sk-label input.sk-toggleable__control:checked~label.sk-toggleable__label {background-color: #d4ebff;}#sk-container-id-11 input.sk-hidden--visually {border: 0;clip: rect(1px 1px 1px 1px);clip: rect(1px, 1px, 1px, 1px);height: 1px;margin: -1px;overflow: hidden;padding: 0;position: absolute;width: 1px;}#sk-container-id-11 div.sk-estimator {font-family: monospace;background-color: #f0f8ff;border: 1px dotted black;border-radius: 0.25em;box-sizing: border-box;margin-bottom: 0.5em;}#sk-container-id-11 div.sk-estimator:hover {background-color: #d4ebff;}#sk-container-id-11 div.sk-parallel-item::after {content: \"\";width: 100%;border-bottom: 1px solid gray;flex-grow: 1;}#sk-container-id-11 div.sk-label:hover label.sk-toggleable__label {background-color: #d4ebff;}#sk-container-id-11 div.sk-serial::before {content: \"\";position: absolute;border-left: 1px solid gray;box-sizing: border-box;top: 0;bottom: 0;left: 50%;z-index: 0;}#sk-container-id-11 div.sk-serial {display: flex;flex-direction: column;align-items: center;background-color: white;padding-right: 0.2em;padding-left: 0.2em;position: relative;}#sk-container-id-11 div.sk-item {position: relative;z-index: 1;}#sk-container-id-11 div.sk-parallel {display: flex;align-items: stretch;justify-content: center;background-color: white;position: relative;}#sk-container-id-11 div.sk-item::before, #sk-container-id-11 div.sk-parallel-item::before {content: \"\";position: absolute;border-left: 1px solid gray;box-sizing: border-box;top: 0;bottom: 0;left: 50%;z-index: -1;}#sk-container-id-11 div.sk-parallel-item {display: flex;flex-direction: column;z-index: 1;position: relative;background-color: white;}#sk-container-id-11 div.sk-parallel-item:first-child::after {align-self: flex-end;width: 50%;}#sk-container-id-11 div.sk-parallel-item:last-child::after {align-self: flex-start;width: 50%;}#sk-container-id-11 div.sk-parallel-item:only-child::after {width: 0;}#sk-container-id-11 div.sk-dashed-wrapped {border: 1px dashed gray;margin: 0 0.4em 0.5em 0.4em;box-sizing: border-box;padding-bottom: 0.4em;background-color: white;}#sk-container-id-11 div.sk-label label {font-family: monospace;font-weight: bold;display: inline-block;line-height: 1.2em;}#sk-container-id-11 div.sk-label-container {text-align: center;}#sk-container-id-11 div.sk-container {/* jupyter's `normalize.less` sets `[hidden] { display: none; }` but bootstrap.min.css set `[hidden] { display: none !important; }` so we also need the `!important` here to be able to override the default hidden behavior on the sphinx rendered scikit-learn.org. See: https://github.com/scikit-learn/scikit-learn/issues/21755 */display: inline-block !important;position: relative;}#sk-container-id-11 div.sk-text-repr-fallback {display: none;}</style><div id=\"sk-container-id-11\" class=\"sk-top-container\"><div class=\"sk-text-repr-fallback\"><pre>GridSearchCV(estimator=SVR(),\n",
              "             param_grid={&#x27;C&#x27;: [0.1, 1, 5, 10], &#x27;degree&#x27;: [1],\n",
              "                         &#x27;kernel&#x27;: [&#x27;poly&#x27;]},\n",
              "             verbose=3)</pre><b>In a Jupyter environment, please rerun this cell to show the HTML representation or trust the notebook. <br />On GitHub, the HTML representation is unable to render, please try loading this page with nbviewer.org.</b></div><div class=\"sk-container\" hidden><div class=\"sk-item sk-dashed-wrapped\"><div class=\"sk-label-container\"><div class=\"sk-label sk-toggleable\"><input class=\"sk-toggleable__control sk-hidden--visually\" id=\"sk-estimator-id-17\" type=\"checkbox\" ><label for=\"sk-estimator-id-17\" class=\"sk-toggleable__label sk-toggleable__label-arrow\">GridSearchCV</label><div class=\"sk-toggleable__content\"><pre>GridSearchCV(estimator=SVR(),\n",
              "             param_grid={&#x27;C&#x27;: [0.1, 1, 5, 10], &#x27;degree&#x27;: [1],\n",
              "                         &#x27;kernel&#x27;: [&#x27;poly&#x27;]},\n",
              "             verbose=3)</pre></div></div></div><div class=\"sk-parallel\"><div class=\"sk-parallel-item\"><div class=\"sk-item\"><div class=\"sk-label-container\"><div class=\"sk-label sk-toggleable\"><input class=\"sk-toggleable__control sk-hidden--visually\" id=\"sk-estimator-id-18\" type=\"checkbox\" ><label for=\"sk-estimator-id-18\" class=\"sk-toggleable__label sk-toggleable__label-arrow\">estimator: SVR</label><div class=\"sk-toggleable__content\"><pre>SVR()</pre></div></div></div><div class=\"sk-serial\"><div class=\"sk-item\"><div class=\"sk-estimator sk-toggleable\"><input class=\"sk-toggleable__control sk-hidden--visually\" id=\"sk-estimator-id-19\" type=\"checkbox\" ><label for=\"sk-estimator-id-19\" class=\"sk-toggleable__label sk-toggleable__label-arrow\">SVR</label><div class=\"sk-toggleable__content\"><pre>SVR()</pre></div></div></div></div></div></div></div></div></div></div>"
            ]
          },
          "metadata": {},
          "execution_count": 165
        }
      ],
      "source": [
        "from sklearn.model_selection import GridSearchCV\n",
        "param_grid = { 'C' :[0.1,1,5,10],\n",
        "              'degree': [1],\n",
        "              'kernel': ['poly']} \n",
        "grid = GridSearchCV(SVR(), param_grid, refit = True, verbose = 3)\n",
        "grid.fit(X_valid,y_valid)"
      ]
    },
    {
      "cell_type": "code",
      "execution_count": 166,
      "id": "1797ffed",
      "metadata": {
        "colab": {
          "base_uri": "https://localhost:8080/"
        },
        "id": "1797ffed",
        "outputId": "8d7ca278-4461-4462-968d-593955363042"
      },
      "outputs": [
        {
          "output_type": "execute_result",
          "data": {
            "text/plain": [
              "{'C': 0.1, 'degree': 1, 'kernel': 'poly'}"
            ]
          },
          "metadata": {},
          "execution_count": 166
        }
      ],
      "source": [
        "grid.best_params_"
      ]
    },
    {
      "cell_type": "code",
      "execution_count": 167,
      "id": "67eae97c",
      "metadata": {
        "colab": {
          "base_uri": "https://localhost:8080/"
        },
        "id": "67eae97c",
        "outputId": "b88d7ad9-3cdd-44d6-81fd-80ff10d9d45b"
      },
      "outputs": [
        {
          "output_type": "stream",
          "name": "stderr",
          "text": [
            "/usr/local/lib/python3.10/dist-packages/sklearn/utils/validation.py:1143: DataConversionWarning: A column-vector y was passed when a 1d array was expected. Please change the shape of y to (n_samples, ), for example using ravel().\n",
            "  y = column_or_1d(y, warn=True)\n"
          ]
        },
        {
          "output_type": "stream",
          "name": "stdout",
          "text": [
            "The measn squared error is 0.005312902571850164\n",
            "The mean absolute error is 0.060496777304465996\n",
            "The root mean sqaured error is 0.07288966025335943\n",
            "The regression score is 0.9174058059659145\n"
          ]
        }
      ],
      "source": [
        "# Non Linear on validation data\n",
        "best_non = SVR(kernel=\"poly\",degree=1,C=0.1)\n",
        "best_non.fit(X_train,y_train)\n",
        "y_valid_pred = best_non.predict(X_valid)\n",
        "MSE = metrics.mean_squared_error(y_valid_pred, y_valid)\n",
        "MAE =  metrics.mean_absolute_error(y_valid_pred, y_valid)\n",
        "r2_score = metrics.r2_score(y_valid_pred,y_valid)\n",
        "RMSE = MSE**0.5\n",
        "print(f\"The measn squared error is {MSE}\")\n",
        "print(f\"The mean absolute error is {MAE}\")\n",
        "print(f\"The root mean sqaured error is {RMSE}\")\n",
        "print(f\"The regression score is {r2_score}\")\n",
        "\n"
      ]
    },
    {
      "cell_type": "code",
      "execution_count": 168,
      "id": "e0530cc7",
      "metadata": {
        "colab": {
          "base_uri": "https://localhost:8080/"
        },
        "id": "e0530cc7",
        "outputId": "0db7edb2-fc2c-448e-b509-6d879e4f8b74"
      },
      "outputs": [
        {
          "output_type": "stream",
          "name": "stdout",
          "text": [
            "The mean squared error is 0.005151344108126079\n",
            "The mean absolute error is 0.058607300199076486\n",
            "The root mean sqaured error is 0.0717728647061414\n",
            "The regression score is 0.917110900271159\n"
          ]
        }
      ],
      "source": [
        "# Non Linear on test data\n",
        "y_test_pred = best_non.predict(X_test)\n",
        "MSE = metrics.mean_squared_error(y_test_pred, y_test)\n",
        "MAE =  metrics.mean_absolute_error(y_test_pred, y_test)\n",
        "r2_score = metrics.r2_score(y_test_pred,y_test)\n",
        "RMSE = MSE**0.5\n",
        "print(f\"The mean squared error is {MSE}\")\n",
        "print(f\"The mean absolute error is {MAE}\")\n",
        "print(f\"The root mean sqaured error is {RMSE}\")\n",
        "print(f\"The regression score is {r2_score}\")\n",
        "\n",
        "\n"
      ]
    },
    {
      "cell_type": "code",
      "source": [],
      "metadata": {
        "id": "MT5hSxJ_Mf7g"
      },
      "id": "MT5hSxJ_Mf7g",
      "execution_count": 27,
      "outputs": []
    },
    {
      "cell_type": "markdown",
      "metadata": {
        "id": "ddfd490c"
      },
      "source": [
        "# Deep Learning model"
      ],
      "id": "ddfd490c"
    },
    {
      "cell_type": "code",
      "execution_count": 179,
      "metadata": {
        "id": "9ac41bf5"
      },
      "outputs": [],
      "source": [
        "from keras.models import Sequential\n",
        "from keras.layers import Dense"
      ],
      "id": "9ac41bf5"
    },
    {
      "cell_type": "code",
      "execution_count": 180,
      "metadata": {
        "id": "69b53164"
      },
      "outputs": [],
      "source": [
        "X_train, X_test, y_train, y_test = train_test_split(scaled_X,scaled_y, test_size = 0.2, random_state = 1111)"
      ],
      "id": "69b53164"
    },
    {
      "cell_type": "code",
      "execution_count": 181,
      "metadata": {
        "id": "ceb0f96b",
        "outputId": "754269ba-515d-49f6-a729-c2f0d437d5d5",
        "colab": {
          "base_uri": "https://localhost:8080/"
        }
      },
      "outputs": [
        {
          "output_type": "stream",
          "name": "stdout",
          "text": [
            "Model: \"sequential_163\"\n",
            "_________________________________________________________________\n",
            " Layer (type)                Output Shape              Param #   \n",
            "=================================================================\n",
            " dense_326 (Dense)           (None, 128)               2176      \n",
            "                                                                 \n",
            " dense_327 (Dense)           (None, 64)                8256      \n",
            "                                                                 \n",
            " dense_328 (Dense)           (None, 1)                 65        \n",
            "                                                                 \n",
            "=================================================================\n",
            "Total params: 10,497\n",
            "Trainable params: 10,497\n",
            "Non-trainable params: 0\n",
            "_________________________________________________________________\n",
            "Epoch 1/100\n",
            "701/701 [==============================] - 3s 3ms/step - loss: 0.0035 - mae: 0.0311 - val_loss: 7.6023e-04 - val_mae: 0.0177\n",
            "Epoch 2/100\n",
            "701/701 [==============================] - 2s 2ms/step - loss: 5.8358e-04 - mae: 0.0161 - val_loss: 5.2164e-04 - val_mae: 0.0159\n",
            "Epoch 3/100\n",
            "701/701 [==============================] - 2s 2ms/step - loss: 5.0357e-04 - mae: 0.0151 - val_loss: 5.0130e-04 - val_mae: 0.0146\n",
            "Epoch 4/100\n",
            "701/701 [==============================] - 2s 2ms/step - loss: 4.3464e-04 - mae: 0.0140 - val_loss: 3.8053e-04 - val_mae: 0.0118\n",
            "Epoch 5/100\n",
            "701/701 [==============================] - 3s 4ms/step - loss: 3.8976e-04 - mae: 0.0132 - val_loss: 4.3253e-04 - val_mae: 0.0156\n",
            "Epoch 6/100\n",
            "701/701 [==============================] - 2s 3ms/step - loss: 3.5168e-04 - mae: 0.0125 - val_loss: 2.8805e-04 - val_mae: 0.0113\n",
            "Epoch 7/100\n",
            "701/701 [==============================] - 2s 2ms/step - loss: 3.1928e-04 - mae: 0.0119 - val_loss: 2.7148e-04 - val_mae: 0.0101\n",
            "Epoch 8/100\n",
            "701/701 [==============================] - 2s 2ms/step - loss: 3.0850e-04 - mae: 0.0117 - val_loss: 2.8213e-04 - val_mae: 0.0108\n",
            "Epoch 9/100\n",
            "701/701 [==============================] - 2s 2ms/step - loss: 2.7999e-04 - mae: 0.0110 - val_loss: 3.3966e-04 - val_mae: 0.0139\n",
            "Epoch 10/100\n",
            "701/701 [==============================] - 2s 2ms/step - loss: 2.7684e-04 - mae: 0.0110 - val_loss: 2.0058e-04 - val_mae: 0.0090\n",
            "Epoch 11/100\n",
            "701/701 [==============================] - 2s 2ms/step - loss: 2.3521e-04 - mae: 0.0098 - val_loss: 1.9538e-04 - val_mae: 0.0087\n",
            "Epoch 12/100\n",
            "701/701 [==============================] - 2s 3ms/step - loss: 2.2218e-04 - mae: 0.0096 - val_loss: 3.1819e-04 - val_mae: 0.0106\n",
            "Epoch 13/100\n",
            "701/701 [==============================] - 2s 3ms/step - loss: 2.3442e-04 - mae: 0.0098 - val_loss: 2.0370e-04 - val_mae: 0.0085\n",
            "Epoch 14/100\n",
            "701/701 [==============================] - 2s 2ms/step - loss: 2.1800e-04 - mae: 0.0093 - val_loss: 1.8022e-04 - val_mae: 0.0082\n",
            "Epoch 15/100\n",
            "701/701 [==============================] - 2s 2ms/step - loss: 1.8995e-04 - mae: 0.0086 - val_loss: 1.9393e-04 - val_mae: 0.0085\n",
            "Epoch 16/100\n",
            "701/701 [==============================] - 2s 2ms/step - loss: 2.1931e-04 - mae: 0.0091 - val_loss: 2.1145e-04 - val_mae: 0.0089\n",
            "Epoch 17/100\n",
            "701/701 [==============================] - 2s 2ms/step - loss: 1.6296e-04 - mae: 0.0077 - val_loss: 2.8405e-04 - val_mae: 0.0121\n",
            "Epoch 18/100\n",
            "701/701 [==============================] - 2s 2ms/step - loss: 1.7257e-04 - mae: 0.0081 - val_loss: 2.0132e-04 - val_mae: 0.0084\n",
            "Epoch 19/100\n",
            "701/701 [==============================] - 2s 3ms/step - loss: 1.7121e-04 - mae: 0.0080 - val_loss: 1.9619e-04 - val_mae: 0.0096\n",
            "Epoch 20/100\n",
            "701/701 [==============================] - 3s 4ms/step - loss: 1.6540e-04 - mae: 0.0078 - val_loss: 1.3751e-04 - val_mae: 0.0066\n",
            "Epoch 21/100\n",
            "701/701 [==============================] - 2s 2ms/step - loss: 1.6047e-04 - mae: 0.0076 - val_loss: 1.4265e-04 - val_mae: 0.0065\n",
            "Epoch 22/100\n",
            "701/701 [==============================] - 2s 2ms/step - loss: 1.4556e-04 - mae: 0.0073 - val_loss: 1.4537e-04 - val_mae: 0.0072\n",
            "Epoch 23/100\n",
            "701/701 [==============================] - 2s 2ms/step - loss: 1.3611e-04 - mae: 0.0070 - val_loss: 1.6910e-04 - val_mae: 0.0077\n",
            "Epoch 24/100\n",
            "701/701 [==============================] - 2s 3ms/step - loss: 1.2930e-04 - mae: 0.0067 - val_loss: 1.3365e-04 - val_mae: 0.0067\n",
            "Epoch 25/100\n",
            "701/701 [==============================] - 2s 2ms/step - loss: 1.2649e-04 - mae: 0.0067 - val_loss: 1.0822e-04 - val_mae: 0.0059\n",
            "Epoch 26/100\n",
            "701/701 [==============================] - 2s 3ms/step - loss: 1.4455e-04 - mae: 0.0072 - val_loss: 1.4560e-04 - val_mae: 0.0069\n",
            "Epoch 27/100\n",
            "701/701 [==============================] - 5s 6ms/step - loss: 1.2804e-04 - mae: 0.0066 - val_loss: 8.5632e-05 - val_mae: 0.0049\n",
            "Epoch 28/100\n",
            "701/701 [==============================] - 3s 5ms/step - loss: 1.4286e-04 - mae: 0.0069 - val_loss: 1.0763e-04 - val_mae: 0.0058\n",
            "Epoch 29/100\n",
            "701/701 [==============================] - 3s 4ms/step - loss: 1.0700e-04 - mae: 0.0060 - val_loss: 9.3562e-05 - val_mae: 0.0055\n",
            "Epoch 30/100\n",
            "701/701 [==============================] - 4s 6ms/step - loss: 1.0689e-04 - mae: 0.0061 - val_loss: 1.0651e-04 - val_mae: 0.0059\n",
            "Epoch 31/100\n",
            "701/701 [==============================] - 4s 6ms/step - loss: 1.1540e-04 - mae: 0.0062 - val_loss: 1.1795e-04 - val_mae: 0.0061\n",
            "Epoch 32/100\n",
            "701/701 [==============================] - 3s 4ms/step - loss: 1.1153e-04 - mae: 0.0062 - val_loss: 9.8014e-05 - val_mae: 0.0050\n",
            "Epoch 33/100\n",
            "701/701 [==============================] - 2s 3ms/step - loss: 1.0953e-04 - mae: 0.0061 - val_loss: 1.0869e-04 - val_mae: 0.0061\n",
            "Epoch 34/100\n",
            "701/701 [==============================] - 2s 3ms/step - loss: 1.0540e-04 - mae: 0.0060 - val_loss: 1.0219e-04 - val_mae: 0.0059\n",
            "Epoch 35/100\n",
            "701/701 [==============================] - 4s 6ms/step - loss: 1.0408e-04 - mae: 0.0059 - val_loss: 1.3843e-04 - val_mae: 0.0070\n",
            "Epoch 36/100\n",
            "701/701 [==============================] - 3s 4ms/step - loss: 1.1269e-04 - mae: 0.0060 - val_loss: 1.2097e-04 - val_mae: 0.0059\n",
            "Epoch 37/100\n",
            "701/701 [==============================] - 2s 2ms/step - loss: 1.6291e-04 - mae: 0.0068 - val_loss: 1.0524e-04 - val_mae: 0.0060\n",
            "Epoch 38/100\n",
            "701/701 [==============================] - 2s 2ms/step - loss: 9.4281e-05 - mae: 0.0055 - val_loss: 1.1490e-04 - val_mae: 0.0055\n",
            "Epoch 39/100\n",
            "701/701 [==============================] - 2s 2ms/step - loss: 1.0359e-04 - mae: 0.0058 - val_loss: 8.0863e-05 - val_mae: 0.0048\n",
            "Epoch 40/100\n",
            "701/701 [==============================] - 3s 5ms/step - loss: 9.7269e-05 - mae: 0.0056 - val_loss: 6.8435e-05 - val_mae: 0.0045\n",
            "Epoch 41/100\n",
            "701/701 [==============================] - 3s 5ms/step - loss: 9.6730e-05 - mae: 0.0056 - val_loss: 1.2156e-04 - val_mae: 0.0064\n",
            "Epoch 42/100\n",
            "701/701 [==============================] - 2s 3ms/step - loss: 9.7575e-05 - mae: 0.0056 - val_loss: 7.5327e-05 - val_mae: 0.0049\n",
            "Epoch 43/100\n",
            "701/701 [==============================] - 3s 4ms/step - loss: 8.4783e-05 - mae: 0.0052 - val_loss: 1.3016e-04 - val_mae: 0.0067\n",
            "Epoch 44/100\n",
            "701/701 [==============================] - 3s 4ms/step - loss: 8.8399e-05 - mae: 0.0053 - val_loss: 9.1254e-05 - val_mae: 0.0051\n",
            "Epoch 45/100\n",
            "701/701 [==============================] - 2s 3ms/step - loss: 8.5575e-05 - mae: 0.0052 - val_loss: 1.1505e-04 - val_mae: 0.0062\n",
            "Epoch 46/100\n",
            "701/701 [==============================] - 4s 6ms/step - loss: 8.8870e-05 - mae: 0.0053 - val_loss: 6.6678e-05 - val_mae: 0.0044\n",
            "Epoch 47/100\n",
            "701/701 [==============================] - 2s 3ms/step - loss: 9.5775e-05 - mae: 0.0053 - val_loss: 7.8987e-05 - val_mae: 0.0048\n",
            "Epoch 48/100\n",
            "701/701 [==============================] - 2s 3ms/step - loss: 8.0690e-05 - mae: 0.0050 - val_loss: 6.5393e-05 - val_mae: 0.0045\n",
            "Epoch 49/100\n",
            "701/701 [==============================] - 2s 3ms/step - loss: 8.0886e-05 - mae: 0.0050 - val_loss: 7.7918e-05 - val_mae: 0.0052\n",
            "Epoch 50/100\n",
            "701/701 [==============================] - 3s 4ms/step - loss: 9.6921e-05 - mae: 0.0054 - val_loss: 7.9025e-05 - val_mae: 0.0050\n",
            "Epoch 51/100\n",
            "701/701 [==============================] - 3s 5ms/step - loss: 8.2741e-05 - mae: 0.0051 - val_loss: 1.1495e-04 - val_mae: 0.0053\n",
            "Epoch 52/100\n",
            "701/701 [==============================] - 2s 2ms/step - loss: 8.7878e-05 - mae: 0.0052 - val_loss: 8.0932e-05 - val_mae: 0.0052\n",
            "Epoch 53/100\n",
            "701/701 [==============================] - 2s 2ms/step - loss: 8.0987e-05 - mae: 0.0050 - val_loss: 6.2362e-05 - val_mae: 0.0047\n",
            "Epoch 54/100\n",
            "701/701 [==============================] - 3s 4ms/step - loss: 8.5812e-05 - mae: 0.0052 - val_loss: 1.0547e-04 - val_mae: 0.0064\n",
            "Epoch 55/100\n",
            "701/701 [==============================] - 3s 4ms/step - loss: 8.3504e-05 - mae: 0.0051 - val_loss: 9.5718e-05 - val_mae: 0.0055\n",
            "Epoch 56/100\n",
            "701/701 [==============================] - 5s 7ms/step - loss: 8.1617e-05 - mae: 0.0049 - val_loss: 1.2182e-04 - val_mae: 0.0072\n",
            "Epoch 57/100\n",
            "701/701 [==============================] - 4s 5ms/step - loss: 8.0025e-05 - mae: 0.0050 - val_loss: 8.9977e-05 - val_mae: 0.0050\n",
            "Epoch 58/100\n",
            "701/701 [==============================] - 2s 3ms/step - loss: 8.4391e-05 - mae: 0.0050 - val_loss: 5.3664e-05 - val_mae: 0.0037\n",
            "Epoch 59/100\n",
            "701/701 [==============================] - 2s 2ms/step - loss: 7.7598e-05 - mae: 0.0048 - val_loss: 6.8589e-05 - val_mae: 0.0049\n",
            "Epoch 60/100\n",
            "701/701 [==============================] - 2s 2ms/step - loss: 8.7178e-05 - mae: 0.0051 - val_loss: 5.7653e-05 - val_mae: 0.0038\n",
            "Epoch 61/100\n",
            "701/701 [==============================] - 2s 3ms/step - loss: 8.1045e-05 - mae: 0.0049 - val_loss: 9.1444e-05 - val_mae: 0.0051\n",
            "Epoch 62/100\n",
            "701/701 [==============================] - 2s 3ms/step - loss: 7.2309e-05 - mae: 0.0046 - val_loss: 8.8821e-05 - val_mae: 0.0045\n",
            "Epoch 63/100\n",
            "701/701 [==============================] - 2s 2ms/step - loss: 6.9084e-05 - mae: 0.0045 - val_loss: 6.4874e-05 - val_mae: 0.0039\n",
            "Epoch 64/100\n",
            "701/701 [==============================] - 2s 2ms/step - loss: 7.2749e-05 - mae: 0.0046 - val_loss: 9.4450e-05 - val_mae: 0.0057\n",
            "Epoch 65/100\n",
            "701/701 [==============================] - 2s 2ms/step - loss: 7.5035e-05 - mae: 0.0047 - val_loss: 6.9014e-05 - val_mae: 0.0048\n",
            "Epoch 66/100\n",
            "701/701 [==============================] - 2s 2ms/step - loss: 8.0328e-05 - mae: 0.0049 - val_loss: 5.2064e-05 - val_mae: 0.0038\n",
            "Epoch 67/100\n",
            "701/701 [==============================] - 2s 2ms/step - loss: 6.8799e-05 - mae: 0.0045 - val_loss: 7.8899e-05 - val_mae: 0.0051\n",
            "Epoch 68/100\n",
            "701/701 [==============================] - 2s 3ms/step - loss: 7.3197e-05 - mae: 0.0047 - val_loss: 9.8087e-05 - val_mae: 0.0053\n",
            "Epoch 69/100\n",
            "701/701 [==============================] - 2s 3ms/step - loss: 6.8018e-05 - mae: 0.0045 - val_loss: 7.8681e-05 - val_mae: 0.0049\n",
            "Epoch 70/100\n",
            "701/701 [==============================] - 2s 2ms/step - loss: 6.2624e-05 - mae: 0.0043 - val_loss: 8.2952e-05 - val_mae: 0.0055\n",
            "Epoch 71/100\n",
            "701/701 [==============================] - 2s 2ms/step - loss: 7.4337e-05 - mae: 0.0047 - val_loss: 5.4040e-05 - val_mae: 0.0038\n",
            "Epoch 72/100\n",
            "701/701 [==============================] - 2s 2ms/step - loss: 6.1856e-05 - mae: 0.0043 - val_loss: 5.6684e-05 - val_mae: 0.0038\n",
            "Epoch 73/100\n",
            "701/701 [==============================] - 2s 2ms/step - loss: 6.5513e-05 - mae: 0.0044 - val_loss: 6.8973e-05 - val_mae: 0.0048\n",
            "Epoch 74/100\n",
            "701/701 [==============================] - 2s 2ms/step - loss: 7.6958e-05 - mae: 0.0048 - val_loss: 5.5753e-05 - val_mae: 0.0036\n",
            "Epoch 75/100\n",
            "701/701 [==============================] - 2s 2ms/step - loss: 6.4985e-05 - mae: 0.0044 - val_loss: 6.1258e-05 - val_mae: 0.0043\n",
            "Epoch 76/100\n",
            "701/701 [==============================] - 3s 4ms/step - loss: 7.2670e-05 - mae: 0.0045 - val_loss: 4.7273e-05 - val_mae: 0.0033\n",
            "Epoch 77/100\n",
            "701/701 [==============================] - 2s 3ms/step - loss: 6.7037e-05 - mae: 0.0044 - val_loss: 1.3403e-04 - val_mae: 0.0067\n",
            "Epoch 78/100\n",
            "701/701 [==============================] - 2s 2ms/step - loss: 6.7062e-05 - mae: 0.0044 - val_loss: 6.6013e-05 - val_mae: 0.0043\n",
            "Epoch 79/100\n",
            "701/701 [==============================] - 2s 2ms/step - loss: 7.5535e-05 - mae: 0.0047 - val_loss: 5.2476e-05 - val_mae: 0.0044\n",
            "Epoch 80/100\n",
            "701/701 [==============================] - 2s 2ms/step - loss: 6.6175e-05 - mae: 0.0044 - val_loss: 5.4715e-05 - val_mae: 0.0039\n",
            "Epoch 81/100\n",
            "701/701 [==============================] - 2s 2ms/step - loss: 5.7203e-05 - mae: 0.0041 - val_loss: 7.1013e-05 - val_mae: 0.0045\n",
            "Epoch 82/100\n",
            "701/701 [==============================] - 2s 2ms/step - loss: 6.5824e-05 - mae: 0.0044 - val_loss: 5.6870e-05 - val_mae: 0.0040\n",
            "Epoch 83/100\n",
            "701/701 [==============================] - 2s 3ms/step - loss: 6.1721e-05 - mae: 0.0042 - val_loss: 6.2571e-05 - val_mae: 0.0044\n",
            "Epoch 84/100\n",
            "701/701 [==============================] - 2s 3ms/step - loss: 7.0152e-05 - mae: 0.0045 - val_loss: 5.1954e-05 - val_mae: 0.0036\n",
            "Epoch 85/100\n",
            "701/701 [==============================] - 2s 2ms/step - loss: 6.0678e-05 - mae: 0.0042 - val_loss: 9.1417e-05 - val_mae: 0.0044\n",
            "Epoch 86/100\n",
            "701/701 [==============================] - 2s 2ms/step - loss: 5.9219e-05 - mae: 0.0042 - val_loss: 9.0089e-05 - val_mae: 0.0048\n",
            "Epoch 87/100\n",
            "701/701 [==============================] - 2s 2ms/step - loss: 6.1216e-05 - mae: 0.0042 - val_loss: 5.9972e-05 - val_mae: 0.0043\n",
            "Epoch 88/100\n",
            "701/701 [==============================] - 2s 2ms/step - loss: 7.1420e-05 - mae: 0.0045 - val_loss: 5.0352e-05 - val_mae: 0.0036\n",
            "Epoch 89/100\n",
            "701/701 [==============================] - 2s 2ms/step - loss: 7.1887e-05 - mae: 0.0045 - val_loss: 5.4697e-05 - val_mae: 0.0043\n",
            "Epoch 90/100\n",
            "701/701 [==============================] - 2s 3ms/step - loss: 6.4538e-05 - mae: 0.0043 - val_loss: 4.5400e-05 - val_mae: 0.0034\n",
            "Epoch 91/100\n",
            "701/701 [==============================] - 2s 3ms/step - loss: 6.1095e-05 - mae: 0.0042 - val_loss: 5.7947e-05 - val_mae: 0.0040\n",
            "Epoch 92/100\n",
            "701/701 [==============================] - 2s 2ms/step - loss: 5.3778e-05 - mae: 0.0039 - val_loss: 7.1583e-05 - val_mae: 0.0049\n",
            "Epoch 93/100\n",
            "701/701 [==============================] - 2s 3ms/step - loss: 6.1764e-05 - mae: 0.0042 - val_loss: 4.8770e-05 - val_mae: 0.0036\n",
            "Epoch 94/100\n",
            "701/701 [==============================] - 2s 2ms/step - loss: 6.3398e-05 - mae: 0.0043 - val_loss: 5.2432e-05 - val_mae: 0.0034\n",
            "Epoch 95/100\n",
            "701/701 [==============================] - 2s 2ms/step - loss: 5.4344e-05 - mae: 0.0038 - val_loss: 6.5566e-05 - val_mae: 0.0045\n",
            "Epoch 96/100\n",
            "701/701 [==============================] - 2s 2ms/step - loss: 6.1135e-05 - mae: 0.0041 - val_loss: 8.3722e-05 - val_mae: 0.0049\n",
            "Epoch 97/100\n",
            "701/701 [==============================] - 2s 3ms/step - loss: 6.7156e-05 - mae: 0.0044 - val_loss: 7.2128e-05 - val_mae: 0.0044\n",
            "Epoch 98/100\n",
            "701/701 [==============================] - 2s 3ms/step - loss: 5.4829e-05 - mae: 0.0039 - val_loss: 6.7464e-05 - val_mae: 0.0042\n",
            "Epoch 99/100\n",
            "701/701 [==============================] - 2s 2ms/step - loss: 5.8316e-05 - mae: 0.0040 - val_loss: 7.1321e-05 - val_mae: 0.0044\n",
            "Epoch 100/100\n",
            "701/701 [==============================] - 2s 2ms/step - loss: 5.9653e-05 - mae: 0.0041 - val_loss: 4.3344e-05 - val_mae: 0.0038\n"
          ]
        }
      ],
      "source": [
        "model = Sequential()\n",
        "model.add(Dense(128, input_dim=16, activation='relu'))\n",
        "model.add(Dense(64, activation='relu'))\n",
        "#Output layer\n",
        "model.add(Dense(1, activation='linear'))\n",
        "\n",
        "model.compile(loss='mean_squared_error', optimizer='adam', metrics=['mae'])\n",
        "model.summary()\n",
        "\n",
        "history = model.fit(X_train, y_train, validation_split=0.2, epochs =100)"
      ],
      "id": "ceb0f96b"
    },
    {
      "cell_type": "code",
      "execution_count": 182,
      "metadata": {
        "id": "9e570148",
        "outputId": "4349c95b-cc90-434e-9371-323840bc2bc8",
        "colab": {
          "base_uri": "https://localhost:8080/",
          "height": 472
        }
      },
      "outputs": [
        {
          "output_type": "display_data",
          "data": {
            "text/plain": [
              "<Figure size 640x480 with 1 Axes>"
            ],
            "image/png": "[encoded data removed]"
          },
          "metadata": {}
        }
      ],
      "source": [
        "from matplotlib import pyplot as plt\n",
        "#plot the training and validation accuracy and loss at each epoch\n",
        "loss = history.history['loss']\n",
        "val_loss = history.history['val_loss']\n",
        "epochs = range(1, len(loss) + 1)\n",
        "plt.plot(epochs, loss, 'y', label='Training loss')\n",
        "plt.plot(epochs, val_loss, 'r', label='Validation loss')\n",
        "plt.title('Training and validation loss')\n",
        "plt.xlabel('Epochs')\n",
        "plt.ylabel('Loss')\n",
        "plt.legend()\n",
        "plt.show()"
      ],
      "id": "9e570148"
    },
    {
      "cell_type": "code",
      "execution_count": 183,
      "metadata": {
        "id": "30f7ab28",
        "outputId": "502c00f1-2bde-4ebd-cb2c-1e128fd80671",
        "colab": {
          "base_uri": "https://localhost:8080/",
          "height": 472
        }
      },
      "outputs": [
        {
          "output_type": "display_data",
          "data": {
            "text/plain": [
              "<Figure size 640x480 with 1 Axes>"
            ],
            "image/png": "[encoded data removed]"
          },
          "metadata": {}
        }
      ],
      "source": [
        "acc = history.history['mae']\n",
        "val_acc = history.history['val_mae']\n",
        "plt.plot(epochs, acc, 'y', label='Training MAE')\n",
        "plt.plot(epochs, val_acc, 'r', label='Validation MAE')\n",
        "plt.title('Training and validation MAE')\n",
        "plt.xlabel('Epochs')\n",
        "plt.ylabel('Mean Absolute Eroor')\n",
        "plt.legend()\n",
        "plt.show()"
      ],
      "id": "30f7ab28"
    },
    {
      "cell_type": "code",
      "execution_count": 184,
      "metadata": {
        "id": "222d28f5",
        "outputId": "5d4ba2d9-906e-48b0-a7c0-cae63945a51d",
        "colab": {
          "base_uri": "https://localhost:8080/"
        }
      },
      "outputs": [
        {
          "output_type": "stream",
          "name": "stdout",
          "text": [
            "1/1 [==============================] - 0s 77ms/step\n",
            "Predicted values are:  [[0.05287464]\n",
            " [0.5207053 ]\n",
            " [0.02324202]\n",
            " [0.01851977]\n",
            " [0.5222871 ]]\n",
            "Real values are:  [[0.04968826]\n",
            " [0.55999491]\n",
            " [0.02334903]\n",
            " [0.01806846]\n",
            " [0.52290368]]\n"
          ]
        }
      ],
      "source": [
        "#Predict on test data\n",
        "predictions = model.predict(X_test[:5])\n",
        "print(\"Predicted values are: \", predictions)\n",
        "print(\"Real values are: \", y_test[:5])"
      ],
      "id": "222d28f5"
    },
    {
      "cell_type": "code",
      "execution_count": 185,
      "metadata": {
        "id": "69fb2b12",
        "outputId": "48609241-01e5-4896-9d09-26c2c63f376c",
        "colab": {
          "base_uri": "https://localhost:8080/"
        }
      },
      "outputs": [
        {
          "output_type": "stream",
          "name": "stdout",
          "text": [
            "876/876 [==============================] - 1s 1ms/step\n",
            "The mean squared error is 3.870760692090221e-05\n",
            "The mean absolute error is 0.0036398316274563786\n",
            "The root mean sqaured error is 0.006221543773124337\n"
          ]
        }
      ],
      "source": [
        "y_train_pred = model.predict(X_train)\n",
        "MSE = metrics.mean_squared_error(y_train_pred, y_train)\n",
        "MAE =  metrics.mean_absolute_error(y_train_pred, y_train)\n",
        "RMSE = MSE**0.5\n",
        "print(f\"The mean squared error is {MSE}\")\n",
        "print(f\"The mean absolute error is {MAE}\")\n",
        "print(f\"The root mean sqaured error is {RMSE}\")"
      ],
      "id": "69fb2b12"
    },
    {
      "cell_type": "code",
      "execution_count": 186,
      "metadata": {
        "id": "de6d7a24",
        "outputId": "8bedd46f-08a7-4de3-cf96-b5a49144522a",
        "colab": {
          "base_uri": "https://localhost:8080/"
        }
      },
      "outputs": [
        {
          "output_type": "stream",
          "name": "stdout",
          "text": [
            "Here is a summary of this model: \n",
            "Model: \"sequential_164\"\n",
            "_________________________________________________________________\n",
            " Layer (type)                Output Shape              Param #   \n",
            "=================================================================\n",
            " dense_329 (Dense)           (None, 32)                544       \n",
            "                                                                 \n",
            " dense_330 (Dense)           (None, 64)                2112      \n",
            "                                                                 \n",
            " dense_331 (Dense)           (None, 64)                4160      \n",
            "                                                                 \n",
            " dense_332 (Dense)           (None, 64)                4160      \n",
            "                                                                 \n",
            " dense_333 (Dense)           (None, 64)                4160      \n",
            "                                                                 \n",
            " dense_334 (Dense)           (None, 64)                4160      \n",
            "                                                                 \n",
            " dense_335 (Dense)           (None, 1)                 65        \n",
            "                                                                 \n",
            "=================================================================\n",
            "Total params: 19,361\n",
            "Trainable params: 19,361\n",
            "Non-trainable params: 0\n",
            "_________________________________________________________________\n",
            "Epoch 1/100\n",
            "701/701 [==============================] - 4s 4ms/step - loss: 0.0042 - mae: 0.0345 - mse: 0.0042 - mape: 3846.4338 - val_loss: 9.6786e-04 - val_mae: 0.0176 - val_mse: 9.6786e-04 - val_mape: 16.9297\n",
            "Epoch 2/100\n",
            "701/701 [==============================] - 2s 3ms/step - loss: 0.0011 - mae: 0.0190 - mse: 0.0011 - mape: 3286.9258 - val_loss: 7.6586e-04 - val_mae: 0.0165 - val_mse: 7.6586e-04 - val_mape: 14.7518\n",
            "Epoch 3/100\n",
            "701/701 [==============================] - 2s 3ms/step - loss: 8.3642e-04 - mae: 0.0169 - mse: 8.3642e-04 - mape: 1792.0380 - val_loss: 8.6992e-04 - val_mae: 0.0179 - val_mse: 8.6992e-04 - val_mape: 17.9957\n",
            "Epoch 4/100\n",
            "701/701 [==============================] - 2s 3ms/step - loss: 7.2699e-04 - mae: 0.0158 - mse: 7.2699e-04 - mape: 1751.4353 - val_loss: 5.5096e-04 - val_mae: 0.0138 - val_mse: 5.5096e-04 - val_mape: 11.8461\n",
            "Epoch 5/100\n",
            "701/701 [==============================] - 2s 3ms/step - loss: 6.5657e-04 - mae: 0.0150 - mse: 6.5657e-04 - mape: 2251.4209 - val_loss: 4.8161e-04 - val_mae: 0.0141 - val_mse: 4.8161e-04 - val_mape: 17.8595\n",
            "Epoch 6/100\n",
            "701/701 [==============================] - 2s 3ms/step - loss: 5.9752e-04 - mae: 0.0143 - mse: 5.9752e-04 - mape: 1032.5471 - val_loss: 0.0016 - val_mae: 0.0247 - val_mse: 0.0016 - val_mape: 17.0576\n",
            "Epoch 7/100\n",
            "701/701 [==============================] - 3s 4ms/step - loss: 5.6706e-04 - mae: 0.0139 - mse: 5.6706e-04 - mape: 1083.6941 - val_loss: 4.6580e-04 - val_mae: 0.0122 - val_mse: 4.6580e-04 - val_mape: 10.3967\n",
            "Epoch 8/100\n",
            "701/701 [==============================] - 2s 3ms/step - loss: 5.1654e-04 - mae: 0.0134 - mse: 5.1654e-04 - mape: 1040.6176 - val_loss: 4.4785e-04 - val_mae: 0.0131 - val_mse: 4.4785e-04 - val_mape: 14.5697\n",
            "Epoch 9/100\n",
            "701/701 [==============================] - 2s 3ms/step - loss: 4.9884e-04 - mae: 0.0130 - mse: 4.9884e-04 - mape: 844.2591 - val_loss: 3.7192e-04 - val_mae: 0.0113 - val_mse: 3.7192e-04 - val_mape: 10.1485\n",
            "Epoch 10/100\n",
            "701/701 [==============================] - 2s 3ms/step - loss: 4.5868e-04 - mae: 0.0125 - mse: 4.5868e-04 - mape: 1137.4763 - val_loss: 5.2576e-04 - val_mae: 0.0134 - val_mse: 5.2576e-04 - val_mape: 12.6529\n",
            "Epoch 11/100\n",
            "701/701 [==============================] - 2s 3ms/step - loss: 4.3503e-04 - mae: 0.0123 - mse: 4.3503e-04 - mape: 870.8120 - val_loss: 3.5514e-04 - val_mae: 0.0115 - val_mse: 3.5514e-04 - val_mape: 13.6955\n",
            "Epoch 12/100\n",
            "701/701 [==============================] - 3s 4ms/step - loss: 4.2483e-04 - mae: 0.0121 - mse: 4.2483e-04 - mape: 1180.2341 - val_loss: 4.3696e-04 - val_mae: 0.0127 - val_mse: 4.3696e-04 - val_mape: 12.2649\n",
            "Epoch 13/100\n",
            "701/701 [==============================] - 2s 3ms/step - loss: 4.0417e-04 - mae: 0.0117 - mse: 4.0417e-04 - mape: 1125.1129 - val_loss: 3.5734e-04 - val_mae: 0.0112 - val_mse: 3.5734e-04 - val_mape: 10.9341\n",
            "Epoch 14/100\n",
            "701/701 [==============================] - 2s 3ms/step - loss: 3.9003e-04 - mae: 0.0115 - mse: 3.9003e-04 - mape: 1019.4993 - val_loss: 3.2283e-04 - val_mae: 0.0107 - val_mse: 3.2283e-04 - val_mape: 10.1425\n",
            "Epoch 15/100\n",
            "701/701 [==============================] - 2s 3ms/step - loss: 3.7146e-04 - mae: 0.0112 - mse: 3.7146e-04 - mape: 818.8123 - val_loss: 2.8042e-04 - val_mae: 0.0106 - val_mse: 2.8042e-04 - val_mape: 15.3891\n",
            "Epoch 16/100\n",
            "701/701 [==============================] - 2s 3ms/step - loss: 3.5407e-04 - mae: 0.0109 - mse: 3.5407e-04 - mape: 1423.3562 - val_loss: 2.9532e-04 - val_mae: 0.0094 - val_mse: 2.9532e-04 - val_mape: 8.2081\n",
            "Epoch 17/100\n",
            "701/701 [==============================] - 2s 3ms/step - loss: 3.4656e-04 - mae: 0.0108 - mse: 3.4656e-04 - mape: 1182.2938 - val_loss: 3.3542e-04 - val_mae: 0.0109 - val_mse: 3.3542e-04 - val_mape: 10.4486\n",
            "Epoch 18/100\n",
            "701/701 [==============================] - 4s 5ms/step - loss: 3.3312e-04 - mae: 0.0107 - mse: 3.3312e-04 - mape: 1204.7111 - val_loss: 5.0221e-04 - val_mae: 0.0125 - val_mse: 5.0221e-04 - val_mape: 8.4957\n",
            "Epoch 19/100\n",
            "701/701 [==============================] - 2s 3ms/step - loss: 3.2546e-04 - mae: 0.0105 - mse: 3.2546e-04 - mape: 1083.3542 - val_loss: 2.2412e-04 - val_mae: 0.0087 - val_mse: 2.2412e-04 - val_mape: 9.0191\n",
            "Epoch 20/100\n",
            "701/701 [==============================] - 2s 3ms/step - loss: 3.1832e-04 - mae: 0.0104 - mse: 3.1832e-04 - mape: 1335.9504 - val_loss: 3.3571e-04 - val_mae: 0.0108 - val_mse: 3.3571e-04 - val_mape: 10.0945\n",
            "Epoch 21/100\n",
            "701/701 [==============================] - 2s 3ms/step - loss: 3.1062e-04 - mae: 0.0102 - mse: 3.1062e-04 - mape: 1128.1498 - val_loss: 1.9851e-04 - val_mae: 0.0080 - val_mse: 1.9851e-04 - val_mape: 8.3691\n",
            "Epoch 22/100\n",
            "701/701 [==============================] - 2s 3ms/step - loss: 3.0321e-04 - mae: 0.0102 - mse: 3.0321e-04 - mape: 1242.5399 - val_loss: 2.8745e-04 - val_mae: 0.0101 - val_mse: 2.8745e-04 - val_mape: 10.2142\n",
            "Epoch 23/100\n",
            "701/701 [==============================] - 2s 3ms/step - loss: 2.9051e-04 - mae: 0.0099 - mse: 2.9051e-04 - mape: 921.8566 - val_loss: 2.6413e-04 - val_mae: 0.0094 - val_mse: 2.6413e-04 - val_mape: 8.4067\n",
            "Epoch 24/100\n",
            "701/701 [==============================] - 3s 4ms/step - loss: 2.8813e-04 - mae: 0.0098 - mse: 2.8813e-04 - mape: 728.8077 - val_loss: 4.6200e-04 - val_mae: 0.0126 - val_mse: 4.6200e-04 - val_mape: 9.1584\n",
            "Epoch 25/100\n",
            "701/701 [==============================] - 2s 3ms/step - loss: 2.8665e-04 - mae: 0.0098 - mse: 2.8665e-04 - mape: 753.8334 - val_loss: 5.5482e-04 - val_mae: 0.0146 - val_mse: 5.5482e-04 - val_mape: 12.3662\n",
            "Epoch 26/100\n",
            "701/701 [==============================] - 2s 3ms/step - loss: 2.7403e-04 - mae: 0.0096 - mse: 2.7403e-04 - mape: 956.5139 - val_loss: 3.8908e-04 - val_mae: 0.0118 - val_mse: 3.8908e-04 - val_mape: 10.6137\n",
            "Epoch 27/100\n",
            "701/701 [==============================] - 2s 3ms/step - loss: 2.7069e-04 - mae: 0.0096 - mse: 2.7069e-04 - mape: 1482.4025 - val_loss: 2.1107e-04 - val_mae: 0.0082 - val_mse: 2.1107e-04 - val_mape: 8.0118\n",
            "Epoch 28/100\n",
            "701/701 [==============================] - 2s 3ms/step - loss: 2.6395e-04 - mae: 0.0095 - mse: 2.6395e-04 - mape: 738.1219 - val_loss: 2.4530e-04 - val_mae: 0.0095 - val_mse: 2.4530e-04 - val_mape: 12.4780\n",
            "Epoch 29/100\n",
            "701/701 [==============================] - 3s 5ms/step - loss: 2.6101e-04 - mae: 0.0094 - mse: 2.6101e-04 - mape: 476.8200 - val_loss: 3.1686e-04 - val_mae: 0.0107 - val_mse: 3.1686e-04 - val_mape: 8.8109\n",
            "Epoch 30/100\n",
            "701/701 [==============================] - 2s 3ms/step - loss: 2.5141e-04 - mae: 0.0092 - mse: 2.5141e-04 - mape: 1119.1573 - val_loss: 4.3550e-04 - val_mae: 0.0132 - val_mse: 4.3550e-04 - val_mape: 13.1023\n",
            "Epoch 31/100\n",
            "701/701 [==============================] - 2s 3ms/step - loss: 2.5355e-04 - mae: 0.0092 - mse: 2.5355e-04 - mape: 102.9951 - val_loss: 6.6758e-04 - val_mae: 0.0150 - val_mse: 6.6758e-04 - val_mape: 9.8961\n",
            "Epoch 32/100\n",
            "701/701 [==============================] - 2s 3ms/step - loss: 2.5182e-04 - mae: 0.0092 - mse: 2.5182e-04 - mape: 942.1578 - val_loss: 1.8859e-04 - val_mae: 0.0090 - val_mse: 1.8859e-04 - val_mape: 14.5265\n",
            "Epoch 33/100\n",
            "701/701 [==============================] - 2s 3ms/step - loss: 2.4357e-04 - mae: 0.0090 - mse: 2.4357e-04 - mape: 283.0040 - val_loss: 2.0091e-04 - val_mae: 0.0083 - val_mse: 2.0091e-04 - val_mape: 8.7734\n",
            "Epoch 34/100\n",
            "701/701 [==============================] - 3s 4ms/step - loss: 2.3555e-04 - mae: 0.0089 - mse: 2.3555e-04 - mape: 667.6071 - val_loss: 1.6891e-04 - val_mae: 0.0070 - val_mse: 1.6891e-04 - val_mape: 6.9760\n",
            "Epoch 35/100\n",
            "701/701 [==============================] - 3s 4ms/step - loss: 2.2996e-04 - mae: 0.0087 - mse: 2.2996e-04 - mape: 183.5410 - val_loss: 2.1608e-04 - val_mae: 0.0081 - val_mse: 2.1608e-04 - val_mape: 6.7838\n",
            "Epoch 36/100\n",
            "701/701 [==============================] - 2s 3ms/step - loss: 2.3109e-04 - mae: 0.0088 - mse: 2.3109e-04 - mape: 1158.7423 - val_loss: 4.4138e-04 - val_mae: 0.0135 - val_mse: 4.4138e-04 - val_mape: 15.9313\n",
            "Epoch 37/100\n",
            "701/701 [==============================] - 2s 3ms/step - loss: 2.3872e-04 - mae: 0.0089 - mse: 2.3872e-04 - mape: 1236.6991 - val_loss: 2.6001e-04 - val_mae: 0.0098 - val_mse: 2.6001e-04 - val_mape: 11.2236\n",
            "Epoch 38/100\n",
            "701/701 [==============================] - 2s 3ms/step - loss: 2.2616e-04 - mae: 0.0086 - mse: 2.2616e-04 - mape: 714.0945 - val_loss: 2.8281e-04 - val_mae: 0.0097 - val_mse: 2.8281e-04 - val_mape: 7.2359\n",
            "Epoch 39/100\n",
            "701/701 [==============================] - 2s 3ms/step - loss: 2.1967e-04 - mae: 0.0087 - mse: 2.1967e-04 - mape: 283.7214 - val_loss: 3.2789e-04 - val_mae: 0.0105 - val_mse: 3.2789e-04 - val_mape: 7.8904\n",
            "Epoch 40/100\n",
            "701/701 [==============================] - 3s 5ms/step - loss: 2.2209e-04 - mae: 0.0086 - mse: 2.2209e-04 - mape: 607.3264 - val_loss: 2.0047e-04 - val_mae: 0.0083 - val_mse: 2.0047e-04 - val_mape: 7.0713\n",
            "Epoch 41/100\n",
            "701/701 [==============================] - 2s 3ms/step - loss: 2.1689e-04 - mae: 0.0084 - mse: 2.1689e-04 - mape: 658.8273 - val_loss: 1.7594e-04 - val_mae: 0.0083 - val_mse: 1.7594e-04 - val_mape: 11.9129\n",
            "Epoch 42/100\n",
            "701/701 [==============================] - 2s 3ms/step - loss: 2.0871e-04 - mae: 0.0083 - mse: 2.0871e-04 - mape: 546.4288 - val_loss: 1.3629e-04 - val_mae: 0.0064 - val_mse: 1.3629e-04 - val_mape: 6.8566\n",
            "Epoch 43/100\n",
            "701/701 [==============================] - 2s 3ms/step - loss: 2.0870e-04 - mae: 0.0083 - mse: 2.0870e-04 - mape: 305.8843 - val_loss: 1.3867e-04 - val_mae: 0.0068 - val_mse: 1.3867e-04 - val_mape: 8.3699\n",
            "Epoch 44/100\n",
            "701/701 [==============================] - 2s 3ms/step - loss: 2.0513e-04 - mae: 0.0082 - mse: 2.0513e-04 - mape: 448.1252 - val_loss: 1.1782e-04 - val_mae: 0.0061 - val_mse: 1.1782e-04 - val_mape: 8.1639\n",
            "Epoch 45/100\n",
            "701/701 [==============================] - 2s 3ms/step - loss: 2.0467e-04 - mae: 0.0082 - mse: 2.0467e-04 - mape: 269.2313 - val_loss: 1.9325e-04 - val_mae: 0.0078 - val_mse: 1.9325e-04 - val_mape: 6.4722\n",
            "Epoch 46/100\n",
            "701/701 [==============================] - 3s 5ms/step - loss: 2.0113e-04 - mae: 0.0081 - mse: 2.0113e-04 - mape: 438.9611 - val_loss: 1.2662e-04 - val_mae: 0.0066 - val_mse: 1.2662e-04 - val_mape: 9.1382\n",
            "Epoch 47/100\n",
            "701/701 [==============================] - 2s 3ms/step - loss: 1.9530e-04 - mae: 0.0080 - mse: 1.9530e-04 - mape: 538.0627 - val_loss: 1.4647e-04 - val_mae: 0.0077 - val_mse: 1.4647e-04 - val_mape: 12.4225\n",
            "Epoch 48/100\n",
            "701/701 [==============================] - 2s 3ms/step - loss: 1.9256e-04 - mae: 0.0079 - mse: 1.9256e-04 - mape: 609.7617 - val_loss: 1.1136e-04 - val_mae: 0.0057 - val_mse: 1.1136e-04 - val_mape: 6.5917\n",
            "Epoch 49/100\n",
            "701/701 [==============================] - 2s 3ms/step - loss: 1.9480e-04 - mae: 0.0079 - mse: 1.9480e-04 - mape: 586.4794 - val_loss: 2.1322e-04 - val_mae: 0.0084 - val_mse: 2.1322e-04 - val_mape: 6.8281\n",
            "Epoch 50/100\n",
            "701/701 [==============================] - 2s 3ms/step - loss: 1.8841e-04 - mae: 0.0079 - mse: 1.8841e-04 - mape: 570.1583 - val_loss: 2.1582e-04 - val_mae: 0.0097 - val_mse: 2.1582e-04 - val_mape: 16.0139\n",
            "Epoch 51/100\n",
            "701/701 [==============================] - 3s 4ms/step - loss: 1.8560e-04 - mae: 0.0078 - mse: 1.8560e-04 - mape: 214.0731 - val_loss: 1.7662e-04 - val_mae: 0.0077 - val_mse: 1.7662e-04 - val_mape: 6.3361\n",
            "Epoch 52/100\n",
            "701/701 [==============================] - 3s 4ms/step - loss: 1.9026e-04 - mae: 0.0079 - mse: 1.9026e-04 - mape: 356.4899 - val_loss: 1.4665e-04 - val_mae: 0.0067 - val_mse: 1.4665e-04 - val_mape: 7.2343\n",
            "Epoch 53/100\n",
            "701/701 [==============================] - 2s 3ms/step - loss: 1.8077e-04 - mae: 0.0076 - mse: 1.8077e-04 - mape: 159.5851 - val_loss: 5.8908e-04 - val_mae: 0.0151 - val_mse: 5.8908e-04 - val_mape: 9.5528\n",
            "Epoch 54/100\n",
            "701/701 [==============================] - 2s 3ms/step - loss: 1.8440e-04 - mae: 0.0077 - mse: 1.8440e-04 - mape: 59.2308 - val_loss: 1.2031e-04 - val_mae: 0.0060 - val_mse: 1.2031e-04 - val_mape: 5.6888\n",
            "Epoch 55/100\n",
            "701/701 [==============================] - 2s 3ms/step - loss: 1.8214e-04 - mae: 0.0076 - mse: 1.8214e-04 - mape: 171.0198 - val_loss: 1.0319e-04 - val_mae: 0.0056 - val_mse: 1.0319e-04 - val_mape: 6.3318\n",
            "Epoch 56/100\n",
            "701/701 [==============================] - 2s 3ms/step - loss: 1.8219e-04 - mae: 0.0077 - mse: 1.8219e-04 - mape: 204.7828 - val_loss: 1.2555e-04 - val_mae: 0.0066 - val_mse: 1.2555e-04 - val_mape: 7.3412\n",
            "Epoch 57/100\n",
            "701/701 [==============================] - 3s 5ms/step - loss: 1.7643e-04 - mae: 0.0076 - mse: 1.7643e-04 - mape: 607.1977 - val_loss: 1.7280e-04 - val_mae: 0.0081 - val_mse: 1.7280e-04 - val_mape: 7.8505\n",
            "Epoch 58/100\n",
            "701/701 [==============================] - 2s 3ms/step - loss: 1.7432e-04 - mae: 0.0075 - mse: 1.7432e-04 - mape: 461.2502 - val_loss: 1.5590e-04 - val_mae: 0.0072 - val_mse: 1.5590e-04 - val_mape: 11.6061\n",
            "Epoch 59/100\n",
            "701/701 [==============================] - 2s 3ms/step - loss: 1.7524e-04 - mae: 0.0075 - mse: 1.7524e-04 - mape: 133.5250 - val_loss: 2.6517e-04 - val_mae: 0.0097 - val_mse: 2.6517e-04 - val_mape: 6.9448\n",
            "Epoch 60/100\n",
            "701/701 [==============================] - 2s 3ms/step - loss: 1.6567e-04 - mae: 0.0073 - mse: 1.6567e-04 - mape: 419.5614 - val_loss: 1.7774e-04 - val_mae: 0.0082 - val_mse: 1.7774e-04 - val_mape: 8.3539\n",
            "Epoch 61/100\n",
            "701/701 [==============================] - 2s 3ms/step - loss: 1.6924e-04 - mae: 0.0073 - mse: 1.6924e-04 - mape: 417.7157 - val_loss: 2.3109e-04 - val_mae: 0.0097 - val_mse: 2.3109e-04 - val_mape: 10.7474\n",
            "Epoch 62/100\n",
            "701/701 [==============================] - 3s 4ms/step - loss: 1.6382e-04 - mae: 0.0073 - mse: 1.6382e-04 - mape: 217.4343 - val_loss: 1.1996e-04 - val_mae: 0.0060 - val_mse: 1.1996e-04 - val_mape: 6.4666\n",
            "Epoch 63/100\n",
            "701/701 [==============================] - 3s 4ms/step - loss: 1.6847e-04 - mae: 0.0073 - mse: 1.6847e-04 - mape: 297.4230 - val_loss: 1.6591e-04 - val_mae: 0.0070 - val_mse: 1.6591e-04 - val_mape: 5.7690\n",
            "Epoch 64/100\n",
            "701/701 [==============================] - 2s 3ms/step - loss: 1.6436e-04 - mae: 0.0073 - mse: 1.6436e-04 - mape: 195.2812 - val_loss: 4.1259e-04 - val_mae: 0.0119 - val_mse: 4.1259e-04 - val_mape: 10.0093\n",
            "Epoch 65/100\n",
            "701/701 [==============================] - 2s 3ms/step - loss: 1.6664e-04 - mae: 0.0073 - mse: 1.6664e-04 - mape: 146.6556 - val_loss: 1.2793e-04 - val_mae: 0.0066 - val_mse: 1.2793e-04 - val_mape: 7.9624\n",
            "Epoch 66/100\n",
            "701/701 [==============================] - 2s 3ms/step - loss: 1.6076e-04 - mae: 0.0072 - mse: 1.6076e-04 - mape: 235.3931 - val_loss: 5.3230e-04 - val_mae: 0.0138 - val_mse: 5.3230e-04 - val_mape: 8.1258\n",
            "Epoch 67/100\n",
            "701/701 [==============================] - 2s 3ms/step - loss: 1.6568e-04 - mae: 0.0072 - mse: 1.6568e-04 - mape: 123.3689 - val_loss: 9.3621e-05 - val_mae: 0.0061 - val_mse: 9.3621e-05 - val_mape: 10.2073\n",
            "Epoch 68/100\n",
            "701/701 [==============================] - 3s 5ms/step - loss: 1.5618e-04 - mae: 0.0071 - mse: 1.5618e-04 - mape: 137.8098 - val_loss: 1.1827e-04 - val_mae: 0.0060 - val_mse: 1.1827e-04 - val_mape: 6.3507\n",
            "Epoch 69/100\n",
            "701/701 [==============================] - 2s 3ms/step - loss: 1.5596e-04 - mae: 0.0071 - mse: 1.5596e-04 - mape: 91.7535 - val_loss: 9.1867e-05 - val_mae: 0.0056 - val_mse: 9.1867e-05 - val_mape: 8.5114\n",
            "Epoch 70/100\n",
            "701/701 [==============================] - 2s 3ms/step - loss: 1.5768e-04 - mae: 0.0071 - mse: 1.5768e-04 - mape: 160.2335 - val_loss: 1.3396e-04 - val_mae: 0.0065 - val_mse: 1.3396e-04 - val_mape: 7.9760\n",
            "Epoch 71/100\n",
            "701/701 [==============================] - 2s 3ms/step - loss: 1.5880e-04 - mae: 0.0071 - mse: 1.5880e-04 - mape: 34.6692 - val_loss: 2.0150e-04 - val_mae: 0.0085 - val_mse: 2.0150e-04 - val_mape: 7.3767\n",
            "Epoch 72/100\n",
            "701/701 [==============================] - 2s 3ms/step - loss: 1.5543e-04 - mae: 0.0071 - mse: 1.5543e-04 - mape: 175.2668 - val_loss: 9.9663e-05 - val_mae: 0.0054 - val_mse: 9.9663e-05 - val_mape: 6.3547\n",
            "Epoch 73/100\n",
            "701/701 [==============================] - 2s 3ms/step - loss: 1.4954e-04 - mae: 0.0069 - mse: 1.4954e-04 - mape: 175.4788 - val_loss: 8.0351e-05 - val_mae: 0.0050 - val_mse: 8.0351e-05 - val_mape: 7.0117\n",
            "Epoch 74/100\n",
            "701/701 [==============================] - 3s 5ms/step - loss: 1.5196e-04 - mae: 0.0070 - mse: 1.5196e-04 - mape: 55.3314 - val_loss: 2.9224e-04 - val_mae: 0.0095 - val_mse: 2.9224e-04 - val_mape: 6.2376\n",
            "Epoch 75/100\n",
            "701/701 [==============================] - 2s 3ms/step - loss: 1.5134e-04 - mae: 0.0070 - mse: 1.5134e-04 - mape: 139.6799 - val_loss: 4.3711e-04 - val_mae: 0.0127 - val_mse: 4.3711e-04 - val_mape: 9.3113\n",
            "Epoch 76/100\n",
            "701/701 [==============================] - 2s 3ms/step - loss: 1.4935e-04 - mae: 0.0070 - mse: 1.4935e-04 - mape: 382.4597 - val_loss: 2.5531e-04 - val_mae: 0.0095 - val_mse: 2.5531e-04 - val_mape: 8.7362\n",
            "Epoch 77/100\n",
            "701/701 [==============================] - 2s 3ms/step - loss: 1.4597e-04 - mae: 0.0069 - mse: 1.4597e-04 - mape: 12.1956 - val_loss: 9.4599e-05 - val_mae: 0.0051 - val_mse: 9.4599e-05 - val_mape: 4.7994\n",
            "Epoch 78/100\n",
            "701/701 [==============================] - 2s 3ms/step - loss: 1.4998e-04 - mae: 0.0069 - mse: 1.4998e-04 - mape: 181.6851 - val_loss: 7.3797e-05 - val_mae: 0.0046 - val_mse: 7.3797e-05 - val_mape: 5.1346\n",
            "Epoch 79/100\n",
            "701/701 [==============================] - 3s 4ms/step - loss: 1.4137e-04 - mae: 0.0068 - mse: 1.4137e-04 - mape: 176.3998 - val_loss: 8.7057e-05 - val_mae: 0.0051 - val_mse: 8.7057e-05 - val_mape: 6.4267\n",
            "Epoch 80/100\n",
            "701/701 [==============================] - 3s 4ms/step - loss: 1.4808e-04 - mae: 0.0069 - mse: 1.4808e-04 - mape: 44.6786 - val_loss: 8.1814e-05 - val_mae: 0.0048 - val_mse: 8.1814e-05 - val_mape: 4.8791\n",
            "Epoch 81/100\n",
            "701/701 [==============================] - 2s 3ms/step - loss: 1.4215e-04 - mae: 0.0068 - mse: 1.4215e-04 - mape: 39.8410 - val_loss: 2.6064e-04 - val_mae: 0.0091 - val_mse: 2.6064e-04 - val_mape: 5.7159\n",
            "Epoch 82/100\n",
            "701/701 [==============================] - 2s 3ms/step - loss: 1.4508e-04 - mae: 0.0068 - mse: 1.4508e-04 - mape: 147.4679 - val_loss: 1.6192e-04 - val_mae: 0.0076 - val_mse: 1.6192e-04 - val_mape: 6.8872\n",
            "Epoch 83/100\n",
            "701/701 [==============================] - 2s 3ms/step - loss: 1.4097e-04 - mae: 0.0067 - mse: 1.4097e-04 - mape: 74.8100 - val_loss: 7.8295e-05 - val_mae: 0.0048 - val_mse: 7.8295e-05 - val_mape: 5.2818\n",
            "Epoch 84/100\n",
            "701/701 [==============================] - 2s 3ms/step - loss: 1.4137e-04 - mae: 0.0067 - mse: 1.4137e-04 - mape: 98.5000 - val_loss: 5.8660e-04 - val_mae: 0.0147 - val_mse: 5.8660e-04 - val_mape: 10.0792\n",
            "Epoch 85/100\n",
            "701/701 [==============================] - 3s 5ms/step - loss: 1.4213e-04 - mae: 0.0067 - mse: 1.4213e-04 - mape: 125.7744 - val_loss: 1.0353e-04 - val_mae: 0.0054 - val_mse: 1.0353e-04 - val_mape: 5.6072\n",
            "Epoch 86/100\n",
            "701/701 [==============================] - 2s 3ms/step - loss: 1.4048e-04 - mae: 0.0067 - mse: 1.4048e-04 - mape: 70.7444 - val_loss: 3.2643e-04 - val_mae: 0.0134 - val_mse: 3.2643e-04 - val_mape: 20.6536\n",
            "Epoch 87/100\n",
            "701/701 [==============================] - 2s 3ms/step - loss: 1.3898e-04 - mae: 0.0066 - mse: 1.3898e-04 - mape: 94.4239 - val_loss: 2.1562e-04 - val_mae: 0.0087 - val_mse: 2.1562e-04 - val_mape: 6.4329\n",
            "Epoch 88/100\n",
            "701/701 [==============================] - 2s 3ms/step - loss: 1.3804e-04 - mae: 0.0066 - mse: 1.3804e-04 - mape: 118.3155 - val_loss: 7.4805e-05 - val_mae: 0.0045 - val_mse: 7.4805e-05 - val_mape: 5.0121\n",
            "Epoch 89/100\n",
            "701/701 [==============================] - 2s 3ms/step - loss: 1.3282e-04 - mae: 0.0064 - mse: 1.3282e-04 - mape: 27.1993 - val_loss: 1.0358e-04 - val_mae: 0.0069 - val_mse: 1.0358e-04 - val_mape: 12.4208\n",
            "Epoch 90/100\n",
            "701/701 [==============================] - 3s 4ms/step - loss: 1.4051e-04 - mae: 0.0066 - mse: 1.4051e-04 - mape: 73.1566 - val_loss: 9.7056e-05 - val_mae: 0.0054 - val_mse: 9.7056e-05 - val_mape: 6.5729\n",
            "Epoch 91/100\n",
            "701/701 [==============================] - 3s 4ms/step - loss: 1.3221e-04 - mae: 0.0064 - mse: 1.3221e-04 - mape: 90.9653 - val_loss: 8.9925e-05 - val_mae: 0.0050 - val_mse: 8.9925e-05 - val_mape: 4.9740\n",
            "Epoch 92/100\n",
            "701/701 [==============================] - 2s 3ms/step - loss: 1.3091e-04 - mae: 0.0065 - mse: 1.3091e-04 - mape: 91.2932 - val_loss: 6.6342e-05 - val_mae: 0.0044 - val_mse: 6.6342e-05 - val_mape: 5.2973\n",
            "Epoch 93/100\n",
            "701/701 [==============================] - 2s 3ms/step - loss: 1.3546e-04 - mae: 0.0065 - mse: 1.3546e-04 - mape: 57.6576 - val_loss: 4.7644e-04 - val_mae: 0.0132 - val_mse: 4.7644e-04 - val_mape: 9.5455\n",
            "Epoch 94/100\n",
            "701/701 [==============================] - 2s 3ms/step - loss: 1.3105e-04 - mae: 0.0064 - mse: 1.3105e-04 - mape: 7.2129 - val_loss: 6.4257e-05 - val_mae: 0.0041 - val_mse: 6.4257e-05 - val_mape: 4.4733\n",
            "Epoch 95/100\n",
            "701/701 [==============================] - 2s 3ms/step - loss: 1.3098e-04 - mae: 0.0064 - mse: 1.3098e-04 - mape: 161.4038 - val_loss: 1.1623e-04 - val_mae: 0.0064 - val_mse: 1.1623e-04 - val_mape: 5.5313\n",
            "Epoch 96/100\n",
            "701/701 [==============================] - 3s 4ms/step - loss: 1.2894e-04 - mae: 0.0063 - mse: 1.2894e-04 - mape: 112.2411 - val_loss: 1.9675e-04 - val_mae: 0.0084 - val_mse: 1.9675e-04 - val_mape: 5.8799\n",
            "Epoch 97/100\n",
            "701/701 [==============================] - 3s 4ms/step - loss: 1.2856e-04 - mae: 0.0063 - mse: 1.2856e-04 - mape: 78.7730 - val_loss: 7.3847e-05 - val_mae: 0.0049 - val_mse: 7.3847e-05 - val_mape: 6.1748\n",
            "Epoch 98/100\n",
            "701/701 [==============================] - 2s 3ms/step - loss: 1.3061e-04 - mae: 0.0063 - mse: 1.3061e-04 - mape: 47.4580 - val_loss: 1.1100e-04 - val_mae: 0.0065 - val_mse: 1.1100e-04 - val_mape: 7.1269\n",
            "Epoch 99/100\n",
            "701/701 [==============================] - 2s 3ms/step - loss: 1.3510e-04 - mae: 0.0065 - mse: 1.3510e-04 - mape: 121.9960 - val_loss: 6.2393e-05 - val_mae: 0.0042 - val_mse: 6.2393e-05 - val_mape: 5.1757\n",
            "Epoch 100/100\n",
            "701/701 [==============================] - 2s 3ms/step - loss: 1.2892e-04 - mae: 0.0064 - mse: 1.2892e-04 - mape: 18.8671 - val_loss: 6.4957e-05 - val_mae: 0.0044 - val_mse: 6.4957e-05 - val_mape: 6.1788\n"
          ]
        }
      ],
      "source": [
        "# We decalred a function for creating a model.\n",
        "from tensorflow.keras.layers import Activation, Dense, BatchNormalization, Dropout\n",
        "from tensorflow.keras import optimizers\n",
        "def build_model3_five_hidden_layers():\n",
        "    \n",
        "    model = Sequential()\n",
        "\n",
        "    model.add(Dense(32, input_shape = (X_train.shape[1],)))    \n",
        "    \n",
        "    model.add(Dense(64,Activation('relu')))                         \n",
        "    \n",
        "    model.add(Dense(64, Activation('relu')))                         \n",
        "    \n",
        "    \n",
        "    model.add(Dense(64, Activation('relu')))                         \n",
        "    \n",
        "    \n",
        "    model.add(Dense(64, Activation('relu')))                         \n",
        "    \n",
        "    \n",
        "    model.add(Dense(64, Activation('relu')))                         \n",
        "\n",
        "    \n",
        "    model.add(Dense(1))                        \n",
        "    learning_rate = 0.001\n",
        "    optimizer = optimizers.RMSprop(learning_rate)\n",
        "    model.compile(loss='mse',\n",
        "                optimizer=optimizer,\n",
        "                metrics=['mae', 'mse', 'mape']) \n",
        "    \n",
        "    return model\n",
        "\n",
        "model3 = build_model3_five_hidden_layers()\n",
        "print('Here is a summary of this model: ')\n",
        "model3.summary()\n",
        "history = model3.fit(X_train, y_train, validation_split=0.2, epochs =100)"
      ],
      "id": "de6d7a24"
    },
    {
      "cell_type": "code",
      "execution_count": 189,
      "metadata": {
        "id": "15d83931",
        "outputId": "74796c4f-1d78-454b-f0ab-10bd04c4d2ba",
        "colab": {
          "base_uri": "https://localhost:8080/"
        }
      },
      "outputs": [
        {
          "output_type": "stream",
          "name": "stdout",
          "text": [
            "876/876 [==============================] - 2s 2ms/step\n",
            "The mean squared error is 5.7028070012502005e-05\n",
            "The mean absolute error is 0.004168386019726898\n",
            "The root mean sqaured error is 0.007551693188451316\n"
          ]
        }
      ],
      "source": [
        "y_train_pred = model3.predict(X_train)\n",
        "MSE = metrics.mean_squared_error(y_train_pred, y_train)\n",
        "MAE =  metrics.mean_absolute_error(y_train_pred, y_train)\n",
        "RMSE = MSE**0.5\n",
        "print(f\"The mean squared error is {MSE}\")\n",
        "print(f\"The mean absolute error is {MAE}\")\n",
        "print(f\"The root mean sqaured error is {RMSE}\")"
      ],
      "id": "15d83931"
    },
    {
      "cell_type": "code",
      "execution_count": 191,
      "metadata": {
        "id": "75435d1e",
        "outputId": "26d11ede-3335-4f0f-cb8a-3abcdd0293fd",
        "colab": {
          "base_uri": "https://localhost:8080/"
        }
      },
      "outputs": [
        {
          "output_type": "stream",
          "name": "stdout",
          "text": [
            "219/219 [==============================] - 0s 2ms/step\n",
            "The mean squared error is 6.811906263839141e-05\n",
            "The mean absolute error is 0.004409648473830623\n",
            "The root mean sqaured error is 0.008253427326777125\n",
            "The R2 score is 0.9174058059659145\n"
          ]
        }
      ],
      "source": [
        "y_test_pred = model3.predict(X_test)\n",
        "MSE = metrics.mean_squared_error(y_test_pred, y_test)\n",
        "MAE =  metrics.mean_absolute_error(y_test_pred, y_test)\n",
        "r2_score = metrics.r2_score(y_valid_pred,y_valid)\n",
        "RMSE = MSE**0.5\n",
        "print(f\"The mean squared error is {MSE}\")\n",
        "print(f\"The mean absolute error is {MAE}\")\n",
        "print(f\"The root mean sqaured error is {RMSE}\")\n",
        "print(f\"The R2 score is {r2_score}\")"
      ],
      "id": "75435d1e"
    },
    {
      "cell_type": "code",
      "execution_count": 40,
      "metadata": {
        "id": "cac38777",
        "outputId": "b05216ac-6c68-4855-b665-ae3e93049877",
        "colab": {
          "base_uri": "https://localhost:8080/",
          "height": 224
        }
      },
      "outputs": [
        {
          "output_type": "stream",
          "name": "stdout",
          "text": [
            "Summary of the results after each epoch: \n"
          ]
        },
        {
          "output_type": "execute_result",
          "data": {
            "text/plain": [
              "        loss       mae       mse         mape  val_loss   val_mae   val_mse  \\\n",
              "95  0.000321  0.010973  0.000321  1206.517700  0.000721  0.017429  0.000721   \n",
              "96  0.000308  0.010572  0.000308  1012.146118  0.000247  0.009276  0.000247   \n",
              "97  0.000311  0.010750  0.000311   915.653259  0.000248  0.009352  0.000248   \n",
              "98  0.000307  0.010525  0.000307  1007.065308  0.000306  0.010989  0.000306   \n",
              "99  0.000302  0.010377  0.000302  1038.085449  0.000511  0.013476  0.000511   \n",
              "\n",
              "       val_mape  epoch  \n",
              "95  4938.671875     95  \n",
              "96  1469.281250     96  \n",
              "97  3466.210938     97  \n",
              "98  3930.220215     98  \n",
              "99   109.908913     99  "
            ],
            "text/html": [
              "\n",
              "  <div id=\"df-76097bd5-7dd3-443e-9be2-7b126e21857f\">\n",
              "    <div class=\"colab-df-container\">\n",
              "      <div>\n",
              "<style scoped>\n",
              "    .dataframe tbody tr th:only-of-type {\n",
              "        vertical-align: middle;\n",
              "    }\n",
              "\n",
              "    .dataframe tbody tr th {\n",
              "        vertical-align: top;\n",
              "    }\n",
              "\n",
              "    .dataframe thead th {\n",
              "        text-align: right;\n",
              "    }\n",
              "</style>\n",
              "<table border=\"1\" class=\"dataframe\">\n",
              "  <thead>\n",
              "    <tr style=\"text-align: right;\">\n",
              "      <th></th>\n",
              "      <th>loss</th>\n",
              "      <th>mae</th>\n",
              "      <th>mse</th>\n",
              "      <th>mape</th>\n",
              "      <th>val_loss</th>\n",
              "      <th>val_mae</th>\n",
              "      <th>val_mse</th>\n",
              "      <th>val_mape</th>\n",
              "      <th>epoch</th>\n",
              "    </tr>\n",
              "  </thead>\n",
              "  <tbody>\n",
              "    <tr>\n",
              "      <th>95</th>\n",
              "      <td>0.000321</td>\n",
              "      <td>0.010973</td>\n",
              "      <td>0.000321</td>\n",
              "      <td>1206.517700</td>\n",
              "      <td>0.000721</td>\n",
              "      <td>0.017429</td>\n",
              "      <td>0.000721</td>\n",
              "      <td>4938.671875</td>\n",
              "      <td>95</td>\n",
              "    </tr>\n",
              "    <tr>\n",
              "      <th>96</th>\n",
              "      <td>0.000308</td>\n",
              "      <td>0.010572</td>\n",
              "      <td>0.000308</td>\n",
              "      <td>1012.146118</td>\n",
              "      <td>0.000247</td>\n",
              "      <td>0.009276</td>\n",
              "      <td>0.000247</td>\n",
              "      <td>1469.281250</td>\n",
              "      <td>96</td>\n",
              "    </tr>\n",
              "    <tr>\n",
              "      <th>97</th>\n",
              "      <td>0.000311</td>\n",
              "      <td>0.010750</td>\n",
              "      <td>0.000311</td>\n",
              "      <td>915.653259</td>\n",
              "      <td>0.000248</td>\n",
              "      <td>0.009352</td>\n",
              "      <td>0.000248</td>\n",
              "      <td>3466.210938</td>\n",
              "      <td>97</td>\n",
              "    </tr>\n",
              "    <tr>\n",
              "      <th>98</th>\n",
              "      <td>0.000307</td>\n",
              "      <td>0.010525</td>\n",
              "      <td>0.000307</td>\n",
              "      <td>1007.065308</td>\n",
              "      <td>0.000306</td>\n",
              "      <td>0.010989</td>\n",
              "      <td>0.000306</td>\n",
              "      <td>3930.220215</td>\n",
              "      <td>98</td>\n",
              "    </tr>\n",
              "    <tr>\n",
              "      <th>99</th>\n",
              "      <td>0.000302</td>\n",
              "      <td>0.010377</td>\n",
              "      <td>0.000302</td>\n",
              "      <td>1038.085449</td>\n",
              "      <td>0.000511</td>\n",
              "      <td>0.013476</td>\n",
              "      <td>0.000511</td>\n",
              "      <td>109.908913</td>\n",
              "      <td>99</td>\n",
              "    </tr>\n",
              "  </tbody>\n",
              "</table>\n",
              "</div>\n",
              "      <button class=\"colab-df-convert\" onclick=\"convertToInteractive('df-76097bd5-7dd3-443e-9be2-7b126e21857f')\"\n",
              "              title=\"Convert this dataframe to an interactive table.\"\n",
              "              style=\"display:none;\">\n",
              "        \n",
              "  <svg xmlns=\"http://www.w3.org/2000/svg\" height=\"24px\"viewBox=\"0 0 24 24\"\n",
              "       width=\"24px\">\n",
              "    <path d=\"M0 0h24v24H0V0z\" fill=\"none\"/>\n",
              "    <path d=\"M18.56 5.44l.94 2.06.94-2.06 2.06-.94-2.06-.94-.94-2.06-.94 2.06-2.06.94zm-11 1L8.5 8.5l.94-2.06 2.06-.94-2.06-.94L8.5 2.5l-.94 2.06-2.06.94zm10 10l.94 2.06.94-2.06 2.06-.94-2.06-.94-.94-2.06-.94 2.06-2.06.94z\"/><path d=\"M17.41 7.96l-1.37-1.37c-.4-.4-.92-.59-1.43-.59-.52 0-1.04.2-1.43.59L10.3 9.45l-7.72 7.72c-.78.78-.78 2.05 0 2.83L4 21.41c.39.39.9.59 1.41.59.51 0 1.02-.2 1.41-.59l7.78-7.78 2.81-2.81c.8-.78.8-2.07 0-2.86zM5.41 20L4 18.59l7.72-7.72 1.47 1.35L5.41 20z\"/>\n",
              "  </svg>\n",
              "      </button>\n",
              "      \n",
              "  <style>\n",
              "    .colab-df-container {\n",
              "      display:flex;\n",
              "      flex-wrap:wrap;\n",
              "      gap: 12px;\n",
              "    }\n",
              "\n",
              "    .colab-df-convert {\n",
              "      background-color: #E8F0FE;\n",
              "      border: none;\n",
              "      border-radius: 50%;\n",
              "      cursor: pointer;\n",
              "      display: none;\n",
              "      fill: #1967D2;\n",
              "      height: 32px;\n",
              "      padding: 0 0 0 0;\n",
              "      width: 32px;\n",
              "    }\n",
              "\n",
              "    .colab-df-convert:hover {\n",
              "      background-color: #E2EBFA;\n",
              "      box-shadow: 0px 1px 2px rgba(60, 64, 67, 0.3), 0px 1px 3px 1px rgba(60, 64, 67, 0.15);\n",
              "      fill: #174EA6;\n",
              "    }\n",
              "\n",
              "    [theme=dark] .colab-df-convert {\n",
              "      background-color: #3B4455;\n",
              "      fill: #D2E3FC;\n",
              "    }\n",
              "\n",
              "    [theme=dark] .colab-df-convert:hover {\n",
              "      background-color: #434B5C;\n",
              "      box-shadow: 0px 1px 3px 1px rgba(0, 0, 0, 0.15);\n",
              "      filter: drop-shadow(0px 1px 2px rgba(0, 0, 0, 0.3));\n",
              "      fill: #FFFFFF;\n",
              "    }\n",
              "  </style>\n",
              "\n",
              "      <script>\n",
              "        const buttonEl =\n",
              "          document.querySelector('#df-76097bd5-7dd3-443e-9be2-7b126e21857f button.colab-df-convert');\n",
              "        buttonEl.style.display =\n",
              "          google.colab.kernel.accessAllowed ? 'block' : 'none';\n",
              "\n",
              "        async function convertToInteractive(key) {\n",
              "          const element = document.querySelector('#df-76097bd5-7dd3-443e-9be2-7b126e21857f');\n",
              "          const dataTable =\n",
              "            await google.colab.kernel.invokeFunction('convertToInteractive',\n",
              "                                                     [key], {});\n",
              "          if (!dataTable) return;\n",
              "\n",
              "          const docLinkHtml = 'Like what you see? Visit the ' +\n",
              "            '<a target=\"_blank\" href=https://colab.research.google.com/notebooks/data_table.ipynb>data table notebook</a>'\n",
              "            + ' to learn more about interactive tables.';\n",
              "          element.innerHTML = '';\n",
              "          dataTable['output_type'] = 'display_data';\n",
              "          await google.colab.output.renderOutput(dataTable, element);\n",
              "          const docLink = document.createElement('div');\n",
              "          docLink.innerHTML = docLinkHtml;\n",
              "          element.appendChild(docLink);\n",
              "        }\n",
              "      </script>\n",
              "    </div>\n",
              "  </div>\n",
              "  "
            ]
          },
          "metadata": {},
          "execution_count": 40
        }
      ],
      "source": [
        "print('Summary of the results after each epoch: ')\n",
        "hist = pd.DataFrame(history.history)\n",
        "hist['epoch'] = history.epoch\n",
        "hist.tail()"
      ],
      "id": "cac38777"
    },
    {
      "cell_type": "code",
      "execution_count": 41,
      "metadata": {
        "id": "f5829391",
        "outputId": "1361c34c-d5c2-467b-94e5-8871f239f866",
        "colab": {
          "base_uri": "https://localhost:8080/"
        }
      },
      "outputs": [
        {
          "output_type": "stream",
          "name": "stdout",
          "text": [
            "250/250 [==============================] - 0s 2ms/step\n"
          ]
        },
        {
          "output_type": "execute_result",
          "data": {
            "text/plain": [
              "(8000, 1)"
            ]
          },
          "metadata": {},
          "execution_count": 41
        }
      ],
      "source": [
        "train_predictions = model3.predict(X_train)\n",
        "train_predictions.shape"
      ],
      "id": "f5829391"
    },
    {
      "cell_type": "code",
      "execution_count": 42,
      "metadata": {
        "id": "c26e9869",
        "outputId": "c16b86d8-0933-458f-ac74-c8ba710cf52c",
        "colab": {
          "base_uri": "https://localhost:8080/"
        }
      },
      "outputs": [
        {
          "output_type": "execute_result",
          "data": {
            "text/plain": [
              "(8000, 1)"
            ]
          },
          "metadata": {},
          "execution_count": 42
        }
      ],
      "source": [
        "y_train.shape"
      ],
      "id": "c26e9869"
    },
    {
      "cell_type": "code",
      "execution_count": 43,
      "metadata": {
        "id": "d35dd124",
        "outputId": "acc555dd-ae93-4fda-fb29-6bb6c83bef7d",
        "colab": {
          "base_uri": "https://localhost:8080/",
          "height": 472
        }
      },
      "outputs": [
        {
          "output_type": "stream",
          "name": "stdout",
          "text": [
            "250/250 [==============================] - 0s 2ms/step\n"
          ]
        },
        {
          "output_type": "display_data",
          "data": {
            "text/plain": [
              "<Figure size 640x480 with 1 Axes>"
            ],
            "image/png": "[encoded data removed]"
          },
          "metadata": {}
        }
      ],
      "source": [
        "train_predictions = model3.predict(X_train)\n",
        "\n",
        "a = plt.axes(aspect='equal')\n",
        "plt.scatter(y_train, train_predictions)\n",
        "plt.xlabel('True Values')\n",
        "plt.ylabel('Predictions')\n",
        "lims = [0, 1]\n",
        "plt.xlim(lims)\n",
        "plt.ylim(lims)\n",
        "_ = plt.plot(lims, lims)"
      ],
      "id": "d35dd124"
    },
    {
      "cell_type": "code",
      "execution_count": 44,
      "metadata": {
        "id": "d7b2ba32",
        "outputId": "783685ba-9a27-4279-f573-572384056ff4",
        "colab": {
          "base_uri": "https://localhost:8080/",
          "height": 472
        }
      },
      "outputs": [
        {
          "output_type": "stream",
          "name": "stdout",
          "text": [
            "63/63 [==============================] - 0s 2ms/step\n"
          ]
        },
        {
          "output_type": "display_data",
          "data": {
            "text/plain": [
              "<Figure size 640x480 with 1 Axes>"
            ],
            "image/png": "[encoded data removed]"
          },
          "metadata": {}
        }
      ],
      "source": [
        "test_predictions = model3.predict(X_test)\n",
        "\n",
        "a = plt.axes(aspect='equal')\n",
        "plt.scatter(y_test, test_predictions)\n",
        "plt.xlabel('True Values')\n",
        "plt.ylabel('Predictions')\n",
        "lims = [0, 1]\n",
        "plt.xlim(lims)\n",
        "plt.ylim(lims)\n",
        "_ = plt.plot(lims, lims)"
      ],
      "id": "d7b2ba32"
    },
    {
      "cell_type": "markdown",
      "metadata": {
        "id": "3c9f66c5"
      },
      "source": [
        "# Hyperparameters Tuning"
      ],
      "id": "3c9f66c5"
    },
    {
      "cell_type": "code",
      "execution_count": 173,
      "metadata": {
        "id": "b3c98798",
        "colab": {
          "base_uri": "https://localhost:8080/"
        },
        "outputId": "c9de659f-ae21-49fb-ccab-a7bc9c535b65"
      },
      "outputs": [
        {
          "output_type": "stream",
          "name": "stdout",
          "text": [
            "Looking in indexes: https://pypi.org/simple, https://us-python.pkg.dev/colab-wheels/public/simple/\n",
            "Requirement already satisfied: keras-tuner in /usr/local/lib/python3.10/dist-packages (1.3.5)\n",
            "Requirement already satisfied: packaging in /usr/local/lib/python3.10/dist-packages (from keras-tuner) (23.1)\n",
            "Requirement already satisfied: requests in /usr/local/lib/python3.10/dist-packages (from keras-tuner) (2.27.1)\n",
            "Requirement already satisfied: kt-legacy in /usr/local/lib/python3.10/dist-packages (from keras-tuner) (1.0.5)\n",
            "Requirement already satisfied: urllib3<1.27,>=1.21.1 in /usr/local/lib/python3.10/dist-packages (from requests->keras-tuner) (1.26.15)\n",
            "Requirement already satisfied: certifi>=2017.4.17 in /usr/local/lib/python3.10/dist-packages (from requests->keras-tuner) (2022.12.7)\n",
            "Requirement already satisfied: charset-normalizer~=2.0.0 in /usr/local/lib/python3.10/dist-packages (from requests->keras-tuner) (2.0.12)\n",
            "Requirement already satisfied: idna<4,>=2.5 in /usr/local/lib/python3.10/dist-packages (from requests->keras-tuner) (3.4)\n"
          ]
        }
      ],
      "source": [
        "!pip install keras-tuner\n",
        "\n",
        "import kerastuner as kt"
      ],
      "id": "b3c98798"
    },
    {
      "cell_type": "markdown",
      "metadata": {
        "id": "e4763f92"
      },
      "source": [
        "# Finding right optimizer"
      ],
      "id": "e4763f92"
    },
    {
      "cell_type": "code",
      "execution_count": 48,
      "metadata": {
        "id": "382fb5c2"
      },
      "outputs": [],
      "source": [
        "def build_model(hp):\n",
        "    \n",
        "    model = Sequential()\n",
        "    \n",
        "    model.add(Dense(32,activation='relu',input_dim=16))\n",
        "    model.add(Dense(1,activation='sigmoid'))\n",
        "    \n",
        "    optimizer=hp.Choice('optimizer',values=['adam','sgd','rmsprop','adadelta'])\n",
        "    \n",
        "    model.compile(optimizer=optimizer,loss='mse', metrics='mse')\n",
        "                        \n",
        "    return model\n",
        "    "
      ],
      "id": "382fb5c2"
    },
    {
      "cell_type": "code",
      "execution_count": 49,
      "metadata": {
        "id": "158d997d"
      },
      "outputs": [],
      "source": [
        "tuner = kt.RandomSearch(\n",
        "    build_model,\n",
        "    objective='loss',\n",
        "    max_trials=5,\n",
        "    overwrite=True)"
      ],
      "id": "158d997d"
    },
    {
      "cell_type": "code",
      "execution_count": 50,
      "metadata": {
        "id": "552102bb"
      },
      "outputs": [],
      "source": [
        "X_train, X_rem, y_train, y_rem = train_test_split(scaled_X,scaled_y, train_size=0.80,random_state=1111)\n",
        "X_valid, X_test, y_valid, y_test = train_test_split(X_rem,y_rem, test_size=0.5,random_state=1111)"
      ],
      "id": "552102bb"
    },
    {
      "cell_type": "code",
      "execution_count": 51,
      "metadata": {
        "id": "d1a9845e",
        "outputId": "00ed563e-b690-4da6-8a1a-c19db635211a",
        "colab": {
          "base_uri": "https://localhost:8080/"
        }
      },
      "outputs": [
        {
          "output_type": "stream",
          "name": "stdout",
          "text": [
            "Trial 4 Complete [00h 00m 04s]\n",
            "loss: 0.12818722426891327\n",
            "\n",
            "Best loss So Far: 0.00357743795029819\n",
            "Total elapsed time: 00h 00m 32s\n"
          ]
        }
      ],
      "source": [
        "tuner.search(X_train, y_train, epochs=5, validation_data=(X_valid, y_valid))"
      ],
      "id": "d1a9845e"
    },
    {
      "cell_type": "code",
      "execution_count": 52,
      "metadata": {
        "id": "fc2df4df",
        "outputId": "03262313-f160-45da-9b39-870e759a978d",
        "colab": {
          "base_uri": "https://localhost:8080/"
        }
      },
      "outputs": [
        {
          "output_type": "execute_result",
          "data": {
            "text/plain": [
              "{'optimizer': 'rmsprop'}"
            ]
          },
          "metadata": {},
          "execution_count": 52
        }
      ],
      "source": [
        "tuner.get_best_hyperparameters()[0].values"
      ],
      "id": "fc2df4df"
    },
    {
      "cell_type": "code",
      "execution_count": 53,
      "metadata": {
        "id": "218b9197"
      },
      "outputs": [],
      "source": [
        "model = tuner.get_best_models(num_models=1)[0]"
      ],
      "id": "218b9197"
    },
    {
      "cell_type": "code",
      "execution_count": 54,
      "metadata": {
        "id": "fd263b43",
        "outputId": "60eadf58-71ac-4f90-ce85-9235ba652ae6",
        "colab": {
          "base_uri": "https://localhost:8080/"
        }
      },
      "outputs": [
        {
          "output_type": "stream",
          "name": "stdout",
          "text": [
            "Model: \"sequential\"\n",
            "_________________________________________________________________\n",
            " Layer (type)                Output Shape              Param #   \n",
            "=================================================================\n",
            " dense (Dense)               (None, 32)                544       \n",
            "                                                                 \n",
            " dense_1 (Dense)             (None, 1)                 33        \n",
            "                                                                 \n",
            "=================================================================\n",
            "Total params: 577\n",
            "Trainable params: 577\n",
            "Non-trainable params: 0\n",
            "_________________________________________________________________\n"
          ]
        }
      ],
      "source": [
        "model.summary()"
      ],
      "id": "fd263b43"
    },
    {
      "cell_type": "code",
      "execution_count": 55,
      "metadata": {
        "id": "f88214cd",
        "outputId": "b238e470-621a-48c8-a319-e300c9c078ed",
        "colab": {
          "base_uri": "https://localhost:8080/"
        }
      },
      "outputs": [
        {
          "output_type": "stream",
          "name": "stdout",
          "text": [
            "Epoch 7/100\n",
            "250/250 [==============================] - 1s 4ms/step - loss: 0.0028 - mse: 0.0028 - val_loss: 0.0029 - val_mse: 0.0029\n",
            "Epoch 8/100\n",
            "250/250 [==============================] - 1s 3ms/step - loss: 0.0024 - mse: 0.0024 - val_loss: 0.0024 - val_mse: 0.0024\n",
            "Epoch 9/100\n",
            "250/250 [==============================] - 1s 3ms/step - loss: 0.0020 - mse: 0.0020 - val_loss: 0.0021 - val_mse: 0.0021\n",
            "Epoch 10/100\n",
            "250/250 [==============================] - 1s 3ms/step - loss: 0.0017 - mse: 0.0017 - val_loss: 0.0018 - val_mse: 0.0018\n",
            "Epoch 11/100\n",
            "250/250 [==============================] - 1s 2ms/step - loss: 0.0015 - mse: 0.0015 - val_loss: 0.0015 - val_mse: 0.0015\n",
            "Epoch 12/100\n",
            "250/250 [==============================] - 1s 2ms/step - loss: 0.0013 - mse: 0.0013 - val_loss: 0.0013 - val_mse: 0.0013\n",
            "Epoch 13/100\n",
            "250/250 [==============================] - 1s 2ms/step - loss: 0.0011 - mse: 0.0011 - val_loss: 0.0011 - val_mse: 0.0011\n",
            "Epoch 14/100\n",
            "250/250 [==============================] - 0s 2ms/step - loss: 0.0010 - mse: 0.0010 - val_loss: 0.0011 - val_mse: 0.0011\n",
            "Epoch 15/100\n",
            "250/250 [==============================] - 1s 2ms/step - loss: 8.9236e-04 - mse: 8.9236e-04 - val_loss: 9.9937e-04 - val_mse: 9.9937e-04\n",
            "Epoch 16/100\n",
            "250/250 [==============================] - 1s 2ms/step - loss: 8.0513e-04 - mse: 8.0513e-04 - val_loss: 8.5282e-04 - val_mse: 8.5282e-04\n",
            "Epoch 17/100\n",
            "250/250 [==============================] - 1s 2ms/step - loss: 7.3659e-04 - mse: 7.3659e-04 - val_loss: 7.5685e-04 - val_mse: 7.5685e-04\n",
            "Epoch 18/100\n",
            "250/250 [==============================] - 1s 2ms/step - loss: 6.7055e-04 - mse: 6.7055e-04 - val_loss: 7.2639e-04 - val_mse: 7.2639e-04\n",
            "Epoch 19/100\n",
            "250/250 [==============================] - 1s 2ms/step - loss: 6.3125e-04 - mse: 6.3125e-04 - val_loss: 8.6141e-04 - val_mse: 8.6141e-04\n",
            "Epoch 20/100\n",
            "250/250 [==============================] - 1s 2ms/step - loss: 6.0386e-04 - mse: 6.0386e-04 - val_loss: 6.5178e-04 - val_mse: 6.5178e-04\n",
            "Epoch 21/100\n",
            "250/250 [==============================] - 1s 2ms/step - loss: 5.6156e-04 - mse: 5.6156e-04 - val_loss: 5.7646e-04 - val_mse: 5.7646e-04\n",
            "Epoch 22/100\n",
            "250/250 [==============================] - 1s 2ms/step - loss: 5.4805e-04 - mse: 5.4805e-04 - val_loss: 5.7649e-04 - val_mse: 5.7649e-04\n",
            "Epoch 23/100\n",
            "250/250 [==============================] - 1s 2ms/step - loss: 5.2006e-04 - mse: 5.2006e-04 - val_loss: 7.5222e-04 - val_mse: 7.5222e-04\n",
            "Epoch 24/100\n",
            "250/250 [==============================] - 1s 2ms/step - loss: 5.0638e-04 - mse: 5.0638e-04 - val_loss: 5.7611e-04 - val_mse: 5.7611e-04\n",
            "Epoch 25/100\n",
            "250/250 [==============================] - 1s 2ms/step - loss: 4.9911e-04 - mse: 4.9911e-04 - val_loss: 6.4373e-04 - val_mse: 6.4373e-04\n",
            "Epoch 26/100\n",
            "250/250 [==============================] - 1s 2ms/step - loss: 4.8844e-04 - mse: 4.8844e-04 - val_loss: 5.2113e-04 - val_mse: 5.2113e-04\n",
            "Epoch 27/100\n",
            "250/250 [==============================] - 1s 2ms/step - loss: 4.7498e-04 - mse: 4.7498e-04 - val_loss: 5.0571e-04 - val_mse: 5.0571e-04\n",
            "Epoch 28/100\n",
            "250/250 [==============================] - 0s 2ms/step - loss: 4.6752e-04 - mse: 4.6752e-04 - val_loss: 7.3909e-04 - val_mse: 7.3909e-04\n",
            "Epoch 29/100\n",
            "250/250 [==============================] - 1s 3ms/step - loss: 4.5671e-04 - mse: 4.5671e-04 - val_loss: 4.8858e-04 - val_mse: 4.8858e-04\n",
            "Epoch 30/100\n",
            "250/250 [==============================] - 1s 3ms/step - loss: 4.5731e-04 - mse: 4.5731e-04 - val_loss: 5.2844e-04 - val_mse: 5.2844e-04\n",
            "Epoch 31/100\n",
            "250/250 [==============================] - 1s 3ms/step - loss: 4.4615e-04 - mse: 4.4615e-04 - val_loss: 7.1459e-04 - val_mse: 7.1459e-04\n",
            "Epoch 32/100\n",
            "250/250 [==============================] - 1s 3ms/step - loss: 4.3916e-04 - mse: 4.3916e-04 - val_loss: 5.8842e-04 - val_mse: 5.8842e-04\n",
            "Epoch 33/100\n",
            "250/250 [==============================] - 1s 3ms/step - loss: 4.3741e-04 - mse: 4.3741e-04 - val_loss: 5.5291e-04 - val_mse: 5.5291e-04\n",
            "Epoch 34/100\n",
            "250/250 [==============================] - 1s 2ms/step - loss: 4.4287e-04 - mse: 4.4287e-04 - val_loss: 5.1248e-04 - val_mse: 5.1248e-04\n",
            "Epoch 35/100\n",
            "250/250 [==============================] - 0s 2ms/step - loss: 4.2432e-04 - mse: 4.2432e-04 - val_loss: 5.2073e-04 - val_mse: 5.2073e-04\n",
            "Epoch 36/100\n",
            "250/250 [==============================] - 0s 2ms/step - loss: 4.3028e-04 - mse: 4.3028e-04 - val_loss: 4.5794e-04 - val_mse: 4.5794e-04\n",
            "Epoch 37/100\n",
            "250/250 [==============================] - 1s 2ms/step - loss: 4.1647e-04 - mse: 4.1647e-04 - val_loss: 4.7207e-04 - val_mse: 4.7207e-04\n",
            "Epoch 38/100\n",
            "250/250 [==============================] - 0s 2ms/step - loss: 4.2181e-04 - mse: 4.2181e-04 - val_loss: 4.5350e-04 - val_mse: 4.5350e-04\n",
            "Epoch 39/100\n",
            "250/250 [==============================] - 1s 2ms/step - loss: 4.2105e-04 - mse: 4.2105e-04 - val_loss: 4.4307e-04 - val_mse: 4.4307e-04\n",
            "Epoch 40/100\n",
            "250/250 [==============================] - 1s 2ms/step - loss: 4.0892e-04 - mse: 4.0892e-04 - val_loss: 4.4261e-04 - val_mse: 4.4261e-04\n",
            "Epoch 41/100\n",
            "250/250 [==============================] - 1s 2ms/step - loss: 4.1543e-04 - mse: 4.1543e-04 - val_loss: 4.5754e-04 - val_mse: 4.5754e-04\n",
            "Epoch 42/100\n",
            "250/250 [==============================] - 0s 2ms/step - loss: 4.0760e-04 - mse: 4.0760e-04 - val_loss: 4.9197e-04 - val_mse: 4.9197e-04\n",
            "Epoch 43/100\n",
            "250/250 [==============================] - 1s 2ms/step - loss: 4.0147e-04 - mse: 4.0147e-04 - val_loss: 4.9443e-04 - val_mse: 4.9443e-04\n",
            "Epoch 44/100\n",
            "250/250 [==============================] - 1s 2ms/step - loss: 4.0794e-04 - mse: 4.0794e-04 - val_loss: 4.6050e-04 - val_mse: 4.6050e-04\n",
            "Epoch 45/100\n",
            "250/250 [==============================] - 1s 2ms/step - loss: 4.0337e-04 - mse: 4.0337e-04 - val_loss: 4.3074e-04 - val_mse: 4.3074e-04\n",
            "Epoch 46/100\n",
            "250/250 [==============================] - 1s 2ms/step - loss: 3.9796e-04 - mse: 3.9796e-04 - val_loss: 4.3443e-04 - val_mse: 4.3443e-04\n",
            "Epoch 47/100\n",
            "250/250 [==============================] - 1s 2ms/step - loss: 3.9987e-04 - mse: 3.9987e-04 - val_loss: 4.4661e-04 - val_mse: 4.4661e-04\n",
            "Epoch 48/100\n",
            "250/250 [==============================] - 1s 2ms/step - loss: 4.0347e-04 - mse: 4.0347e-04 - val_loss: 4.1844e-04 - val_mse: 4.1844e-04\n",
            "Epoch 49/100\n",
            "250/250 [==============================] - 1s 2ms/step - loss: 3.9581e-04 - mse: 3.9581e-04 - val_loss: 4.4149e-04 - val_mse: 4.4149e-04\n",
            "Epoch 50/100\n",
            "250/250 [==============================] - 1s 2ms/step - loss: 4.0112e-04 - mse: 4.0112e-04 - val_loss: 4.4660e-04 - val_mse: 4.4660e-04\n",
            "Epoch 51/100\n",
            "250/250 [==============================] - 1s 2ms/step - loss: 3.9221e-04 - mse: 3.9221e-04 - val_loss: 4.7248e-04 - val_mse: 4.7248e-04\n",
            "Epoch 52/100\n",
            "250/250 [==============================] - 1s 3ms/step - loss: 3.9209e-04 - mse: 3.9209e-04 - val_loss: 4.9902e-04 - val_mse: 4.9902e-04\n",
            "Epoch 53/100\n",
            "250/250 [==============================] - 1s 3ms/step - loss: 3.9471e-04 - mse: 3.9471e-04 - val_loss: 6.2228e-04 - val_mse: 6.2228e-04\n",
            "Epoch 54/100\n",
            "250/250 [==============================] - 1s 3ms/step - loss: 3.9203e-04 - mse: 3.9203e-04 - val_loss: 4.7611e-04 - val_mse: 4.7611e-04\n",
            "Epoch 55/100\n",
            "250/250 [==============================] - 1s 3ms/step - loss: 3.9010e-04 - mse: 3.9010e-04 - val_loss: 5.6616e-04 - val_mse: 5.6616e-04\n",
            "Epoch 56/100\n",
            "250/250 [==============================] - 1s 2ms/step - loss: 3.8885e-04 - mse: 3.8885e-04 - val_loss: 4.2906e-04 - val_mse: 4.2906e-04\n",
            "Epoch 57/100\n",
            "250/250 [==============================] - 1s 2ms/step - loss: 3.8604e-04 - mse: 3.8604e-04 - val_loss: 4.7997e-04 - val_mse: 4.7997e-04\n",
            "Epoch 58/100\n",
            "250/250 [==============================] - 1s 2ms/step - loss: 3.8516e-04 - mse: 3.8516e-04 - val_loss: 7.6906e-04 - val_mse: 7.6906e-04\n",
            "Epoch 59/100\n",
            "250/250 [==============================] - 0s 2ms/step - loss: 3.8708e-04 - mse: 3.8708e-04 - val_loss: 4.1869e-04 - val_mse: 4.1869e-04\n",
            "Epoch 60/100\n",
            "250/250 [==============================] - 1s 2ms/step - loss: 3.8320e-04 - mse: 3.8320e-04 - val_loss: 4.1738e-04 - val_mse: 4.1738e-04\n",
            "Epoch 61/100\n",
            "250/250 [==============================] - 1s 2ms/step - loss: 3.8408e-04 - mse: 3.8408e-04 - val_loss: 4.1354e-04 - val_mse: 4.1354e-04\n",
            "Epoch 62/100\n",
            "250/250 [==============================] - 1s 2ms/step - loss: 3.8419e-04 - mse: 3.8419e-04 - val_loss: 4.6066e-04 - val_mse: 4.6066e-04\n",
            "Epoch 63/100\n",
            "250/250 [==============================] - 1s 2ms/step - loss: 3.7940e-04 - mse: 3.7940e-04 - val_loss: 4.5688e-04 - val_mse: 4.5688e-04\n",
            "Epoch 64/100\n",
            "250/250 [==============================] - 0s 2ms/step - loss: 3.7665e-04 - mse: 3.7665e-04 - val_loss: 4.1374e-04 - val_mse: 4.1374e-04\n",
            "Epoch 65/100\n",
            "250/250 [==============================] - 0s 2ms/step - loss: 3.7628e-04 - mse: 3.7628e-04 - val_loss: 4.6229e-04 - val_mse: 4.6229e-04\n",
            "Epoch 66/100\n",
            "250/250 [==============================] - 1s 2ms/step - loss: 3.7728e-04 - mse: 3.7728e-04 - val_loss: 5.3980e-04 - val_mse: 5.3980e-04\n",
            "Epoch 67/100\n",
            "250/250 [==============================] - 1s 2ms/step - loss: 3.7720e-04 - mse: 3.7720e-04 - val_loss: 4.2089e-04 - val_mse: 4.2089e-04\n",
            "Epoch 68/100\n",
            "250/250 [==============================] - 1s 2ms/step - loss: 3.7877e-04 - mse: 3.7877e-04 - val_loss: 4.2524e-04 - val_mse: 4.2524e-04\n",
            "Epoch 69/100\n",
            "250/250 [==============================] - 1s 2ms/step - loss: 3.6814e-04 - mse: 3.6814e-04 - val_loss: 4.1813e-04 - val_mse: 4.1813e-04\n",
            "Epoch 70/100\n",
            "250/250 [==============================] - 1s 2ms/step - loss: 3.7069e-04 - mse: 3.7069e-04 - val_loss: 4.1505e-04 - val_mse: 4.1505e-04\n",
            "Epoch 71/100\n",
            "250/250 [==============================] - 1s 2ms/step - loss: 3.7570e-04 - mse: 3.7570e-04 - val_loss: 4.0909e-04 - val_mse: 4.0909e-04\n",
            "Epoch 72/100\n",
            "250/250 [==============================] - 1s 2ms/step - loss: 3.7068e-04 - mse: 3.7068e-04 - val_loss: 4.1611e-04 - val_mse: 4.1611e-04\n",
            "Epoch 73/100\n",
            "250/250 [==============================] - 1s 2ms/step - loss: 3.7132e-04 - mse: 3.7132e-04 - val_loss: 4.0842e-04 - val_mse: 4.0842e-04\n",
            "Epoch 74/100\n",
            "250/250 [==============================] - 1s 2ms/step - loss: 3.6775e-04 - mse: 3.6775e-04 - val_loss: 4.1198e-04 - val_mse: 4.1198e-04\n",
            "Epoch 75/100\n",
            "250/250 [==============================] - 1s 3ms/step - loss: 3.6663e-04 - mse: 3.6663e-04 - val_loss: 6.5465e-04 - val_mse: 6.5465e-04\n",
            "Epoch 76/100\n",
            "250/250 [==============================] - 2s 9ms/step - loss: 3.6673e-04 - mse: 3.6673e-04 - val_loss: 4.4675e-04 - val_mse: 4.4675e-04\n",
            "Epoch 77/100\n",
            "250/250 [==============================] - 1s 5ms/step - loss: 3.6479e-04 - mse: 3.6479e-04 - val_loss: 4.5396e-04 - val_mse: 4.5396e-04\n",
            "Epoch 78/100\n",
            "250/250 [==============================] - 1s 3ms/step - loss: 3.6345e-04 - mse: 3.6345e-04 - val_loss: 4.1598e-04 - val_mse: 4.1598e-04\n",
            "Epoch 79/100\n",
            "250/250 [==============================] - 0s 2ms/step - loss: 3.6946e-04 - mse: 3.6946e-04 - val_loss: 3.9824e-04 - val_mse: 3.9824e-04\n",
            "Epoch 80/100\n",
            "250/250 [==============================] - 1s 2ms/step - loss: 3.6330e-04 - mse: 3.6330e-04 - val_loss: 4.0671e-04 - val_mse: 4.0671e-04\n",
            "Epoch 81/100\n",
            "250/250 [==============================] - 1s 2ms/step - loss: 3.6599e-04 - mse: 3.6599e-04 - val_loss: 4.0525e-04 - val_mse: 4.0525e-04\n",
            "Epoch 82/100\n",
            "250/250 [==============================] - 1s 2ms/step - loss: 3.6041e-04 - mse: 3.6041e-04 - val_loss: 4.1155e-04 - val_mse: 4.1155e-04\n",
            "Epoch 83/100\n",
            "250/250 [==============================] - 1s 2ms/step - loss: 3.6678e-04 - mse: 3.6678e-04 - val_loss: 4.0105e-04 - val_mse: 4.0105e-04\n",
            "Epoch 84/100\n",
            "250/250 [==============================] - 1s 2ms/step - loss: 3.6054e-04 - mse: 3.6054e-04 - val_loss: 4.5766e-04 - val_mse: 4.5766e-04\n",
            "Epoch 85/100\n",
            "250/250 [==============================] - 0s 2ms/step - loss: 3.5945e-04 - mse: 3.5945e-04 - val_loss: 4.7166e-04 - val_mse: 4.7166e-04\n",
            "Epoch 86/100\n",
            "250/250 [==============================] - 1s 2ms/step - loss: 3.5639e-04 - mse: 3.5639e-04 - val_loss: 4.2139e-04 - val_mse: 4.2139e-04\n",
            "Epoch 87/100\n",
            "250/250 [==============================] - 1s 2ms/step - loss: 3.5718e-04 - mse: 3.5718e-04 - val_loss: 7.4173e-04 - val_mse: 7.4173e-04\n",
            "Epoch 88/100\n",
            "250/250 [==============================] - 1s 2ms/step - loss: 3.5646e-04 - mse: 3.5646e-04 - val_loss: 4.0347e-04 - val_mse: 4.0347e-04\n",
            "Epoch 89/100\n",
            "250/250 [==============================] - 0s 2ms/step - loss: 3.6029e-04 - mse: 3.6029e-04 - val_loss: 4.2562e-04 - val_mse: 4.2562e-04\n",
            "Epoch 90/100\n",
            "250/250 [==============================] - 1s 2ms/step - loss: 3.5128e-04 - mse: 3.5128e-04 - val_loss: 4.6007e-04 - val_mse: 4.6007e-04\n",
            "Epoch 91/100\n",
            "250/250 [==============================] - 1s 2ms/step - loss: 3.5593e-04 - mse: 3.5593e-04 - val_loss: 4.8815e-04 - val_mse: 4.8815e-04\n",
            "Epoch 92/100\n",
            "250/250 [==============================] - 1s 2ms/step - loss: 3.5731e-04 - mse: 3.5731e-04 - val_loss: 5.1400e-04 - val_mse: 5.1400e-04\n",
            "Epoch 93/100\n",
            "250/250 [==============================] - 1s 2ms/step - loss: 3.5504e-04 - mse: 3.5504e-04 - val_loss: 4.7787e-04 - val_mse: 4.7787e-04\n",
            "Epoch 94/100\n",
            "250/250 [==============================] - 1s 2ms/step - loss: 3.5273e-04 - mse: 3.5273e-04 - val_loss: 4.7551e-04 - val_mse: 4.7551e-04\n",
            "Epoch 95/100\n",
            "250/250 [==============================] - 1s 2ms/step - loss: 3.5423e-04 - mse: 3.5423e-04 - val_loss: 4.7929e-04 - val_mse: 4.7929e-04\n",
            "Epoch 96/100\n",
            "250/250 [==============================] - 1s 3ms/step - loss: 3.5581e-04 - mse: 3.5581e-04 - val_loss: 3.9971e-04 - val_mse: 3.9971e-04\n",
            "Epoch 97/100\n",
            "250/250 [==============================] - 1s 3ms/step - loss: 3.5574e-04 - mse: 3.5574e-04 - val_loss: 5.0730e-04 - val_mse: 5.0730e-04\n",
            "Epoch 98/100\n",
            "250/250 [==============================] - 1s 3ms/step - loss: 3.5126e-04 - mse: 3.5126e-04 - val_loss: 4.4416e-04 - val_mse: 4.4416e-04\n",
            "Epoch 99/100\n",
            "250/250 [==============================] - 1s 3ms/step - loss: 3.4903e-04 - mse: 3.4903e-04 - val_loss: 4.0796e-04 - val_mse: 4.0796e-04\n",
            "Epoch 100/100\n",
            "250/250 [==============================] - 1s 3ms/step - loss: 3.5005e-04 - mse: 3.5005e-04 - val_loss: 4.0687e-04 - val_mse: 4.0687e-04\n"
          ]
        },
        {
          "output_type": "execute_result",
          "data": {
            "text/plain": [
              "<keras.callbacks.History at 0x7f84142594e0>"
            ]
          },
          "metadata": {},
          "execution_count": 55
        }
      ],
      "source": [
        "model.fit(X_train,y_train,batch_size=32,epochs=100,initial_epoch=6,validation_data=(X_valid,y_valid))"
      ],
      "id": "f88214cd"
    },
    {
      "cell_type": "code",
      "execution_count": 56,
      "metadata": {
        "id": "cccef982",
        "outputId": "ef86637a-bf38-4ac0-d4ff-bfe6ce83f3b8",
        "colab": {
          "base_uri": "https://localhost:8080/"
        }
      },
      "outputs": [
        {
          "output_type": "stream",
          "name": "stdout",
          "text": [
            "32/32 [==============================] - 0s 4ms/step\n",
            "The mean squared error is 0.0003765485217430384\n",
            "The mean absolute error is 0.012758638880782868\n",
            "The root mean sqaured error is 0.019404858199508657\n"
          ]
        }
      ],
      "source": [
        "y_test_pred = model.predict(X_test)\n",
        "MSE = metrics.mean_squared_error(y_test_pred, y_test)\n",
        "MAE =  metrics.mean_absolute_error(y_test_pred, y_test)\n",
        "RMSE = MSE**0.5\n",
        "print(f\"The mean squared error is {MSE}\")\n",
        "print(f\"The mean absolute error is {MAE}\")\n",
        "print(f\"The root mean sqaured error is {RMSE}\")"
      ],
      "id": "cccef982"
    },
    {
      "cell_type": "markdown",
      "metadata": {
        "id": "a7428e19"
      },
      "source": [
        "# Finding right number of neurons"
      ],
      "id": "a7428e19"
    },
    {
      "cell_type": "code",
      "execution_count": 57,
      "metadata": {
        "id": "c6b19ac2"
      },
      "outputs": [],
      "source": [
        "def build_model(hp):\n",
        "    \n",
        "    model = Sequential()\n",
        "    \n",
        "    units=hp.Int('units',min_value=8,max_value=128,step=8)\n",
        "    \n",
        "    model.add(Dense(units=units,activation='relu',input_dim=16))\n",
        "    \n",
        "    model.add(Dense(1,activation='sigmoid'))\n",
        "    \n",
        "    model.compile(optimizer='rmsprop',loss='mse', metrics=['mse'])\n",
        "    \n",
        "    return model"
      ],
      "id": "c6b19ac2"
    },
    {
      "cell_type": "code",
      "execution_count": 58,
      "metadata": {
        "id": "d4a43e61"
      },
      "outputs": [],
      "source": [
        "tuner = kt.RandomSearch(\n",
        "    build_model,\n",
        "    objective='loss',\n",
        "    max_trials=5,\n",
        "    overwrite=True)"
      ],
      "id": "d4a43e61"
    },
    {
      "cell_type": "code",
      "execution_count": 59,
      "metadata": {
        "id": "db25ae84",
        "outputId": "3b6b5598-1b11-49c8-a7d1-183c9ff0b13d",
        "colab": {
          "base_uri": "https://localhost:8080/"
        }
      },
      "outputs": [
        {
          "output_type": "stream",
          "name": "stdout",
          "text": [
            "Trial 5 Complete [00h 00m 04s]\n",
            "loss: 0.0025803549215197563\n",
            "\n",
            "Best loss So Far: 0.0018964597256854177\n",
            "Total elapsed time: 00h 00m 28s\n"
          ]
        }
      ],
      "source": [
        "tuner.search(X_train, y_train, epochs=5, validation_data=(X_valid, y_valid))"
      ],
      "id": "db25ae84"
    },
    {
      "cell_type": "code",
      "execution_count": 60,
      "metadata": {
        "id": "5f7f1ecf",
        "outputId": "c3b8f3e8-f49e-452e-cd80-3e2cfe3f4426",
        "colab": {
          "base_uri": "https://localhost:8080/"
        }
      },
      "outputs": [
        {
          "output_type": "execute_result",
          "data": {
            "text/plain": [
              "{'units': 88}"
            ]
          },
          "metadata": {},
          "execution_count": 60
        }
      ],
      "source": [
        "tuner.get_best_hyperparameters()[0].values"
      ],
      "id": "5f7f1ecf"
    },
    {
      "cell_type": "code",
      "execution_count": 61,
      "metadata": {
        "id": "723e33ef"
      },
      "outputs": [],
      "source": [
        "model = tuner.get_best_models(num_models=1)[0]"
      ],
      "id": "723e33ef"
    },
    {
      "cell_type": "code",
      "execution_count": 62,
      "metadata": {
        "id": "91e0634d",
        "outputId": "8609b1ab-9208-4e03-b2da-3ba2d768fde8",
        "colab": {
          "base_uri": "https://localhost:8080/"
        }
      },
      "outputs": [
        {
          "output_type": "stream",
          "name": "stdout",
          "text": [
            "Epoch 7/100\n",
            "250/250 [==============================] - 1s 3ms/step - loss: 0.0014 - mse: 0.0014 - val_loss: 0.0014 - val_mse: 0.0014\n",
            "Epoch 8/100\n",
            "250/250 [==============================] - 1s 2ms/step - loss: 0.0010 - mse: 0.0010 - val_loss: 9.5216e-04 - val_mse: 9.5216e-04\n",
            "Epoch 9/100\n",
            "250/250 [==============================] - 1s 2ms/step - loss: 8.2210e-04 - mse: 8.2210e-04 - val_loss: 0.0011 - val_mse: 0.0011\n",
            "Epoch 10/100\n",
            "250/250 [==============================] - 1s 2ms/step - loss: 7.0622e-04 - mse: 7.0622e-04 - val_loss: 0.0012 - val_mse: 0.0012\n",
            "Epoch 11/100\n",
            "250/250 [==============================] - 1s 2ms/step - loss: 6.5836e-04 - mse: 6.5836e-04 - val_loss: 7.5295e-04 - val_mse: 7.5295e-04\n",
            "Epoch 12/100\n",
            "250/250 [==============================] - 1s 2ms/step - loss: 6.0767e-04 - mse: 6.0767e-04 - val_loss: 6.7780e-04 - val_mse: 6.7780e-04\n",
            "Epoch 13/100\n",
            "250/250 [==============================] - 1s 2ms/step - loss: 5.6718e-04 - mse: 5.6718e-04 - val_loss: 6.2548e-04 - val_mse: 6.2548e-04\n",
            "Epoch 14/100\n",
            "250/250 [==============================] - 1s 2ms/step - loss: 5.4376e-04 - mse: 5.4376e-04 - val_loss: 6.1403e-04 - val_mse: 6.1403e-04\n",
            "Epoch 15/100\n",
            "250/250 [==============================] - 1s 2ms/step - loss: 5.1519e-04 - mse: 5.1519e-04 - val_loss: 5.3448e-04 - val_mse: 5.3448e-04\n",
            "Epoch 16/100\n",
            "250/250 [==============================] - 1s 2ms/step - loss: 5.0846e-04 - mse: 5.0846e-04 - val_loss: 5.3145e-04 - val_mse: 5.3145e-04\n",
            "Epoch 17/100\n",
            "250/250 [==============================] - 1s 3ms/step - loss: 4.8177e-04 - mse: 4.8177e-04 - val_loss: 6.8590e-04 - val_mse: 6.8590e-04\n",
            "Epoch 18/100\n",
            "250/250 [==============================] - 1s 3ms/step - loss: 4.8651e-04 - mse: 4.8651e-04 - val_loss: 5.1521e-04 - val_mse: 5.1521e-04\n",
            "Epoch 19/100\n",
            "250/250 [==============================] - 1s 3ms/step - loss: 4.6341e-04 - mse: 4.6341e-04 - val_loss: 5.1938e-04 - val_mse: 5.1938e-04\n",
            "Epoch 20/100\n",
            "250/250 [==============================] - 1s 3ms/step - loss: 4.6325e-04 - mse: 4.6325e-04 - val_loss: 4.6376e-04 - val_mse: 4.6376e-04\n",
            "Epoch 21/100\n",
            "250/250 [==============================] - 1s 2ms/step - loss: 4.5616e-04 - mse: 4.5616e-04 - val_loss: 4.5960e-04 - val_mse: 4.5960e-04\n",
            "Epoch 22/100\n",
            "250/250 [==============================] - 0s 2ms/step - loss: 4.5898e-04 - mse: 4.5898e-04 - val_loss: 5.8329e-04 - val_mse: 5.8329e-04\n",
            "Epoch 23/100\n",
            "250/250 [==============================] - 1s 2ms/step - loss: 4.4120e-04 - mse: 4.4120e-04 - val_loss: 6.3466e-04 - val_mse: 6.3466e-04\n",
            "Epoch 24/100\n",
            "250/250 [==============================] - 1s 2ms/step - loss: 4.3383e-04 - mse: 4.3383e-04 - val_loss: 5.6404e-04 - val_mse: 5.6404e-04\n",
            "Epoch 25/100\n",
            "250/250 [==============================] - 1s 2ms/step - loss: 4.2650e-04 - mse: 4.2650e-04 - val_loss: 5.4781e-04 - val_mse: 5.4781e-04\n",
            "Epoch 26/100\n",
            "250/250 [==============================] - 0s 2ms/step - loss: 4.2415e-04 - mse: 4.2415e-04 - val_loss: 5.0639e-04 - val_mse: 5.0639e-04\n",
            "Epoch 27/100\n",
            "250/250 [==============================] - 1s 2ms/step - loss: 4.1335e-04 - mse: 4.1335e-04 - val_loss: 4.2458e-04 - val_mse: 4.2458e-04\n",
            "Epoch 28/100\n",
            "250/250 [==============================] - 1s 2ms/step - loss: 4.1649e-04 - mse: 4.1649e-04 - val_loss: 7.2274e-04 - val_mse: 7.2274e-04\n",
            "Epoch 29/100\n",
            "250/250 [==============================] - 1s 2ms/step - loss: 4.1235e-04 - mse: 4.1235e-04 - val_loss: 4.2822e-04 - val_mse: 4.2822e-04\n",
            "Epoch 30/100\n",
            "250/250 [==============================] - 1s 2ms/step - loss: 4.0629e-04 - mse: 4.0629e-04 - val_loss: 4.0033e-04 - val_mse: 4.0033e-04\n",
            "Epoch 31/100\n",
            "250/250 [==============================] - 1s 2ms/step - loss: 4.0872e-04 - mse: 4.0872e-04 - val_loss: 4.7882e-04 - val_mse: 4.7882e-04\n",
            "Epoch 32/100\n",
            "250/250 [==============================] - 1s 2ms/step - loss: 4.0861e-04 - mse: 4.0861e-04 - val_loss: 5.2691e-04 - val_mse: 5.2691e-04\n",
            "Epoch 33/100\n",
            "250/250 [==============================] - 1s 2ms/step - loss: 3.9590e-04 - mse: 3.9590e-04 - val_loss: 5.3209e-04 - val_mse: 5.3209e-04\n",
            "Epoch 34/100\n",
            "250/250 [==============================] - 0s 2ms/step - loss: 3.9907e-04 - mse: 3.9907e-04 - val_loss: 4.4048e-04 - val_mse: 4.4048e-04\n",
            "Epoch 35/100\n",
            "250/250 [==============================] - 1s 2ms/step - loss: 3.9326e-04 - mse: 3.9326e-04 - val_loss: 4.1477e-04 - val_mse: 4.1477e-04\n",
            "Epoch 36/100\n",
            "250/250 [==============================] - 0s 2ms/step - loss: 3.8591e-04 - mse: 3.8591e-04 - val_loss: 5.4739e-04 - val_mse: 5.4739e-04\n",
            "Epoch 37/100\n",
            "250/250 [==============================] - 0s 2ms/step - loss: 3.8880e-04 - mse: 3.8880e-04 - val_loss: 4.7166e-04 - val_mse: 4.7166e-04\n",
            "Epoch 38/100\n",
            "250/250 [==============================] - 1s 2ms/step - loss: 3.8372e-04 - mse: 3.8372e-04 - val_loss: 6.8943e-04 - val_mse: 6.8943e-04\n",
            "Epoch 39/100\n",
            "250/250 [==============================] - 1s 2ms/step - loss: 3.8272e-04 - mse: 3.8272e-04 - val_loss: 3.7907e-04 - val_mse: 3.7907e-04\n",
            "Epoch 40/100\n",
            "250/250 [==============================] - 1s 3ms/step - loss: 3.7731e-04 - mse: 3.7731e-04 - val_loss: 3.9968e-04 - val_mse: 3.9968e-04\n",
            "Epoch 41/100\n",
            "250/250 [==============================] - 1s 3ms/step - loss: 3.8239e-04 - mse: 3.8239e-04 - val_loss: 4.2498e-04 - val_mse: 4.2498e-04\n",
            "Epoch 42/100\n",
            "250/250 [==============================] - 1s 3ms/step - loss: 3.7872e-04 - mse: 3.7872e-04 - val_loss: 5.0290e-04 - val_mse: 5.0290e-04\n",
            "Epoch 43/100\n",
            "250/250 [==============================] - 1s 3ms/step - loss: 3.6733e-04 - mse: 3.6733e-04 - val_loss: 4.5005e-04 - val_mse: 4.5005e-04\n",
            "Epoch 44/100\n",
            "250/250 [==============================] - 1s 3ms/step - loss: 3.7689e-04 - mse: 3.7689e-04 - val_loss: 4.1232e-04 - val_mse: 4.1232e-04\n",
            "Epoch 45/100\n",
            "250/250 [==============================] - 1s 2ms/step - loss: 3.6783e-04 - mse: 3.6783e-04 - val_loss: 3.8401e-04 - val_mse: 3.8401e-04\n",
            "Epoch 46/100\n",
            "250/250 [==============================] - 1s 2ms/step - loss: 3.8087e-04 - mse: 3.8087e-04 - val_loss: 4.2668e-04 - val_mse: 4.2668e-04\n",
            "Epoch 47/100\n",
            "250/250 [==============================] - 1s 2ms/step - loss: 3.6881e-04 - mse: 3.6881e-04 - val_loss: 3.6963e-04 - val_mse: 3.6963e-04\n",
            "Epoch 48/100\n",
            "250/250 [==============================] - 0s 2ms/step - loss: 3.5543e-04 - mse: 3.5543e-04 - val_loss: 4.9749e-04 - val_mse: 4.9749e-04\n",
            "Epoch 49/100\n",
            "250/250 [==============================] - 1s 2ms/step - loss: 3.6303e-04 - mse: 3.6303e-04 - val_loss: 3.6322e-04 - val_mse: 3.6322e-04\n",
            "Epoch 50/100\n",
            "250/250 [==============================] - 1s 2ms/step - loss: 3.6185e-04 - mse: 3.6185e-04 - val_loss: 3.7792e-04 - val_mse: 3.7792e-04\n",
            "Epoch 51/100\n",
            "250/250 [==============================] - 1s 2ms/step - loss: 3.5262e-04 - mse: 3.5262e-04 - val_loss: 4.1387e-04 - val_mse: 4.1387e-04\n",
            "Epoch 52/100\n",
            "250/250 [==============================] - 1s 2ms/step - loss: 3.5939e-04 - mse: 3.5939e-04 - val_loss: 4.5536e-04 - val_mse: 4.5536e-04\n",
            "Epoch 53/100\n",
            "250/250 [==============================] - 1s 2ms/step - loss: 3.5915e-04 - mse: 3.5915e-04 - val_loss: 3.7975e-04 - val_mse: 3.7975e-04\n",
            "Epoch 54/100\n",
            "250/250 [==============================] - 1s 2ms/step - loss: 3.5304e-04 - mse: 3.5304e-04 - val_loss: 8.2605e-04 - val_mse: 8.2605e-04\n",
            "Epoch 55/100\n",
            "250/250 [==============================] - 1s 2ms/step - loss: 3.6075e-04 - mse: 3.6075e-04 - val_loss: 7.1002e-04 - val_mse: 7.1002e-04\n",
            "Epoch 56/100\n",
            "250/250 [==============================] - 1s 2ms/step - loss: 3.5509e-04 - mse: 3.5509e-04 - val_loss: 4.6122e-04 - val_mse: 4.6122e-04\n",
            "Epoch 57/100\n",
            "250/250 [==============================] - 1s 2ms/step - loss: 3.5203e-04 - mse: 3.5203e-04 - val_loss: 5.4813e-04 - val_mse: 5.4813e-04\n",
            "Epoch 58/100\n",
            "250/250 [==============================] - 1s 2ms/step - loss: 3.5055e-04 - mse: 3.5055e-04 - val_loss: 3.5114e-04 - val_mse: 3.5114e-04\n",
            "Epoch 59/100\n",
            "250/250 [==============================] - 1s 2ms/step - loss: 3.5064e-04 - mse: 3.5064e-04 - val_loss: 3.9746e-04 - val_mse: 3.9746e-04\n",
            "Epoch 60/100\n",
            "250/250 [==============================] - 1s 2ms/step - loss: 3.5676e-04 - mse: 3.5676e-04 - val_loss: 5.7054e-04 - val_mse: 5.7054e-04\n",
            "Epoch 61/100\n",
            "250/250 [==============================] - 1s 2ms/step - loss: 3.4372e-04 - mse: 3.4372e-04 - val_loss: 3.5282e-04 - val_mse: 3.5282e-04\n",
            "Epoch 62/100\n",
            "250/250 [==============================] - 1s 2ms/step - loss: 3.4789e-04 - mse: 3.4789e-04 - val_loss: 3.8537e-04 - val_mse: 3.8537e-04\n",
            "Epoch 63/100\n",
            "250/250 [==============================] - 1s 3ms/step - loss: 3.5092e-04 - mse: 3.5092e-04 - val_loss: 3.8471e-04 - val_mse: 3.8471e-04\n",
            "Epoch 64/100\n",
            "250/250 [==============================] - 1s 3ms/step - loss: 3.4790e-04 - mse: 3.4790e-04 - val_loss: 4.4344e-04 - val_mse: 4.4344e-04\n",
            "Epoch 65/100\n",
            "250/250 [==============================] - 1s 3ms/step - loss: 3.4243e-04 - mse: 3.4243e-04 - val_loss: 3.9057e-04 - val_mse: 3.9057e-04\n",
            "Epoch 66/100\n",
            "250/250 [==============================] - 1s 3ms/step - loss: 3.3910e-04 - mse: 3.3910e-04 - val_loss: 3.5617e-04 - val_mse: 3.5617e-04\n",
            "Epoch 67/100\n",
            "250/250 [==============================] - 1s 3ms/step - loss: 3.4035e-04 - mse: 3.4035e-04 - val_loss: 4.4818e-04 - val_mse: 4.4818e-04\n",
            "Epoch 68/100\n",
            "250/250 [==============================] - 1s 2ms/step - loss: 3.3738e-04 - mse: 3.3738e-04 - val_loss: 4.3250e-04 - val_mse: 4.3250e-04\n",
            "Epoch 69/100\n",
            "250/250 [==============================] - 1s 2ms/step - loss: 3.3444e-04 - mse: 3.3444e-04 - val_loss: 4.2516e-04 - val_mse: 4.2516e-04\n",
            "Epoch 70/100\n",
            "250/250 [==============================] - 1s 2ms/step - loss: 3.4021e-04 - mse: 3.4021e-04 - val_loss: 3.4390e-04 - val_mse: 3.4390e-04\n",
            "Epoch 71/100\n",
            "250/250 [==============================] - 1s 2ms/step - loss: 3.3538e-04 - mse: 3.3538e-04 - val_loss: 4.6047e-04 - val_mse: 4.6047e-04\n",
            "Epoch 72/100\n",
            "250/250 [==============================] - 1s 2ms/step - loss: 3.3157e-04 - mse: 3.3157e-04 - val_loss: 3.7508e-04 - val_mse: 3.7508e-04\n",
            "Epoch 73/100\n",
            "250/250 [==============================] - 1s 2ms/step - loss: 3.3604e-04 - mse: 3.3604e-04 - val_loss: 3.3195e-04 - val_mse: 3.3195e-04\n",
            "Epoch 74/100\n",
            "250/250 [==============================] - 1s 2ms/step - loss: 3.2758e-04 - mse: 3.2758e-04 - val_loss: 3.6357e-04 - val_mse: 3.6357e-04\n",
            "Epoch 75/100\n",
            "250/250 [==============================] - 1s 2ms/step - loss: 3.3331e-04 - mse: 3.3331e-04 - val_loss: 3.4054e-04 - val_mse: 3.4054e-04\n",
            "Epoch 76/100\n",
            "250/250 [==============================] - 1s 2ms/step - loss: 3.3063e-04 - mse: 3.3063e-04 - val_loss: 3.4268e-04 - val_mse: 3.4268e-04\n",
            "Epoch 77/100\n",
            "250/250 [==============================] - 1s 2ms/step - loss: 3.2275e-04 - mse: 3.2275e-04 - val_loss: 3.8542e-04 - val_mse: 3.8542e-04\n",
            "Epoch 78/100\n",
            "250/250 [==============================] - 1s 2ms/step - loss: 3.2974e-04 - mse: 3.2974e-04 - val_loss: 3.5674e-04 - val_mse: 3.5674e-04\n",
            "Epoch 79/100\n",
            "250/250 [==============================] - 1s 2ms/step - loss: 3.2776e-04 - mse: 3.2776e-04 - val_loss: 3.7098e-04 - val_mse: 3.7098e-04\n",
            "Epoch 80/100\n",
            "250/250 [==============================] - 1s 2ms/step - loss: 3.3096e-04 - mse: 3.3096e-04 - val_loss: 4.1260e-04 - val_mse: 4.1260e-04\n",
            "Epoch 81/100\n",
            "250/250 [==============================] - 1s 3ms/step - loss: 3.3080e-04 - mse: 3.3080e-04 - val_loss: 3.3824e-04 - val_mse: 3.3824e-04\n",
            "Epoch 82/100\n",
            "250/250 [==============================] - 1s 2ms/step - loss: 3.2368e-04 - mse: 3.2368e-04 - val_loss: 3.2260e-04 - val_mse: 3.2260e-04\n",
            "Epoch 83/100\n",
            "250/250 [==============================] - 1s 2ms/step - loss: 3.2404e-04 - mse: 3.2404e-04 - val_loss: 4.3038e-04 - val_mse: 4.3038e-04\n",
            "Epoch 84/100\n",
            "250/250 [==============================] - 1s 2ms/step - loss: 3.2071e-04 - mse: 3.2071e-04 - val_loss: 3.2781e-04 - val_mse: 3.2781e-04\n",
            "Epoch 85/100\n",
            "250/250 [==============================] - 1s 3ms/step - loss: 3.2115e-04 - mse: 3.2115e-04 - val_loss: 3.7577e-04 - val_mse: 3.7577e-04\n",
            "Epoch 86/100\n",
            "250/250 [==============================] - 1s 3ms/step - loss: 3.2932e-04 - mse: 3.2932e-04 - val_loss: 3.1713e-04 - val_mse: 3.1713e-04\n",
            "Epoch 87/100\n",
            "250/250 [==============================] - 1s 3ms/step - loss: 3.1693e-04 - mse: 3.1693e-04 - val_loss: 3.9648e-04 - val_mse: 3.9648e-04\n",
            "Epoch 88/100\n",
            "250/250 [==============================] - 1s 3ms/step - loss: 3.1933e-04 - mse: 3.1933e-04 - val_loss: 3.8811e-04 - val_mse: 3.8811e-04\n",
            "Epoch 89/100\n",
            "250/250 [==============================] - 1s 3ms/step - loss: 3.1892e-04 - mse: 3.1892e-04 - val_loss: 4.1430e-04 - val_mse: 4.1430e-04\n",
            "Epoch 90/100\n",
            "250/250 [==============================] - 1s 2ms/step - loss: 3.1856e-04 - mse: 3.1856e-04 - val_loss: 3.3768e-04 - val_mse: 3.3768e-04\n",
            "Epoch 91/100\n",
            "250/250 [==============================] - 1s 2ms/step - loss: 3.1603e-04 - mse: 3.1603e-04 - val_loss: 3.3937e-04 - val_mse: 3.3937e-04\n",
            "Epoch 92/100\n",
            "250/250 [==============================] - 1s 2ms/step - loss: 3.1724e-04 - mse: 3.1724e-04 - val_loss: 4.0617e-04 - val_mse: 4.0617e-04\n",
            "Epoch 93/100\n",
            "250/250 [==============================] - 1s 2ms/step - loss: 3.1133e-04 - mse: 3.1133e-04 - val_loss: 3.1941e-04 - val_mse: 3.1941e-04\n",
            "Epoch 94/100\n",
            "250/250 [==============================] - 1s 2ms/step - loss: 3.0988e-04 - mse: 3.0988e-04 - val_loss: 3.1382e-04 - val_mse: 3.1382e-04\n",
            "Epoch 95/100\n",
            "250/250 [==============================] - 1s 2ms/step - loss: 3.1103e-04 - mse: 3.1103e-04 - val_loss: 3.5252e-04 - val_mse: 3.5252e-04\n",
            "Epoch 96/100\n",
            "250/250 [==============================] - 1s 2ms/step - loss: 3.1474e-04 - mse: 3.1474e-04 - val_loss: 3.2844e-04 - val_mse: 3.2844e-04\n",
            "Epoch 97/100\n",
            "250/250 [==============================] - 1s 2ms/step - loss: 3.1174e-04 - mse: 3.1174e-04 - val_loss: 4.2506e-04 - val_mse: 4.2506e-04\n",
            "Epoch 98/100\n",
            "250/250 [==============================] - 1s 2ms/step - loss: 3.0691e-04 - mse: 3.0691e-04 - val_loss: 4.0845e-04 - val_mse: 4.0845e-04\n",
            "Epoch 99/100\n",
            "250/250 [==============================] - 1s 2ms/step - loss: 3.1602e-04 - mse: 3.1602e-04 - val_loss: 3.7954e-04 - val_mse: 3.7954e-04\n",
            "Epoch 100/100\n",
            "250/250 [==============================] - 1s 2ms/step - loss: 3.1728e-04 - mse: 3.1728e-04 - val_loss: 3.8997e-04 - val_mse: 3.8997e-04\n"
          ]
        },
        {
          "output_type": "execute_result",
          "data": {
            "text/plain": [
              "<keras.callbacks.History at 0x7f841c131a80>"
            ]
          },
          "metadata": {},
          "execution_count": 62
        }
      ],
      "source": [
        "model.fit(X_train,y_train,batch_size=32,epochs=100,initial_epoch=6,validation_data=(X_valid,y_valid))"
      ],
      "id": "91e0634d"
    },
    {
      "cell_type": "code",
      "execution_count": 63,
      "metadata": {
        "id": "a7d7d0ee",
        "outputId": "e712f1bb-7de3-416e-84d9-7e1e04f7d6c2",
        "colab": {
          "base_uri": "https://localhost:8080/"
        }
      },
      "outputs": [
        {
          "output_type": "stream",
          "name": "stdout",
          "text": [
            "32/32 [==============================] - 0s 2ms/step\n",
            "The mean squared error is 0.0003666438567525024\n",
            "The mean absolute error is 0.012910190635434542\n",
            "The root mean sqaured error is 0.019147946541404965\n"
          ]
        }
      ],
      "source": [
        "y_test_pred = model.predict(X_test)\n",
        "MSE = metrics.mean_squared_error(y_test_pred, y_test)\n",
        "MAE =  metrics.mean_absolute_error(y_test_pred, y_test)\n",
        "RMSE = MSE**0.5\n",
        "print(f\"The mean squared error is {MSE}\")\n",
        "print(f\"The mean absolute error is {MAE}\")\n",
        "print(f\"The root mean sqaured error is {RMSE}\")"
      ],
      "id": "a7d7d0ee"
    },
    {
      "cell_type": "markdown",
      "source": [
        "# Comparision Table"
      ],
      "metadata": {
        "id": "3aDzRW88kdJT"
      },
      "id": "3aDzRW88kdJT"
    },
    {
      "cell_type": "code",
      "execution_count": 192,
      "metadata": {
        "id": "10b59220",
        "colab": {
          "base_uri": "https://localhost:8080/"
        },
        "outputId": "d1bf78be-f748-477f-c27e-4262dc04ba74"
      },
      "outputs": [
        {
          "output_type": "stream",
          "name": "stdout",
          "text": [
            "+----------------+--------------+---------+---------+-----------+\n",
            "|     Model      |     MSE      |   MAE   |   RMSE  |   Score   |\n",
            "+----------------+--------------+---------+---------+-----------+\n",
            "| SVC Non Linear |   0.005151   | 0.05861 | 0.07177 |   0.9171  |\n",
            "|   SVC Linear   |   0.001812   | 0.03367 | 0.04257 |   0.9689  |\n",
            "| Deep Learning  |  0.000068119 |  0.0044 | 0.00825 | 0.9174058 |\n",
            "+----------------+--------------+---------+---------+-----------+\n"
          ]
        }
      ],
      "source": [
        "from prettytable import PrettyTable\n",
        "\n",
        "# create table\n",
        "table = PrettyTable()\n",
        "table.field_names = [\"Model\", \"MSE\", \"MAE\", \"RMSE\", \"Score\"]\n",
        "\n",
        "# add rows\n",
        "\n",
        "table.add_row([\"SVC Non Linear\", \"0.005151\", \"0.05861\", \"0.07177\", \"0.9171\"])\n",
        "table.add_row([\"SVC Linear\", \"0.001812\", \"0.03367\", \"0.04257\", \"0.9689\"])\n",
        "table.add_row([\"Deep Learning\", \" 0.000068119\", \"0.0044\", \"0.00825\", \"0.9174058\"])\n",
        "# print table\n",
        "print(table)\n"
      ],
      "id": "10b59220"
    },
    {
      "cell_type": "markdown",
      "source": [
        "# Observation"
      ],
      "metadata": {
        "id": "4rjcci2zk3a0"
      },
      "id": "4rjcci2zk3a0"
    },
    {
      "cell_type": "markdown",
      "source": [
        "# It appears that the SVC with a linear kernel performed the best, with the lowest mean squared error, mean absolute error, and root mean squared error, as well as the highest regression score. Therefore, the SVC with a linear kernel is likely the best model to use."
      ],
      "metadata": {
        "id": "PSWcnr07k0bZ"
      },
      "id": "PSWcnr07k0bZ"
    }
  ],
  "metadata": {
    "kernelspec": {
      "display_name": "Python 3 (ipykernel)",
      "language": "python",
      "name": "python3"
    },
    "language_info": {
      "codemirror_mode": {
        "name": "ipython",
        "version": 3
      },
      "file_extension": ".py",
      "mimetype": "text/x-python",
      "name": "python",
      "nbconvert_exporter": "python",
      "pygments_lexer": "ipython3",
      "version": "3.9.12"
    },
    "colab": {
      "provenance": [],
      "collapsed_sections": [
        "3c9f66c5",
        "e4763f92",
        "a7428e19"
      ]
    }
  },
  "nbformat": 4,
  "nbformat_minor": 5
}