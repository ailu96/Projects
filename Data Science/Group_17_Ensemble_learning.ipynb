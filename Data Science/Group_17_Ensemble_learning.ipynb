{
  "cells": [
    {
      "cell_type": "code",
      "execution_count": null,
      "id": "bb9e94b5",
      "metadata": {
        "id": "bb9e94b5"
      },
      "outputs": [],
      "source": [
        "import numpy as np\n",
        "import pandas as pd\n",
        "import matplotlib.pyplot as plt\n",
        "import seaborn as sns\n",
        "import pickle\n",
        "from sklearn.model_selection import train_test_split"
      ]
    },
    {
      "cell_type": "code",
      "execution_count": null,
      "id": "56ae0eb7",
      "metadata": {
        "id": "56ae0eb7",
        "outputId": "a4e7d771-6c44-45c4-f7eb-45c9258832f0"
      },
      "outputs": [
        {
          "data": {
            "text/html": [
              "<div>\n",
              "<style scoped>\n",
              "    .dataframe tbody tr th:only-of-type {\n",
              "        vertical-align: middle;\n",
              "    }\n",
              "\n",
              "    .dataframe tbody tr th {\n",
              "        vertical-align: top;\n",
              "    }\n",
              "\n",
              "    .dataframe thead th {\n",
              "        text-align: right;\n",
              "    }\n",
              "</style>\n",
              "<table border=\"1\" class=\"dataframe\">\n",
              "  <thead>\n",
              "    <tr style=\"text-align: right;\">\n",
              "      <th></th>\n",
              "      <th>date</th>\n",
              "      <th>Usage_kWh</th>\n",
              "      <th>Lagging_Current_Reactive_Power_kVarh</th>\n",
              "      <th>Leading_Current_Reactive_Power_kVarh</th>\n",
              "      <th>CO2_tCO2</th>\n",
              "      <th>Lagging_Current_Power_Factor</th>\n",
              "      <th>Leading_Current_Power_Factor</th>\n",
              "      <th>NSM</th>\n",
              "      <th>Dummy_Weekend</th>\n",
              "      <th>Dummy_Monday</th>\n",
              "      <th>Dummy_Saturday</th>\n",
              "      <th>Dummy_Sunday</th>\n",
              "      <th>Dummy_Thursday</th>\n",
              "      <th>Dummy_Tuesday</th>\n",
              "      <th>Dummy_Wednesday</th>\n",
              "      <th>Dummy_Maximum_Load</th>\n",
              "      <th>Dummy_Medium_Load</th>\n",
              "    </tr>\n",
              "  </thead>\n",
              "  <tbody>\n",
              "    <tr>\n",
              "      <th>0</th>\n",
              "      <td>2018-01-01 00:15:00</td>\n",
              "      <td>3.17</td>\n",
              "      <td>2.95</td>\n",
              "      <td>0.0</td>\n",
              "      <td>0.0</td>\n",
              "      <td>73.21</td>\n",
              "      <td>100.0</td>\n",
              "      <td>900</td>\n",
              "      <td>0</td>\n",
              "      <td>1</td>\n",
              "      <td>0</td>\n",
              "      <td>0</td>\n",
              "      <td>0</td>\n",
              "      <td>0</td>\n",
              "      <td>0</td>\n",
              "      <td>0</td>\n",
              "      <td>0</td>\n",
              "    </tr>\n",
              "    <tr>\n",
              "      <th>1</th>\n",
              "      <td>2018-01-01 00:30:00</td>\n",
              "      <td>4.00</td>\n",
              "      <td>4.46</td>\n",
              "      <td>0.0</td>\n",
              "      <td>0.0</td>\n",
              "      <td>66.77</td>\n",
              "      <td>100.0</td>\n",
              "      <td>1800</td>\n",
              "      <td>0</td>\n",
              "      <td>1</td>\n",
              "      <td>0</td>\n",
              "      <td>0</td>\n",
              "      <td>0</td>\n",
              "      <td>0</td>\n",
              "      <td>0</td>\n",
              "      <td>0</td>\n",
              "      <td>0</td>\n",
              "    </tr>\n",
              "    <tr>\n",
              "      <th>2</th>\n",
              "      <td>2018-01-01 00:45:00</td>\n",
              "      <td>3.24</td>\n",
              "      <td>3.28</td>\n",
              "      <td>0.0</td>\n",
              "      <td>0.0</td>\n",
              "      <td>70.28</td>\n",
              "      <td>100.0</td>\n",
              "      <td>2700</td>\n",
              "      <td>0</td>\n",
              "      <td>1</td>\n",
              "      <td>0</td>\n",
              "      <td>0</td>\n",
              "      <td>0</td>\n",
              "      <td>0</td>\n",
              "      <td>0</td>\n",
              "      <td>0</td>\n",
              "      <td>0</td>\n",
              "    </tr>\n",
              "    <tr>\n",
              "      <th>3</th>\n",
              "      <td>2018-01-01 01:00:00</td>\n",
              "      <td>3.31</td>\n",
              "      <td>3.56</td>\n",
              "      <td>0.0</td>\n",
              "      <td>0.0</td>\n",
              "      <td>68.09</td>\n",
              "      <td>100.0</td>\n",
              "      <td>3600</td>\n",
              "      <td>0</td>\n",
              "      <td>1</td>\n",
              "      <td>0</td>\n",
              "      <td>0</td>\n",
              "      <td>0</td>\n",
              "      <td>0</td>\n",
              "      <td>0</td>\n",
              "      <td>0</td>\n",
              "      <td>0</td>\n",
              "    </tr>\n",
              "    <tr>\n",
              "      <th>4</th>\n",
              "      <td>2018-01-01 01:15:00</td>\n",
              "      <td>3.82</td>\n",
              "      <td>4.50</td>\n",
              "      <td>0.0</td>\n",
              "      <td>0.0</td>\n",
              "      <td>64.72</td>\n",
              "      <td>100.0</td>\n",
              "      <td>4500</td>\n",
              "      <td>0</td>\n",
              "      <td>1</td>\n",
              "      <td>0</td>\n",
              "      <td>0</td>\n",
              "      <td>0</td>\n",
              "      <td>0</td>\n",
              "      <td>0</td>\n",
              "      <td>0</td>\n",
              "      <td>0</td>\n",
              "    </tr>\n",
              "  </tbody>\n",
              "</table>\n",
              "</div>"
            ],
            "text/plain": [
              "                  date  Usage_kWh  Lagging_Current_Reactive_Power_kVarh  \\\n",
              "0  2018-01-01 00:15:00       3.17                                  2.95   \n",
              "1  2018-01-01 00:30:00       4.00                                  4.46   \n",
              "2  2018-01-01 00:45:00       3.24                                  3.28   \n",
              "3  2018-01-01 01:00:00       3.31                                  3.56   \n",
              "4  2018-01-01 01:15:00       3.82                                  4.50   \n",
              "\n",
              "   Leading_Current_Reactive_Power_kVarh  CO2_tCO2  \\\n",
              "0                                   0.0       0.0   \n",
              "1                                   0.0       0.0   \n",
              "2                                   0.0       0.0   \n",
              "3                                   0.0       0.0   \n",
              "4                                   0.0       0.0   \n",
              "\n",
              "   Lagging_Current_Power_Factor  Leading_Current_Power_Factor   NSM  \\\n",
              "0                         73.21                         100.0   900   \n",
              "1                         66.77                         100.0  1800   \n",
              "2                         70.28                         100.0  2700   \n",
              "3                         68.09                         100.0  3600   \n",
              "4                         64.72                         100.0  4500   \n",
              "\n",
              "   Dummy_Weekend  Dummy_Monday  Dummy_Saturday  Dummy_Sunday  Dummy_Thursday  \\\n",
              "0              0             1               0             0               0   \n",
              "1              0             1               0             0               0   \n",
              "2              0             1               0             0               0   \n",
              "3              0             1               0             0               0   \n",
              "4              0             1               0             0               0   \n",
              "\n",
              "   Dummy_Tuesday  Dummy_Wednesday  Dummy_Maximum_Load  Dummy_Medium_Load  \n",
              "0              0                0                   0                  0  \n",
              "1              0                0                   0                  0  \n",
              "2              0                0                   0                  0  \n",
              "3              0                0                   0                  0  \n",
              "4              0                0                   0                  0  "
            ]
          },
          "execution_count": 2,
          "metadata": {},
          "output_type": "execute_result"
        }
      ],
      "source": [
        "#reading the prepared dataset for the machine learning model\n",
        "df = pd.read_csv(\"C:/Users/kumar/Downloads/Group_17_data_cleaned.csv\")\n",
        "df.head()"
      ]
    },
    {
      "cell_type": "code",
      "execution_count": null,
      "id": "217db95f",
      "metadata": {
        "id": "217db95f",
        "outputId": "92f07bf2-12f5-434f-9c8b-dc26e1e1f0ec"
      },
      "outputs": [
        {
          "data": {
            "text/html": [
              "<div>\n",
              "<style scoped>\n",
              "    .dataframe tbody tr th:only-of-type {\n",
              "        vertical-align: middle;\n",
              "    }\n",
              "\n",
              "    .dataframe tbody tr th {\n",
              "        vertical-align: top;\n",
              "    }\n",
              "\n",
              "    .dataframe thead th {\n",
              "        text-align: right;\n",
              "    }\n",
              "</style>\n",
              "<table border=\"1\" class=\"dataframe\">\n",
              "  <thead>\n",
              "    <tr style=\"text-align: right;\">\n",
              "      <th></th>\n",
              "      <th>date</th>\n",
              "      <th>Usage_kWh</th>\n",
              "      <th>Lagging_Current_Reactive_Power_kVarh</th>\n",
              "      <th>Leading_Current_Reactive_Power_kVarh</th>\n",
              "      <th>CO2_tCO2</th>\n",
              "      <th>Lagging_Current_Power_Factor</th>\n",
              "      <th>Leading_Current_Power_Factor</th>\n",
              "      <th>NSM</th>\n",
              "      <th>Dummy_Weekend</th>\n",
              "      <th>Dummy_Monday</th>\n",
              "      <th>Dummy_Saturday</th>\n",
              "      <th>Dummy_Sunday</th>\n",
              "      <th>Dummy_Thursday</th>\n",
              "      <th>Dummy_Tuesday</th>\n",
              "      <th>Dummy_Wednesday</th>\n",
              "      <th>Dummy_Maximum_Load</th>\n",
              "      <th>Dummy_Medium_Load</th>\n",
              "    </tr>\n",
              "  </thead>\n",
              "  <tbody>\n",
              "    <tr>\n",
              "      <th>0</th>\n",
              "      <td>2018-01-01 00:15:00</td>\n",
              "      <td>3.17</td>\n",
              "      <td>2.95</td>\n",
              "      <td>0.0</td>\n",
              "      <td>0.0</td>\n",
              "      <td>73.21</td>\n",
              "      <td>100.0</td>\n",
              "      <td>900</td>\n",
              "      <td>0</td>\n",
              "      <td>1</td>\n",
              "      <td>0</td>\n",
              "      <td>0</td>\n",
              "      <td>0</td>\n",
              "      <td>0</td>\n",
              "      <td>0</td>\n",
              "      <td>0</td>\n",
              "      <td>0</td>\n",
              "    </tr>\n",
              "    <tr>\n",
              "      <th>1</th>\n",
              "      <td>2018-01-01 00:30:00</td>\n",
              "      <td>4.00</td>\n",
              "      <td>4.46</td>\n",
              "      <td>0.0</td>\n",
              "      <td>0.0</td>\n",
              "      <td>66.77</td>\n",
              "      <td>100.0</td>\n",
              "      <td>1800</td>\n",
              "      <td>0</td>\n",
              "      <td>1</td>\n",
              "      <td>0</td>\n",
              "      <td>0</td>\n",
              "      <td>0</td>\n",
              "      <td>0</td>\n",
              "      <td>0</td>\n",
              "      <td>0</td>\n",
              "      <td>0</td>\n",
              "    </tr>\n",
              "    <tr>\n",
              "      <th>2</th>\n",
              "      <td>2018-01-01 00:45:00</td>\n",
              "      <td>3.24</td>\n",
              "      <td>3.28</td>\n",
              "      <td>0.0</td>\n",
              "      <td>0.0</td>\n",
              "      <td>70.28</td>\n",
              "      <td>100.0</td>\n",
              "      <td>2700</td>\n",
              "      <td>0</td>\n",
              "      <td>1</td>\n",
              "      <td>0</td>\n",
              "      <td>0</td>\n",
              "      <td>0</td>\n",
              "      <td>0</td>\n",
              "      <td>0</td>\n",
              "      <td>0</td>\n",
              "      <td>0</td>\n",
              "    </tr>\n",
              "    <tr>\n",
              "      <th>3</th>\n",
              "      <td>2018-01-01 01:00:00</td>\n",
              "      <td>3.31</td>\n",
              "      <td>3.56</td>\n",
              "      <td>0.0</td>\n",
              "      <td>0.0</td>\n",
              "      <td>68.09</td>\n",
              "      <td>100.0</td>\n",
              "      <td>3600</td>\n",
              "      <td>0</td>\n",
              "      <td>1</td>\n",
              "      <td>0</td>\n",
              "      <td>0</td>\n",
              "      <td>0</td>\n",
              "      <td>0</td>\n",
              "      <td>0</td>\n",
              "      <td>0</td>\n",
              "      <td>0</td>\n",
              "    </tr>\n",
              "    <tr>\n",
              "      <th>4</th>\n",
              "      <td>2018-01-01 01:15:00</td>\n",
              "      <td>3.82</td>\n",
              "      <td>4.50</td>\n",
              "      <td>0.0</td>\n",
              "      <td>0.0</td>\n",
              "      <td>64.72</td>\n",
              "      <td>100.0</td>\n",
              "      <td>4500</td>\n",
              "      <td>0</td>\n",
              "      <td>1</td>\n",
              "      <td>0</td>\n",
              "      <td>0</td>\n",
              "      <td>0</td>\n",
              "      <td>0</td>\n",
              "      <td>0</td>\n",
              "      <td>0</td>\n",
              "      <td>0</td>\n",
              "    </tr>\n",
              "  </tbody>\n",
              "</table>\n",
              "</div>"
            ],
            "text/plain": [
              "                  date  Usage_kWh  Lagging_Current_Reactive_Power_kVarh  \\\n",
              "0  2018-01-01 00:15:00       3.17                                  2.95   \n",
              "1  2018-01-01 00:30:00       4.00                                  4.46   \n",
              "2  2018-01-01 00:45:00       3.24                                  3.28   \n",
              "3  2018-01-01 01:00:00       3.31                                  3.56   \n",
              "4  2018-01-01 01:15:00       3.82                                  4.50   \n",
              "\n",
              "   Leading_Current_Reactive_Power_kVarh  CO2_tCO2  \\\n",
              "0                                   0.0       0.0   \n",
              "1                                   0.0       0.0   \n",
              "2                                   0.0       0.0   \n",
              "3                                   0.0       0.0   \n",
              "4                                   0.0       0.0   \n",
              "\n",
              "   Lagging_Current_Power_Factor  Leading_Current_Power_Factor   NSM  \\\n",
              "0                         73.21                         100.0   900   \n",
              "1                         66.77                         100.0  1800   \n",
              "2                         70.28                         100.0  2700   \n",
              "3                         68.09                         100.0  3600   \n",
              "4                         64.72                         100.0  4500   \n",
              "\n",
              "   Dummy_Weekend  Dummy_Monday  Dummy_Saturday  Dummy_Sunday  Dummy_Thursday  \\\n",
              "0              0             1               0             0               0   \n",
              "1              0             1               0             0               0   \n",
              "2              0             1               0             0               0   \n",
              "3              0             1               0             0               0   \n",
              "4              0             1               0             0               0   \n",
              "\n",
              "   Dummy_Tuesday  Dummy_Wednesday  Dummy_Maximum_Load  Dummy_Medium_Load  \n",
              "0              0                0                   0                  0  \n",
              "1              0                0                   0                  0  \n",
              "2              0                0                   0                  0  \n",
              "3              0                0                   0                  0  \n",
              "4              0                0                   0                  0  "
            ]
          },
          "execution_count": 4,
          "metadata": {},
          "output_type": "execute_result"
        }
      ],
      "source": [
        "df = df.dropna(axis=0)\n",
        "df.head()"
      ]
    },
    {
      "cell_type": "markdown",
      "id": "21996ccb",
      "metadata": {
        "id": "21996ccb"
      },
      "source": [
        "# considering Usage_kWh as target variable"
      ]
    },
    {
      "cell_type": "code",
      "execution_count": null,
      "id": "ed8e349a",
      "metadata": {
        "id": "ed8e349a"
      },
      "outputs": [],
      "source": [
        "import pandas as pd\n",
        "from sklearn.preprocessing import MinMaxScaler\n",
        "\n",
        "\n",
        "# convert date/time strings to timestamps\n",
        "df['date'] = pd.to_datetime(df['date'])\n",
        "df['date'] = df['date'].astype('int64') // 10**9  # convert to seconds\n",
        "\n",
        "# extract feature matrix X and target vector y\n",
        "X = df.drop('Usage_kWh', axis=1)\n",
        "y = df['Usage_kWh']\n",
        "\n",
        "# scale the feature matrix\n",
        "scaler = MinMaxScaler()\n",
        "scaled_X = scaler.fit_transform(X)\n",
        "scaled_X\n",
        "\n",
        "Scaled_Y = scaler.fit_transform(y.values.reshape(-1, 1))\n"
      ]
    },
    {
      "cell_type": "code",
      "execution_count": null,
      "id": "0d1459a4",
      "metadata": {
        "id": "0d1459a4",
        "outputId": "5f8302f5-15a4-4fd7-9dcb-cc6fddddaadf"
      },
      "outputs": [
        {
          "data": {
            "text/plain": [
              "array([[0.02016796],\n",
              "       [0.02544853],\n",
              "       [0.02061331],\n",
              "       ...,\n",
              "       [0.02404886],\n",
              "       [0.02404886],\n",
              "       [0.02334903]])"
            ]
          },
          "execution_count": 6,
          "metadata": {},
          "output_type": "execute_result"
        }
      ],
      "source": [
        "Scaled_Y = scaler.fit_transform(y.values.reshape(-1, 1))\n",
        "Scaled_Y"
      ]
    },
    {
      "cell_type": "code",
      "execution_count": null,
      "id": "4fb1f504",
      "metadata": {
        "id": "4fb1f504"
      },
      "outputs": [],
      "source": [
        "#splitting data into train,validation and test datasets\n",
        "X_train, X_rem, y_train, y_rem = train_test_split(scaled_X,Scaled_Y, train_size=0.34,random_state=42)\n",
        "test_size = 0.5\n",
        "X_valid, X_test, y_valid, y_test = train_test_split(X_rem,y_rem, test_size=0.5,random_state=42)"
      ]
    },
    {
      "cell_type": "code",
      "execution_count": null,
      "id": "3bbcdccf",
      "metadata": {
        "id": "3bbcdccf",
        "outputId": "fd78a4be-da14-45e9-ef64-5d896fd5284d"
      },
      "outputs": [
        {
          "name": "stdout",
          "output_type": "stream",
          "text": [
            "(11913, 16)\n",
            "(11913, 1)\n",
            "(11563, 16)\n",
            "(11563, 1)\n",
            "(11564, 16)\n",
            "(11564, 1)\n"
          ]
        },
        {
          "data": {
            "text/plain": [
              "(None, None)"
            ]
          },
          "execution_count": 8,
          "metadata": {},
          "output_type": "execute_result"
        }
      ],
      "source": [
        "# shapes of train,validation and  test split\n",
        "print(X_train.shape), print(y_train.shape)\n",
        "print(X_valid.shape), print(y_valid.shape)\n",
        "print(X_test.shape), print(y_test.shape)"
      ]
    },
    {
      "cell_type": "markdown",
      "id": "47bc18ad",
      "metadata": {
        "id": "47bc18ad"
      },
      "source": [
        "## Ensemble models "
      ]
    },
    {
      "cell_type": "code",
      "execution_count": null,
      "id": "2adbad92",
      "metadata": {
        "id": "2adbad92"
      },
      "outputs": [],
      "source": [
        "from sklearn.ensemble import GradientBoostingRegressor\n",
        "from sklearn.ensemble import RandomForestRegressor\n",
        "from sklearn.linear_model import LinearRegression\n",
        "from sklearn.ensemble import VotingRegressor\n",
        "from sklearn.svm import SVR\n",
        "from sklearn.neighbors import KNeighborsRegressor\n",
        "from sklearn import metrics\n",
        "from sklearn.tree import DecisionTreeRegressor\n",
        "from xgboost import XGBRegressor\n",
        "from sklearn.ensemble import AdaBoostRegressor"
      ]
    },
    {
      "cell_type": "code",
      "execution_count": null,
      "id": "554afa05",
      "metadata": {
        "id": "554afa05"
      },
      "outputs": [],
      "source": [
        "#ensemble models\n",
        "m1 = LinearRegression(copy_X= True, fit_intercept= True)\n",
        "m2 = KNeighborsRegressor(weights= 'distance', p= 2, n_neighbors= 4)\n",
        "m3 = DecisionTreeRegressor(splitter='best', min_samples_split= 7, min_samples_leaf= 1 \n",
        "                                 , max_depth= 4)\n",
        "m4 = RandomForestRegressor(n_estimators= 10, max_features= 'sqrt', max_depth= 3,bootstrap=True)\n",
        "m5 = SVR(kernel=\"linear\")\n",
        "m6 = DecisionTreeRegressor(splitter='best', min_samples_split= 7, min_samples_leaf= 1, \n",
        "                                  max_depth= 9)\n",
        "m7 = RandomForestRegressor()\n",
        "m8 = DecisionTreeRegressor()\n",
        "m9 =  KNeighborsRegressor()\n",
        "m10 = AdaBoostRegressor(n_estimators=10, random_state=0)\n",
        "m11 = GradientBoostingRegressor(random_state=1)\n",
        "m12 = XGBRegressor()\n",
        "m13 = XGBRegressor(n_estimators=5, max_depth=7, eta=0.1, subsample=0.7, colsample_bytree=0.8)\n",
        "m14 = AdaBoostRegressor(n_estimators=3, random_state=0)\n",
        "m15 = KNeighborsRegressor(weights= 'distance', p= 2, n_neighbors= 3)\n",
        "m16 =  DecisionTreeRegressor(splitter='best', min_samples_split= 7, min_samples_leaf= 1, \n",
        "                                 max_features= 'auto', max_depth= 3)\n",
        "m17 = RandomForestRegressor(n_estimators= 300, max_features= 'sqrt', max_depth= 4,bootstrap=False)\n",
        "m18 = SVR(kernel=\"rbf\")\n",
        "m19 = DecisionTreeRegressor(splitter='random', min_samples_split= 7, min_samples_leaf= 1, \n",
        "                                  max_depth= 2)\n",
        "m20 = AdaBoostRegressor(n_estimators=10, random_state=0)"
      ]
    },
    {
      "cell_type": "code",
      "execution_count": null,
      "id": "7f895fee",
      "metadata": {
        "id": "7f895fee",
        "outputId": "2e56ab67-6446-4ebe-80f2-5396ebf0ac27"
      },
      "outputs": [
        {
          "name": "stderr",
          "output_type": "stream",
          "text": [
            "C:\\Users\\kumar\\anaconda3\\lib\\site-packages\\sklearn\\ensemble\\_voting.py:597: DataConversionWarning: A column-vector y was passed when a 1d array was expected. Please change the shape of y to (n_samples, ), for example using ravel().\n",
            "  y = column_or_1d(y, warn=True)\n",
            "C:\\Users\\kumar\\anaconda3\\lib\\site-packages\\sklearn\\tree\\_classes.py:277: FutureWarning: `max_features='auto'` has been deprecated in 1.1 and will be removed in 1.3. To keep the past behaviour, explicitly set `max_features=1.0'`.\n",
            "  warnings.warn(\n"
          ]
        }
      ],
      "source": [
        "# Ensemble regression\n",
        "\n",
        "en_reg = VotingRegressor(estimators=[('lr', m1),('knn', m2),('dr', m3),('rf', m4),('sv',m5),('dr_1',m6),('rf_1',m7),('dr_2',m8),\n",
        "    ('knn_1',m9),('abr_5',m10),('gb',m11),('xgb',m12),('xgb_1',m13),('abr',m14),('knn_2',m15),('dr_3',m16),('rf_2',m17),\n",
        "                                     ('sv_2',m18),('dr_4',m19),('abr_1',m20)])\n",
        "en_reg = en_reg.fit(X_train,y_train)"
      ]
    },
    {
      "cell_type": "code",
      "execution_count": null,
      "id": "50b3bd64",
      "metadata": {
        "id": "50b3bd64",
        "outputId": "dff13ecd-964d-4f00-ad70-010f547323dd"
      },
      "outputs": [
        {
          "name": "stdout",
          "output_type": "stream",
          "text": [
            "The mean squared error is 0.0008589394506460858\n",
            "The mean absolute error is 0.02275307605907804\n",
            "The root mean sqaured error is 0.029307668802654466\n",
            "The regression score is 0.9779868567797306\n"
          ]
        }
      ],
      "source": [
        "# Ensemble model on validation data\n",
        "# best model on validation data\n",
        "y_valid_pred = en_reg.predict(X_valid)\n",
        "MSE = metrics.mean_squared_error(y_valid_pred, y_valid)\n",
        "MAE =  metrics.mean_absolute_error(y_valid_pred, y_valid)\n",
        "r2_score = metrics.r2_score(y_valid_pred,y_valid)\n",
        "RMSE = MSE**0.5\n",
        "print(f\"The mean squared error is {MSE}\")\n",
        "print(f\"The mean absolute error is {MAE}\")\n",
        "print(f\"The root mean sqaured error is {RMSE}\")\n",
        "print(f\"The regression score is {r2_score}\")\n"
      ]
    },
    {
      "cell_type": "code",
      "execution_count": null,
      "id": "8b685cf0",
      "metadata": {
        "id": "8b685cf0",
        "outputId": "97d05bfd-cea3-47df-b10f-585b26ba7c17"
      },
      "outputs": [
        {
          "name": "stdout",
          "output_type": "stream",
          "text": [
            "The mean squared error is 0.0008225897093470599\n",
            "The mean absolute error is 0.022364797911276685\n",
            "The root mean sqaured error is 0.028680824767552623\n",
            "The regression score is 0.9786788647777097\n"
          ]
        }
      ],
      "source": [
        "# Ensemble model on test data\n",
        "y_test_pred = en_reg.predict(X_test)\n",
        "MSE = metrics.mean_squared_error(y_test_pred, y_test)\n",
        "MAE =  metrics.mean_absolute_error(y_test_pred, y_test)\n",
        "r2_score = metrics.r2_score(y_test_pred,y_test)\n",
        "RMSE = MSE**0.5\n",
        "print(f\"The mean squared error is {MSE}\")\n",
        "print(f\"The mean absolute error is {MAE}\")\n",
        "print(f\"The root mean sqaured error is {RMSE}\")\n",
        "print(f\"The regression score is {r2_score}\")\n"
      ]
    },
    {
      "cell_type": "markdown",
      "id": "b6434aab",
      "metadata": {
        "id": "b6434aab"
      },
      "source": [
        "## comparing performance of single models "
      ]
    },
    {
      "cell_type": "markdown",
      "id": "0ac6ae2b",
      "metadata": {
        "id": "0ac6ae2b"
      },
      "source": [
        "## Linear Regression model on the test data"
      ]
    },
    {
      "cell_type": "code",
      "execution_count": null,
      "id": "fb7f8eba",
      "metadata": {
        "id": "fb7f8eba",
        "outputId": "ca893d19-eab8-4cf2-80c2-e0db4c385697"
      },
      "outputs": [
        {
          "name": "stdout",
          "output_type": "stream",
          "text": [
            "The mean squared error is 0.003069472964422501\n",
            "The mean absolute error is 0.03681935152304738\n",
            "The root mean sqaured error is 0.055402824516648075\n",
            "The regression score is 0.9272965511939363\n"
          ]
        }
      ],
      "source": [
        "best = LinearRegression(copy_X= True, fit_intercept= True)\n",
        "best.fit(X_train,y_train)\n",
        "y_test_pred = best.predict(X_test)\n",
        "MSE = metrics.mean_squared_error(y_test_pred, y_test)\n",
        "MAE =  metrics.mean_absolute_error(y_test_pred, y_test)\n",
        "r2_score = metrics.r2_score(y_test_pred,y_test)\n",
        "RMSE = MSE**0.5\n",
        "print(f\"The mean squared error is {MSE}\")\n",
        "print(f\"The mean absolute error is {MAE}\")\n",
        "print(f\"The root mean sqaured error is {RMSE}\")\n",
        "print(f\"The regression score is {r2_score}\")\n"
      ]
    },
    {
      "cell_type": "markdown",
      "id": "d4cb9185",
      "metadata": {
        "id": "d4cb9185"
      },
      "source": [
        "## KNN regression on test data"
      ]
    },
    {
      "cell_type": "code",
      "execution_count": null,
      "id": "47ad5205",
      "metadata": {
        "id": "47ad5205",
        "outputId": "8a4e9e0e-1b67-4d9d-dc7f-8a944fca9210"
      },
      "outputs": [
        {
          "name": "stdout",
          "output_type": "stream",
          "text": [
            "The mean squared error is 0.0006338531224050007\n",
            "The mean absolute error is 0.012753864231186946\n",
            "The root mean sqaured error is 0.02517643982784303\n",
            "The regression score is 0.9853873904897232\n"
          ]
        }
      ],
      "source": [
        "best_knn = KNeighborsRegressor(weights= 'distance', p= 2, n_neighbors= 4)\n",
        "best_knn.fit(X_train,y_train)\n",
        "y_test_pred = best_knn.predict(X_test)\n",
        "MSE = metrics.mean_squared_error(y_test_pred, y_test)\n",
        "MAE =  metrics.mean_absolute_error(y_test_pred, y_test)\n",
        "r2_score = metrics.r2_score(y_test_pred,y_test)\n",
        "RMSE = MSE**0.5\n",
        "print(f\"The mean squared error is {MSE}\")\n",
        "print(f\"The mean absolute error is {MAE}\")\n",
        "print(f\"The root mean sqaured error is {RMSE}\")\n",
        "print(f\"The regression score is {r2_score}\")\n"
      ]
    },
    {
      "cell_type": "markdown",
      "id": "0f1567f7",
      "metadata": {
        "id": "0f1567f7"
      },
      "source": [
        "## Decision Trees on test Data"
      ]
    },
    {
      "cell_type": "code",
      "execution_count": null,
      "id": "415f8583",
      "metadata": {
        "id": "415f8583",
        "outputId": "cb694999-cb03-4ab9-d756-29d5b71c7fc6"
      },
      "outputs": [
        {
          "name": "stdout",
          "output_type": "stream",
          "text": [
            "The mean squared error is 0.00023995860183403524\n",
            "The mean absolute error is 0.007018756195555039\n",
            "The root mean sqaured error is 0.015490597207145865\n",
            "The regression score is 0.9945900809173349\n"
          ]
        },
        {
          "name": "stderr",
          "output_type": "stream",
          "text": [
            "C:\\Users\\kumar\\anaconda3\\lib\\site-packages\\sklearn\\tree\\_classes.py:277: FutureWarning: `max_features='auto'` has been deprecated in 1.1 and will be removed in 1.3. To keep the past behaviour, explicitly set `max_features=1.0'`.\n",
            "  warnings.warn(\n"
          ]
        }
      ],
      "source": [
        "best_tree = DecisionTreeRegressor(splitter='best', min_samples_split= 7, min_samples_leaf= 1, \n",
        "                                 max_features= 'auto', max_depth= 11)\n",
        "best_tree.fit(X_train,y_train)\n",
        "y_test_pred = best_tree.predict(X_test)\n",
        "MSE = metrics.mean_squared_error(y_test_pred, y_test)\n",
        "MAE =  metrics.mean_absolute_error(y_test_pred, y_test)\n",
        "r2_score = metrics.r2_score(y_test_pred,y_test)\n",
        "RMSE = MSE**0.5\n",
        "print(f\"The mean squared error is {MSE}\")\n",
        "print(f\"The mean absolute error is {MAE}\")\n",
        "print(f\"The root mean sqaured error is {RMSE}\")\n",
        "print(f\"The regression score is {r2_score}\")\n",
        "\n"
      ]
    },
    {
      "cell_type": "markdown",
      "id": "b33ef93e",
      "metadata": {
        "id": "b33ef93e"
      },
      "source": [
        "## Random Forest on test Data"
      ]
    },
    {
      "cell_type": "code",
      "execution_count": null,
      "id": "b5ad50fa",
      "metadata": {
        "id": "b5ad50fa",
        "outputId": "6d5d9c56-0ffd-4b85-f22f-7f0528a3c2a0"
      },
      "outputs": [
        {
          "name": "stderr",
          "output_type": "stream",
          "text": [
            "C:\\Users\\kumar\\AppData\\Local\\Temp\\ipykernel_13916\\2326380844.py:2: DataConversionWarning: A column-vector y was passed when a 1d array was expected. Please change the shape of y to (n_samples,), for example using ravel().\n",
            "  best_model.fit(X_train,y_train)\n"
          ]
        },
        {
          "name": "stdout",
          "output_type": "stream",
          "text": [
            "The mean squared error is 0.00020537605880004822\n",
            "The mean absolute error is 0.007233740205702437\n",
            "The root mean sqaured error is 0.014330947589048263\n",
            "The regression score is 0.9952905316968162\n"
          ]
        }
      ],
      "source": [
        "best_model = RandomForestRegressor(n_estimators= 300, max_features= 'sqrt', max_depth= 22,bootstrap=True)\n",
        "best_model.fit(X_train,y_train)\n",
        "y_test_pred = best_model.predict(X_test)\n",
        "MSE = metrics.mean_squared_error(y_test_pred, y_test)\n",
        "MAE =  metrics.mean_absolute_error(y_test_pred, y_test)\n",
        "r2_score = metrics.r2_score(y_test_pred,y_test)\n",
        "RMSE = MSE**0.5\n",
        "print(f\"The mean squared error is {MSE}\")\n",
        "print(f\"The mean absolute error is {MAE}\")\n",
        "print(f\"The root mean sqaured error is {RMSE}\")\n",
        "print(f\"The regression score is {r2_score}\")\n",
        "\n"
      ]
    },
    {
      "cell_type": "markdown",
      "id": "98cf4b23",
      "metadata": {
        "id": "98cf4b23"
      },
      "source": [
        "## SVM Linear kernel on test data"
      ]
    },
    {
      "cell_type": "code",
      "execution_count": null,
      "id": "fe513222",
      "metadata": {
        "id": "fe513222",
        "outputId": "5b385326-9617-4479-a374-c6d28465b745"
      },
      "outputs": [
        {
          "name": "stderr",
          "output_type": "stream",
          "text": [
            "C:\\Users\\kumar\\anaconda3\\lib\\site-packages\\sklearn\\utils\\validation.py:1143: DataConversionWarning: A column-vector y was passed when a 1d array was expected. Please change the shape of y to (n_samples, ), for example using ravel().\n",
            "  y = column_or_1d(y, warn=True)\n"
          ]
        },
        {
          "name": "stdout",
          "output_type": "stream",
          "text": [
            "The mean squared error is 0.0044731041117189105\n",
            "The mean absolute error is 0.056346875903114886\n",
            "The root mean sqaured error is 0.06688126876576812\n",
            "The regression score is 0.9124246155339825\n"
          ]
        }
      ],
      "source": [
        "best_model_linear = SVR(kernel=\"linear\",C=1000,gamma=1)\n",
        "best_model_linear.fit(X_train,y_train)\n",
        "y_test_pred = best_model_linear.predict(X_test)\n",
        "MSE = metrics.mean_squared_error(y_test_pred, y_test)\n",
        "MAE =  metrics.mean_absolute_error(y_test_pred, y_test)\n",
        "r2_score = metrics.r2_score(y_test_pred,y_test)\n",
        "RMSE = MSE**0.5\n",
        "print(f\"The mean squared error is {MSE}\")\n",
        "print(f\"The mean absolute error is {MAE}\")\n",
        "print(f\"The root mean sqaured error is {RMSE}\")\n",
        "print(f\"The regression score is {r2_score}\")\n",
        "\n"
      ]
    },
    {
      "cell_type": "markdown",
      "id": "bc3f07ce",
      "metadata": {
        "id": "bc3f07ce"
      },
      "source": [
        "# SVM Non Linear on test data"
      ]
    },
    {
      "cell_type": "code",
      "execution_count": null,
      "id": "337f6b51",
      "metadata": {
        "id": "337f6b51",
        "outputId": "6367e59d-d3ab-4360-fa4c-b58839029e4a"
      },
      "outputs": [
        {
          "name": "stderr",
          "output_type": "stream",
          "text": [
            "C:\\Users\\kumar\\anaconda3\\lib\\site-packages\\sklearn\\utils\\validation.py:1143: DataConversionWarning: A column-vector y was passed when a 1d array was expected. Please change the shape of y to (n_samples, ), for example using ravel().\n",
            "  y = column_or_1d(y, warn=True)\n"
          ]
        },
        {
          "name": "stdout",
          "output_type": "stream",
          "text": [
            "The mean squared error is 0.004467298477613648\n",
            "The mean absolute error is 0.056212754349785295\n",
            "The root mean sqaured error is 0.06683785213195924\n",
            "The regression score is 0.912401668221068\n"
          ]
        }
      ],
      "source": [
        "non_linear = SVR(kernel=\"poly\",C=10,degree=1)\n",
        "non_linear.fit(X_train,y_train)\n",
        "y_test_pred = non_linear.predict(X_test)\n",
        "MSE = metrics.mean_squared_error(y_test_pred, y_test)\n",
        "MAE =  metrics.mean_absolute_error(y_test_pred, y_test)\n",
        "r2_score = metrics.r2_score(y_test_pred,y_test)\n",
        "RMSE = MSE**0.5\n",
        "print(f\"The mean squared error is {MSE}\")\n",
        "print(f\"The mean absolute error is {MAE}\")\n",
        "print(f\"The root mean sqaured error is {RMSE}\")\n",
        "print(f\"The regression score is {r2_score}\")\n"
      ]
    },
    {
      "cell_type": "code",
      "execution_count": null,
      "id": "02de689b",
      "metadata": {
        "id": "02de689b",
        "outputId": "923bb379-6805-4cb0-bf13-480382f8cadb"
      },
      "outputs": [
        {
          "name": "stdout",
          "output_type": "stream",
          "text": [
            "+-------------------+-------------+-----------+------------+------------+\n",
            "| Model             |         MSE |      RMSE |        MAE |   R2_Score |\n",
            "|-------------------+-------------+-----------+------------+------------|\n",
            "| Linear Regression | 0.00306947  | 0.0554028 | 0.0368194  |   0.931043 |\n",
            "| KNN               | 0.000633853 | 0.0251764 | 0.0127539  |   0.98576  |\n",
            "| Decision Tree     | 0.000239959 | 0.0154906 | 0.00701876 |   0.994609 |\n",
            "| Random Forest     | 0.000205376 | 0.0143309 | 0.00723374 |   0.995386 |\n",
            "| SVM Linear        | 0.0044731   | 0.0668813 | 0.0563469  |   0.899509 |\n",
            "| SVM Non Linear    | 0.0044673   | 0.0668379 | 0.0562128  |   0.89964  |\n",
            "| Ensemble model    | 0.00082259  | 0.0286808 | 0.0223648  |   0.98152  |\n",
            "+-------------------+-------------+-----------+------------+------------+\n"
          ]
        }
      ],
      "source": [
        "from tabulate import tabulate\n",
        "from sklearn.metrics import mean_squared_error, mean_absolute_error, r2_score\n",
        "def metrics(name,x_train,y_test,pred):\n",
        "    MSE=mean_squared_error(y_test,pred)\n",
        "    RMSE=np.sqrt(mean_squared_error(y_test,pred))\n",
        "    MAE = mean_absolute_error(y_test,pred)\n",
        "    R2_Score=r2_score(y_test,pred)\n",
        "    return [name,MSE,RMSE,MAE,R2_Score]\n",
        "\n",
        "\n",
        "header = [\"Model\", \"MSE\",\"RMSE\",\"MAE\",\"R2_Score\"]\n",
        "data=[]\n",
        "data.append(metrics(\"Linear Regression\",X_train,y_test,best.predict(X_test)))\n",
        "data.append(metrics(\"KNN\",X_train,y_test,best_knn.predict(X_test)))\n",
        "data.append(metrics(\"Decision Tree\",X_train,y_test,best_tree.predict(X_test)))\n",
        "data.append(metrics(\"Random Forest\",X_train,y_test,best_model.predict(X_test)))\n",
        "data.append(metrics(\"SVM Linear\",X_train,y_test,best_model_linear.predict(X_test)))\n",
        "data.append(metrics(\"SVM Non Linear\",X_train,y_test,non_linear.predict(X_test)))\n",
        "data.append(metrics(\"Ensemble model\",X_train,y_test,en_reg.predict(X_test)))\n",
        "\n",
        "print(tabulate(data, headers=header, tablefmt=\"psql\"))"
      ]
    },
    {
      "cell_type": "markdown",
      "id": "c0bf29d2",
      "metadata": {
        "id": "c0bf29d2"
      },
      "source": [
        "## From the table we can see that  Random forest and Decision Trees models worked better with the data compared to ensemble model. The ensemble model has  more mean squared error , However there is no much variation between for the validation and test datasets as compared with  other models."
      ]
    },
    {
      "cell_type": "code",
      "execution_count": null,
      "id": "5b12c42e",
      "metadata": {
        "id": "5b12c42e"
      },
      "outputs": [],
      "source": []
    }
  ],
  "metadata": {
    "kernelspec": {
      "display_name": "Python 3 (ipykernel)",
      "language": "python",
      "name": "python3"
    },
    "language_info": {
      "codemirror_mode": {
        "name": "ipython",
        "version": 3
      },
      "file_extension": ".py",
      "mimetype": "text/x-python",
      "name": "python",
      "nbconvert_exporter": "python",
      "pygments_lexer": "ipython3",
      "version": "3.9.12"
    },
    "colab": {
      "provenance": []
    }
  },
  "nbformat": 4,
  "nbformat_minor": 5
}